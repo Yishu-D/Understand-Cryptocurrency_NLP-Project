{
 "cells": [
  {
   "cell_type": "code",
   "execution_count": 1,
   "id": "dba54d42",
   "metadata": {},
   "outputs": [],
   "source": [
    "import pandas as pd\n",
    "import numpy as np\n",
    "from sklearn.feature_extraction.text import TfidfVectorizer, CountVectorizer\n",
    "from nltk.stem import WordNetLemmatizer, LancasterStemmer\n",
    "import re\n",
    "import nltk"
   ]
  },
  {
   "cell_type": "code",
   "execution_count": 2,
   "id": "8e15e399",
   "metadata": {},
   "outputs": [],
   "source": [
    "df_sol = pd.read_csv('data_sol.csv')"
   ]
  },
  {
   "cell_type": "markdown",
   "id": "0365101e",
   "metadata": {},
   "source": [
    "## Binance"
   ]
  },
  {
   "cell_type": "code",
   "execution_count": 3,
   "id": "7ab0833d",
   "metadata": {
    "scrolled": true
   },
   "outputs": [
    {
     "data": {
      "text/html": [
       "<div>\n",
       "<style scoped>\n",
       "    .dataframe tbody tr th:only-of-type {\n",
       "        vertical-align: middle;\n",
       "    }\n",
       "\n",
       "    .dataframe tbody tr th {\n",
       "        vertical-align: top;\n",
       "    }\n",
       "\n",
       "    .dataframe thead th {\n",
       "        text-align: right;\n",
       "    }\n",
       "</style>\n",
       "<table border=\"1\" class=\"dataframe\">\n",
       "  <thead>\n",
       "    <tr style=\"text-align: right;\">\n",
       "      <th></th>\n",
       "      <th>Unnamed: 0</th>\n",
       "      <th>id</th>\n",
       "      <th>text</th>\n",
       "      <th>datetime</th>\n",
       "      <th>Location</th>\n",
       "    </tr>\n",
       "  </thead>\n",
       "  <tbody>\n",
       "    <tr>\n",
       "      <th>0</th>\n",
       "      <td>0</td>\n",
       "      <td>1482849519167741953</td>\n",
       "      <td>b'RT @nftsonsolana: \\xf0\\x9f\\x8e\\x81GIVEAWAY\\x...</td>\n",
       "      <td>2022-01-16 22:57:30</td>\n",
       "      <td>NaN</td>\n",
       "    </tr>\n",
       "    <tr>\n",
       "      <th>1</th>\n",
       "      <td>1</td>\n",
       "      <td>1482849518022688769</td>\n",
       "      <td>b'#Airdrop $atomsolana #atomsolana #solana htt...</td>\n",
       "      <td>2022-01-16 22:57:29</td>\n",
       "      <td>NaN</td>\n",
       "    </tr>\n",
       "    <tr>\n",
       "      <th>2</th>\n",
       "      <td>2</td>\n",
       "      <td>1482849516512755712</td>\n",
       "      <td>b'RT @hernanlafalce: What do you expect from  ...</td>\n",
       "      <td>2022-01-16 22:57:29</td>\n",
       "      <td>NaN</td>\n",
       "    </tr>\n",
       "    <tr>\n",
       "      <th>3</th>\n",
       "      <td>3</td>\n",
       "      <td>1482849515220656133</td>\n",
       "      <td>b'The @AmaraFinance Airdrop Contest is Live! #...</td>\n",
       "      <td>2022-01-16 22:57:29</td>\n",
       "      <td>NaN</td>\n",
       "    </tr>\n",
       "    <tr>\n",
       "      <th>4</th>\n",
       "      <td>4</td>\n",
       "      <td>1482849513849204736</td>\n",
       "      <td>b'RT @CryptHomeSchool: Going be Back on the Sp...</td>\n",
       "      <td>2022-01-16 22:57:28</td>\n",
       "      <td>NaN</td>\n",
       "    </tr>\n",
       "  </tbody>\n",
       "</table>\n",
       "</div>"
      ],
      "text/plain": [
       "   Unnamed: 0                   id  \\\n",
       "0           0  1482849519167741953   \n",
       "1           1  1482849518022688769   \n",
       "2           2  1482849516512755712   \n",
       "3           3  1482849515220656133   \n",
       "4           4  1482849513849204736   \n",
       "\n",
       "                                                text             datetime  \\\n",
       "0  b'RT @nftsonsolana: \\xf0\\x9f\\x8e\\x81GIVEAWAY\\x...  2022-01-16 22:57:30   \n",
       "1  b'#Airdrop $atomsolana #atomsolana #solana htt...  2022-01-16 22:57:29   \n",
       "2  b'RT @hernanlafalce: What do you expect from  ...  2022-01-16 22:57:29   \n",
       "3  b'The @AmaraFinance Airdrop Contest is Live! #...  2022-01-16 22:57:29   \n",
       "4  b'RT @CryptHomeSchool: Going be Back on the Sp...  2022-01-16 22:57:28   \n",
       "\n",
       "  Location  \n",
       "0      NaN  \n",
       "1      NaN  \n",
       "2      NaN  \n",
       "3      NaN  \n",
       "4      NaN  "
      ]
     },
     "execution_count": 3,
     "metadata": {},
     "output_type": "execute_result"
    }
   ],
   "source": [
    "df_sol.head()"
   ]
  },
  {
   "cell_type": "code",
   "execution_count": 4,
   "id": "6e4ab607",
   "metadata": {},
   "outputs": [
    {
     "data": {
      "text/html": [
       "<div>\n",
       "<style scoped>\n",
       "    .dataframe tbody tr th:only-of-type {\n",
       "        vertical-align: middle;\n",
       "    }\n",
       "\n",
       "    .dataframe tbody tr th {\n",
       "        vertical-align: top;\n",
       "    }\n",
       "\n",
       "    .dataframe thead th {\n",
       "        text-align: right;\n",
       "    }\n",
       "</style>\n",
       "<table border=\"1\" class=\"dataframe\">\n",
       "  <thead>\n",
       "    <tr style=\"text-align: right;\">\n",
       "      <th></th>\n",
       "      <th>Unnamed: 0</th>\n",
       "      <th>id</th>\n",
       "      <th>text</th>\n",
       "      <th>datetime</th>\n",
       "      <th>Location</th>\n",
       "    </tr>\n",
       "  </thead>\n",
       "  <tbody>\n",
       "    <tr>\n",
       "      <th>31</th>\n",
       "      <td>31</td>\n",
       "      <td>1482849442869149696</td>\n",
       "      <td>b'RT @ilymotion: \\xf0\\x9f\\x94\\xa5@solunicorns3...</td>\n",
       "      <td>2022-01-16 22:57:11</td>\n",
       "      <td>NaN</td>\n",
       "    </tr>\n",
       "    <tr>\n",
       "      <th>32</th>\n",
       "      <td>32</td>\n",
       "      <td>1482849438636806144</td>\n",
       "      <td>b'RT @MetaApeEC: HOPE ON THE STREAM - GAME TOU...</td>\n",
       "      <td>2022-01-16 22:57:10</td>\n",
       "      <td>NaN</td>\n",
       "    </tr>\n",
       "    <tr>\n",
       "      <th>35</th>\n",
       "      <td>35</td>\n",
       "      <td>1482849436489371649</td>\n",
       "      <td>b'RT @ilymotion: \\xf0\\x9f\\x94\\xa5@solunicorns3...</td>\n",
       "      <td>2022-01-16 22:57:10</td>\n",
       "      <td>NaN</td>\n",
       "    </tr>\n",
       "    <tr>\n",
       "      <th>41</th>\n",
       "      <td>41</td>\n",
       "      <td>1482849425173401602</td>\n",
       "      <td>b'RT @ilymotion: \\xf0\\x9f\\x94\\xa5@solunicorns3...</td>\n",
       "      <td>2022-01-16 22:57:07</td>\n",
       "      <td>NaN</td>\n",
       "    </tr>\n",
       "    <tr>\n",
       "      <th>47</th>\n",
       "      <td>47</td>\n",
       "      <td>1482849415744344072</td>\n",
       "      <td>b'RT @SolanaMoneyBoys: \\xf0\\x9f\\x92\\xb0GIVEAWA...</td>\n",
       "      <td>2022-01-16 22:57:05</td>\n",
       "      <td>NaN</td>\n",
       "    </tr>\n",
       "    <tr>\n",
       "      <th>...</th>\n",
       "      <td>...</td>\n",
       "      <td>...</td>\n",
       "      <td>...</td>\n",
       "      <td>...</td>\n",
       "      <td>...</td>\n",
       "    </tr>\n",
       "    <tr>\n",
       "      <th>1989</th>\n",
       "      <td>1989</td>\n",
       "      <td>1482845057044602885</td>\n",
       "      <td>b'RT @CyrptoGizem: Etiketledi\\xc4\\x9fin ki\\xc5...</td>\n",
       "      <td>2022-01-16 22:39:46</td>\n",
       "      <td>NaN</td>\n",
       "    </tr>\n",
       "    <tr>\n",
       "      <th>1991</th>\n",
       "      <td>1991</td>\n",
       "      <td>1482845052770652161</td>\n",
       "      <td>b'RT @WhereLamboAC: \\xf0\\x9f\\x8e\\x81$1000 + 20...</td>\n",
       "      <td>2022-01-16 22:39:45</td>\n",
       "      <td>NaN</td>\n",
       "    </tr>\n",
       "    <tr>\n",
       "      <th>1992</th>\n",
       "      <td>1992</td>\n",
       "      <td>1482845048916123652</td>\n",
       "      <td>b'RT @truenftpro: \\xf0\\x9f\\x90\\x9e\\xf0\\x9f\\x8e...</td>\n",
       "      <td>2022-01-16 22:39:44</td>\n",
       "      <td>NaN</td>\n",
       "    </tr>\n",
       "    <tr>\n",
       "      <th>1996</th>\n",
       "      <td>1996</td>\n",
       "      <td>1482845027361456132</td>\n",
       "      <td>b\"RT @redwoodrabbits: Your still early, we hav...</td>\n",
       "      <td>2022-01-16 22:39:39</td>\n",
       "      <td>NaN</td>\n",
       "    </tr>\n",
       "    <tr>\n",
       "      <th>1997</th>\n",
       "      <td>1997</td>\n",
       "      <td>1482845026652614656</td>\n",
       "      <td>b'RT @exzor1738: B&amp;amp;B for me is the best up...</td>\n",
       "      <td>2022-01-16 22:39:38</td>\n",
       "      <td>NaN</td>\n",
       "    </tr>\n",
       "  </tbody>\n",
       "</table>\n",
       "<p>965 rows × 5 columns</p>\n",
       "</div>"
      ],
      "text/plain": [
       "      Unnamed: 0                   id  \\\n",
       "31            31  1482849442869149696   \n",
       "32            32  1482849438636806144   \n",
       "35            35  1482849436489371649   \n",
       "41            41  1482849425173401602   \n",
       "47            47  1482849415744344072   \n",
       "...          ...                  ...   \n",
       "1989        1989  1482845057044602885   \n",
       "1991        1991  1482845052770652161   \n",
       "1992        1992  1482845048916123652   \n",
       "1996        1996  1482845027361456132   \n",
       "1997        1997  1482845026652614656   \n",
       "\n",
       "                                                   text             datetime  \\\n",
       "31    b'RT @ilymotion: \\xf0\\x9f\\x94\\xa5@solunicorns3...  2022-01-16 22:57:11   \n",
       "32    b'RT @MetaApeEC: HOPE ON THE STREAM - GAME TOU...  2022-01-16 22:57:10   \n",
       "35    b'RT @ilymotion: \\xf0\\x9f\\x94\\xa5@solunicorns3...  2022-01-16 22:57:10   \n",
       "41    b'RT @ilymotion: \\xf0\\x9f\\x94\\xa5@solunicorns3...  2022-01-16 22:57:07   \n",
       "47    b'RT @SolanaMoneyBoys: \\xf0\\x9f\\x92\\xb0GIVEAWA...  2022-01-16 22:57:05   \n",
       "...                                                 ...                  ...   \n",
       "1989  b'RT @CyrptoGizem: Etiketledi\\xc4\\x9fin ki\\xc5...  2022-01-16 22:39:46   \n",
       "1991  b'RT @WhereLamboAC: \\xf0\\x9f\\x8e\\x81$1000 + 20...  2022-01-16 22:39:45   \n",
       "1992  b'RT @truenftpro: \\xf0\\x9f\\x90\\x9e\\xf0\\x9f\\x8e...  2022-01-16 22:39:44   \n",
       "1996  b\"RT @redwoodrabbits: Your still early, we hav...  2022-01-16 22:39:39   \n",
       "1997  b'RT @exzor1738: B&amp;B for me is the best up...  2022-01-16 22:39:38   \n",
       "\n",
       "     Location  \n",
       "31        NaN  \n",
       "32        NaN  \n",
       "35        NaN  \n",
       "41        NaN  \n",
       "47        NaN  \n",
       "...       ...  \n",
       "1989      NaN  \n",
       "1991      NaN  \n",
       "1992      NaN  \n",
       "1996      NaN  \n",
       "1997      NaN  \n",
       "\n",
       "[965 rows x 5 columns]"
      ]
     },
     "execution_count": 4,
     "metadata": {},
     "output_type": "execute_result"
    }
   ],
   "source": [
    "mask = df_sol.duplicated(subset=['text'])\n",
    "df_sol[mask]"
   ]
  },
  {
   "cell_type": "code",
   "execution_count": 5,
   "id": "d1ccbb93",
   "metadata": {},
   "outputs": [
    {
     "data": {
      "text/plain": [
       "(1035, 5)"
      ]
     },
     "execution_count": 5,
     "metadata": {},
     "output_type": "execute_result"
    }
   ],
   "source": [
    "df_sol = df_sol[~mask].reset_index(drop=True)\n",
    "df_sol.shape"
   ]
  },
  {
   "cell_type": "code",
   "execution_count": 6,
   "id": "6a328bf0",
   "metadata": {
    "scrolled": true
   },
   "outputs": [
    {
     "data": {
      "text/html": [
       "<div>\n",
       "<style scoped>\n",
       "    .dataframe tbody tr th:only-of-type {\n",
       "        vertical-align: middle;\n",
       "    }\n",
       "\n",
       "    .dataframe tbody tr th {\n",
       "        vertical-align: top;\n",
       "    }\n",
       "\n",
       "    .dataframe thead th {\n",
       "        text-align: right;\n",
       "    }\n",
       "</style>\n",
       "<table border=\"1\" class=\"dataframe\">\n",
       "  <thead>\n",
       "    <tr style=\"text-align: right;\">\n",
       "      <th></th>\n",
       "      <th>Unnamed: 0</th>\n",
       "      <th>id</th>\n",
       "      <th>text</th>\n",
       "      <th>datetime</th>\n",
       "      <th>Location</th>\n",
       "    </tr>\n",
       "  </thead>\n",
       "  <tbody>\n",
       "    <tr>\n",
       "      <th>0</th>\n",
       "      <td>0</td>\n",
       "      <td>1482849519167741953</td>\n",
       "      <td>b'RT @nftsonsolana: \\xf0\\x9f\\x8e\\x81GIVEAWAY\\x...</td>\n",
       "      <td>2022-01-16 22:57:30</td>\n",
       "      <td>NaN</td>\n",
       "    </tr>\n",
       "    <tr>\n",
       "      <th>1</th>\n",
       "      <td>1</td>\n",
       "      <td>1482849518022688769</td>\n",
       "      <td>b'#Airdrop $atomsolana #atomsolana #solana htt...</td>\n",
       "      <td>2022-01-16 22:57:29</td>\n",
       "      <td>NaN</td>\n",
       "    </tr>\n",
       "    <tr>\n",
       "      <th>2</th>\n",
       "      <td>2</td>\n",
       "      <td>1482849516512755712</td>\n",
       "      <td>b'RT @hernanlafalce: What do you expect from  ...</td>\n",
       "      <td>2022-01-16 22:57:29</td>\n",
       "      <td>NaN</td>\n",
       "    </tr>\n",
       "    <tr>\n",
       "      <th>3</th>\n",
       "      <td>3</td>\n",
       "      <td>1482849515220656133</td>\n",
       "      <td>b'The @AmaraFinance Airdrop Contest is Live! #...</td>\n",
       "      <td>2022-01-16 22:57:29</td>\n",
       "      <td>NaN</td>\n",
       "    </tr>\n",
       "    <tr>\n",
       "      <th>4</th>\n",
       "      <td>4</td>\n",
       "      <td>1482849513849204736</td>\n",
       "      <td>b'RT @CryptHomeSchool: Going be Back on the Sp...</td>\n",
       "      <td>2022-01-16 22:57:28</td>\n",
       "      <td>NaN</td>\n",
       "    </tr>\n",
       "  </tbody>\n",
       "</table>\n",
       "</div>"
      ],
      "text/plain": [
       "   Unnamed: 0                   id  \\\n",
       "0           0  1482849519167741953   \n",
       "1           1  1482849518022688769   \n",
       "2           2  1482849516512755712   \n",
       "3           3  1482849515220656133   \n",
       "4           4  1482849513849204736   \n",
       "\n",
       "                                                text             datetime  \\\n",
       "0  b'RT @nftsonsolana: \\xf0\\x9f\\x8e\\x81GIVEAWAY\\x...  2022-01-16 22:57:30   \n",
       "1  b'#Airdrop $atomsolana #atomsolana #solana htt...  2022-01-16 22:57:29   \n",
       "2  b'RT @hernanlafalce: What do you expect from  ...  2022-01-16 22:57:29   \n",
       "3  b'The @AmaraFinance Airdrop Contest is Live! #...  2022-01-16 22:57:29   \n",
       "4  b'RT @CryptHomeSchool: Going be Back on the Sp...  2022-01-16 22:57:28   \n",
       "\n",
       "  Location  \n",
       "0      NaN  \n",
       "1      NaN  \n",
       "2      NaN  \n",
       "3      NaN  \n",
       "4      NaN  "
      ]
     },
     "execution_count": 6,
     "metadata": {},
     "output_type": "execute_result"
    }
   ],
   "source": [
    "df_sol.head()"
   ]
  },
  {
   "cell_type": "code",
   "execution_count": 7,
   "id": "27633370",
   "metadata": {},
   "outputs": [],
   "source": [
    "df_sol_orig = df_sol.copy()"
   ]
  },
  {
   "cell_type": "code",
   "execution_count": 8,
   "id": "4d54bfd1",
   "metadata": {},
   "outputs": [
    {
     "name": "stdout",
     "output_type": "stream",
     "text": [
      "b'RT @solanaPSB: THE AIRDROP IS ON ITS WAY. Solana is pretty slow right now so it will take a while to arrive at everyone. BUT ANYWAY LETS GO\\xe2\\x80\\xa6'\n",
      "b'RT @InvasionToken: Airdropping 69,420 #IPUNK tokens to all!\\n\\nTo Enter:\\n- Like &amp; RT\\n- Follow @InvasionToken and @InvasionPunks \\n- Participat\\xe2\\x80\\xa6'\n",
      "b'@MikeTyson UGA UGA @BAPC_Solana on magic eden\\xf0\\x9f\\x9a\\x80\\xf0\\x9f\\x9a\\x80\\xf0\\x9f\\x9a\\x80\\xf0\\x9f\\x9a\\x80\\xf0\\x9f\\x9a\\x80\\xf0\\x9f\\x9a\\x80\\xf0\\x9f\\x9a\\x80 https://t.co/0gSHLRmm7M'\n",
      "b'RT @Ema_rothschild: What altacoin are we buying? show me what will be the next gem x100\\xf0\\x9f\\x92\\x8e\\xf0\\x9f\\x9a\\x80\\xf0\\x9f\\x93\\x88\\n#Bitcoin #Ethereum  #BSCGem  #BSC #Solana #GameF\\xe2\\x80\\xa6'\n",
      "b'RT @bmv_explorer: TOP\\xf0\\x9f\\x94\\x9dNFT SALES VOLUME ON BLOCKCHAINS\\n\\nWhen it comes to NFT sales volume on blockchains,\\xf0\\x9f\\xa5\\x87#Ethereum is still a market leader\\xe2\\x80\\xa6'\n"
     ]
    }
   ],
   "source": [
    "for tweet in df_sol['text'].sample(5).values:\n",
    "    print(tweet)"
   ]
  },
  {
   "cell_type": "markdown",
   "id": "04bdd001",
   "metadata": {},
   "source": [
    "### Put all hashtags into a new column"
   ]
  },
  {
   "cell_type": "code",
   "execution_count": 9,
   "id": "49a0ea38",
   "metadata": {},
   "outputs": [
    {
     "data": {
      "text/html": [
       "<div>\n",
       "<style scoped>\n",
       "    .dataframe tbody tr th:only-of-type {\n",
       "        vertical-align: middle;\n",
       "    }\n",
       "\n",
       "    .dataframe tbody tr th {\n",
       "        vertical-align: top;\n",
       "    }\n",
       "\n",
       "    .dataframe thead th {\n",
       "        text-align: right;\n",
       "    }\n",
       "</style>\n",
       "<table border=\"1\" class=\"dataframe\">\n",
       "  <thead>\n",
       "    <tr style=\"text-align: right;\">\n",
       "      <th></th>\n",
       "      <th>Unnamed: 0</th>\n",
       "      <th>id</th>\n",
       "      <th>text</th>\n",
       "      <th>datetime</th>\n",
       "      <th>Location</th>\n",
       "      <th>hashtag</th>\n",
       "    </tr>\n",
       "  </thead>\n",
       "  <tbody>\n",
       "    <tr>\n",
       "      <th>0</th>\n",
       "      <td>0</td>\n",
       "      <td>1482849519167741953</td>\n",
       "      <td>b'RT @nftsonsolana: \\xf0\\x9f\\x8e\\x81GIVEAWAY\\x...</td>\n",
       "      <td>2022-01-16 22:57:30</td>\n",
       "      <td>NaN</td>\n",
       "      <td>[NFT]</td>\n",
       "    </tr>\n",
       "    <tr>\n",
       "      <th>1</th>\n",
       "      <td>1</td>\n",
       "      <td>1482849518022688769</td>\n",
       "      <td>b'#Airdrop $atomsolana #atomsolana #solana htt...</td>\n",
       "      <td>2022-01-16 22:57:29</td>\n",
       "      <td>NaN</td>\n",
       "      <td>[Airdrop, atomsolana, solana]</td>\n",
       "    </tr>\n",
       "    <tr>\n",
       "      <th>2</th>\n",
       "      <td>2</td>\n",
       "      <td>1482849516512755712</td>\n",
       "      <td>b'RT @hernanlafalce: What do you expect from  ...</td>\n",
       "      <td>2022-01-16 22:57:29</td>\n",
       "      <td>NaN</td>\n",
       "      <td>[2022, x100Gem, cryptocurrency, NFT, NFTs, NFT...</td>\n",
       "    </tr>\n",
       "    <tr>\n",
       "      <th>3</th>\n",
       "      <td>3</td>\n",
       "      <td>1482849515220656133</td>\n",
       "      <td>b'The @AmaraFinance Airdrop Contest is Live! #...</td>\n",
       "      <td>2022-01-16 22:57:29</td>\n",
       "      <td>NaN</td>\n",
       "      <td>[IF, IDIA, Swap, Launchpad, DeFi, BSC]</td>\n",
       "    </tr>\n",
       "    <tr>\n",
       "      <th>4</th>\n",
       "      <td>4</td>\n",
       "      <td>1482849513849204736</td>\n",
       "      <td>b'RT @CryptHomeSchool: Going be Back on the Sp...</td>\n",
       "      <td>2022-01-16 22:57:28</td>\n",
       "      <td>NaN</td>\n",
       "      <td>[]</td>\n",
       "    </tr>\n",
       "  </tbody>\n",
       "</table>\n",
       "</div>"
      ],
      "text/plain": [
       "   Unnamed: 0                   id  \\\n",
       "0           0  1482849519167741953   \n",
       "1           1  1482849518022688769   \n",
       "2           2  1482849516512755712   \n",
       "3           3  1482849515220656133   \n",
       "4           4  1482849513849204736   \n",
       "\n",
       "                                                text             datetime  \\\n",
       "0  b'RT @nftsonsolana: \\xf0\\x9f\\x8e\\x81GIVEAWAY\\x...  2022-01-16 22:57:30   \n",
       "1  b'#Airdrop $atomsolana #atomsolana #solana htt...  2022-01-16 22:57:29   \n",
       "2  b'RT @hernanlafalce: What do you expect from  ...  2022-01-16 22:57:29   \n",
       "3  b'The @AmaraFinance Airdrop Contest is Live! #...  2022-01-16 22:57:29   \n",
       "4  b'RT @CryptHomeSchool: Going be Back on the Sp...  2022-01-16 22:57:28   \n",
       "\n",
       "  Location                                            hashtag  \n",
       "0      NaN                                              [NFT]  \n",
       "1      NaN                      [Airdrop, atomsolana, solana]  \n",
       "2      NaN  [2022, x100Gem, cryptocurrency, NFT, NFTs, NFT...  \n",
       "3      NaN             [IF, IDIA, Swap, Launchpad, DeFi, BSC]  \n",
       "4      NaN                                                 []  "
      ]
     },
     "execution_count": 9,
     "metadata": {},
     "output_type": "execute_result"
    }
   ],
   "source": [
    "df_sol['hashtag'] = df_sol['text'].apply(lambda x: re.findall(r\"#(\\w+)\", x))\n",
    "df_sol.head()"
   ]
  },
  {
   "cell_type": "markdown",
   "id": "f906527d",
   "metadata": {},
   "source": [
    "### Remove emojis"
   ]
  },
  {
   "cell_type": "code",
   "execution_count": 10,
   "id": "1da3bb32",
   "metadata": {
    "scrolled": true
   },
   "outputs": [],
   "source": [
    "df_sol.text = df_sol.text.apply(lambda x: ' '.join([a for a in x.split() if '\\\\' not in a]))"
   ]
  },
  {
   "cell_type": "code",
   "execution_count": 11,
   "id": "7e1d5455",
   "metadata": {
    "scrolled": true
   },
   "outputs": [
    {
     "name": "stdout",
     "output_type": "stream",
     "text": [
      "0       b'RT @nftsonsolana: 1x Cosmic Condos #NFT RT F...\n",
      "1       b'#Airdrop $atomsolana #atomsolana #solana htt...\n",
      "2       b'RT @hernanlafalce: What do you expect from #...\n",
      "3       b'The @AmaraFinance Airdrop Contest is Live! #...\n",
      "4       b'RT @CryptHomeSchool: Going be Back on the Sp...\n",
      "                              ...                        \n",
      "1030    b'@MetakingsAI @ujstyles07 @si_sen0r @Woo84381...\n",
      "1031    b'Current Price of SOLANA (SOL): $ 147.96, 24H...\n",
      "1032                      b'@SolanaApeMan Lol thats true'\n",
      "1033    b'@5ThElementBB Our NFTs are on the @solana bl...\n",
      "1034    b'@solanameta_ Great project, I really appreci...\n",
      "Name: text, Length: 1035, dtype: object\n"
     ]
    }
   ],
   "source": [
    "test = df_sol.text\n",
    "print(test)"
   ]
  },
  {
   "cell_type": "code",
   "execution_count": 12,
   "id": "48d688b8",
   "metadata": {},
   "outputs": [
    {
     "data": {
      "text/plain": [
       "'!\"#$%&\\'()*+,-./:;<=>?@[\\\\]^_`{|}~'"
      ]
     },
     "execution_count": 12,
     "metadata": {},
     "output_type": "execute_result"
    }
   ],
   "source": [
    "import string\n",
    "string.punctuation"
   ]
  },
  {
   "cell_type": "code",
   "execution_count": 13,
   "id": "3f6e4d62",
   "metadata": {},
   "outputs": [],
   "source": [
    "def remove_special_characters(text):\n",
    "    text = re.sub(\"@\\S+\", \"\", text) #remove mentions\n",
    "    text = re.sub(\"https?:\\/\\/.*[\\r\\n]*\", \"\", text) #remove hyperlinks\n",
    "    text = re.sub(\"#\", \"\", text) #remove hashtag symbol\n",
    "    text = re.sub('\\w*\\d\\w*', ' ', text) #remove numbers\n",
    "    text = re.sub(\"b'RT\",'', text) #remove b'RT\n",
    "    text = re.sub(\"b'\",'',text)\n",
    "    text = re.sub('[%s]' % re.escape(string.punctuation), ' ', text)\n",
    "    return text"
   ]
  },
  {
   "cell_type": "code",
   "execution_count": 14,
   "id": "dbbb43e5",
   "metadata": {
    "scrolled": true
   },
   "outputs": [],
   "source": [
    "df_sol.text = df_sol.text.apply(remove_special_characters)"
   ]
  },
  {
   "cell_type": "code",
   "execution_count": 15,
   "id": "5543e586",
   "metadata": {},
   "outputs": [
    {
     "data": {
      "text/html": [
       "<div>\n",
       "<style scoped>\n",
       "    .dataframe tbody tr th:only-of-type {\n",
       "        vertical-align: middle;\n",
       "    }\n",
       "\n",
       "    .dataframe tbody tr th {\n",
       "        vertical-align: top;\n",
       "    }\n",
       "\n",
       "    .dataframe thead th {\n",
       "        text-align: right;\n",
       "    }\n",
       "</style>\n",
       "<table border=\"1\" class=\"dataframe\">\n",
       "  <thead>\n",
       "    <tr style=\"text-align: right;\">\n",
       "      <th></th>\n",
       "      <th>Unnamed: 0</th>\n",
       "      <th>id</th>\n",
       "      <th>text</th>\n",
       "      <th>datetime</th>\n",
       "      <th>Location</th>\n",
       "      <th>hashtag</th>\n",
       "    </tr>\n",
       "  </thead>\n",
       "  <tbody>\n",
       "    <tr>\n",
       "      <th>0</th>\n",
       "      <td>0</td>\n",
       "      <td>1482849519167741953</td>\n",
       "      <td>Cosmic Condos NFT RT Follow to earn</td>\n",
       "      <td>2022-01-16 22:57:30</td>\n",
       "      <td>NaN</td>\n",
       "      <td>[NFT]</td>\n",
       "    </tr>\n",
       "    <tr>\n",
       "      <th>1</th>\n",
       "      <td>1</td>\n",
       "      <td>1482849518022688769</td>\n",
       "      <td>Airdrop  atomsolana atomsolana solana</td>\n",
       "      <td>2022-01-16 22:57:29</td>\n",
       "      <td>NaN</td>\n",
       "      <td>[Airdrop, atomsolana, solana]</td>\n",
       "    </tr>\n",
       "    <tr>\n",
       "      <th>2</th>\n",
       "      <td>2</td>\n",
       "      <td>1482849516512755712</td>\n",
       "      <td>What do you expect from    project is going ...</td>\n",
       "      <td>2022-01-16 22:57:29</td>\n",
       "      <td>NaN</td>\n",
       "      <td>[2022, x100Gem, cryptocurrency, NFT, NFTs, NFT...</td>\n",
       "    </tr>\n",
       "    <tr>\n",
       "      <th>3</th>\n",
       "      <td>3</td>\n",
       "      <td>1482849515220656133</td>\n",
       "      <td>The  Airdrop Contest is Live  IF IDIA</td>\n",
       "      <td>2022-01-16 22:57:29</td>\n",
       "      <td>NaN</td>\n",
       "      <td>[IF, IDIA, Swap, Launchpad, DeFi, BSC]</td>\n",
       "    </tr>\n",
       "    <tr>\n",
       "      <th>4</th>\n",
       "      <td>4</td>\n",
       "      <td>1482849513849204736</td>\n",
       "      <td>Going be Back on the Space Tonight chillin w...</td>\n",
       "      <td>2022-01-16 22:57:28</td>\n",
       "      <td>NaN</td>\n",
       "      <td>[]</td>\n",
       "    </tr>\n",
       "  </tbody>\n",
       "</table>\n",
       "</div>"
      ],
      "text/plain": [
       "   Unnamed: 0                   id  \\\n",
       "0           0  1482849519167741953   \n",
       "1           1  1482849518022688769   \n",
       "2           2  1482849516512755712   \n",
       "3           3  1482849515220656133   \n",
       "4           4  1482849513849204736   \n",
       "\n",
       "                                                text             datetime  \\\n",
       "0                Cosmic Condos NFT RT Follow to earn  2022-01-16 22:57:30   \n",
       "1             Airdrop  atomsolana atomsolana solana   2022-01-16 22:57:29   \n",
       "2    What do you expect from    project is going ...  2022-01-16 22:57:29   \n",
       "3             The  Airdrop Contest is Live  IF IDIA   2022-01-16 22:57:29   \n",
       "4    Going be Back on the Space Tonight chillin w...  2022-01-16 22:57:28   \n",
       "\n",
       "  Location                                            hashtag  \n",
       "0      NaN                                              [NFT]  \n",
       "1      NaN                      [Airdrop, atomsolana, solana]  \n",
       "2      NaN  [2022, x100Gem, cryptocurrency, NFT, NFTs, NFT...  \n",
       "3      NaN             [IF, IDIA, Swap, Launchpad, DeFi, BSC]  \n",
       "4      NaN                                                 []  "
      ]
     },
     "execution_count": 15,
     "metadata": {},
     "output_type": "execute_result"
    }
   ],
   "source": [
    "df_sol.head()"
   ]
  },
  {
   "cell_type": "markdown",
   "id": "17aeb926",
   "metadata": {},
   "source": [
    "### Remove digits and lower the text"
   ]
  },
  {
   "cell_type": "code",
   "execution_count": 16,
   "id": "cb35f694",
   "metadata": {
    "scrolled": true
   },
   "outputs": [
    {
     "name": "stderr",
     "output_type": "stream",
     "text": [
      "/var/folders/bc/c9cbz3vx3k331bfmmjlgtbkm0000gn/T/ipykernel_45554/3979839660.py:1: FutureWarning: The default value of regex will change from True to False in a future version.\n",
      "  df_sol.text = df_sol.text.astype(str).str.replace('\\d+', '')\n"
     ]
    },
    {
     "data": {
      "text/plain": [
       "0                  cosmic condos nft rt follow to earn\n",
       "1               airdrop  atomsolana atomsolana solana \n",
       "2      what do you expect from    project is going ...\n",
       "3               the  airdrop contest is live  if idia \n",
       "4      going be back on the space tonight chillin w...\n",
       "Name: text, dtype: object"
      ]
     },
     "execution_count": 16,
     "metadata": {},
     "output_type": "execute_result"
    }
   ],
   "source": [
    "df_sol.text = df_sol.text.astype(str).str.replace('\\d+', '')\n",
    "df_sol.text = df_sol.text.str.lower()\n",
    "df_sol.text.head()"
   ]
  },
  {
   "cell_type": "markdown",
   "id": "74bf1c7e",
   "metadata": {},
   "source": [
    "### Stemming text"
   ]
  },
  {
   "cell_type": "code",
   "execution_count": 17,
   "id": "8065d57c",
   "metadata": {
    "scrolled": true
   },
   "outputs": [],
   "source": [
    "from nltk.tokenize import TweetTokenizer"
   ]
  },
  {
   "cell_type": "code",
   "execution_count": 18,
   "id": "66754aab",
   "metadata": {},
   "outputs": [],
   "source": [
    "wnl = WordNetLemmatizer()\n",
    "stemmer = LancasterStemmer()\n",
    "def lemmatize_text(text):\n",
    "    text = text.split(' ')\n",
    "    for i, word in enumerate(text):\n",
    "        text[i] = wnl.lemmatize(word)   #results for stemming is better lemmatization\n",
    "        #text[i] = stemmer.stem(word)    \n",
    "    return ' '.join(text)"
   ]
  },
  {
   "cell_type": "code",
   "execution_count": 19,
   "id": "bf487115",
   "metadata": {
    "scrolled": true
   },
   "outputs": [
    {
     "data": {
      "text/html": [
       "<div>\n",
       "<style scoped>\n",
       "    .dataframe tbody tr th:only-of-type {\n",
       "        vertical-align: middle;\n",
       "    }\n",
       "\n",
       "    .dataframe tbody tr th {\n",
       "        vertical-align: top;\n",
       "    }\n",
       "\n",
       "    .dataframe thead th {\n",
       "        text-align: right;\n",
       "    }\n",
       "</style>\n",
       "<table border=\"1\" class=\"dataframe\">\n",
       "  <thead>\n",
       "    <tr style=\"text-align: right;\">\n",
       "      <th></th>\n",
       "      <th>Unnamed: 0</th>\n",
       "      <th>id</th>\n",
       "      <th>text</th>\n",
       "      <th>datetime</th>\n",
       "      <th>Location</th>\n",
       "      <th>hashtag</th>\n",
       "    </tr>\n",
       "  </thead>\n",
       "  <tbody>\n",
       "    <tr>\n",
       "      <th>0</th>\n",
       "      <td>0</td>\n",
       "      <td>1482849519167741953</td>\n",
       "      <td>cosmic condo nft rt follow to earn</td>\n",
       "      <td>2022-01-16 22:57:30</td>\n",
       "      <td>NaN</td>\n",
       "      <td>[NFT]</td>\n",
       "    </tr>\n",
       "    <tr>\n",
       "      <th>1</th>\n",
       "      <td>1</td>\n",
       "      <td>1482849518022688769</td>\n",
       "      <td>airdrop  atomsolana atomsolana solana</td>\n",
       "      <td>2022-01-16 22:57:29</td>\n",
       "      <td>NaN</td>\n",
       "      <td>[Airdrop, atomsolana, solana]</td>\n",
       "    </tr>\n",
       "    <tr>\n",
       "      <th>2</th>\n",
       "      <td>2</td>\n",
       "      <td>1482849516512755712</td>\n",
       "      <td>what do you expect from    project is going ...</td>\n",
       "      <td>2022-01-16 22:57:29</td>\n",
       "      <td>NaN</td>\n",
       "      <td>[2022, x100Gem, cryptocurrency, NFT, NFTs, NFT...</td>\n",
       "    </tr>\n",
       "    <tr>\n",
       "      <th>3</th>\n",
       "      <td>3</td>\n",
       "      <td>1482849515220656133</td>\n",
       "      <td>the  airdrop contest is live  if idia</td>\n",
       "      <td>2022-01-16 22:57:29</td>\n",
       "      <td>NaN</td>\n",
       "      <td>[IF, IDIA, Swap, Launchpad, DeFi, BSC]</td>\n",
       "    </tr>\n",
       "    <tr>\n",
       "      <th>4</th>\n",
       "      <td>4</td>\n",
       "      <td>1482849513849204736</td>\n",
       "      <td>going be back on the space tonight chillin w...</td>\n",
       "      <td>2022-01-16 22:57:28</td>\n",
       "      <td>NaN</td>\n",
       "      <td>[]</td>\n",
       "    </tr>\n",
       "  </tbody>\n",
       "</table>\n",
       "</div>"
      ],
      "text/plain": [
       "   Unnamed: 0                   id  \\\n",
       "0           0  1482849519167741953   \n",
       "1           1  1482849518022688769   \n",
       "2           2  1482849516512755712   \n",
       "3           3  1482849515220656133   \n",
       "4           4  1482849513849204736   \n",
       "\n",
       "                                                text             datetime  \\\n",
       "0                 cosmic condo nft rt follow to earn  2022-01-16 22:57:30   \n",
       "1             airdrop  atomsolana atomsolana solana   2022-01-16 22:57:29   \n",
       "2    what do you expect from    project is going ...  2022-01-16 22:57:29   \n",
       "3             the  airdrop contest is live  if idia   2022-01-16 22:57:29   \n",
       "4    going be back on the space tonight chillin w...  2022-01-16 22:57:28   \n",
       "\n",
       "  Location                                            hashtag  \n",
       "0      NaN                                              [NFT]  \n",
       "1      NaN                      [Airdrop, atomsolana, solana]  \n",
       "2      NaN  [2022, x100Gem, cryptocurrency, NFT, NFTs, NFT...  \n",
       "3      NaN             [IF, IDIA, Swap, Launchpad, DeFi, BSC]  \n",
       "4      NaN                                                 []  "
      ]
     },
     "execution_count": 19,
     "metadata": {},
     "output_type": "execute_result"
    }
   ],
   "source": [
    "df_sol.text = df_sol.text.apply(lemmatize_text)\n",
    "df_sol.head()"
   ]
  },
  {
   "cell_type": "markdown",
   "id": "2a00f0dd",
   "metadata": {},
   "source": [
    "### Check if there is non-enlighs words and remove them"
   ]
  },
  {
   "cell_type": "code",
   "execution_count": 20,
   "id": "dd71782e",
   "metadata": {},
   "outputs": [
    {
     "data": {
      "text/plain": [
       "0                      cosmic condo nft rt follow to earn\n",
       "1                  airdrop  atomsolana atomsolana solana \n",
       "2         what do you expect from    project is going ...\n",
       "3                  the  airdrop contest is live  if idia \n",
       "4         going be back on the space tonight chillin w...\n",
       "                              ...                        \n",
       "1030                      solana mtk metakings metaverse \n",
       "1031    current price of solana  sol            change...\n",
       "1032                                      lol thats true \n",
       "1033     our nfts are on the  blockchain  you will nee...\n",
       "1034     great project  i really appreciate your contr...\n",
       "Name: text, Length: 1035, dtype: object"
      ]
     },
     "execution_count": 20,
     "metadata": {},
     "output_type": "execute_result"
    }
   ],
   "source": [
    "test = df_sol.text\n",
    "test"
   ]
  },
  {
   "cell_type": "code",
   "execution_count": 21,
   "id": "7726366f",
   "metadata": {
    "scrolled": false
   },
   "outputs": [],
   "source": [
    "import nltk\n",
    "words = set(nltk.corpus.words.words())\n",
    "keep_words = ['bitcoin', 'ethereum', 'binance','tether','solana','nft']\n",
    "\n",
    "def keep_eng(text):\n",
    "    return (\" \".join(w for w in nltk.wordpunct_tokenize(text) if w in words or not w.isalpha() or w in keep_words))"
   ]
  },
  {
   "cell_type": "code",
   "execution_count": 22,
   "id": "893f593c",
   "metadata": {},
   "outputs": [
    {
     "name": "stdout",
     "output_type": "stream",
     "text": [
      "0                               cosmic nft follow to earn\n",
      "1                                          airdrop solana\n",
      "2       what do you expect from project is going to be...\n",
      "3                          the airdrop contest is live if\n",
      "4       going be back on the space tonight with the fa...\n",
      "                              ...                        \n",
      "1030                                               solana\n",
      "1031            current price of solana sol change volume\n",
      "1032                                           thats true\n",
      "1033                    our are on the you will need a or\n",
      "1034    great project i really appreciate your contrib...\n",
      "Name: text, Length: 1035, dtype: object\n"
     ]
    }
   ],
   "source": [
    "df_sol.text = df_sol.text.apply(keep_eng)\n",
    "print(df_sol.text)"
   ]
  },
  {
   "cell_type": "markdown",
   "id": "c97f03e7",
   "metadata": {},
   "source": [
    "### Remove rows containing empty tweets"
   ]
  },
  {
   "cell_type": "code",
   "execution_count": 23,
   "id": "9f99caa1",
   "metadata": {},
   "outputs": [
    {
     "name": "stdout",
     "output_type": "stream",
     "text": [
      " There are 130 rows that now have empty tweets.\n"
     ]
    }
   ],
   "source": [
    "print(f\" There are {np.sum(df_sol.text == '')} rows that now have empty tweets.\")"
   ]
  },
  {
   "cell_type": "code",
   "execution_count": 24,
   "id": "a55a2ed3",
   "metadata": {},
   "outputs": [
    {
     "data": {
      "text/html": [
       "<div>\n",
       "<style scoped>\n",
       "    .dataframe tbody tr th:only-of-type {\n",
       "        vertical-align: middle;\n",
       "    }\n",
       "\n",
       "    .dataframe tbody tr th {\n",
       "        vertical-align: top;\n",
       "    }\n",
       "\n",
       "    .dataframe thead th {\n",
       "        text-align: right;\n",
       "    }\n",
       "</style>\n",
       "<table border=\"1\" class=\"dataframe\">\n",
       "  <thead>\n",
       "    <tr style=\"text-align: right;\">\n",
       "      <th></th>\n",
       "      <th>Unnamed: 0</th>\n",
       "      <th>id</th>\n",
       "      <th>text</th>\n",
       "      <th>datetime</th>\n",
       "      <th>Location</th>\n",
       "      <th>hashtag</th>\n",
       "    </tr>\n",
       "  </thead>\n",
       "  <tbody>\n",
       "    <tr>\n",
       "      <th>11</th>\n",
       "      <td>11</td>\n",
       "      <td>1482849495574589441</td>\n",
       "      <td></td>\n",
       "      <td>2022-01-16 22:57:24</td>\n",
       "      <td>NaN</td>\n",
       "      <td>[]</td>\n",
       "    </tr>\n",
       "    <tr>\n",
       "      <th>25</th>\n",
       "      <td>25</td>\n",
       "      <td>1482849458643738625</td>\n",
       "      <td></td>\n",
       "      <td>2022-01-16 22:57:15</td>\n",
       "      <td>NaN</td>\n",
       "      <td>[NFT, Solana, SolanaNFTs, SolanaAirdrop, Solan...</td>\n",
       "    </tr>\n",
       "    <tr>\n",
       "      <th>32</th>\n",
       "      <td>34</td>\n",
       "      <td>1482849437538041865</td>\n",
       "      <td></td>\n",
       "      <td>2022-01-16 22:57:10</td>\n",
       "      <td>NaN</td>\n",
       "      <td>[]</td>\n",
       "    </tr>\n",
       "    <tr>\n",
       "      <th>65</th>\n",
       "      <td>75</td>\n",
       "      <td>1482849366792679425</td>\n",
       "      <td></td>\n",
       "      <td>2022-01-16 22:56:53</td>\n",
       "      <td>NaN</td>\n",
       "      <td>[bsc, solana, mtk, metakingz, mrtaverse]</td>\n",
       "    </tr>\n",
       "    <tr>\n",
       "      <th>66</th>\n",
       "      <td>76</td>\n",
       "      <td>1482849362833289221</td>\n",
       "      <td></td>\n",
       "      <td>2022-01-16 22:56:52</td>\n",
       "      <td>NaN</td>\n",
       "      <td>[]</td>\n",
       "    </tr>\n",
       "    <tr>\n",
       "      <th>...</th>\n",
       "      <td>...</td>\n",
       "      <td>...</td>\n",
       "      <td>...</td>\n",
       "      <td>...</td>\n",
       "      <td>...</td>\n",
       "      <td>...</td>\n",
       "    </tr>\n",
       "    <tr>\n",
       "      <th>996</th>\n",
       "      <td>1884</td>\n",
       "      <td>1482845304105967622</td>\n",
       "      <td></td>\n",
       "      <td>2022-01-16 22:40:45</td>\n",
       "      <td>NaN</td>\n",
       "      <td>[Solana, mtk, metakings, Metaverse]</td>\n",
       "    </tr>\n",
       "    <tr>\n",
       "      <th>1001</th>\n",
       "      <td>1896</td>\n",
       "      <td>1482845283272769536</td>\n",
       "      <td></td>\n",
       "      <td>2022-01-16 22:40:40</td>\n",
       "      <td>NaN</td>\n",
       "      <td>[]</td>\n",
       "    </tr>\n",
       "    <tr>\n",
       "      <th>1005</th>\n",
       "      <td>1910</td>\n",
       "      <td>1482845251832545281</td>\n",
       "      <td></td>\n",
       "      <td>2022-01-16 22:40:32</td>\n",
       "      <td>NaN</td>\n",
       "      <td>[]</td>\n",
       "    </tr>\n",
       "    <tr>\n",
       "      <th>1015</th>\n",
       "      <td>1947</td>\n",
       "      <td>1482845152561582083</td>\n",
       "      <td></td>\n",
       "      <td>2022-01-16 22:40:08</td>\n",
       "      <td>NaN</td>\n",
       "      <td>[cryptocurrency, blockchain, Binance, BNB, BS]</td>\n",
       "    </tr>\n",
       "    <tr>\n",
       "      <th>1025</th>\n",
       "      <td>1972</td>\n",
       "      <td>1482845105413246976</td>\n",
       "      <td></td>\n",
       "      <td>2022-01-16 22:39:57</td>\n",
       "      <td>NaN</td>\n",
       "      <td>[BTC, Bitcoin, ETH, Ethereum, BNB, Binance, So...</td>\n",
       "    </tr>\n",
       "  </tbody>\n",
       "</table>\n",
       "<p>130 rows × 6 columns</p>\n",
       "</div>"
      ],
      "text/plain": [
       "      Unnamed: 0                   id text             datetime Location  \\\n",
       "11            11  1482849495574589441       2022-01-16 22:57:24      NaN   \n",
       "25            25  1482849458643738625       2022-01-16 22:57:15      NaN   \n",
       "32            34  1482849437538041865       2022-01-16 22:57:10      NaN   \n",
       "65            75  1482849366792679425       2022-01-16 22:56:53      NaN   \n",
       "66            76  1482849362833289221       2022-01-16 22:56:52      NaN   \n",
       "...          ...                  ...  ...                  ...      ...   \n",
       "996         1884  1482845304105967622       2022-01-16 22:40:45      NaN   \n",
       "1001        1896  1482845283272769536       2022-01-16 22:40:40      NaN   \n",
       "1005        1910  1482845251832545281       2022-01-16 22:40:32      NaN   \n",
       "1015        1947  1482845152561582083       2022-01-16 22:40:08      NaN   \n",
       "1025        1972  1482845105413246976       2022-01-16 22:39:57      NaN   \n",
       "\n",
       "                                                hashtag  \n",
       "11                                                   []  \n",
       "25    [NFT, Solana, SolanaNFTs, SolanaAirdrop, Solan...  \n",
       "32                                                   []  \n",
       "65             [bsc, solana, mtk, metakingz, mrtaverse]  \n",
       "66                                                   []  \n",
       "...                                                 ...  \n",
       "996                 [Solana, mtk, metakings, Metaverse]  \n",
       "1001                                                 []  \n",
       "1005                                                 []  \n",
       "1015     [cryptocurrency, blockchain, Binance, BNB, BS]  \n",
       "1025  [BTC, Bitcoin, ETH, Ethereum, BNB, Binance, So...  \n",
       "\n",
       "[130 rows x 6 columns]"
      ]
     },
     "execution_count": 24,
     "metadata": {},
     "output_type": "execute_result"
    }
   ],
   "source": [
    "mask = df_sol.text == ''\n",
    "df_sol[mask]"
   ]
  },
  {
   "cell_type": "code",
   "execution_count": 25,
   "id": "209f12f5",
   "metadata": {},
   "outputs": [
    {
     "data": {
      "text/plain": [
       "(905, 6)"
      ]
     },
     "execution_count": 25,
     "metadata": {},
     "output_type": "execute_result"
    }
   ],
   "source": [
    "df_sol = df_sol[~mask]\n",
    "df_sol.shape"
   ]
  },
  {
   "cell_type": "code",
   "execution_count": null,
   "id": "ddd24564",
   "metadata": {},
   "outputs": [],
   "source": []
  },
  {
   "cell_type": "markdown",
   "id": "44328d61",
   "metadata": {},
   "source": [
    "### Tokenize the document"
   ]
  },
  {
   "cell_type": "code",
   "execution_count": 26,
   "id": "85965f3e",
   "metadata": {},
   "outputs": [],
   "source": [
    "stop_words = nltk.corpus.stopwords.words('english')"
   ]
  },
  {
   "cell_type": "code",
   "execution_count": 27,
   "id": "47166883",
   "metadata": {},
   "outputs": [
    {
     "data": {
      "text/html": [
       "<div>\n",
       "<style scoped>\n",
       "    .dataframe tbody tr th:only-of-type {\n",
       "        vertical-align: middle;\n",
       "    }\n",
       "\n",
       "    .dataframe tbody tr th {\n",
       "        vertical-align: top;\n",
       "    }\n",
       "\n",
       "    .dataframe thead th {\n",
       "        text-align: right;\n",
       "    }\n",
       "</style>\n",
       "<table border=\"1\" class=\"dataframe\">\n",
       "  <thead>\n",
       "    <tr style=\"text-align: right;\">\n",
       "      <th></th>\n",
       "      <th>acquired</th>\n",
       "      <th>actually</th>\n",
       "      <th>age</th>\n",
       "      <th>ago</th>\n",
       "      <th>alpha</th>\n",
       "      <th>already</th>\n",
       "      <th>also</th>\n",
       "      <th>always</th>\n",
       "      <th>announcement</th>\n",
       "      <th>another</th>\n",
       "      <th>...</th>\n",
       "      <th>wish</th>\n",
       "      <th>wonderful</th>\n",
       "      <th>word</th>\n",
       "      <th>work</th>\n",
       "      <th>working</th>\n",
       "      <th>world</th>\n",
       "      <th>would</th>\n",
       "      <th>ya</th>\n",
       "      <th>year</th>\n",
       "      <th>yellow</th>\n",
       "    </tr>\n",
       "    <tr>\n",
       "      <th>text</th>\n",
       "      <th></th>\n",
       "      <th></th>\n",
       "      <th></th>\n",
       "      <th></th>\n",
       "      <th></th>\n",
       "      <th></th>\n",
       "      <th></th>\n",
       "      <th></th>\n",
       "      <th></th>\n",
       "      <th></th>\n",
       "      <th></th>\n",
       "      <th></th>\n",
       "      <th></th>\n",
       "      <th></th>\n",
       "      <th></th>\n",
       "      <th></th>\n",
       "      <th></th>\n",
       "      <th></th>\n",
       "      <th></th>\n",
       "      <th></th>\n",
       "      <th></th>\n",
       "    </tr>\n",
       "  </thead>\n",
       "  <tbody>\n",
       "    <tr>\n",
       "      <th>cosmic nft follow to earn</th>\n",
       "      <td>0</td>\n",
       "      <td>0</td>\n",
       "      <td>0</td>\n",
       "      <td>0</td>\n",
       "      <td>0</td>\n",
       "      <td>0</td>\n",
       "      <td>0</td>\n",
       "      <td>0</td>\n",
       "      <td>0</td>\n",
       "      <td>0</td>\n",
       "      <td>...</td>\n",
       "      <td>0</td>\n",
       "      <td>0</td>\n",
       "      <td>0</td>\n",
       "      <td>0</td>\n",
       "      <td>0</td>\n",
       "      <td>0</td>\n",
       "      <td>0</td>\n",
       "      <td>0</td>\n",
       "      <td>0</td>\n",
       "      <td>0</td>\n",
       "    </tr>\n",
       "    <tr>\n",
       "      <th>airdrop solana</th>\n",
       "      <td>0</td>\n",
       "      <td>0</td>\n",
       "      <td>0</td>\n",
       "      <td>0</td>\n",
       "      <td>0</td>\n",
       "      <td>0</td>\n",
       "      <td>0</td>\n",
       "      <td>0</td>\n",
       "      <td>0</td>\n",
       "      <td>0</td>\n",
       "      <td>...</td>\n",
       "      <td>0</td>\n",
       "      <td>0</td>\n",
       "      <td>0</td>\n",
       "      <td>0</td>\n",
       "      <td>0</td>\n",
       "      <td>0</td>\n",
       "      <td>0</td>\n",
       "      <td>0</td>\n",
       "      <td>0</td>\n",
       "      <td>0</td>\n",
       "    </tr>\n",
       "    <tr>\n",
       "      <th>what do you expect from project is going to be the next nft</th>\n",
       "      <td>0</td>\n",
       "      <td>0</td>\n",
       "      <td>0</td>\n",
       "      <td>0</td>\n",
       "      <td>0</td>\n",
       "      <td>0</td>\n",
       "      <td>0</td>\n",
       "      <td>0</td>\n",
       "      <td>0</td>\n",
       "      <td>0</td>\n",
       "      <td>...</td>\n",
       "      <td>0</td>\n",
       "      <td>0</td>\n",
       "      <td>0</td>\n",
       "      <td>0</td>\n",
       "      <td>0</td>\n",
       "      <td>0</td>\n",
       "      <td>0</td>\n",
       "      <td>0</td>\n",
       "      <td>0</td>\n",
       "      <td>0</td>\n",
       "    </tr>\n",
       "    <tr>\n",
       "      <th>the airdrop contest is live if</th>\n",
       "      <td>0</td>\n",
       "      <td>0</td>\n",
       "      <td>0</td>\n",
       "      <td>0</td>\n",
       "      <td>0</td>\n",
       "      <td>0</td>\n",
       "      <td>0</td>\n",
       "      <td>0</td>\n",
       "      <td>0</td>\n",
       "      <td>0</td>\n",
       "      <td>...</td>\n",
       "      <td>0</td>\n",
       "      <td>0</td>\n",
       "      <td>0</td>\n",
       "      <td>0</td>\n",
       "      <td>0</td>\n",
       "      <td>0</td>\n",
       "      <td>0</td>\n",
       "      <td>0</td>\n",
       "      <td>0</td>\n",
       "      <td>0</td>\n",
       "    </tr>\n",
       "    <tr>\n",
       "      <th>going be back on the space tonight with the fam going to giveaway a couple art piece to</th>\n",
       "      <td>0</td>\n",
       "      <td>0</td>\n",
       "      <td>0</td>\n",
       "      <td>0</td>\n",
       "      <td>0</td>\n",
       "      <td>0</td>\n",
       "      <td>0</td>\n",
       "      <td>0</td>\n",
       "      <td>0</td>\n",
       "      <td>0</td>\n",
       "      <td>...</td>\n",
       "      <td>0</td>\n",
       "      <td>0</td>\n",
       "      <td>0</td>\n",
       "      <td>0</td>\n",
       "      <td>0</td>\n",
       "      <td>0</td>\n",
       "      <td>0</td>\n",
       "      <td>0</td>\n",
       "      <td>0</td>\n",
       "      <td>0</td>\n",
       "    </tr>\n",
       "    <tr>\n",
       "      <th>sol in hour and turn on nft</th>\n",
       "      <td>0</td>\n",
       "      <td>0</td>\n",
       "      <td>0</td>\n",
       "      <td>0</td>\n",
       "      <td>0</td>\n",
       "      <td>0</td>\n",
       "      <td>0</td>\n",
       "      <td>0</td>\n",
       "      <td>0</td>\n",
       "      <td>0</td>\n",
       "      <td>...</td>\n",
       "      <td>0</td>\n",
       "      <td>0</td>\n",
       "      <td>0</td>\n",
       "      <td>0</td>\n",
       "      <td>0</td>\n",
       "      <td>0</td>\n",
       "      <td>0</td>\n",
       "      <td>0</td>\n",
       "      <td>0</td>\n",
       "      <td>0</td>\n",
       "    </tr>\n",
       "    <tr>\n",
       "      <th>join the</th>\n",
       "      <td>0</td>\n",
       "      <td>0</td>\n",
       "      <td>0</td>\n",
       "      <td>0</td>\n",
       "      <td>0</td>\n",
       "      <td>0</td>\n",
       "      <td>0</td>\n",
       "      <td>0</td>\n",
       "      <td>0</td>\n",
       "      <td>0</td>\n",
       "      <td>...</td>\n",
       "      <td>0</td>\n",
       "      <td>0</td>\n",
       "      <td>0</td>\n",
       "      <td>0</td>\n",
       "      <td>0</td>\n",
       "      <td>0</td>\n",
       "      <td>0</td>\n",
       "      <td>0</td>\n",
       "      <td>0</td>\n",
       "      <td>0</td>\n",
       "    </tr>\n",
       "    <tr>\n",
       "      <th>nft solana doge</th>\n",
       "      <td>0</td>\n",
       "      <td>0</td>\n",
       "      <td>0</td>\n",
       "      <td>0</td>\n",
       "      <td>0</td>\n",
       "      <td>0</td>\n",
       "      <td>0</td>\n",
       "      <td>0</td>\n",
       "      <td>0</td>\n",
       "      <td>0</td>\n",
       "      <td>...</td>\n",
       "      <td>0</td>\n",
       "      <td>0</td>\n",
       "      <td>0</td>\n",
       "      <td>0</td>\n",
       "      <td>0</td>\n",
       "      <td>0</td>\n",
       "      <td>0</td>\n",
       "      <td>0</td>\n",
       "      <td>0</td>\n",
       "      <td>0</td>\n",
       "    </tr>\n",
       "    <tr>\n",
       "      <th>airdrop is mint come first</th>\n",
       "      <td>0</td>\n",
       "      <td>0</td>\n",
       "      <td>0</td>\n",
       "      <td>0</td>\n",
       "      <td>0</td>\n",
       "      <td>0</td>\n",
       "      <td>0</td>\n",
       "      <td>0</td>\n",
       "      <td>0</td>\n",
       "      <td>0</td>\n",
       "      <td>...</td>\n",
       "      <td>0</td>\n",
       "      <td>0</td>\n",
       "      <td>0</td>\n",
       "      <td>0</td>\n",
       "      <td>0</td>\n",
       "      <td>0</td>\n",
       "      <td>0</td>\n",
       "      <td>0</td>\n",
       "      <td>0</td>\n",
       "      <td>0</td>\n",
       "    </tr>\n",
       "    <tr>\n",
       "      <th>miss almost famous panda in a few fully load of utility</th>\n",
       "      <td>0</td>\n",
       "      <td>0</td>\n",
       "      <td>0</td>\n",
       "      <td>0</td>\n",
       "      <td>0</td>\n",
       "      <td>0</td>\n",
       "      <td>0</td>\n",
       "      <td>0</td>\n",
       "      <td>0</td>\n",
       "      <td>0</td>\n",
       "      <td>...</td>\n",
       "      <td>0</td>\n",
       "      <td>0</td>\n",
       "      <td>0</td>\n",
       "      <td>0</td>\n",
       "      <td>0</td>\n",
       "      <td>0</td>\n",
       "      <td>0</td>\n",
       "      <td>0</td>\n",
       "      <td>0</td>\n",
       "      <td>0</td>\n",
       "    </tr>\n",
       "  </tbody>\n",
       "</table>\n",
       "<p>10 rows × 251 columns</p>\n",
       "</div>"
      ],
      "text/plain": [
       "                                                    acquired  actually  age  \\\n",
       "text                                                                          \n",
       "cosmic nft follow to earn                                  0         0    0   \n",
       "airdrop solana                                             0         0    0   \n",
       "what do you expect from project is going to be ...         0         0    0   \n",
       "the airdrop contest is live if                             0         0    0   \n",
       "going be back on the space tonight with the fam...         0         0    0   \n",
       "sol in hour and turn on nft                                0         0    0   \n",
       "join the                                                   0         0    0   \n",
       "nft solana doge                                            0         0    0   \n",
       "airdrop is mint come first                                 0         0    0   \n",
       "miss almost famous panda in a few fully load of...         0         0    0   \n",
       "\n",
       "                                                    ago  alpha  already  also  \\\n",
       "text                                                                            \n",
       "cosmic nft follow to earn                             0      0        0     0   \n",
       "airdrop solana                                        0      0        0     0   \n",
       "what do you expect from project is going to be ...    0      0        0     0   \n",
       "the airdrop contest is live if                        0      0        0     0   \n",
       "going be back on the space tonight with the fam...    0      0        0     0   \n",
       "sol in hour and turn on nft                           0      0        0     0   \n",
       "join the                                              0      0        0     0   \n",
       "nft solana doge                                       0      0        0     0   \n",
       "airdrop is mint come first                            0      0        0     0   \n",
       "miss almost famous panda in a few fully load of...    0      0        0     0   \n",
       "\n",
       "                                                    always  announcement  \\\n",
       "text                                                                       \n",
       "cosmic nft follow to earn                                0             0   \n",
       "airdrop solana                                           0             0   \n",
       "what do you expect from project is going to be ...       0             0   \n",
       "the airdrop contest is live if                           0             0   \n",
       "going be back on the space tonight with the fam...       0             0   \n",
       "sol in hour and turn on nft                              0             0   \n",
       "join the                                                 0             0   \n",
       "nft solana doge                                          0             0   \n",
       "airdrop is mint come first                               0             0   \n",
       "miss almost famous panda in a few fully load of...       0             0   \n",
       "\n",
       "                                                    another  ...  wish  \\\n",
       "text                                                         ...         \n",
       "cosmic nft follow to earn                                 0  ...     0   \n",
       "airdrop solana                                            0  ...     0   \n",
       "what do you expect from project is going to be ...        0  ...     0   \n",
       "the airdrop contest is live if                            0  ...     0   \n",
       "going be back on the space tonight with the fam...        0  ...     0   \n",
       "sol in hour and turn on nft                               0  ...     0   \n",
       "join the                                                  0  ...     0   \n",
       "nft solana doge                                           0  ...     0   \n",
       "airdrop is mint come first                                0  ...     0   \n",
       "miss almost famous panda in a few fully load of...        0  ...     0   \n",
       "\n",
       "                                                    wonderful  word  work  \\\n",
       "text                                                                        \n",
       "cosmic nft follow to earn                                   0     0     0   \n",
       "airdrop solana                                              0     0     0   \n",
       "what do you expect from project is going to be ...          0     0     0   \n",
       "the airdrop contest is live if                              0     0     0   \n",
       "going be back on the space tonight with the fam...          0     0     0   \n",
       "sol in hour and turn on nft                                 0     0     0   \n",
       "join the                                                    0     0     0   \n",
       "nft solana doge                                             0     0     0   \n",
       "airdrop is mint come first                                  0     0     0   \n",
       "miss almost famous panda in a few fully load of...          0     0     0   \n",
       "\n",
       "                                                    working  world  would  ya  \\\n",
       "text                                                                            \n",
       "cosmic nft follow to earn                                 0      0      0   0   \n",
       "airdrop solana                                            0      0      0   0   \n",
       "what do you expect from project is going to be ...        0      0      0   0   \n",
       "the airdrop contest is live if                            0      0      0   0   \n",
       "going be back on the space tonight with the fam...        0      0      0   0   \n",
       "sol in hour and turn on nft                               0      0      0   0   \n",
       "join the                                                  0      0      0   0   \n",
       "nft solana doge                                           0      0      0   0   \n",
       "airdrop is mint come first                                0      0      0   0   \n",
       "miss almost famous panda in a few fully load of...        0      0      0   0   \n",
       "\n",
       "                                                    year  yellow  \n",
       "text                                                              \n",
       "cosmic nft follow to earn                              0       0  \n",
       "airdrop solana                                         0       0  \n",
       "what do you expect from project is going to be ...     0       0  \n",
       "the airdrop contest is live if                         0       0  \n",
       "going be back on the space tonight with the fam...     0       0  \n",
       "sol in hour and turn on nft                            0       0  \n",
       "join the                                               0       0  \n",
       "nft solana doge                                        0       0  \n",
       "airdrop is mint come first                             0       0  \n",
       "miss almost famous panda in a few fully load of...     0       0  \n",
       "\n",
       "[10 rows x 251 columns]"
      ]
     },
     "execution_count": 27,
     "metadata": {},
     "output_type": "execute_result"
    }
   ],
   "source": [
    "## CountVectorize\n",
    "cvec = CountVectorizer(stop_words=stop_words, max_df=7, min_df=3)\n",
    "doc_word_cv = cvec.fit_transform(df_sol.text)\n",
    "pd.DataFrame(doc_word_cv.toarray(), index=df_sol.text, columns=cvec.get_feature_names()).head(10)"
   ]
  },
  {
   "cell_type": "code",
   "execution_count": 28,
   "id": "e345404a",
   "metadata": {},
   "outputs": [
    {
     "data": {
      "text/html": [
       "<div>\n",
       "<style scoped>\n",
       "    .dataframe tbody tr th:only-of-type {\n",
       "        vertical-align: middle;\n",
       "    }\n",
       "\n",
       "    .dataframe tbody tr th {\n",
       "        vertical-align: top;\n",
       "    }\n",
       "\n",
       "    .dataframe thead th {\n",
       "        text-align: right;\n",
       "    }\n",
       "</style>\n",
       "<table border=\"1\" class=\"dataframe\">\n",
       "  <thead>\n",
       "    <tr style=\"text-align: right;\">\n",
       "      <th></th>\n",
       "      <th>acquired</th>\n",
       "      <th>actually</th>\n",
       "      <th>age</th>\n",
       "      <th>ago</th>\n",
       "      <th>airdrop</th>\n",
       "      <th>almost</th>\n",
       "      <th>alpha</th>\n",
       "      <th>already</th>\n",
       "      <th>also</th>\n",
       "      <th>always</th>\n",
       "      <th>...</th>\n",
       "      <th>wonderful</th>\n",
       "      <th>word</th>\n",
       "      <th>work</th>\n",
       "      <th>working</th>\n",
       "      <th>world</th>\n",
       "      <th>worth</th>\n",
       "      <th>would</th>\n",
       "      <th>ya</th>\n",
       "      <th>year</th>\n",
       "      <th>yellow</th>\n",
       "    </tr>\n",
       "    <tr>\n",
       "      <th>text</th>\n",
       "      <th></th>\n",
       "      <th></th>\n",
       "      <th></th>\n",
       "      <th></th>\n",
       "      <th></th>\n",
       "      <th></th>\n",
       "      <th></th>\n",
       "      <th></th>\n",
       "      <th></th>\n",
       "      <th></th>\n",
       "      <th></th>\n",
       "      <th></th>\n",
       "      <th></th>\n",
       "      <th></th>\n",
       "      <th></th>\n",
       "      <th></th>\n",
       "      <th></th>\n",
       "      <th></th>\n",
       "      <th></th>\n",
       "      <th></th>\n",
       "      <th></th>\n",
       "    </tr>\n",
       "  </thead>\n",
       "  <tbody>\n",
       "    <tr>\n",
       "      <th>cosmic nft follow to earn</th>\n",
       "      <td>0.0</td>\n",
       "      <td>0.0</td>\n",
       "      <td>0.0</td>\n",
       "      <td>0.0</td>\n",
       "      <td>0.000000</td>\n",
       "      <td>0.000000</td>\n",
       "      <td>0.0</td>\n",
       "      <td>0.0</td>\n",
       "      <td>0.0</td>\n",
       "      <td>0.0</td>\n",
       "      <td>...</td>\n",
       "      <td>0.0</td>\n",
       "      <td>0.0</td>\n",
       "      <td>0.0</td>\n",
       "      <td>0.0</td>\n",
       "      <td>0.0</td>\n",
       "      <td>0.0</td>\n",
       "      <td>0.0</td>\n",
       "      <td>0.0</td>\n",
       "      <td>0.0</td>\n",
       "      <td>0.0</td>\n",
       "    </tr>\n",
       "    <tr>\n",
       "      <th>airdrop solana</th>\n",
       "      <td>0.0</td>\n",
       "      <td>0.0</td>\n",
       "      <td>0.0</td>\n",
       "      <td>0.0</td>\n",
       "      <td>0.841295</td>\n",
       "      <td>0.000000</td>\n",
       "      <td>0.0</td>\n",
       "      <td>0.0</td>\n",
       "      <td>0.0</td>\n",
       "      <td>0.0</td>\n",
       "      <td>...</td>\n",
       "      <td>0.0</td>\n",
       "      <td>0.0</td>\n",
       "      <td>0.0</td>\n",
       "      <td>0.0</td>\n",
       "      <td>0.0</td>\n",
       "      <td>0.0</td>\n",
       "      <td>0.0</td>\n",
       "      <td>0.0</td>\n",
       "      <td>0.0</td>\n",
       "      <td>0.0</td>\n",
       "    </tr>\n",
       "    <tr>\n",
       "      <th>what do you expect from project is going to be the next nft</th>\n",
       "      <td>0.0</td>\n",
       "      <td>0.0</td>\n",
       "      <td>0.0</td>\n",
       "      <td>0.0</td>\n",
       "      <td>0.000000</td>\n",
       "      <td>0.000000</td>\n",
       "      <td>0.0</td>\n",
       "      <td>0.0</td>\n",
       "      <td>0.0</td>\n",
       "      <td>0.0</td>\n",
       "      <td>...</td>\n",
       "      <td>0.0</td>\n",
       "      <td>0.0</td>\n",
       "      <td>0.0</td>\n",
       "      <td>0.0</td>\n",
       "      <td>0.0</td>\n",
       "      <td>0.0</td>\n",
       "      <td>0.0</td>\n",
       "      <td>0.0</td>\n",
       "      <td>0.0</td>\n",
       "      <td>0.0</td>\n",
       "    </tr>\n",
       "    <tr>\n",
       "      <th>the airdrop contest is live if</th>\n",
       "      <td>0.0</td>\n",
       "      <td>0.0</td>\n",
       "      <td>0.0</td>\n",
       "      <td>0.0</td>\n",
       "      <td>0.518991</td>\n",
       "      <td>0.000000</td>\n",
       "      <td>0.0</td>\n",
       "      <td>0.0</td>\n",
       "      <td>0.0</td>\n",
       "      <td>0.0</td>\n",
       "      <td>...</td>\n",
       "      <td>0.0</td>\n",
       "      <td>0.0</td>\n",
       "      <td>0.0</td>\n",
       "      <td>0.0</td>\n",
       "      <td>0.0</td>\n",
       "      <td>0.0</td>\n",
       "      <td>0.0</td>\n",
       "      <td>0.0</td>\n",
       "      <td>0.0</td>\n",
       "      <td>0.0</td>\n",
       "    </tr>\n",
       "    <tr>\n",
       "      <th>going be back on the space tonight with the fam going to giveaway a couple art piece to</th>\n",
       "      <td>0.0</td>\n",
       "      <td>0.0</td>\n",
       "      <td>0.0</td>\n",
       "      <td>0.0</td>\n",
       "      <td>0.000000</td>\n",
       "      <td>0.000000</td>\n",
       "      <td>0.0</td>\n",
       "      <td>0.0</td>\n",
       "      <td>0.0</td>\n",
       "      <td>0.0</td>\n",
       "      <td>...</td>\n",
       "      <td>0.0</td>\n",
       "      <td>0.0</td>\n",
       "      <td>0.0</td>\n",
       "      <td>0.0</td>\n",
       "      <td>0.0</td>\n",
       "      <td>0.0</td>\n",
       "      <td>0.0</td>\n",
       "      <td>0.0</td>\n",
       "      <td>0.0</td>\n",
       "      <td>0.0</td>\n",
       "    </tr>\n",
       "    <tr>\n",
       "      <th>sol in hour and turn on nft</th>\n",
       "      <td>0.0</td>\n",
       "      <td>0.0</td>\n",
       "      <td>0.0</td>\n",
       "      <td>0.0</td>\n",
       "      <td>0.000000</td>\n",
       "      <td>0.000000</td>\n",
       "      <td>0.0</td>\n",
       "      <td>0.0</td>\n",
       "      <td>0.0</td>\n",
       "      <td>0.0</td>\n",
       "      <td>...</td>\n",
       "      <td>0.0</td>\n",
       "      <td>0.0</td>\n",
       "      <td>0.0</td>\n",
       "      <td>0.0</td>\n",
       "      <td>0.0</td>\n",
       "      <td>0.0</td>\n",
       "      <td>0.0</td>\n",
       "      <td>0.0</td>\n",
       "      <td>0.0</td>\n",
       "      <td>0.0</td>\n",
       "    </tr>\n",
       "    <tr>\n",
       "      <th>join the</th>\n",
       "      <td>0.0</td>\n",
       "      <td>0.0</td>\n",
       "      <td>0.0</td>\n",
       "      <td>0.0</td>\n",
       "      <td>0.000000</td>\n",
       "      <td>0.000000</td>\n",
       "      <td>0.0</td>\n",
       "      <td>0.0</td>\n",
       "      <td>0.0</td>\n",
       "      <td>0.0</td>\n",
       "      <td>...</td>\n",
       "      <td>0.0</td>\n",
       "      <td>0.0</td>\n",
       "      <td>0.0</td>\n",
       "      <td>0.0</td>\n",
       "      <td>0.0</td>\n",
       "      <td>0.0</td>\n",
       "      <td>0.0</td>\n",
       "      <td>0.0</td>\n",
       "      <td>0.0</td>\n",
       "      <td>0.0</td>\n",
       "    </tr>\n",
       "    <tr>\n",
       "      <th>nft solana doge</th>\n",
       "      <td>0.0</td>\n",
       "      <td>0.0</td>\n",
       "      <td>0.0</td>\n",
       "      <td>0.0</td>\n",
       "      <td>0.000000</td>\n",
       "      <td>0.000000</td>\n",
       "      <td>0.0</td>\n",
       "      <td>0.0</td>\n",
       "      <td>0.0</td>\n",
       "      <td>0.0</td>\n",
       "      <td>...</td>\n",
       "      <td>0.0</td>\n",
       "      <td>0.0</td>\n",
       "      <td>0.0</td>\n",
       "      <td>0.0</td>\n",
       "      <td>0.0</td>\n",
       "      <td>0.0</td>\n",
       "      <td>0.0</td>\n",
       "      <td>0.0</td>\n",
       "      <td>0.0</td>\n",
       "      <td>0.0</td>\n",
       "    </tr>\n",
       "    <tr>\n",
       "      <th>airdrop is mint come first</th>\n",
       "      <td>0.0</td>\n",
       "      <td>0.0</td>\n",
       "      <td>0.0</td>\n",
       "      <td>0.0</td>\n",
       "      <td>0.396255</td>\n",
       "      <td>0.000000</td>\n",
       "      <td>0.0</td>\n",
       "      <td>0.0</td>\n",
       "      <td>0.0</td>\n",
       "      <td>0.0</td>\n",
       "      <td>...</td>\n",
       "      <td>0.0</td>\n",
       "      <td>0.0</td>\n",
       "      <td>0.0</td>\n",
       "      <td>0.0</td>\n",
       "      <td>0.0</td>\n",
       "      <td>0.0</td>\n",
       "      <td>0.0</td>\n",
       "      <td>0.0</td>\n",
       "      <td>0.0</td>\n",
       "      <td>0.0</td>\n",
       "    </tr>\n",
       "    <tr>\n",
       "      <th>miss almost famous panda in a few fully load of utility</th>\n",
       "      <td>0.0</td>\n",
       "      <td>0.0</td>\n",
       "      <td>0.0</td>\n",
       "      <td>0.0</td>\n",
       "      <td>0.000000</td>\n",
       "      <td>0.359958</td>\n",
       "      <td>0.0</td>\n",
       "      <td>0.0</td>\n",
       "      <td>0.0</td>\n",
       "      <td>0.0</td>\n",
       "      <td>...</td>\n",
       "      <td>0.0</td>\n",
       "      <td>0.0</td>\n",
       "      <td>0.0</td>\n",
       "      <td>0.0</td>\n",
       "      <td>0.0</td>\n",
       "      <td>0.0</td>\n",
       "      <td>0.0</td>\n",
       "      <td>0.0</td>\n",
       "      <td>0.0</td>\n",
       "      <td>0.0</td>\n",
       "    </tr>\n",
       "  </tbody>\n",
       "</table>\n",
       "<p>10 rows × 354 columns</p>\n",
       "</div>"
      ],
      "text/plain": [
       "                                                    acquired  actually  age  \\\n",
       "text                                                                          \n",
       "cosmic nft follow to earn                                0.0       0.0  0.0   \n",
       "airdrop solana                                           0.0       0.0  0.0   \n",
       "what do you expect from project is going to be ...       0.0       0.0  0.0   \n",
       "the airdrop contest is live if                           0.0       0.0  0.0   \n",
       "going be back on the space tonight with the fam...       0.0       0.0  0.0   \n",
       "sol in hour and turn on nft                              0.0       0.0  0.0   \n",
       "join the                                                 0.0       0.0  0.0   \n",
       "nft solana doge                                          0.0       0.0  0.0   \n",
       "airdrop is mint come first                               0.0       0.0  0.0   \n",
       "miss almost famous panda in a few fully load of...       0.0       0.0  0.0   \n",
       "\n",
       "                                                    ago   airdrop    almost  \\\n",
       "text                                                                          \n",
       "cosmic nft follow to earn                           0.0  0.000000  0.000000   \n",
       "airdrop solana                                      0.0  0.841295  0.000000   \n",
       "what do you expect from project is going to be ...  0.0  0.000000  0.000000   \n",
       "the airdrop contest is live if                      0.0  0.518991  0.000000   \n",
       "going be back on the space tonight with the fam...  0.0  0.000000  0.000000   \n",
       "sol in hour and turn on nft                         0.0  0.000000  0.000000   \n",
       "join the                                            0.0  0.000000  0.000000   \n",
       "nft solana doge                                     0.0  0.000000  0.000000   \n",
       "airdrop is mint come first                          0.0  0.396255  0.000000   \n",
       "miss almost famous panda in a few fully load of...  0.0  0.000000  0.359958   \n",
       "\n",
       "                                                    alpha  already  also  \\\n",
       "text                                                                       \n",
       "cosmic nft follow to earn                             0.0      0.0   0.0   \n",
       "airdrop solana                                        0.0      0.0   0.0   \n",
       "what do you expect from project is going to be ...    0.0      0.0   0.0   \n",
       "the airdrop contest is live if                        0.0      0.0   0.0   \n",
       "going be back on the space tonight with the fam...    0.0      0.0   0.0   \n",
       "sol in hour and turn on nft                           0.0      0.0   0.0   \n",
       "join the                                              0.0      0.0   0.0   \n",
       "nft solana doge                                       0.0      0.0   0.0   \n",
       "airdrop is mint come first                            0.0      0.0   0.0   \n",
       "miss almost famous panda in a few fully load of...    0.0      0.0   0.0   \n",
       "\n",
       "                                                    always  ...  wonderful  \\\n",
       "text                                                        ...              \n",
       "cosmic nft follow to earn                              0.0  ...        0.0   \n",
       "airdrop solana                                         0.0  ...        0.0   \n",
       "what do you expect from project is going to be ...     0.0  ...        0.0   \n",
       "the airdrop contest is live if                         0.0  ...        0.0   \n",
       "going be back on the space tonight with the fam...     0.0  ...        0.0   \n",
       "sol in hour and turn on nft                            0.0  ...        0.0   \n",
       "join the                                               0.0  ...        0.0   \n",
       "nft solana doge                                        0.0  ...        0.0   \n",
       "airdrop is mint come first                             0.0  ...        0.0   \n",
       "miss almost famous panda in a few fully load of...     0.0  ...        0.0   \n",
       "\n",
       "                                                    word  work  working  \\\n",
       "text                                                                      \n",
       "cosmic nft follow to earn                            0.0   0.0      0.0   \n",
       "airdrop solana                                       0.0   0.0      0.0   \n",
       "what do you expect from project is going to be ...   0.0   0.0      0.0   \n",
       "the airdrop contest is live if                       0.0   0.0      0.0   \n",
       "going be back on the space tonight with the fam...   0.0   0.0      0.0   \n",
       "sol in hour and turn on nft                          0.0   0.0      0.0   \n",
       "join the                                             0.0   0.0      0.0   \n",
       "nft solana doge                                      0.0   0.0      0.0   \n",
       "airdrop is mint come first                           0.0   0.0      0.0   \n",
       "miss almost famous panda in a few fully load of...   0.0   0.0      0.0   \n",
       "\n",
       "                                                    world  worth  would   ya  \\\n",
       "text                                                                           \n",
       "cosmic nft follow to earn                             0.0    0.0    0.0  0.0   \n",
       "airdrop solana                                        0.0    0.0    0.0  0.0   \n",
       "what do you expect from project is going to be ...    0.0    0.0    0.0  0.0   \n",
       "the airdrop contest is live if                        0.0    0.0    0.0  0.0   \n",
       "going be back on the space tonight with the fam...    0.0    0.0    0.0  0.0   \n",
       "sol in hour and turn on nft                           0.0    0.0    0.0  0.0   \n",
       "join the                                              0.0    0.0    0.0  0.0   \n",
       "nft solana doge                                       0.0    0.0    0.0  0.0   \n",
       "airdrop is mint come first                            0.0    0.0    0.0  0.0   \n",
       "miss almost famous panda in a few fully load of...    0.0    0.0    0.0  0.0   \n",
       "\n",
       "                                                    year  yellow  \n",
       "text                                                              \n",
       "cosmic nft follow to earn                            0.0     0.0  \n",
       "airdrop solana                                       0.0     0.0  \n",
       "what do you expect from project is going to be ...   0.0     0.0  \n",
       "the airdrop contest is live if                       0.0     0.0  \n",
       "going be back on the space tonight with the fam...   0.0     0.0  \n",
       "sol in hour and turn on nft                          0.0     0.0  \n",
       "join the                                             0.0     0.0  \n",
       "nft solana doge                                      0.0     0.0  \n",
       "airdrop is mint come first                           0.0     0.0  \n",
       "miss almost famous panda in a few fully load of...   0.0     0.0  \n",
       "\n",
       "[10 rows x 354 columns]"
      ]
     },
     "execution_count": 28,
     "metadata": {},
     "output_type": "execute_result"
    }
   ],
   "source": [
    "##TFIDF\n",
    "cv_tfidf = TfidfVectorizer(stop_words=stop_words,max_df =0.7, min_df=3)\n",
    "doc_word_tfidf = cv_tfidf.fit_transform(df_sol.text)\n",
    "pd.DataFrame(doc_word_tfidf.toarray(), index=df_sol.text, columns=cv_tfidf.get_feature_names()).head(10)"
   ]
  },
  {
   "cell_type": "code",
   "execution_count": 29,
   "id": "89b5f3f6",
   "metadata": {},
   "outputs": [
    {
     "data": {
      "text/plain": [
       "(905, 354)"
      ]
     },
     "execution_count": 29,
     "metadata": {},
     "output_type": "execute_result"
    }
   ],
   "source": [
    "doc_word_tfidf.shape"
   ]
  },
  {
   "cell_type": "code",
   "execution_count": 30,
   "id": "18d85591",
   "metadata": {},
   "outputs": [],
   "source": [
    "test = doc_word_tfidf.T"
   ]
  },
  {
   "cell_type": "code",
   "execution_count": 31,
   "id": "ea3ec853",
   "metadata": {},
   "outputs": [],
   "source": [
    "def display_topics(model, feature_names, no_top_words, topic_names=None):\n",
    "    for ix, topic in enumerate(model.components_):\n",
    "        if not topic_names or not topic_names[ix]:\n",
    "            print(\"\\nTopic \", ix)\n",
    "        else:\n",
    "            print(\"\\nTopic: '\",topic_names[ix],\"'\")\n",
    "        print(\", \".join([feature_names[i]\n",
    "                        for i in topic.argsort()[:-no_top_words - 1:-1]]))"
   ]
  },
  {
   "cell_type": "markdown",
   "id": "4161974a",
   "metadata": {},
   "source": [
    "### NMF Model"
   ]
  },
  {
   "cell_type": "code",
   "execution_count": 32,
   "id": "48af85d4",
   "metadata": {},
   "outputs": [],
   "source": [
    "from sklearn.decomposition import NMF, TruncatedSVD"
   ]
  },
  {
   "cell_type": "code",
   "execution_count": 33,
   "id": "0b469706",
   "metadata": {},
   "outputs": [
    {
     "name": "stderr",
     "output_type": "stream",
     "text": [
      "/Users/Elena/Anaconda/anaconda3/envs/metis/lib/python3.8/site-packages/sklearn/decomposition/_nmf.py:312: FutureWarning: The 'init' value, when 'init=None' and n_components is less than n_samples and n_features, will be changed from 'nndsvd' to 'nndsvda' in 1.1 (renaming of 0.26).\n",
      "  warnings.warn((\"The 'init' value, when 'init=None' and \"\n"
     ]
    }
   ],
   "source": [
    "n_topics=10\n",
    "nmf = NMF(n_components=n_topics)\n",
    "doc_topic=nmf.fit_transform(doc_word_tfidf)"
   ]
  },
  {
   "cell_type": "code",
   "execution_count": 34,
   "id": "15764a2b",
   "metadata": {},
   "outputs": [
    {
     "data": {
      "text/html": [
       "<div>\n",
       "<style scoped>\n",
       "    .dataframe tbody tr th:only-of-type {\n",
       "        vertical-align: middle;\n",
       "    }\n",
       "\n",
       "    .dataframe tbody tr th {\n",
       "        vertical-align: top;\n",
       "    }\n",
       "\n",
       "    .dataframe thead th {\n",
       "        text-align: right;\n",
       "    }\n",
       "</style>\n",
       "<table border=\"1\" class=\"dataframe\">\n",
       "  <thead>\n",
       "    <tr style=\"text-align: right;\">\n",
       "      <th></th>\n",
       "      <th>acquired</th>\n",
       "      <th>actually</th>\n",
       "      <th>age</th>\n",
       "      <th>ago</th>\n",
       "      <th>airdrop</th>\n",
       "      <th>almost</th>\n",
       "      <th>alpha</th>\n",
       "      <th>already</th>\n",
       "      <th>also</th>\n",
       "      <th>always</th>\n",
       "      <th>...</th>\n",
       "      <th>wonderful</th>\n",
       "      <th>word</th>\n",
       "      <th>work</th>\n",
       "      <th>working</th>\n",
       "      <th>world</th>\n",
       "      <th>worth</th>\n",
       "      <th>would</th>\n",
       "      <th>ya</th>\n",
       "      <th>year</th>\n",
       "      <th>yellow</th>\n",
       "    </tr>\n",
       "  </thead>\n",
       "  <tbody>\n",
       "    <tr>\n",
       "      <th>component_1</th>\n",
       "      <td>0.000</td>\n",
       "      <td>0.000</td>\n",
       "      <td>0.005</td>\n",
       "      <td>0.000</td>\n",
       "      <td>0.000</td>\n",
       "      <td>0.023</td>\n",
       "      <td>0.010</td>\n",
       "      <td>0.000</td>\n",
       "      <td>0.010</td>\n",
       "      <td>0.000</td>\n",
       "      <td>...</td>\n",
       "      <td>0.000</td>\n",
       "      <td>0.005</td>\n",
       "      <td>0.000</td>\n",
       "      <td>0.000</td>\n",
       "      <td>0.001</td>\n",
       "      <td>0.000</td>\n",
       "      <td>0.013</td>\n",
       "      <td>0.020</td>\n",
       "      <td>0.019</td>\n",
       "      <td>0.004</td>\n",
       "    </tr>\n",
       "    <tr>\n",
       "      <th>component_2</th>\n",
       "      <td>0.000</td>\n",
       "      <td>0.000</td>\n",
       "      <td>0.000</td>\n",
       "      <td>0.000</td>\n",
       "      <td>0.058</td>\n",
       "      <td>0.000</td>\n",
       "      <td>0.000</td>\n",
       "      <td>0.015</td>\n",
       "      <td>0.000</td>\n",
       "      <td>0.000</td>\n",
       "      <td>...</td>\n",
       "      <td>0.000</td>\n",
       "      <td>0.000</td>\n",
       "      <td>0.000</td>\n",
       "      <td>0.000</td>\n",
       "      <td>0.000</td>\n",
       "      <td>0.000</td>\n",
       "      <td>0.000</td>\n",
       "      <td>0.011</td>\n",
       "      <td>0.000</td>\n",
       "      <td>0.000</td>\n",
       "    </tr>\n",
       "    <tr>\n",
       "      <th>component_3</th>\n",
       "      <td>0.000</td>\n",
       "      <td>0.000</td>\n",
       "      <td>0.022</td>\n",
       "      <td>0.000</td>\n",
       "      <td>0.000</td>\n",
       "      <td>0.010</td>\n",
       "      <td>0.000</td>\n",
       "      <td>0.020</td>\n",
       "      <td>0.000</td>\n",
       "      <td>0.000</td>\n",
       "      <td>...</td>\n",
       "      <td>0.008</td>\n",
       "      <td>0.000</td>\n",
       "      <td>0.000</td>\n",
       "      <td>0.000</td>\n",
       "      <td>0.000</td>\n",
       "      <td>0.027</td>\n",
       "      <td>0.015</td>\n",
       "      <td>0.000</td>\n",
       "      <td>0.004</td>\n",
       "      <td>0.000</td>\n",
       "    </tr>\n",
       "    <tr>\n",
       "      <th>component_4</th>\n",
       "      <td>0.000</td>\n",
       "      <td>0.000</td>\n",
       "      <td>0.000</td>\n",
       "      <td>0.002</td>\n",
       "      <td>0.000</td>\n",
       "      <td>0.006</td>\n",
       "      <td>0.018</td>\n",
       "      <td>0.000</td>\n",
       "      <td>0.005</td>\n",
       "      <td>0.001</td>\n",
       "      <td>...</td>\n",
       "      <td>0.044</td>\n",
       "      <td>0.008</td>\n",
       "      <td>0.039</td>\n",
       "      <td>0.029</td>\n",
       "      <td>0.009</td>\n",
       "      <td>0.021</td>\n",
       "      <td>0.054</td>\n",
       "      <td>0.000</td>\n",
       "      <td>0.017</td>\n",
       "      <td>0.000</td>\n",
       "    </tr>\n",
       "    <tr>\n",
       "      <th>component_5</th>\n",
       "      <td>0.073</td>\n",
       "      <td>0.000</td>\n",
       "      <td>0.000</td>\n",
       "      <td>0.000</td>\n",
       "      <td>0.000</td>\n",
       "      <td>0.000</td>\n",
       "      <td>0.000</td>\n",
       "      <td>0.000</td>\n",
       "      <td>0.000</td>\n",
       "      <td>0.000</td>\n",
       "      <td>...</td>\n",
       "      <td>0.000</td>\n",
       "      <td>0.000</td>\n",
       "      <td>0.000</td>\n",
       "      <td>0.001</td>\n",
       "      <td>0.000</td>\n",
       "      <td>0.101</td>\n",
       "      <td>0.000</td>\n",
       "      <td>0.000</td>\n",
       "      <td>0.000</td>\n",
       "      <td>0.004</td>\n",
       "    </tr>\n",
       "    <tr>\n",
       "      <th>component_6</th>\n",
       "      <td>0.000</td>\n",
       "      <td>0.000</td>\n",
       "      <td>0.000</td>\n",
       "      <td>0.000</td>\n",
       "      <td>0.000</td>\n",
       "      <td>0.000</td>\n",
       "      <td>0.000</td>\n",
       "      <td>0.008</td>\n",
       "      <td>0.000</td>\n",
       "      <td>0.024</td>\n",
       "      <td>...</td>\n",
       "      <td>0.000</td>\n",
       "      <td>0.000</td>\n",
       "      <td>0.000</td>\n",
       "      <td>0.000</td>\n",
       "      <td>0.022</td>\n",
       "      <td>0.006</td>\n",
       "      <td>0.000</td>\n",
       "      <td>0.000</td>\n",
       "      <td>0.000</td>\n",
       "      <td>0.000</td>\n",
       "    </tr>\n",
       "    <tr>\n",
       "      <th>component_7</th>\n",
       "      <td>0.000</td>\n",
       "      <td>0.000</td>\n",
       "      <td>0.000</td>\n",
       "      <td>0.000</td>\n",
       "      <td>0.000</td>\n",
       "      <td>0.000</td>\n",
       "      <td>0.000</td>\n",
       "      <td>0.002</td>\n",
       "      <td>0.003</td>\n",
       "      <td>0.000</td>\n",
       "      <td>...</td>\n",
       "      <td>0.000</td>\n",
       "      <td>0.005</td>\n",
       "      <td>0.000</td>\n",
       "      <td>0.000</td>\n",
       "      <td>0.004</td>\n",
       "      <td>0.145</td>\n",
       "      <td>0.013</td>\n",
       "      <td>0.000</td>\n",
       "      <td>0.020</td>\n",
       "      <td>0.000</td>\n",
       "    </tr>\n",
       "    <tr>\n",
       "      <th>component_8</th>\n",
       "      <td>0.000</td>\n",
       "      <td>0.000</td>\n",
       "      <td>0.000</td>\n",
       "      <td>0.009</td>\n",
       "      <td>0.000</td>\n",
       "      <td>0.018</td>\n",
       "      <td>0.002</td>\n",
       "      <td>0.000</td>\n",
       "      <td>0.002</td>\n",
       "      <td>0.000</td>\n",
       "      <td>...</td>\n",
       "      <td>0.012</td>\n",
       "      <td>0.030</td>\n",
       "      <td>0.000</td>\n",
       "      <td>0.003</td>\n",
       "      <td>0.024</td>\n",
       "      <td>0.000</td>\n",
       "      <td>0.011</td>\n",
       "      <td>0.036</td>\n",
       "      <td>0.000</td>\n",
       "      <td>0.000</td>\n",
       "    </tr>\n",
       "    <tr>\n",
       "      <th>component_9</th>\n",
       "      <td>0.000</td>\n",
       "      <td>0.001</td>\n",
       "      <td>0.000</td>\n",
       "      <td>0.000</td>\n",
       "      <td>0.000</td>\n",
       "      <td>0.000</td>\n",
       "      <td>0.000</td>\n",
       "      <td>0.015</td>\n",
       "      <td>0.006</td>\n",
       "      <td>0.017</td>\n",
       "      <td>...</td>\n",
       "      <td>0.000</td>\n",
       "      <td>0.000</td>\n",
       "      <td>0.000</td>\n",
       "      <td>0.001</td>\n",
       "      <td>0.007</td>\n",
       "      <td>0.000</td>\n",
       "      <td>0.010</td>\n",
       "      <td>0.000</td>\n",
       "      <td>0.000</td>\n",
       "      <td>0.087</td>\n",
       "    </tr>\n",
       "    <tr>\n",
       "      <th>component_10</th>\n",
       "      <td>0.000</td>\n",
       "      <td>0.047</td>\n",
       "      <td>0.000</td>\n",
       "      <td>0.000</td>\n",
       "      <td>2.422</td>\n",
       "      <td>0.000</td>\n",
       "      <td>0.000</td>\n",
       "      <td>0.000</td>\n",
       "      <td>0.000</td>\n",
       "      <td>0.000</td>\n",
       "      <td>...</td>\n",
       "      <td>0.000</td>\n",
       "      <td>0.000</td>\n",
       "      <td>0.034</td>\n",
       "      <td>0.000</td>\n",
       "      <td>0.000</td>\n",
       "      <td>0.000</td>\n",
       "      <td>0.000</td>\n",
       "      <td>0.000</td>\n",
       "      <td>0.000</td>\n",
       "      <td>0.000</td>\n",
       "    </tr>\n",
       "  </tbody>\n",
       "</table>\n",
       "<p>10 rows × 354 columns</p>\n",
       "</div>"
      ],
      "text/plain": [
       "              acquired  actually    age    ago  airdrop  almost  alpha  \\\n",
       "component_1      0.000     0.000  0.005  0.000    0.000   0.023  0.010   \n",
       "component_2      0.000     0.000  0.000  0.000    0.058   0.000  0.000   \n",
       "component_3      0.000     0.000  0.022  0.000    0.000   0.010  0.000   \n",
       "component_4      0.000     0.000  0.000  0.002    0.000   0.006  0.018   \n",
       "component_5      0.073     0.000  0.000  0.000    0.000   0.000  0.000   \n",
       "component_6      0.000     0.000  0.000  0.000    0.000   0.000  0.000   \n",
       "component_7      0.000     0.000  0.000  0.000    0.000   0.000  0.000   \n",
       "component_8      0.000     0.000  0.000  0.009    0.000   0.018  0.002   \n",
       "component_9      0.000     0.001  0.000  0.000    0.000   0.000  0.000   \n",
       "component_10     0.000     0.047  0.000  0.000    2.422   0.000  0.000   \n",
       "\n",
       "              already   also  always  ...  wonderful   word   work  working  \\\n",
       "component_1     0.000  0.010   0.000  ...      0.000  0.005  0.000    0.000   \n",
       "component_2     0.015  0.000   0.000  ...      0.000  0.000  0.000    0.000   \n",
       "component_3     0.020  0.000   0.000  ...      0.008  0.000  0.000    0.000   \n",
       "component_4     0.000  0.005   0.001  ...      0.044  0.008  0.039    0.029   \n",
       "component_5     0.000  0.000   0.000  ...      0.000  0.000  0.000    0.001   \n",
       "component_6     0.008  0.000   0.024  ...      0.000  0.000  0.000    0.000   \n",
       "component_7     0.002  0.003   0.000  ...      0.000  0.005  0.000    0.000   \n",
       "component_8     0.000  0.002   0.000  ...      0.012  0.030  0.000    0.003   \n",
       "component_9     0.015  0.006   0.017  ...      0.000  0.000  0.000    0.001   \n",
       "component_10    0.000  0.000   0.000  ...      0.000  0.000  0.034    0.000   \n",
       "\n",
       "              world  worth  would     ya   year  yellow  \n",
       "component_1   0.001  0.000  0.013  0.020  0.019   0.004  \n",
       "component_2   0.000  0.000  0.000  0.011  0.000   0.000  \n",
       "component_3   0.000  0.027  0.015  0.000  0.004   0.000  \n",
       "component_4   0.009  0.021  0.054  0.000  0.017   0.000  \n",
       "component_5   0.000  0.101  0.000  0.000  0.000   0.004  \n",
       "component_6   0.022  0.006  0.000  0.000  0.000   0.000  \n",
       "component_7   0.004  0.145  0.013  0.000  0.020   0.000  \n",
       "component_8   0.024  0.000  0.011  0.036  0.000   0.000  \n",
       "component_9   0.007  0.000  0.010  0.000  0.000   0.087  \n",
       "component_10  0.000  0.000  0.000  0.000  0.000   0.000  \n",
       "\n",
       "[10 rows x 354 columns]"
      ]
     },
     "execution_count": 34,
     "metadata": {},
     "output_type": "execute_result"
    }
   ],
   "source": [
    "topic_word = pd.DataFrame(nmf.components_.round(3),\n",
    "             index = [\"component_1\",\"component_2\",\"component_3\",\"component_4\",\"component_5\",\n",
    "                     \"component_6\",\"component_7\",\"component_8\",\"component_9\",\"component_10\"],\n",
    "             columns = cv_tfidf.get_feature_names())\n",
    "topic_word"
   ]
  },
  {
   "cell_type": "code",
   "execution_count": 35,
   "id": "40bf1b0f",
   "metadata": {
    "scrolled": false
   },
   "outputs": [
    {
     "name": "stdout",
     "output_type": "stream",
     "text": [
      "\n",
      "Topic  0\n",
      "solana, price, ethereum, forget, like, bank, ha, gem, buy, game\n",
      "\n",
      "Topic  1\n",
      "live, contest, mint, airdrop, public, page, exclusive, link, partner, trading\n",
      "\n",
      "Topic  2\n",
      "nft, first, winner, lucky, new, ha, get, sale, cosmic, stay\n",
      "\n",
      "Topic  3\n",
      "project, amazing, great, good, nice, miss, guy, awesome, hope, part\n",
      "\n",
      "Topic  4\n",
      "sol, going, shill, massive, ape, worth, price, bounty, acquired, welcome\n",
      "\n",
      "Topic  5\n",
      "good, get, look, looking, winner, lucky, guy, man, sale, token\n",
      "\n",
      "Topic  6\n",
      "follow, tag, like, away, giving, free, amazing, win, worth, friend\n",
      "\n",
      "Topic  7\n",
      "giveaway, discord, join, ethereum, mint, spot, one, new, winner, check\n",
      "\n",
      "Topic  8\n",
      "sold, ha, community, price, made, magic, lane, rank, way, piece\n",
      "\n",
      "Topic  9\n",
      "airdrop, contest, first, awesome, token, great, prize, form, amazing, actually\n"
     ]
    }
   ],
   "source": [
    "display_topics(nmf, cv_tfidf.get_feature_names(), 10)"
   ]
  },
  {
   "cell_type": "code",
   "execution_count": 36,
   "id": "4fb3f78a",
   "metadata": {},
   "outputs": [],
   "source": [
    "## among all the topics, topic 9 contains a lot of unexplainanle words\n",
    "## We need to inspect each topic to better under the content"
   ]
  },
  {
   "cell_type": "code",
   "execution_count": 37,
   "id": "44a3d2ab",
   "metadata": {},
   "outputs": [
    {
     "name": "stdout",
     "output_type": "stream",
     "text": [
      "[0.         0.         0.12029831 0.         0.         0.\n",
      " 0.15892838 0.         0.         0.        ]\n"
     ]
    }
   ],
   "source": [
    "print(doc_topic[0])"
   ]
  },
  {
   "cell_type": "code",
   "execution_count": 38,
   "id": "9e5474f2",
   "metadata": {},
   "outputs": [
    {
     "data": {
      "text/plain": [
       "'cosmic nft follow to earn'"
      ]
     },
     "execution_count": 38,
     "metadata": {},
     "output_type": "execute_result"
    }
   ],
   "source": [
    "df_sol.text.iloc[0]"
   ]
  },
  {
   "cell_type": "code",
   "execution_count": 39,
   "id": "0652bca8",
   "metadata": {
    "scrolled": true
   },
   "outputs": [
    {
     "data": {
      "text/plain": [
       "0    6\n",
       "1    9\n",
       "2    3\n",
       "3    1\n",
       "4    7\n",
       "5    4\n",
       "6    7\n",
       "7    2\n",
       "8    9\n",
       "9    3\n",
       "Name: argmax_topic, dtype: int64"
      ]
     },
     "execution_count": 39,
     "metadata": {},
     "output_type": "execute_result"
    }
   ],
   "source": [
    "df_sol['argmax_topic']=np.argmax(doc_topic, axis=1)\n",
    "df_sol.argmax_topic.head(10)"
   ]
  },
  {
   "cell_type": "code",
   "execution_count": 40,
   "id": "043d3ec8",
   "metadata": {},
   "outputs": [
    {
     "data": {
      "text/plain": [
       "0    157\n",
       "7    150\n",
       "3    147\n",
       "6     89\n",
       "4     78\n",
       "2     72\n",
       "5     64\n",
       "8     61\n",
       "1     54\n",
       "9     33\n",
       "Name: argmax_topic, dtype: int64"
      ]
     },
     "execution_count": 40,
     "metadata": {},
     "output_type": "execute_result"
    }
   ],
   "source": [
    "pd.Series(df_sol.argmax_topic).value_counts()"
   ]
  },
  {
   "cell_type": "code",
   "execution_count": null,
   "id": "b91e4b85",
   "metadata": {},
   "outputs": [],
   "source": [
    "###########\n",
    "# Topic 0 #  ### Solana's popularity especially among NFT fans, for it's fast transaction speed\n",
    "###########"
   ]
  },
  {
   "cell_type": "code",
   "execution_count": 52,
   "id": "7587c2a7",
   "metadata": {},
   "outputs": [
    {
     "data": {
      "text/plain": [
       "681                                   public mint solana\n",
       "699    solana space ape mint coming we going to space...\n",
       "714                              solana to lucky role to\n",
       "728                            b solana it s almost time\n",
       "729                                  by the fifth in the\n",
       "746         great to finally win one of many give solana\n",
       "747    the trick to become rich in is to buy the twit...\n",
       "768             mike wonder how high solana price can go\n",
       "771                                                    z\n",
       "773                                         great solana\n",
       "774                                    cooky know solana\n",
       "777                                           solana ben\n",
       "782    red number green number solana money ego life ...\n",
       "784                          i just bought a duck solana\n",
       "787    b we t have worked hard to surprise you u art ...\n",
       "791                                                 plot\n",
       "792                                               solana\n",
       "798                                               solana\n",
       "804    b a little sneak peak of what s coming to v so...\n",
       "817    come shape the future of music on solana with ...\n",
       "Name: text, dtype: object"
      ]
     },
     "execution_count": 52,
     "metadata": {},
     "output_type": "execute_result"
    }
   ],
   "source": [
    "df_sol_0=df_sol[df_sol.argmax_topic==0]\n",
    "df_sol_0.text.iloc[100:120]"
   ]
  },
  {
   "cell_type": "code",
   "execution_count": 53,
   "id": "a947e2dd",
   "metadata": {
    "scrolled": false
   },
   "outputs": [
    {
     "data": {
      "text/plain": [
       "\"b'RT @SolanaSpaceApes: SOLANA SPACE APES MINT COMING TOMMOROW WE GOING TO SPACE #SolanaNFT #Solana #nftsolana https://t.co/21PNvbsrPx'\""
      ]
     },
     "execution_count": 53,
     "metadata": {},
     "output_type": "execute_result"
    }
   ],
   "source": [
    "df_sol_orig.text.iloc[699]"
   ]
  },
  {
   "cell_type": "code",
   "execution_count": 43,
   "id": "920d93f4",
   "metadata": {
    "scrolled": true
   },
   "outputs": [
    {
     "data": {
      "text/plain": [
       "\"b'RT @Botborgs: Exploring the Borgverse in my spaceship\\\\xf0\\\\x9f\\\\xa4\\\\xa9\\\\n\\\\nThe screens in your spaceship are customizable and will allow you to display player\\\\xe2\\\\x80\\\\xa6'\""
      ]
     },
     "execution_count": 43,
     "metadata": {},
     "output_type": "execute_result"
    }
   ],
   "source": [
    "df_sol_orig.text.iloc[166]"
   ]
  },
  {
   "cell_type": "code",
   "execution_count": 45,
   "id": "ca7dd63b",
   "metadata": {},
   "outputs": [
    {
     "data": {
      "text/plain": [
       "'b\\'Former heavyweight champion boxer Mike Tyson recently tweeted about going \"all-in\" on Solana, one of the leading \"E\\\\xe2\\\\x80\\\\xa6 https://t.co/oYU2Xxf4Sj\\''"
      ]
     },
     "execution_count": 45,
     "metadata": {},
     "output_type": "execute_result"
    }
   ],
   "source": [
    "df_sol_orig.text.iloc[202]"
   ]
  },
  {
   "cell_type": "code",
   "execution_count": 47,
   "id": "0992d953",
   "metadata": {
    "scrolled": true
   },
   "outputs": [
    {
     "data": {
      "text/plain": [
       "\"b'RT @Mr_G444: @ApolloFintech  Only crypto with sharding. With Solana high volume of transactions due to #NFTs @ETH gas fees \\\\xf0\\\\x9f\\\\x98\\\\x96they are tough\\\\xe2\\\\x80\\\\xa6'\""
      ]
     },
     "execution_count": 47,
     "metadata": {},
     "output_type": "execute_result"
    }
   ],
   "source": [
    "df_sol_orig.text.iloc[390]"
   ]
  },
  {
   "cell_type": "code",
   "execution_count": 50,
   "id": "f51d7a7a",
   "metadata": {},
   "outputs": [
    {
     "data": {
      "text/plain": [
       "'b\"RT @BreibyDaniel: Any Solana fans out there?  \\\\n$SOL #BTC  #ETH #AVAX\\\\n\\\\nI\\'m a mentor and TA analyst with 10 years+ of experience in different\\\\xe2\\\\x80\\\\xa6\"'"
      ]
     },
     "execution_count": 50,
     "metadata": {},
     "output_type": "execute_result"
    }
   ],
   "source": [
    "df_sol_orig.text.iloc[632]"
   ]
  },
  {
   "cell_type": "code",
   "execution_count": null,
   "id": "ff8680b6",
   "metadata": {},
   "outputs": [],
   "source": [
    "###########\n",
    "# Topic 1 #  ### Overall, positive attitudes to Binance future\n",
    "###########"
   ]
  },
  {
   "cell_type": "code",
   "execution_count": null,
   "id": "1cabe9c1",
   "metadata": {},
   "outputs": [],
   "source": [
    "df_sol_1=df_sol[df_sol.argmax_topic==1]\n",
    "df_sol_1.text.iloc[80:100]"
   ]
  },
  {
   "cell_type": "code",
   "execution_count": null,
   "id": "50638719",
   "metadata": {},
   "outputs": [],
   "source": [
    "df_sol_orig.text.iloc[9]"
   ]
  },
  {
   "cell_type": "code",
   "execution_count": null,
   "id": "005f644d",
   "metadata": {},
   "outputs": [],
   "source": [
    "df_sol_orig.text.iloc[68]"
   ]
  },
  {
   "cell_type": "code",
   "execution_count": null,
   "id": "1847e33e",
   "metadata": {},
   "outputs": [],
   "source": [
    "df_sol_orig.text.iloc[442]"
   ]
  },
  {
   "cell_type": "code",
   "execution_count": null,
   "id": "481e6461",
   "metadata": {},
   "outputs": [],
   "source": [
    "df_sol_orig.text.iloc[991]"
   ]
  },
  {
   "cell_type": "code",
   "execution_count": null,
   "id": "5c1ca2d4",
   "metadata": {},
   "outputs": [],
   "source": [
    "###########\n",
    "# Topic 2 #  #### \n",
    "###########"
   ]
  },
  {
   "cell_type": "code",
   "execution_count": null,
   "id": "44926064",
   "metadata": {},
   "outputs": [],
   "source": [
    "df_sol_2=df_sol[df_sol.argmax_topic==2]\n",
    "df_sol_2.text.iloc[21:40]"
   ]
  },
  {
   "cell_type": "code",
   "execution_count": null,
   "id": "eedf6efd",
   "metadata": {},
   "outputs": [],
   "source": [
    "df_sol_orig.text.iloc[54]"
   ]
  },
  {
   "cell_type": "code",
   "execution_count": null,
   "id": "1e1044ad",
   "metadata": {},
   "outputs": [],
   "source": [
    "df_sol_orig.text.iloc[111]"
   ]
  },
  {
   "cell_type": "code",
   "execution_count": null,
   "id": "3f48b90d",
   "metadata": {},
   "outputs": [],
   "source": [
    "df_sol_orig.text.iloc[277]"
   ]
  },
  {
   "cell_type": "code",
   "execution_count": null,
   "id": "1083c683",
   "metadata": {},
   "outputs": [],
   "source": [
    "df_sol_orig.text.iloc[680]"
   ]
  },
  {
   "cell_type": "code",
   "execution_count": null,
   "id": "abe5a400",
   "metadata": {},
   "outputs": [],
   "source": [
    "###########\n",
    "# Topic 3 #  #### Promoting different new Solana projects (1st Key word: Project, project refers to NFT projects)\n",
    "###########"
   ]
  },
  {
   "cell_type": "code",
   "execution_count": 70,
   "id": "1ae646f6",
   "metadata": {},
   "outputs": [
    {
     "data": {
      "text/plain": [
       "422                b guy don t want to miss this amazing\n",
       "434                      b awesome project don t miss it\n",
       "437    were in with the and project on the solana eco...\n",
       "444    an excellent project is just about to start ha...\n",
       "453    top daily gainer in the ecosystem on is surgin...\n",
       "469    awesome to see solid project successfully laun...\n",
       "470    b i m really excited to be a part of this amaz...\n",
       "472           were in with the and project on the solana\n",
       "474    this is a great project that can make a poor b...\n",
       "489    b just new this project is making me sick i ca...\n",
       "490    most slept on project on solana top art alpha ...\n",
       "499    tiger is a legit project on the solana ecosyst...\n",
       "503              what if we got a a him and let him know\n",
       "518    a good project and strong team on a transparen...\n",
       "527    b it s a good project and i hope this project ...\n",
       "535    update what is retail interested retail search...\n",
       "543                                      awesome project\n",
       "549    good and perfect project to embark on thanks f...\n",
       "567    b let s go this is a great community and the b...\n",
       "569                 b good project innovation don t miss\n",
       "Name: text, dtype: object"
      ]
     },
     "execution_count": 70,
     "metadata": {},
     "output_type": "execute_result"
    }
   ],
   "source": [
    "df_sol_3=df_sol[df_sol.argmax_topic==3]\n",
    "df_sol_3.text.iloc[60:80]"
   ]
  },
  {
   "cell_type": "code",
   "execution_count": 64,
   "id": "a895607b",
   "metadata": {},
   "outputs": [
    {
     "data": {
      "text/plain": [
       "\"b'RT @hernanlafalce: What do you expect from  #2022? \\\\xf0\\\\x9f\\\\xa4\\\\xa9\\\\n\\\\nWich project is going to be the next #x100Gem\\\\xf0\\\\x9f\\\\x92\\\\x8e ? \\\\n\\\\n#cryptocurrency #NFT #NFTs #NFTCom\\\\xe2\\\\x80\\\\xa6'\""
      ]
     },
     "execution_count": 64,
     "metadata": {},
     "output_type": "execute_result"
    }
   ],
   "source": [
    "df_sol_orig.text.iloc[2]"
   ]
  },
  {
   "cell_type": "code",
   "execution_count": 65,
   "id": "9a7eac52",
   "metadata": {},
   "outputs": [
    {
     "data": {
      "text/plain": [
       "\"b'RT @Madiverrr: I would like to write a few words about why @solanamonkeyuni  is my favorite project on the Solana Blockchain. Would love so\\\\xe2\\\\x80\\\\xa6'\""
      ]
     },
     "execution_count": 65,
     "metadata": {},
     "output_type": "execute_result"
    }
   ],
   "source": [
    "df_sol_orig.text.iloc[143]"
   ]
  },
  {
   "cell_type": "code",
   "execution_count": 67,
   "id": "4eaec815",
   "metadata": {},
   "outputs": [
    {
     "data": {
      "text/plain": [
       "\"b'Very excited to join this Solana based upcoming project. Hope this project to be one of the top projects in the cur\\\\xe2\\\\x80\\\\xa6 https://t.co/9JChiqp8H2'\""
      ]
     },
     "execution_count": 67,
     "metadata": {},
     "output_type": "execute_result"
    }
   ],
   "source": [
    "df_sol_orig.text.iloc[227]"
   ]
  },
  {
   "cell_type": "code",
   "execution_count": 69,
   "id": "d8eff27c",
   "metadata": {},
   "outputs": [
    {
     "data": {
      "text/plain": [
       "\"b'@AlhemairyM @CoinMarketCap @solana \\\\xf0\\\\x9f\\\\x96\\\\xbc Project: WEB Network\\\\n \\\\xf0\\\\x9f\\\\x94\\\\x97 Network: BEP -20\\\\n \\\\xf0\\\\x9f\\\\x94\\\\xae currency symbol: $WEB3.0\\\\n \\\\xe2\\\\x9a\\\\x96\\\\xef\\\\xb8\\\\x8f Quant\\\\xe2\\\\x80\\\\xa6 https://t.co/8o91a3cMWH'\""
      ]
     },
     "execution_count": 69,
     "metadata": {},
     "output_type": "execute_result"
    }
   ],
   "source": [
    "df_sol_orig.text.iloc[371]"
   ]
  },
  {
   "cell_type": "code",
   "execution_count": 71,
   "id": "0e6decf0",
   "metadata": {},
   "outputs": [
    {
     "data": {
      "text/plain": [
       "\"b'@tigercoin_ $TIGER is a legit project on the Solana Ecosystem with a very promising future\\\\xf0\\\\x9f\\\\x94\\\\xa5\\\\xf0\\\\x9f\\\\x94\\\\xa5... You guys needs to a\\\\xe2\\\\x80\\\\xa6 https://t.co/T7Atjnis3z'\""
      ]
     },
     "execution_count": 71,
     "metadata": {},
     "output_type": "execute_result"
    }
   ],
   "source": [
    "df_sol_orig.text.iloc[499]"
   ]
  },
  {
   "cell_type": "code",
   "execution_count": null,
   "id": "1bbab553",
   "metadata": {},
   "outputs": [],
   "source": [
    "###########\n",
    "# Topic 4 #  ### Solana has the most popularity among programmers, NFT creators, people are asking quuestions about \n",
    "###########  ### why Solana being so popular"
   ]
  },
  {
   "cell_type": "code",
   "execution_count": 80,
   "id": "7ea72f5a",
   "metadata": {
    "scrolled": true
   },
   "outputs": [
    {
     "data": {
      "text/plain": [
       "811     this is going to be very massive and on shill sol\n",
       "819                                               sol and\n",
       "826     mint is live guy only supply and left the mint...\n",
       "827     solana sol ha among the most amount of develop...\n",
       "829     i took this photo in the atmosphere wa very de...\n",
       "833     b i dream of the day that solana sol rocket in...\n",
       "835     yes i want another one first i need some sol t...\n",
       "838     am teaming up with a promising game project on...\n",
       "852        bounty wa just for sol acquired welcome to the\n",
       "866     establish an e sport atmosphere in the dead kn...\n",
       "871                      solid project sol solana airdrop\n",
       "873                      ape racing club sol giveaway and\n",
       "879                                    in sol waiting for\n",
       "919                 sale is live sale price mint page sol\n",
       "943                                          mana bitcoin\n",
       "961                              dope ape sold for sol on\n",
       "976     highlight of ecosystem on a nice weekend you g...\n",
       "1031            current price of solana sol change volume\n",
       "Name: text, dtype: object"
      ]
     },
     "execution_count": 80,
     "metadata": {},
     "output_type": "execute_result"
    }
   ],
   "source": [
    "df_sol_4=df_sol[df_sol.argmax_topic==4]\n",
    "df_sol_4.text.iloc[60:80]"
   ]
  },
  {
   "cell_type": "code",
   "execution_count": 73,
   "id": "34f27d0d",
   "metadata": {},
   "outputs": [
    {
     "data": {
      "text/plain": [
       "\"b'RT @SolanaMoneyBoys: \\\\xf0\\\\x9f\\\\x92\\\\xb0GIVEAWAY\\\\xf0\\\\x9f\\\\x92\\\\xb0\\\\n\\\\nWe\\\\xe2\\\\x80\\\\x99re teaming up with @botborgs to giveaway 1 MoneyBoy NFT + 1 SOL + 3 WL Spots!\\\\n\\\\nTo Enter:\\\\n \\\\n- Like and R\\\\xe2\\\\x80\\\\xa6'\""
      ]
     },
     "execution_count": 73,
     "metadata": {},
     "output_type": "execute_result"
    }
   ],
   "source": [
    "df_sol_orig.text.iloc[26]"
   ]
  },
  {
   "cell_type": "code",
   "execution_count": 74,
   "id": "b16f54f8",
   "metadata": {},
   "outputs": [
    {
     "data": {
      "text/plain": [
       "\"b'RT @Babolex: \\\\xf0\\\\x9f\\\\x90\\\\x98 \\\\xf0\\\\x9f\\\\x90\\\\x98 \\\\xf0\\\\x9f\\\\x90\\\\x98 Dear Babolexers, \\\\xf0\\\\x9f\\\\x90\\\\x98 \\\\xf0\\\\x9f\\\\x90\\\\x98 \\\\xf0\\\\x9f\\\\x90\\\\x98\\\\n\\\\n\\\\xf0\\\\x9f\\\\x8e\\\\x89 The owner of this wallet just won a Rolex Submariner :\\\\n\\\\n2uT94qaTV1u9tyMs9EQtwX5iZPUkwsQPtrS99v\\\\xe2\\\\x80\\\\xa6'\""
      ]
     },
     "execution_count": 74,
     "metadata": {},
     "output_type": "execute_result"
    }
   ],
   "source": [
    "df_sol_orig.text.iloc[173]"
   ]
  },
  {
   "cell_type": "code",
   "execution_count": 76,
   "id": "bbc6415c",
   "metadata": {},
   "outputs": [
    {
     "data": {
      "text/plain": [
       "\"b'@cagyjan1 @the_phantom_g @marcrebillet Establish an e-sports atmosphere in the Dead Knight metaverse with the Dead\\\\xe2\\\\x80\\\\xa6 https://t.co/6SySxDlgin'\""
      ]
     },
     "execution_count": 76,
     "metadata": {},
     "output_type": "execute_result"
    }
   ],
   "source": [
    "df_sol_orig.text.iloc[413]"
   ]
  },
  {
   "cell_type": "code",
   "execution_count": 79,
   "id": "564c0293",
   "metadata": {},
   "outputs": [
    {
     "data": {
      "text/plain": [
       "\"b'RT @arjun_chimni: @vinikloppel Solana Bored Apes\\\\xe2\\\\x80\\\\xa6. Where is the uniqueness? How does this contribute to the $SOL ecosystem?\\\\n\\\\n\\\\xe2\\\\x80\\\\xa6 it doesn\\\\xe2\\\\x80\\\\x99t.'\""
      ]
     },
     "execution_count": 79,
     "metadata": {},
     "output_type": "execute_result"
    }
   ],
   "source": [
    "df_sol_orig.text.iloc[703]"
   ]
  },
  {
   "cell_type": "code",
   "execution_count": 81,
   "id": "0bd3a2aa",
   "metadata": {},
   "outputs": [
    {
     "data": {
      "text/plain": [
       "\"b'RT @gate_io: Solana (#SOL) has among the most amount of developer activity on github\\\\n\\\\nWhat is so special about this technology that venture\\\\xe2\\\\x80\\\\xa6'\""
      ]
     },
     "execution_count": 81,
     "metadata": {},
     "output_type": "execute_result"
    }
   ],
   "source": [
    "df_sol_orig.text.iloc[827]"
   ]
  },
  {
   "cell_type": "code",
   "execution_count": null,
   "id": "fef4d335",
   "metadata": {},
   "outputs": [],
   "source": [
    "###########\n",
    "# Topic 5 #   ###More intellectual thinkings about Eth and other cryptos\n",
    "###########"
   ]
  },
  {
   "cell_type": "code",
   "execution_count": null,
   "id": "8cbe4856",
   "metadata": {
    "scrolled": true
   },
   "outputs": [],
   "source": [
    "df_sol_5=df_sol[df_sol.argmax_topic==5]\n",
    "df_sol_5.text.iloc[0:20]"
   ]
  },
  {
   "cell_type": "code",
   "execution_count": null,
   "id": "8004f35e",
   "metadata": {},
   "outputs": [],
   "source": [
    "df_sol_orig.text.iloc[55]"
   ]
  },
  {
   "cell_type": "code",
   "execution_count": null,
   "id": "1fae560a",
   "metadata": {},
   "outputs": [],
   "source": [
    "df_sol_orig.text.iloc[274]"
   ]
  },
  {
   "cell_type": "code",
   "execution_count": null,
   "id": "3e469f33",
   "metadata": {},
   "outputs": [],
   "source": [
    "df_sol_orig.text.iloc[1071]"
   ]
  },
  {
   "cell_type": "code",
   "execution_count": null,
   "id": "adef952e",
   "metadata": {},
   "outputs": [],
   "source": [
    "df_sol_orig.text.iloc[1122]"
   ]
  },
  {
   "cell_type": "code",
   "execution_count": null,
   "id": "79cf6624",
   "metadata": {},
   "outputs": [],
   "source": [
    "###########\n",
    "# Topic 6 #  ### follow, tag friends, give away Solana coins or NFTs to increase Twitter followers\n",
    "###########  ### "
   ]
  },
  {
   "cell_type": "code",
   "execution_count": 91,
   "id": "bf0e8f5f",
   "metadata": {
    "scrolled": true
   },
   "outputs": [
    {
     "data": {
      "text/plain": [
       "623                                      huge and friend\n",
       "631    b arcadian we re giving away solana how to fol...\n",
       "638     b don t solana people follow like pin tweet with\n",
       "640           in to a random person just follow and like\n",
       "666                                  like friend on post\n",
       "680    up with to give one lucky person sol enter follow\n",
       "707    free winner rare prototype nft worth sol enter...\n",
       "712    solana is now available on to celebrate we are...\n",
       "719    b quick drop idea and feature you d like to se...\n",
       "722    free away free from my personal collection to ...\n",
       "813                             prototype nft follow tag\n",
       "843              atom solana and tag like pin tweet with\n",
       "875    hey guy we got a twitter sale bot follow if yo...\n",
       "878                                               follow\n",
       "898    are giving away this blue wolf with a gold ent...\n",
       "899                               is follow and tag join\n",
       "908       will get free follow and like drop your solana\n",
       "916    hey we are giving away gangster on our discord...\n",
       "927                             token to like follow and\n",
       "932                              amazing from nft follow\n",
       "Name: text, dtype: object"
      ]
     },
     "execution_count": 91,
     "metadata": {},
     "output_type": "execute_result"
    }
   ],
   "source": [
    "df_sol_6=df_sol[df_sol.argmax_topic==6]\n",
    "df_sol_6.text.iloc[60:80]"
   ]
  },
  {
   "cell_type": "code",
   "execution_count": 84,
   "id": "0f4ab006",
   "metadata": {},
   "outputs": [
    {
     "data": {
      "text/plain": [
       "\"b'RT @SolanaDub: SOLANA DUB TWITTER AIRDROP NOW OPEN FOR FIRST 5K RESPONSES. \\\\n\\\\n+ Follow.\\\\n+ Quote Retweet and tag 3 friends.\\\\n+ Like &amp; Retweet\\\\xe2\\\\x80\\\\xa6'\""
      ]
     },
     "execution_count": 84,
     "metadata": {},
     "output_type": "execute_result"
    }
   ],
   "source": [
    "df_sol_orig.text.iloc[47]"
   ]
  },
  {
   "cell_type": "code",
   "execution_count": 85,
   "id": "227dab7a",
   "metadata": {},
   "outputs": [
    {
     "data": {
      "text/plain": [
       "'b\"RT @enriquesouza_: When China says Australia is authoritarian, we should think that something\\'s not right in the world - flw, like &amp; rt\\\\n\\\\n@c\\\\xe2\\\\x80\\\\xa6\"'"
      ]
     },
     "execution_count": 85,
     "metadata": {},
     "output_type": "execute_result"
    }
   ],
   "source": [
    "df_sol_orig.text.iloc[205]"
   ]
  },
  {
   "cell_type": "code",
   "execution_count": 87,
   "id": "db0e4174",
   "metadata": {},
   "outputs": [
    {
     "data": {
      "text/plain": [
       "\"b'RT @TJCobain: $100 in 24 hours \\\\xf0\\\\x9f\\\\x8e\\\\x81\\\\n\\\\nRT &amp; Follow @SeoulStarsNFT \\\\xe2\\\\x9d\\\\xa4\\\\xef\\\\xb8\\\\x8f\\\\n\\\\nFirst K-Pop Virtual Idol / P2E Game in the #Metaverse on #Solana'\""
      ]
     },
     "execution_count": 87,
     "metadata": {},
     "output_type": "execute_result"
    }
   ],
   "source": [
    "df_sol_orig.text.iloc[352]"
   ]
  },
  {
   "cell_type": "code",
   "execution_count": 92,
   "id": "991ee165",
   "metadata": {},
   "outputs": [
    {
     "data": {
      "text/plain": [
       "\"b'RT @truenftpro: \\\\xf0\\\\x9f\\\\x90\\\\x9e\\\\xf0\\\\x9f\\\\x8e\\\\x801 FREE #NFTGiveaway\\\\xf0\\\\x9f\\\\x8e\\\\x80\\\\xf0\\\\x9f\\\\x90\\\\x9e\\\\n\\\\n\\\\xf0\\\\x9f\\\\xa5\\\\x871 Winner : 1 Rare Prototype #NFT     (Worth 1 SOL ~ 200$)\\\\n\\\\nTo Enter: \\\\xf0\\\\x9f\\\\x90\\\\x9e\\\\n1\\\\xef\\\\xb8\\\\x8f\\\\xe2\\\\x83\\\\xa3 LIKE &amp; RT\\\\n2\\\\xef\\\\xb8\\\\x8f\\\\xe2\\\\x83\\\\xa3 Tag 2 Fr\\\\xe2\\\\x80\\\\xa6'\""
      ]
     },
     "execution_count": 92,
     "metadata": {},
     "output_type": "execute_result"
    }
   ],
   "source": [
    "df_sol_orig.text.iloc[707]"
   ]
  },
  {
   "cell_type": "code",
   "execution_count": 93,
   "id": "9014cbe9",
   "metadata": {},
   "outputs": [
    {
     "data": {
      "text/plain": [
       "\"b'RT @ijs_003: \\\\xe2\\\\x9a\\\\xa0\\\\xef\\\\xb8\\\\x8f #NFTGiveaways \\\\xe2\\\\x9a\\\\xa0\\\\xef\\\\xb8\\\\x8f\\\\n\\\\nAnother amazing #NFTGiveaway from @DoodleBunnyNFT \\\\xf0\\\\x9f\\\\x8e\\\\x89\\\\xf0\\\\x9f\\\\xa5\\\\xb3\\\\n\\\\n1x #NFT \\\\xf0\\\\x9f\\\\x8e\\\\x81\\\\n\\\\nTo enter:\\\\n1\\\\xe2\\\\x83\\\\xa3 Follow @DoodleBunnyNFT \\\\n2\\\\xef\\\\xb8\\\\x8f\\\\xe2\\\\x83\\\\xa3\\\\xe2\\\\x80\\\\xa6'\""
      ]
     },
     "execution_count": 93,
     "metadata": {},
     "output_type": "execute_result"
    }
   ],
   "source": [
    "df_sol_orig.text.iloc[932]"
   ]
  },
  {
   "cell_type": "code",
   "execution_count": null,
   "id": "57cc9ab3",
   "metadata": {},
   "outputs": [],
   "source": []
  },
  {
   "cell_type": "code",
   "execution_count": null,
   "id": "298ff787",
   "metadata": {},
   "outputs": [],
   "source": [
    "###########\n",
    "# Topic 7 #  ### Solana NFT give aways\n",
    "###########"
   ]
  },
  {
   "cell_type": "code",
   "execution_count": 61,
   "id": "1a14bb43",
   "metadata": {
    "scrolled": true
   },
   "outputs": [
    {
     "data": {
      "text/plain": [
       "454                 join the and be a part of the nation\n",
       "456    new week giveaway for the upcoming solana base...\n",
       "459                             giveaway ethereum or out\n",
       "465                hello have with to giveaway some spot\n",
       "476    b if you read this you re you can still get an...\n",
       "480                              come and check this out\n",
       "496                                    what is happening\n",
       "505    celebrate the launch of our discord we are hos...\n",
       "507          you happen to have a version of this that i\n",
       "512        last give away in twitter before discord your\n",
       "513    joining a twitter space tonight with and more ...\n",
       "525    our is officially filled member have there spo...\n",
       "526               wen our discord to chill with u in dao\n",
       "533                                            wen sweep\n",
       "539    we are sending the insurgent to the winner in ...\n",
       "540                            b we re getting place out\n",
       "545                                son dot mana ethereum\n",
       "550               the man that will save is now ethereum\n",
       "560                                  join the team today\n",
       "563    auction for ultra rare happening now in discor...\n",
       "Name: text, dtype: object"
      ]
     },
     "execution_count": 61,
     "metadata": {},
     "output_type": "execute_result"
    }
   ],
   "source": [
    "df_sol_7=df_sol[df_sol.argmax_topic==7]\n",
    "df_sol_7.text.iloc[60:80]"
   ]
  },
  {
   "cell_type": "code",
   "execution_count": 55,
   "id": "05c1818a",
   "metadata": {},
   "outputs": [
    {
     "data": {
      "text/plain": [
       "'b\"RT @SolanaWeed: $WEED is back!!!\\\\nJoin us  on our discord,you don\\'t want to miss this\\\\n\\\\nhttps://t.co/E1CgA3Ofgn\\\\n\\\\n#solanaairdrop #solanaszn #s\\\\xe2\\\\x80\\\\xa6\"'"
      ]
     },
     "execution_count": 55,
     "metadata": {},
     "output_type": "execute_result"
    }
   ],
   "source": [
    "df_sol_orig.text.iloc[13]"
   ]
  },
  {
   "cell_type": "code",
   "execution_count": 58,
   "id": "9eea3051",
   "metadata": {},
   "outputs": [
    {
     "data": {
      "text/plain": [
       "\"b'RT @NFTMechaEN: \\\\xf0\\\\x9f\\\\x9a\\\\xa8JuJu Devils \\\\xf0\\\\x9f\\\\x91\\\\xba 5x whitelist spot #Giveaway \\\\xf0\\\\x9f\\\\x9a\\\\xa8\\\\n\\\\nThis is one of the best P2E project on #Solana blockchain \\\\xf0\\\\x9f\\\\x8e\\\\xae Take your place b\\\\xe2\\\\x80\\\\xa6'\""
      ]
     },
     "execution_count": 58,
     "metadata": {},
     "output_type": "execute_result"
    }
   ],
   "source": [
    "df_sol_orig.text.iloc[174]"
   ]
  },
  {
   "cell_type": "code",
   "execution_count": 60,
   "id": "960cd56d",
   "metadata": {},
   "outputs": [
    {
     "data": {
      "text/plain": [
       "\"b'RT @Solana_Apes: first 100 comments will be considered for our exclusive discord'\""
      ]
     },
     "execution_count": 60,
     "metadata": {},
     "output_type": "execute_result"
    }
   ],
   "source": [
    "df_sol_orig.text.iloc[388]"
   ]
  },
  {
   "cell_type": "code",
   "execution_count": 62,
   "id": "f0acdcec",
   "metadata": {
    "scrolled": true
   },
   "outputs": [
    {
     "data": {
      "text/plain": [
       "\"b'RT @Baby_DragonsNft: Last give away in twitter before discord launch!\\\\xf0\\\\x9f\\\\x91\\\\x80\\\\nTo enter:\\\\n\\\\n1\\\\xe2\\\\x83\\\\xa3Follow @Baby_DragonsNft \\\\n2\\\\xe2\\\\x83\\\\xa3Like+RT\\\\n3\\\\xe2\\\\x83\\\\xa3Tag your friends\\\\xe2\\\\x80\\\\xa6'\""
      ]
     },
     "execution_count": 62,
     "metadata": {},
     "output_type": "execute_result"
    }
   ],
   "source": [
    "df_sol_orig.text.iloc[512]"
   ]
  },
  {
   "cell_type": "code",
   "execution_count": null,
   "id": "5f183de8",
   "metadata": {},
   "outputs": [],
   "source": [
    "###########\n",
    "# Topic 8 #  #### Random\n",
    "###########"
   ]
  },
  {
   "cell_type": "code",
   "execution_count": null,
   "id": "62c98aca",
   "metadata": {},
   "outputs": [],
   "source": [
    "df_sol_8=df_sol[df_sol.argmax_topic==8]\n",
    "df_sol_8.text.iloc[20:40]"
   ]
  },
  {
   "cell_type": "code",
   "execution_count": null,
   "id": "e17730a8",
   "metadata": {},
   "outputs": [],
   "source": [
    "df_sol_orig.text.iloc[35]"
   ]
  },
  {
   "cell_type": "code",
   "execution_count": null,
   "id": "09d3fe15",
   "metadata": {},
   "outputs": [],
   "source": [
    "df_sol_orig.text.iloc[364]"
   ]
  },
  {
   "cell_type": "code",
   "execution_count": null,
   "id": "e2f46fb3",
   "metadata": {},
   "outputs": [],
   "source": [
    "df_sol_orig.text.iloc[1195]"
   ]
  },
  {
   "cell_type": "code",
   "execution_count": null,
   "id": "4f69c1cb",
   "metadata": {},
   "outputs": [],
   "source": [
    "###########\n",
    "# Topic 9 #  ### General talks on cryptos: value fluctuations, investment analysis, projectection...\n",
    "###########"
   ]
  },
  {
   "cell_type": "code",
   "execution_count": null,
   "id": "59642f94",
   "metadata": {
    "scrolled": true
   },
   "outputs": [],
   "source": [
    "df_sol_9=df_sol[df_sol.argmax_topic==9]\n",
    "df_sol_9.text.iloc[20:40]"
   ]
  },
  {
   "cell_type": "code",
   "execution_count": null,
   "id": "6ad3c072",
   "metadata": {},
   "outputs": [],
   "source": [
    "df_sol_orig.text.iloc[5]"
   ]
  },
  {
   "cell_type": "code",
   "execution_count": null,
   "id": "2afdb23f",
   "metadata": {},
   "outputs": [],
   "source": [
    "df_sol_orig.text.iloc[88]"
   ]
  },
  {
   "cell_type": "code",
   "execution_count": null,
   "id": "360d7097",
   "metadata": {},
   "outputs": [],
   "source": [
    "df_sol_orig.text.iloc[182]"
   ]
  },
  {
   "cell_type": "code",
   "execution_count": null,
   "id": "ab85e6a4",
   "metadata": {},
   "outputs": [],
   "source": [
    "df_sol_orig.text.iloc[730]"
   ]
  },
  {
   "cell_type": "code",
   "execution_count": 94,
   "id": "c1f2e3bc",
   "metadata": {},
   "outputs": [],
   "source": [
    "#### In general, twitters about Ethereum is more random than Bitcoin, possibly because Eth is faster and cheaper\n",
    "#### and a lot of other cryto database is actually based on Eth"
   ]
  },
  {
   "cell_type": "markdown",
   "id": "10e7cafa",
   "metadata": {},
   "source": [
    "### CorEx Model"
   ]
  },
  {
   "cell_type": "code",
   "execution_count": 95,
   "id": "5a915d63",
   "metadata": {},
   "outputs": [],
   "source": [
    "from corextopic import corextopic as ct\n",
    "from corextopic import vis_topic as vt\n",
    "import matplotlib.pyplot as plt\n",
    "%matplotlib inline"
   ]
  },
  {
   "cell_type": "code",
   "execution_count": 96,
   "id": "63a245cf",
   "metadata": {},
   "outputs": [
    {
     "name": "stdout",
     "output_type": "stream",
     "text": [
      "0: sneak,lot,dao,welcome,virtual,hopefully,chill,pop,peak,utility\n",
      "1: become,market,volume,current,taking,living,gain,popularity,change,thanks\n",
      "2: gem,feel,selling,road,map,chain,start,finally,successful,sensibility\n",
      "3: reward,please,earn,owner,moment,step,ever,floor,wait,polygon\n",
      "4: think,open,enough,sick,world,quote,currency,million,already,many\n",
      "5: rare,much,wish,stake,sleeping,atmosphere,prototype,knight,fellow,make\n",
      "6: chance,entry,ago,last,minute,son,even,everyone,right,tweet\n",
      "7: left,little,lane,artist,true,yellow,sure,stack,trait,seriously\n",
      "8: big,moon,network,trading,music,track,idea,platform,understand,whale\n",
      "9: upcoming,based,key,low,weekend,keep,holder,always,late,stay\n"
     ]
    }
   ],
   "source": [
    "words = list(np.asarray(cvec.get_feature_names()))\n",
    "topic_model = ct.Corex(n_hidden=10, words=words,\n",
    "                       max_iter=200, verbose=False, seed=1)\n",
    "\n",
    "topic_model.fit(doc_word_cv, words=words)\n",
    "\n",
    "# Print all topics from the CorEx topic model\n",
    "topics = topic_model.get_topics()\n",
    "for n,topic in enumerate(topics):\n",
    "    topic_words,_,_ = zip(*topic)\n",
    "    print('{}: '.format(n) + ','.join(topic_words))"
   ]
  },
  {
   "cell_type": "code",
   "execution_count": null,
   "id": "57c36f97",
   "metadata": {},
   "outputs": [],
   "source": []
  },
  {
   "cell_type": "code",
   "execution_count": null,
   "id": "81d4572a",
   "metadata": {},
   "outputs": [],
   "source": []
  },
  {
   "cell_type": "code",
   "execution_count": null,
   "id": "54251c94",
   "metadata": {},
   "outputs": [],
   "source": []
  },
  {
   "cell_type": "markdown",
   "id": "77c44fc5",
   "metadata": {},
   "source": [
    "### K-Means Clustering"
   ]
  },
  {
   "cell_type": "code",
   "execution_count": 97,
   "id": "a0fe0c41",
   "metadata": {},
   "outputs": [],
   "source": [
    "from sklearn.cluster import KMeans"
   ]
  },
  {
   "cell_type": "code",
   "execution_count": 98,
   "id": "eb5af3b0",
   "metadata": {},
   "outputs": [
    {
     "data": {
      "image/png": "[encoded data removed]",
      "text/plain": [
       "<Figure size 432x288 with 1 Axes>"
      ]
     },
     "metadata": {
      "needs_background": "light"
     },
     "output_type": "display_data"
    }
   ],
   "source": [
    "inertia = []\n",
    "list_num_clusters = list(range(1,20))\n",
    "for num_clusters in list_num_clusters:\n",
    "    km = KMeans(n_clusters=num_clusters, max_iter=200, n_init=10)\n",
    "    km.fit(doc_word_tfidf)\n",
    "    inertia.append(km.inertia_)\n",
    "    \n",
    "plt.plot(list_num_clusters,inertia)\n",
    "plt.scatter(list_num_clusters,inertia)\n",
    "plt.xlabel('Number of Clusters')\n",
    "plt.ylabel('Inertia');"
   ]
  },
  {
   "cell_type": "code",
   "execution_count": null,
   "id": "5e98dcb4",
   "metadata": {},
   "outputs": [],
   "source": []
  }
 ],
 "metadata": {
  "kernelspec": {
   "display_name": "Python [conda env:metis] *",
   "language": "python",
   "name": "conda-env-metis-py"
  },
  "language_info": {
   "codemirror_mode": {
    "name": "ipython",
    "version": 3
   },
   "file_extension": ".py",
   "mimetype": "text/x-python",
   "name": "python",
   "nbconvert_exporter": "python",
   "pygments_lexer": "ipython3",
   "version": "3.8.10"
  }
 },
 "nbformat": 4,
 "nbformat_minor": 5
}
