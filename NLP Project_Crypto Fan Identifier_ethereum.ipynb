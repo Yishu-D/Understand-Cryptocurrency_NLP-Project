{
 "cells": [
  {
   "cell_type": "code",
   "execution_count": 1,
   "id": "dba54d42",
   "metadata": {},
   "outputs": [],
   "source": [
    "import pandas as pd\n",
    "import numpy as np\n",
    "from sklearn.feature_extraction.text import TfidfVectorizer, CountVectorizer\n",
    "from nltk.stem import WordNetLemmatizer, LancasterStemmer\n",
    "import re\n",
    "import nltk"
   ]
  },
  {
   "cell_type": "code",
   "execution_count": 2,
   "id": "8e15e399",
   "metadata": {},
   "outputs": [],
   "source": [
    "df_eth = pd.read_csv('data_eth.csv')"
   ]
  },
  {
   "cell_type": "markdown",
   "id": "0365101e",
   "metadata": {},
   "source": [
    "## Ethereum"
   ]
  },
  {
   "cell_type": "code",
   "execution_count": 3,
   "id": "7ab0833d",
   "metadata": {
    "scrolled": true
   },
   "outputs": [
    {
     "data": {
      "text/html": [
       "<div>\n",
       "<style scoped>\n",
       "    .dataframe tbody tr th:only-of-type {\n",
       "        vertical-align: middle;\n",
       "    }\n",
       "\n",
       "    .dataframe tbody tr th {\n",
       "        vertical-align: top;\n",
       "    }\n",
       "\n",
       "    .dataframe thead th {\n",
       "        text-align: right;\n",
       "    }\n",
       "</style>\n",
       "<table border=\"1\" class=\"dataframe\">\n",
       "  <thead>\n",
       "    <tr style=\"text-align: right;\">\n",
       "      <th></th>\n",
       "      <th>Unnamed: 0</th>\n",
       "      <th>id</th>\n",
       "      <th>text</th>\n",
       "      <th>datetime</th>\n",
       "      <th>Location</th>\n",
       "    </tr>\n",
       "  </thead>\n",
       "  <tbody>\n",
       "    <tr>\n",
       "      <th>0</th>\n",
       "      <td>0</td>\n",
       "      <td>1482837810096836610</td>\n",
       "      <td>b\"RT @RTRcrypto: Let's go!\\n\\n@FEGtoken\\n@life...</td>\n",
       "      <td>2022-01-16 22:10:58</td>\n",
       "      <td>NaN</td>\n",
       "    </tr>\n",
       "    <tr>\n",
       "      <th>1</th>\n",
       "      <td>1</td>\n",
       "      <td>1482837800705789952</td>\n",
       "      <td>b'RT @bigcats_nft: The Big Cats will produce a...</td>\n",
       "      <td>2022-01-16 22:10:56</td>\n",
       "      <td>NaN</td>\n",
       "    </tr>\n",
       "    <tr>\n",
       "      <th>2</th>\n",
       "      <td>2</td>\n",
       "      <td>1482837799518752768</td>\n",
       "      <td>b'RT @GooniezNFT: Sneak Peek: Ethereum Halo Go...</td>\n",
       "      <td>2022-01-16 22:10:55</td>\n",
       "      <td>NaN</td>\n",
       "    </tr>\n",
       "    <tr>\n",
       "      <th>3</th>\n",
       "      <td>3</td>\n",
       "      <td>1482837791008567301</td>\n",
       "      <td>b'RT @jpatten__: Some of the @Treasure_DAO art...</td>\n",
       "      <td>2022-01-16 22:10:53</td>\n",
       "      <td>NaN</td>\n",
       "    </tr>\n",
       "    <tr>\n",
       "      <th>4</th>\n",
       "      <td>4</td>\n",
       "      <td>1482837787703394307</td>\n",
       "      <td>b'RT @GooniezNFT: Sneak Peek: Ethereum Halo Go...</td>\n",
       "      <td>2022-01-16 22:10:53</td>\n",
       "      <td>NaN</td>\n",
       "    </tr>\n",
       "  </tbody>\n",
       "</table>\n",
       "</div>"
      ],
      "text/plain": [
       "   Unnamed: 0                   id  \\\n",
       "0           0  1482837810096836610   \n",
       "1           1  1482837800705789952   \n",
       "2           2  1482837799518752768   \n",
       "3           3  1482837791008567301   \n",
       "4           4  1482837787703394307   \n",
       "\n",
       "                                                text             datetime  \\\n",
       "0  b\"RT @RTRcrypto: Let's go!\\n\\n@FEGtoken\\n@life...  2022-01-16 22:10:58   \n",
       "1  b'RT @bigcats_nft: The Big Cats will produce a...  2022-01-16 22:10:56   \n",
       "2  b'RT @GooniezNFT: Sneak Peek: Ethereum Halo Go...  2022-01-16 22:10:55   \n",
       "3  b'RT @jpatten__: Some of the @Treasure_DAO art...  2022-01-16 22:10:53   \n",
       "4  b'RT @GooniezNFT: Sneak Peek: Ethereum Halo Go...  2022-01-16 22:10:53   \n",
       "\n",
       "  Location  \n",
       "0      NaN  \n",
       "1      NaN  \n",
       "2      NaN  \n",
       "3      NaN  \n",
       "4      NaN  "
      ]
     },
     "execution_count": 3,
     "metadata": {},
     "output_type": "execute_result"
    }
   ],
   "source": [
    "df_eth.head()"
   ]
  },
  {
   "cell_type": "code",
   "execution_count": 4,
   "id": "6e4ab607",
   "metadata": {},
   "outputs": [
    {
     "data": {
      "text/html": [
       "<div>\n",
       "<style scoped>\n",
       "    .dataframe tbody tr th:only-of-type {\n",
       "        vertical-align: middle;\n",
       "    }\n",
       "\n",
       "    .dataframe tbody tr th {\n",
       "        vertical-align: top;\n",
       "    }\n",
       "\n",
       "    .dataframe thead th {\n",
       "        text-align: right;\n",
       "    }\n",
       "</style>\n",
       "<table border=\"1\" class=\"dataframe\">\n",
       "  <thead>\n",
       "    <tr style=\"text-align: right;\">\n",
       "      <th></th>\n",
       "      <th>Unnamed: 0</th>\n",
       "      <th>id</th>\n",
       "      <th>text</th>\n",
       "      <th>datetime</th>\n",
       "      <th>Location</th>\n",
       "    </tr>\n",
       "  </thead>\n",
       "  <tbody>\n",
       "    <tr>\n",
       "      <th>4</th>\n",
       "      <td>4</td>\n",
       "      <td>1482837787703394307</td>\n",
       "      <td>b'RT @GooniezNFT: Sneak Peek: Ethereum Halo Go...</td>\n",
       "      <td>2022-01-16 22:10:53</td>\n",
       "      <td>NaN</td>\n",
       "    </tr>\n",
       "    <tr>\n",
       "      <th>7</th>\n",
       "      <td>7</td>\n",
       "      <td>1482837780707397633</td>\n",
       "      <td>b'RT @A_G_Eth: \\xf0\\x9f\\x9b\\xb8MEGA #NFTGiveaw...</td>\n",
       "      <td>2022-01-16 22:10:51</td>\n",
       "      <td>NaN</td>\n",
       "    </tr>\n",
       "    <tr>\n",
       "      <th>18</th>\n",
       "      <td>18</td>\n",
       "      <td>1482837767566635022</td>\n",
       "      <td>b\"RT @RTRcrypto: Let's go!\\n\\n@FEGtoken\\n@life...</td>\n",
       "      <td>2022-01-16 22:10:48</td>\n",
       "      <td>NaN</td>\n",
       "    </tr>\n",
       "    <tr>\n",
       "      <th>19</th>\n",
       "      <td>19</td>\n",
       "      <td>1482837758435639302</td>\n",
       "      <td>b\"RT @RTRcrypto: Let's go!\\n\\n@FEGtoken\\n@life...</td>\n",
       "      <td>2022-01-16 22:10:46</td>\n",
       "      <td>NaN</td>\n",
       "    </tr>\n",
       "    <tr>\n",
       "      <th>23</th>\n",
       "      <td>23</td>\n",
       "      <td>1482837743738802179</td>\n",
       "      <td>b\"RT @RTRcrypto: Let's go!\\n\\n@FEGtoken\\n@life...</td>\n",
       "      <td>2022-01-16 22:10:42</td>\n",
       "      <td>NaN</td>\n",
       "    </tr>\n",
       "    <tr>\n",
       "      <th>...</th>\n",
       "      <td>...</td>\n",
       "      <td>...</td>\n",
       "      <td>...</td>\n",
       "      <td>...</td>\n",
       "      <td>...</td>\n",
       "    </tr>\n",
       "    <tr>\n",
       "      <th>1991</th>\n",
       "      <td>1991</td>\n",
       "      <td>1482831087424487426</td>\n",
       "      <td>b'RT @SHEEPZYSNFT: MINT NOW: https://t.co/MN9X...</td>\n",
       "      <td>2022-01-16 21:44:15</td>\n",
       "      <td>NaN</td>\n",
       "    </tr>\n",
       "    <tr>\n",
       "      <th>1993</th>\n",
       "      <td>1993</td>\n",
       "      <td>1482831078238871557</td>\n",
       "      <td>b\"RT @SoulZ_NFT: We've Hit 3,000 Followers rea...</td>\n",
       "      <td>2022-01-16 21:44:13</td>\n",
       "      <td>NaN</td>\n",
       "    </tr>\n",
       "    <tr>\n",
       "      <th>1996</th>\n",
       "      <td>1996</td>\n",
       "      <td>1482831071095898112</td>\n",
       "      <td>b'RT @isboredagain: I had a castle once, a bea...</td>\n",
       "      <td>2022-01-16 21:44:11</td>\n",
       "      <td>NaN</td>\n",
       "    </tr>\n",
       "    <tr>\n",
       "      <th>1998</th>\n",
       "      <td>1998</td>\n",
       "      <td>1482831067849580545</td>\n",
       "      <td>b'RT @MeidaZaliec: Probably nothing... \\xf0\\x9...</td>\n",
       "      <td>2022-01-16 21:44:10</td>\n",
       "      <td>NaN</td>\n",
       "    </tr>\n",
       "    <tr>\n",
       "      <th>1999</th>\n",
       "      <td>1999</td>\n",
       "      <td>1482831066280902660</td>\n",
       "      <td>b'RT @mbeNFT: \\xf0\\x9f\\x8e\\x81 #NFTGiveaway \\x...</td>\n",
       "      <td>2022-01-16 21:44:10</td>\n",
       "      <td>NaN</td>\n",
       "    </tr>\n",
       "  </tbody>\n",
       "</table>\n",
       "<p>616 rows × 5 columns</p>\n",
       "</div>"
      ],
      "text/plain": [
       "      Unnamed: 0                   id  \\\n",
       "4              4  1482837787703394307   \n",
       "7              7  1482837780707397633   \n",
       "18            18  1482837767566635022   \n",
       "19            19  1482837758435639302   \n",
       "23            23  1482837743738802179   \n",
       "...          ...                  ...   \n",
       "1991        1991  1482831087424487426   \n",
       "1993        1993  1482831078238871557   \n",
       "1996        1996  1482831071095898112   \n",
       "1998        1998  1482831067849580545   \n",
       "1999        1999  1482831066280902660   \n",
       "\n",
       "                                                   text             datetime  \\\n",
       "4     b'RT @GooniezNFT: Sneak Peek: Ethereum Halo Go...  2022-01-16 22:10:53   \n",
       "7     b'RT @A_G_Eth: \\xf0\\x9f\\x9b\\xb8MEGA #NFTGiveaw...  2022-01-16 22:10:51   \n",
       "18    b\"RT @RTRcrypto: Let's go!\\n\\n@FEGtoken\\n@life...  2022-01-16 22:10:48   \n",
       "19    b\"RT @RTRcrypto: Let's go!\\n\\n@FEGtoken\\n@life...  2022-01-16 22:10:46   \n",
       "23    b\"RT @RTRcrypto: Let's go!\\n\\n@FEGtoken\\n@life...  2022-01-16 22:10:42   \n",
       "...                                                 ...                  ...   \n",
       "1991  b'RT @SHEEPZYSNFT: MINT NOW: https://t.co/MN9X...  2022-01-16 21:44:15   \n",
       "1993  b\"RT @SoulZ_NFT: We've Hit 3,000 Followers rea...  2022-01-16 21:44:13   \n",
       "1996  b'RT @isboredagain: I had a castle once, a bea...  2022-01-16 21:44:11   \n",
       "1998  b'RT @MeidaZaliec: Probably nothing... \\xf0\\x9...  2022-01-16 21:44:10   \n",
       "1999  b'RT @mbeNFT: \\xf0\\x9f\\x8e\\x81 #NFTGiveaway \\x...  2022-01-16 21:44:10   \n",
       "\n",
       "     Location  \n",
       "4         NaN  \n",
       "7         NaN  \n",
       "18        NaN  \n",
       "19        NaN  \n",
       "23        NaN  \n",
       "...       ...  \n",
       "1991      NaN  \n",
       "1993      NaN  \n",
       "1996      NaN  \n",
       "1998      NaN  \n",
       "1999      NaN  \n",
       "\n",
       "[616 rows x 5 columns]"
      ]
     },
     "execution_count": 4,
     "metadata": {},
     "output_type": "execute_result"
    }
   ],
   "source": [
    "mask = df_eth.duplicated(subset=['text'])\n",
    "df_eth[mask]"
   ]
  },
  {
   "cell_type": "code",
   "execution_count": 5,
   "id": "d1ccbb93",
   "metadata": {},
   "outputs": [
    {
     "data": {
      "text/plain": [
       "(1384, 5)"
      ]
     },
     "execution_count": 5,
     "metadata": {},
     "output_type": "execute_result"
    }
   ],
   "source": [
    "df_eth = df_eth[~mask].reset_index(drop=True)\n",
    "df_eth.shape"
   ]
  },
  {
   "cell_type": "code",
   "execution_count": 6,
   "id": "6a328bf0",
   "metadata": {},
   "outputs": [
    {
     "data": {
      "text/html": [
       "<div>\n",
       "<style scoped>\n",
       "    .dataframe tbody tr th:only-of-type {\n",
       "        vertical-align: middle;\n",
       "    }\n",
       "\n",
       "    .dataframe tbody tr th {\n",
       "        vertical-align: top;\n",
       "    }\n",
       "\n",
       "    .dataframe thead th {\n",
       "        text-align: right;\n",
       "    }\n",
       "</style>\n",
       "<table border=\"1\" class=\"dataframe\">\n",
       "  <thead>\n",
       "    <tr style=\"text-align: right;\">\n",
       "      <th></th>\n",
       "      <th>Unnamed: 0</th>\n",
       "      <th>id</th>\n",
       "      <th>text</th>\n",
       "      <th>datetime</th>\n",
       "      <th>Location</th>\n",
       "    </tr>\n",
       "  </thead>\n",
       "  <tbody>\n",
       "    <tr>\n",
       "      <th>0</th>\n",
       "      <td>0</td>\n",
       "      <td>1482837810096836610</td>\n",
       "      <td>b\"RT @RTRcrypto: Let's go!\\n\\n@FEGtoken\\n@life...</td>\n",
       "      <td>2022-01-16 22:10:58</td>\n",
       "      <td>NaN</td>\n",
       "    </tr>\n",
       "    <tr>\n",
       "      <th>1</th>\n",
       "      <td>1</td>\n",
       "      <td>1482837800705789952</td>\n",
       "      <td>b'RT @bigcats_nft: The Big Cats will produce a...</td>\n",
       "      <td>2022-01-16 22:10:56</td>\n",
       "      <td>NaN</td>\n",
       "    </tr>\n",
       "    <tr>\n",
       "      <th>2</th>\n",
       "      <td>2</td>\n",
       "      <td>1482837799518752768</td>\n",
       "      <td>b'RT @GooniezNFT: Sneak Peek: Ethereum Halo Go...</td>\n",
       "      <td>2022-01-16 22:10:55</td>\n",
       "      <td>NaN</td>\n",
       "    </tr>\n",
       "    <tr>\n",
       "      <th>3</th>\n",
       "      <td>3</td>\n",
       "      <td>1482837791008567301</td>\n",
       "      <td>b'RT @jpatten__: Some of the @Treasure_DAO art...</td>\n",
       "      <td>2022-01-16 22:10:53</td>\n",
       "      <td>NaN</td>\n",
       "    </tr>\n",
       "    <tr>\n",
       "      <th>4</th>\n",
       "      <td>5</td>\n",
       "      <td>1482837786512486402</td>\n",
       "      <td>b'RT @A_G_Eth: \\xf0\\x9f\\x9b\\xb8MEGA #NFTGiveaw...</td>\n",
       "      <td>2022-01-16 22:10:52</td>\n",
       "      <td>NaN</td>\n",
       "    </tr>\n",
       "  </tbody>\n",
       "</table>\n",
       "</div>"
      ],
      "text/plain": [
       "   Unnamed: 0                   id  \\\n",
       "0           0  1482837810096836610   \n",
       "1           1  1482837800705789952   \n",
       "2           2  1482837799518752768   \n",
       "3           3  1482837791008567301   \n",
       "4           5  1482837786512486402   \n",
       "\n",
       "                                                text             datetime  \\\n",
       "0  b\"RT @RTRcrypto: Let's go!\\n\\n@FEGtoken\\n@life...  2022-01-16 22:10:58   \n",
       "1  b'RT @bigcats_nft: The Big Cats will produce a...  2022-01-16 22:10:56   \n",
       "2  b'RT @GooniezNFT: Sneak Peek: Ethereum Halo Go...  2022-01-16 22:10:55   \n",
       "3  b'RT @jpatten__: Some of the @Treasure_DAO art...  2022-01-16 22:10:53   \n",
       "4  b'RT @A_G_Eth: \\xf0\\x9f\\x9b\\xb8MEGA #NFTGiveaw...  2022-01-16 22:10:52   \n",
       "\n",
       "  Location  \n",
       "0      NaN  \n",
       "1      NaN  \n",
       "2      NaN  \n",
       "3      NaN  \n",
       "4      NaN  "
      ]
     },
     "execution_count": 6,
     "metadata": {},
     "output_type": "execute_result"
    }
   ],
   "source": [
    "df_eth.head()"
   ]
  },
  {
   "cell_type": "code",
   "execution_count": 7,
   "id": "27633370",
   "metadata": {},
   "outputs": [],
   "source": [
    "df_eth_orig = df_eth.copy()"
   ]
  },
  {
   "cell_type": "code",
   "execution_count": 8,
   "id": "4d54bfd1",
   "metadata": {},
   "outputs": [
    {
     "name": "stdout",
     "output_type": "stream",
     "text": [
      "b'An analysis published by Linkedin on January 13, 2021 shows that from 2020 to 2021, hiring with the terms \"Bitcoin,\\xe2\\x80\\xa6 https://t.co/VapC6q5A0v'\n",
      "b'@NFTCompanyy Happy New Year \\xf0\\x9f\\xa5\\xb3. Needs some TLC look at this Beautiful unique Ape one of its kind.  Need a date whose\\xe2\\x80\\xa6 https://t.co/C6wgwWM1i5'\n",
      "b'https://t.co/8qpbg6477V\\n#nft #ETH #Ethereum #crypto #bitcoin #nftart #Cryptos #NFTs #NFTartists #NFTdrop\\xe2\\x80\\xa6 https://t.co/PFrhipdz12'\n",
      "b'I\\'ve just created \"Sweet Stuff\" collectible! https://t.co/bucaQ3Nx1W #rarible #ethereum #flow #nonfungible\\xe2\\x80\\xa6 https://t.co/KknJiRUx1q'\n",
      "b'RT @Coinmatik1: Ben pozisyonlar\\xc4\\xb1m\\xc4\\xb1n hepsini koruyorum ancak \\xc3\\xb6n\\xc3\\xbcm\\xc3\\xbczde ki hafta #FED toplant\\xc4\\xb1s\\xc4\\xb1na kadar piyasada ki karamsar hava devam edece\\xe2\\x80\\xa6'\n"
     ]
    }
   ],
   "source": [
    "for tweet in df_eth['text'].sample(5).values:\n",
    "    print(tweet)"
   ]
  },
  {
   "cell_type": "markdown",
   "id": "04bdd001",
   "metadata": {},
   "source": [
    "### Put all hashtags into a new column"
   ]
  },
  {
   "cell_type": "code",
   "execution_count": 9,
   "id": "49a0ea38",
   "metadata": {},
   "outputs": [
    {
     "data": {
      "text/html": [
       "<div>\n",
       "<style scoped>\n",
       "    .dataframe tbody tr th:only-of-type {\n",
       "        vertical-align: middle;\n",
       "    }\n",
       "\n",
       "    .dataframe tbody tr th {\n",
       "        vertical-align: top;\n",
       "    }\n",
       "\n",
       "    .dataframe thead th {\n",
       "        text-align: right;\n",
       "    }\n",
       "</style>\n",
       "<table border=\"1\" class=\"dataframe\">\n",
       "  <thead>\n",
       "    <tr style=\"text-align: right;\">\n",
       "      <th></th>\n",
       "      <th>Unnamed: 0</th>\n",
       "      <th>id</th>\n",
       "      <th>text</th>\n",
       "      <th>datetime</th>\n",
       "      <th>Location</th>\n",
       "      <th>hashtag</th>\n",
       "    </tr>\n",
       "  </thead>\n",
       "  <tbody>\n",
       "    <tr>\n",
       "      <th>0</th>\n",
       "      <td>0</td>\n",
       "      <td>1482837810096836610</td>\n",
       "      <td>b\"RT @RTRcrypto: Let's go!\\n\\n@FEGtoken\\n@life...</td>\n",
       "      <td>2022-01-16 22:10:58</td>\n",
       "      <td>NaN</td>\n",
       "      <td>[SmartDeFi, Launchpad, BSCGem, FEG, trading, C...</td>\n",
       "    </tr>\n",
       "    <tr>\n",
       "      <th>1</th>\n",
       "      <td>1</td>\n",
       "      <td>1482837800705789952</td>\n",
       "      <td>b'RT @bigcats_nft: The Big Cats will produce a...</td>\n",
       "      <td>2022-01-16 22:10:56</td>\n",
       "      <td>NaN</td>\n",
       "      <td>[]</td>\n",
       "    </tr>\n",
       "    <tr>\n",
       "      <th>2</th>\n",
       "      <td>2</td>\n",
       "      <td>1482837799518752768</td>\n",
       "      <td>b'RT @GooniezNFT: Sneak Peek: Ethereum Halo Go...</td>\n",
       "      <td>2022-01-16 22:10:55</td>\n",
       "      <td>NaN</td>\n",
       "      <td>[]</td>\n",
       "    </tr>\n",
       "    <tr>\n",
       "      <th>3</th>\n",
       "      <td>3</td>\n",
       "      <td>1482837791008567301</td>\n",
       "      <td>b'RT @jpatten__: Some of the @Treasure_DAO art...</td>\n",
       "      <td>2022-01-16 22:10:53</td>\n",
       "      <td>NaN</td>\n",
       "      <td>[]</td>\n",
       "    </tr>\n",
       "    <tr>\n",
       "      <th>4</th>\n",
       "      <td>5</td>\n",
       "      <td>1482837786512486402</td>\n",
       "      <td>b'RT @A_G_Eth: \\xf0\\x9f\\x9b\\xb8MEGA #NFTGiveaw...</td>\n",
       "      <td>2022-01-16 22:10:52</td>\n",
       "      <td>NaN</td>\n",
       "      <td>[NFTGiveaway]</td>\n",
       "    </tr>\n",
       "  </tbody>\n",
       "</table>\n",
       "</div>"
      ],
      "text/plain": [
       "   Unnamed: 0                   id  \\\n",
       "0           0  1482837810096836610   \n",
       "1           1  1482837800705789952   \n",
       "2           2  1482837799518752768   \n",
       "3           3  1482837791008567301   \n",
       "4           5  1482837786512486402   \n",
       "\n",
       "                                                text             datetime  \\\n",
       "0  b\"RT @RTRcrypto: Let's go!\\n\\n@FEGtoken\\n@life...  2022-01-16 22:10:58   \n",
       "1  b'RT @bigcats_nft: The Big Cats will produce a...  2022-01-16 22:10:56   \n",
       "2  b'RT @GooniezNFT: Sneak Peek: Ethereum Halo Go...  2022-01-16 22:10:55   \n",
       "3  b'RT @jpatten__: Some of the @Treasure_DAO art...  2022-01-16 22:10:53   \n",
       "4  b'RT @A_G_Eth: \\xf0\\x9f\\x9b\\xb8MEGA #NFTGiveaw...  2022-01-16 22:10:52   \n",
       "\n",
       "  Location                                            hashtag  \n",
       "0      NaN  [SmartDeFi, Launchpad, BSCGem, FEG, trading, C...  \n",
       "1      NaN                                                 []  \n",
       "2      NaN                                                 []  \n",
       "3      NaN                                                 []  \n",
       "4      NaN                                      [NFTGiveaway]  "
      ]
     },
     "execution_count": 9,
     "metadata": {},
     "output_type": "execute_result"
    }
   ],
   "source": [
    "df_eth['hashtag'] = df_eth['text'].apply(lambda x: re.findall(r\"#(\\w+)\", x))\n",
    "df_eth.head()"
   ]
  },
  {
   "cell_type": "markdown",
   "id": "f906527d",
   "metadata": {},
   "source": [
    "### Remove emojis"
   ]
  },
  {
   "cell_type": "code",
   "execution_count": 10,
   "id": "1da3bb32",
   "metadata": {
    "scrolled": true
   },
   "outputs": [],
   "source": [
    "df_eth.text = df_eth.text.apply(lambda x: ' '.join([a for a in x.split() if '\\\\' not in a]))"
   ]
  },
  {
   "cell_type": "code",
   "execution_count": 11,
   "id": "7e1d5455",
   "metadata": {
    "scrolled": true
   },
   "outputs": [
    {
     "name": "stdout",
     "output_type": "stream",
     "text": [
      "0       b\"RT @RTRcrypto: Let's #Launchpad #BSCGem #FEG...\n",
      "1       b'RT @bigcats_nft: The Big Cats will produce a...\n",
      "2       b'RT @GooniezNFT: Sneak Peek: Ethereum Halo Go...\n",
      "3       b'RT @jpatten__: Some of the @Treasure_DAO art...\n",
      "4       b'RT @A_G_Eth: #NFTGiveaway A.G.E NFT 100$ WL ...\n",
      "                              ...                        \n",
      "1379    b'@NFTlovinchic Book of Berlin #photographynft...\n",
      "1380    b'Axelar is the universal interoperability pro...\n",
      "1381    b'@Ralvero Smart Money going in @Zamo_Laws @De...\n",
      "1382             b'@i_sunshine_9 https://t.co/uNFP01hWjK'\n",
      "1383    b'@DrallNft Maybe some Ethereum will go along ...\n",
      "Name: text, Length: 1384, dtype: object\n"
     ]
    }
   ],
   "source": [
    "test = df_eth.text\n",
    "print(test)"
   ]
  },
  {
   "cell_type": "code",
   "execution_count": 12,
   "id": "48d688b8",
   "metadata": {},
   "outputs": [
    {
     "data": {
      "text/plain": [
       "'!\"#$%&\\'()*+,-./:;<=>?@[\\\\]^_`{|}~'"
      ]
     },
     "execution_count": 12,
     "metadata": {},
     "output_type": "execute_result"
    }
   ],
   "source": [
    "import string\n",
    "string.punctuation"
   ]
  },
  {
   "cell_type": "code",
   "execution_count": 13,
   "id": "3f6e4d62",
   "metadata": {},
   "outputs": [],
   "source": [
    "def remove_special_characters(text):\n",
    "    text = re.sub(\"@\\S+\", \"\", text) #remove mentions\n",
    "    text = re.sub(\"https?:\\/\\/.*[\\r\\n]*\", \"\", text) #remove hyperlinks\n",
    "    text = re.sub(\"#\", \"\", text) #remove hashtag symbol\n",
    "    text = re.sub('\\w*\\d\\w*', ' ', text) #remove numbers\n",
    "    text = re.sub(\"b'RT\",'', text) #remove b'RT\n",
    "    text = re.sub(\"b'\",'',text)\n",
    "    text = re.sub('[%s]' % re.escape(string.punctuation), ' ', text)\n",
    "    return text"
   ]
  },
  {
   "cell_type": "code",
   "execution_count": 14,
   "id": "dbbb43e5",
   "metadata": {
    "scrolled": true
   },
   "outputs": [],
   "source": [
    "df_eth.text = df_eth.text.apply(remove_special_characters)"
   ]
  },
  {
   "cell_type": "code",
   "execution_count": 15,
   "id": "5543e586",
   "metadata": {},
   "outputs": [
    {
     "data": {
      "text/html": [
       "<div>\n",
       "<style scoped>\n",
       "    .dataframe tbody tr th:only-of-type {\n",
       "        vertical-align: middle;\n",
       "    }\n",
       "\n",
       "    .dataframe tbody tr th {\n",
       "        vertical-align: top;\n",
       "    }\n",
       "\n",
       "    .dataframe thead th {\n",
       "        text-align: right;\n",
       "    }\n",
       "</style>\n",
       "<table border=\"1\" class=\"dataframe\">\n",
       "  <thead>\n",
       "    <tr style=\"text-align: right;\">\n",
       "      <th></th>\n",
       "      <th>Unnamed: 0</th>\n",
       "      <th>id</th>\n",
       "      <th>text</th>\n",
       "      <th>datetime</th>\n",
       "      <th>Location</th>\n",
       "      <th>hashtag</th>\n",
       "    </tr>\n",
       "  </thead>\n",
       "  <tbody>\n",
       "    <tr>\n",
       "      <th>0</th>\n",
       "      <td>0</td>\n",
       "      <td>1482837810096836610</td>\n",
       "      <td>b RT  Let s Launchpad BSCGem FEG trading Crypt...</td>\n",
       "      <td>2022-01-16 22:10:58</td>\n",
       "      <td>NaN</td>\n",
       "      <td>[SmartDeFi, Launchpad, BSCGem, FEG, trading, C...</td>\n",
       "    </tr>\n",
       "    <tr>\n",
       "      <th>1</th>\n",
       "      <td>1</td>\n",
       "      <td>1482837800705789952</td>\n",
       "      <td>The Big Cats will produce a unique NFT colle...</td>\n",
       "      <td>2022-01-16 22:10:56</td>\n",
       "      <td>NaN</td>\n",
       "      <td>[]</td>\n",
       "    </tr>\n",
       "    <tr>\n",
       "      <th>2</th>\n",
       "      <td>2</td>\n",
       "      <td>1482837799518752768</td>\n",
       "      <td>Sneak Peek  Ethereum Halo Goon away   whitel...</td>\n",
       "      <td>2022-01-16 22:10:55</td>\n",
       "      <td>NaN</td>\n",
       "      <td>[]</td>\n",
       "    </tr>\n",
       "    <tr>\n",
       "      <th>3</th>\n",
       "      <td>3</td>\n",
       "      <td>1482837791008567301</td>\n",
       "      <td>Some of the  artists live in places where th...</td>\n",
       "      <td>2022-01-16 22:10:53</td>\n",
       "      <td>NaN</td>\n",
       "      <td>[]</td>\n",
       "    </tr>\n",
       "    <tr>\n",
       "      <th>4</th>\n",
       "      <td>5</td>\n",
       "      <td>1482837786512486402</td>\n",
       "      <td>NFTGiveaway A G E NFT    WL of RT Follow</td>\n",
       "      <td>2022-01-16 22:10:52</td>\n",
       "      <td>NaN</td>\n",
       "      <td>[NFTGiveaway]</td>\n",
       "    </tr>\n",
       "  </tbody>\n",
       "</table>\n",
       "</div>"
      ],
      "text/plain": [
       "   Unnamed: 0                   id  \\\n",
       "0           0  1482837810096836610   \n",
       "1           1  1482837800705789952   \n",
       "2           2  1482837799518752768   \n",
       "3           3  1482837791008567301   \n",
       "4           5  1482837786512486402   \n",
       "\n",
       "                                                text             datetime  \\\n",
       "0  b RT  Let s Launchpad BSCGem FEG trading Crypt...  2022-01-16 22:10:58   \n",
       "1    The Big Cats will produce a unique NFT colle...  2022-01-16 22:10:56   \n",
       "2    Sneak Peek  Ethereum Halo Goon away   whitel...  2022-01-16 22:10:55   \n",
       "3    Some of the  artists live in places where th...  2022-01-16 22:10:53   \n",
       "4        NFTGiveaway A G E NFT    WL of RT Follow     2022-01-16 22:10:52   \n",
       "\n",
       "  Location                                            hashtag  \n",
       "0      NaN  [SmartDeFi, Launchpad, BSCGem, FEG, trading, C...  \n",
       "1      NaN                                                 []  \n",
       "2      NaN                                                 []  \n",
       "3      NaN                                                 []  \n",
       "4      NaN                                      [NFTGiveaway]  "
      ]
     },
     "execution_count": 15,
     "metadata": {},
     "output_type": "execute_result"
    }
   ],
   "source": [
    "df_eth.head()"
   ]
  },
  {
   "cell_type": "markdown",
   "id": "17aeb926",
   "metadata": {},
   "source": [
    "### Remove digits and lower the text"
   ]
  },
  {
   "cell_type": "code",
   "execution_count": 16,
   "id": "cb35f694",
   "metadata": {
    "scrolled": true
   },
   "outputs": [
    {
     "name": "stderr",
     "output_type": "stream",
     "text": [
      "/var/folders/bc/c9cbz3vx3k331bfmmjlgtbkm0000gn/T/ipykernel_17162/2147775759.py:1: FutureWarning: The default value of regex will change from True to False in a future version.\n",
      "  df_eth.text = df_eth.text.astype(str).str.replace('\\d+', '')\n"
     ]
    },
    {
     "data": {
      "text/plain": [
       "0    b rt  let s launchpad bscgem feg trading crypt...\n",
       "1      the big cats will produce a unique nft colle...\n",
       "2      sneak peek  ethereum halo goon away   whitel...\n",
       "3      some of the  artists live in places where th...\n",
       "4          nftgiveaway a g e nft    wl of rt follow   \n",
       "Name: text, dtype: object"
      ]
     },
     "execution_count": 16,
     "metadata": {},
     "output_type": "execute_result"
    }
   ],
   "source": [
    "df_eth.text = df_eth.text.astype(str).str.replace('\\d+', '')\n",
    "df_eth.text = df_eth.text.str.lower()\n",
    "df_eth.text.head()"
   ]
  },
  {
   "cell_type": "markdown",
   "id": "74bf1c7e",
   "metadata": {},
   "source": [
    "### Stemming text"
   ]
  },
  {
   "cell_type": "code",
   "execution_count": 17,
   "id": "8065d57c",
   "metadata": {
    "scrolled": true
   },
   "outputs": [],
   "source": [
    "from nltk.tokenize import TweetTokenizer"
   ]
  },
  {
   "cell_type": "code",
   "execution_count": 18,
   "id": "66754aab",
   "metadata": {},
   "outputs": [],
   "source": [
    "wnl = WordNetLemmatizer()\n",
    "stemmer = LancasterStemmer()\n",
    "def lemmatize_text(text):\n",
    "    text = text.split(' ')\n",
    "    for i, word in enumerate(text):\n",
    "        text[i] = wnl.lemmatize(word)   #results for stemming is better lemmatization\n",
    "        #text[i] = stemmer.stem(word)    \n",
    "    return ' '.join(text)"
   ]
  },
  {
   "cell_type": "code",
   "execution_count": 19,
   "id": "bf487115",
   "metadata": {
    "scrolled": true
   },
   "outputs": [
    {
     "data": {
      "text/html": [
       "<div>\n",
       "<style scoped>\n",
       "    .dataframe tbody tr th:only-of-type {\n",
       "        vertical-align: middle;\n",
       "    }\n",
       "\n",
       "    .dataframe tbody tr th {\n",
       "        vertical-align: top;\n",
       "    }\n",
       "\n",
       "    .dataframe thead th {\n",
       "        text-align: right;\n",
       "    }\n",
       "</style>\n",
       "<table border=\"1\" class=\"dataframe\">\n",
       "  <thead>\n",
       "    <tr style=\"text-align: right;\">\n",
       "      <th></th>\n",
       "      <th>Unnamed: 0</th>\n",
       "      <th>id</th>\n",
       "      <th>text</th>\n",
       "      <th>datetime</th>\n",
       "      <th>Location</th>\n",
       "      <th>hashtag</th>\n",
       "    </tr>\n",
       "  </thead>\n",
       "  <tbody>\n",
       "    <tr>\n",
       "      <th>0</th>\n",
       "      <td>0</td>\n",
       "      <td>1482837810096836610</td>\n",
       "      <td>b rt  let s launchpad bscgem feg trading crypt...</td>\n",
       "      <td>2022-01-16 22:10:58</td>\n",
       "      <td>NaN</td>\n",
       "      <td>[SmartDeFi, Launchpad, BSCGem, FEG, trading, C...</td>\n",
       "    </tr>\n",
       "    <tr>\n",
       "      <th>1</th>\n",
       "      <td>1</td>\n",
       "      <td>1482837800705789952</td>\n",
       "      <td>the big cat will produce a unique nft collec...</td>\n",
       "      <td>2022-01-16 22:10:56</td>\n",
       "      <td>NaN</td>\n",
       "      <td>[]</td>\n",
       "    </tr>\n",
       "    <tr>\n",
       "      <th>2</th>\n",
       "      <td>2</td>\n",
       "      <td>1482837799518752768</td>\n",
       "      <td>sneak peek  ethereum halo goon away   whitel...</td>\n",
       "      <td>2022-01-16 22:10:55</td>\n",
       "      <td>NaN</td>\n",
       "      <td>[]</td>\n",
       "    </tr>\n",
       "    <tr>\n",
       "      <th>3</th>\n",
       "      <td>3</td>\n",
       "      <td>1482837791008567301</td>\n",
       "      <td>some of the  artist live in place where thei...</td>\n",
       "      <td>2022-01-16 22:10:53</td>\n",
       "      <td>NaN</td>\n",
       "      <td>[]</td>\n",
       "    </tr>\n",
       "    <tr>\n",
       "      <th>4</th>\n",
       "      <td>5</td>\n",
       "      <td>1482837786512486402</td>\n",
       "      <td>nftgiveaway a g e nft    wl of rt follow</td>\n",
       "      <td>2022-01-16 22:10:52</td>\n",
       "      <td>NaN</td>\n",
       "      <td>[NFTGiveaway]</td>\n",
       "    </tr>\n",
       "  </tbody>\n",
       "</table>\n",
       "</div>"
      ],
      "text/plain": [
       "   Unnamed: 0                   id  \\\n",
       "0           0  1482837810096836610   \n",
       "1           1  1482837800705789952   \n",
       "2           2  1482837799518752768   \n",
       "3           3  1482837791008567301   \n",
       "4           5  1482837786512486402   \n",
       "\n",
       "                                                text             datetime  \\\n",
       "0  b rt  let s launchpad bscgem feg trading crypt...  2022-01-16 22:10:58   \n",
       "1    the big cat will produce a unique nft collec...  2022-01-16 22:10:56   \n",
       "2    sneak peek  ethereum halo goon away   whitel...  2022-01-16 22:10:55   \n",
       "3    some of the  artist live in place where thei...  2022-01-16 22:10:53   \n",
       "4        nftgiveaway a g e nft    wl of rt follow     2022-01-16 22:10:52   \n",
       "\n",
       "  Location                                            hashtag  \n",
       "0      NaN  [SmartDeFi, Launchpad, BSCGem, FEG, trading, C...  \n",
       "1      NaN                                                 []  \n",
       "2      NaN                                                 []  \n",
       "3      NaN                                                 []  \n",
       "4      NaN                                      [NFTGiveaway]  "
      ]
     },
     "execution_count": 19,
     "metadata": {},
     "output_type": "execute_result"
    }
   ],
   "source": [
    "df_eth.text = df_eth.text.apply(lemmatize_text)\n",
    "df_eth.head()"
   ]
  },
  {
   "cell_type": "markdown",
   "id": "2a00f0dd",
   "metadata": {},
   "source": [
    "### Check if there is non-enlighs words and remove them"
   ]
  },
  {
   "cell_type": "code",
   "execution_count": 20,
   "id": "dd71782e",
   "metadata": {},
   "outputs": [
    {
     "data": {
      "text/plain": [
       "0       b rt  let s launchpad bscgem feg trading crypt...\n",
       "1         the big cat will produce a unique nft collec...\n",
       "2         sneak peek  ethereum halo goon away   whitel...\n",
       "3         some of the  artist live in place where thei...\n",
       "4             nftgiveaway a g e nft    wl of rt follow   \n",
       "                              ...                        \n",
       "1379     book of berlin photographynft series on sale ...\n",
       "1380    axelar is the universal interoperability proto...\n",
       "1381         smart money going in       nft nftcommunity \n",
       "1382                                                     \n",
       "1383            maybe some ethereum will go along way for\n",
       "Name: text, Length: 1384, dtype: object"
      ]
     },
     "execution_count": 20,
     "metadata": {},
     "output_type": "execute_result"
    }
   ],
   "source": [
    "test = df_eth.text\n",
    "test"
   ]
  },
  {
   "cell_type": "code",
   "execution_count": 21,
   "id": "7726366f",
   "metadata": {
    "scrolled": false
   },
   "outputs": [],
   "source": [
    "import nltk\n",
    "words = set(nltk.corpus.words.words())\n",
    "keep_words = ['bitcoin', 'ethereum', 'binance','tether','solana','nft']\n",
    "\n",
    "def keep_eng(text):\n",
    "    return (\" \".join(w for w in nltk.wordpunct_tokenize(text) if w in words or not w.isalpha() or w in keep_words))"
   ]
  },
  {
   "cell_type": "code",
   "execution_count": 22,
   "id": "893f593c",
   "metadata": {},
   "outputs": [
    {
     "name": "stdout",
     "output_type": "stream",
     "text": [
      "0                                         b let s trading\n",
      "1       the big cat will produce a unique nft collecti...\n",
      "2       sneak peek ethereum halo goon away spot on thi...\n",
      "3       some of the artist live in place where their f...\n",
      "4                                     a g e nft of follow\n",
      "                              ...                        \n",
      "1379               book of berlin series on sale ethereum\n",
      "1380    is the universal protocol and infrastructure a...\n",
      "1381                             smart money going in nft\n",
      "1382                                                     \n",
      "1383            maybe some ethereum will go along way for\n",
      "Name: text, Length: 1384, dtype: object\n"
     ]
    }
   ],
   "source": [
    "df_eth.text = df_eth.text.apply(keep_eng)\n",
    "print(df_eth.text)"
   ]
  },
  {
   "cell_type": "markdown",
   "id": "c97f03e7",
   "metadata": {},
   "source": [
    "### Remove rows containing empty tweets"
   ]
  },
  {
   "cell_type": "code",
   "execution_count": 23,
   "id": "9f99caa1",
   "metadata": {},
   "outputs": [
    {
     "name": "stdout",
     "output_type": "stream",
     "text": [
      " There are 183 rows that now have empty tweets.\n"
     ]
    }
   ],
   "source": [
    "print(f\" There are {np.sum(df_eth.text == '')} rows that now have empty tweets.\")"
   ]
  },
  {
   "cell_type": "code",
   "execution_count": 24,
   "id": "a55a2ed3",
   "metadata": {},
   "outputs": [
    {
     "data": {
      "text/html": [
       "<div>\n",
       "<style scoped>\n",
       "    .dataframe tbody tr th:only-of-type {\n",
       "        vertical-align: middle;\n",
       "    }\n",
       "\n",
       "    .dataframe tbody tr th {\n",
       "        vertical-align: top;\n",
       "    }\n",
       "\n",
       "    .dataframe thead th {\n",
       "        text-align: right;\n",
       "    }\n",
       "</style>\n",
       "<table border=\"1\" class=\"dataframe\">\n",
       "  <thead>\n",
       "    <tr style=\"text-align: right;\">\n",
       "      <th></th>\n",
       "      <th>Unnamed: 0</th>\n",
       "      <th>id</th>\n",
       "      <th>text</th>\n",
       "      <th>datetime</th>\n",
       "      <th>Location</th>\n",
       "      <th>hashtag</th>\n",
       "    </tr>\n",
       "  </thead>\n",
       "  <tbody>\n",
       "    <tr>\n",
       "      <th>5</th>\n",
       "      <td>6</td>\n",
       "      <td>1482837783211302923</td>\n",
       "      <td></td>\n",
       "      <td>2022-01-16 22:10:51</td>\n",
       "      <td>NaN</td>\n",
       "      <td>[NFTGiveaway]</td>\n",
       "    </tr>\n",
       "    <tr>\n",
       "      <th>10</th>\n",
       "      <td>12</td>\n",
       "      <td>1482837772251635717</td>\n",
       "      <td></td>\n",
       "      <td>2022-01-16 22:10:49</td>\n",
       "      <td>NaN</td>\n",
       "      <td>[]</td>\n",
       "    </tr>\n",
       "    <tr>\n",
       "      <th>37</th>\n",
       "      <td>44</td>\n",
       "      <td>1482837673681248263</td>\n",
       "      <td></td>\n",
       "      <td>2022-01-16 22:10:25</td>\n",
       "      <td>NaN</td>\n",
       "      <td>[btc, Ethereum, bnb, bsc, Binance, NFT, cheems...</td>\n",
       "    </tr>\n",
       "    <tr>\n",
       "      <th>38</th>\n",
       "      <td>45</td>\n",
       "      <td>1482837670317412357</td>\n",
       "      <td></td>\n",
       "      <td>2022-01-16 22:10:25</td>\n",
       "      <td>NaN</td>\n",
       "      <td>[]</td>\n",
       "    </tr>\n",
       "    <tr>\n",
       "      <th>39</th>\n",
       "      <td>46</td>\n",
       "      <td>1482837662784499715</td>\n",
       "      <td></td>\n",
       "      <td>2022-01-16 22:10:23</td>\n",
       "      <td>NaN</td>\n",
       "      <td>[ElonMusk, BabyDoge, BabyDogeCoin, BabyDogeArm...</td>\n",
       "    </tr>\n",
       "    <tr>\n",
       "      <th>...</th>\n",
       "      <td>...</td>\n",
       "      <td>...</td>\n",
       "      <td>...</td>\n",
       "      <td>...</td>\n",
       "      <td>...</td>\n",
       "      <td>...</td>\n",
       "    </tr>\n",
       "    <tr>\n",
       "      <th>1317</th>\n",
       "      <td>1902</td>\n",
       "      <td>1482831398260072449</td>\n",
       "      <td></td>\n",
       "      <td>2022-01-16 21:45:29</td>\n",
       "      <td>NaN</td>\n",
       "      <td>[SHINJA, SHIBNOBI, KUSARIBLOCKCHAIN, FULLYDOXX...</td>\n",
       "    </tr>\n",
       "    <tr>\n",
       "      <th>1359</th>\n",
       "      <td>1964</td>\n",
       "      <td>1482831175370649607</td>\n",
       "      <td></td>\n",
       "      <td>2022-01-16 21:44:36</td>\n",
       "      <td>NaN</td>\n",
       "      <td>[current, price, ETH, Ethereum, airdrop]</td>\n",
       "    </tr>\n",
       "    <tr>\n",
       "      <th>1366</th>\n",
       "      <td>1975</td>\n",
       "      <td>1482831127584854020</td>\n",
       "      <td></td>\n",
       "      <td>2022-01-16 21:44:25</td>\n",
       "      <td>NaN</td>\n",
       "      <td>[]</td>\n",
       "    </tr>\n",
       "    <tr>\n",
       "      <th>1375</th>\n",
       "      <td>1986</td>\n",
       "      <td>1482831091270619141</td>\n",
       "      <td></td>\n",
       "      <td>2022-01-16 21:44:16</td>\n",
       "      <td>NaN</td>\n",
       "      <td>[BabyDoge, BabyDogeArmy, ElonMusk, BabyDoge, B...</td>\n",
       "    </tr>\n",
       "    <tr>\n",
       "      <th>1382</th>\n",
       "      <td>1995</td>\n",
       "      <td>1482831075097255936</td>\n",
       "      <td></td>\n",
       "      <td>2022-01-16 21:44:12</td>\n",
       "      <td>NaN</td>\n",
       "      <td>[]</td>\n",
       "    </tr>\n",
       "  </tbody>\n",
       "</table>\n",
       "<p>183 rows × 6 columns</p>\n",
       "</div>"
      ],
      "text/plain": [
       "      Unnamed: 0                   id text             datetime Location  \\\n",
       "5              6  1482837783211302923       2022-01-16 22:10:51      NaN   \n",
       "10            12  1482837772251635717       2022-01-16 22:10:49      NaN   \n",
       "37            44  1482837673681248263       2022-01-16 22:10:25      NaN   \n",
       "38            45  1482837670317412357       2022-01-16 22:10:25      NaN   \n",
       "39            46  1482837662784499715       2022-01-16 22:10:23      NaN   \n",
       "...          ...                  ...  ...                  ...      ...   \n",
       "1317        1902  1482831398260072449       2022-01-16 21:45:29      NaN   \n",
       "1359        1964  1482831175370649607       2022-01-16 21:44:36      NaN   \n",
       "1366        1975  1482831127584854020       2022-01-16 21:44:25      NaN   \n",
       "1375        1986  1482831091270619141       2022-01-16 21:44:16      NaN   \n",
       "1382        1995  1482831075097255936       2022-01-16 21:44:12      NaN   \n",
       "\n",
       "                                                hashtag  \n",
       "5                                         [NFTGiveaway]  \n",
       "10                                                   []  \n",
       "37    [btc, Ethereum, bnb, bsc, Binance, NFT, cheems...  \n",
       "38                                                   []  \n",
       "39    [ElonMusk, BabyDoge, BabyDogeCoin, BabyDogeArm...  \n",
       "...                                                 ...  \n",
       "1317  [SHINJA, SHIBNOBI, KUSARIBLOCKCHAIN, FULLYDOXX...  \n",
       "1359           [current, price, ETH, Ethereum, airdrop]  \n",
       "1366                                                 []  \n",
       "1375  [BabyDoge, BabyDogeArmy, ElonMusk, BabyDoge, B...  \n",
       "1382                                                 []  \n",
       "\n",
       "[183 rows x 6 columns]"
      ]
     },
     "execution_count": 24,
     "metadata": {},
     "output_type": "execute_result"
    }
   ],
   "source": [
    "mask = df_eth.text == ''\n",
    "df_eth[mask]"
   ]
  },
  {
   "cell_type": "code",
   "execution_count": 25,
   "id": "209f12f5",
   "metadata": {},
   "outputs": [
    {
     "data": {
      "text/plain": [
       "(1201, 6)"
      ]
     },
     "execution_count": 25,
     "metadata": {},
     "output_type": "execute_result"
    }
   ],
   "source": [
    "df_eth = df_eth[~mask]\n",
    "df_eth.shape"
   ]
  },
  {
   "cell_type": "code",
   "execution_count": null,
   "id": "ddd24564",
   "metadata": {},
   "outputs": [],
   "source": []
  },
  {
   "cell_type": "markdown",
   "id": "44328d61",
   "metadata": {},
   "source": [
    "### Tokenize the document"
   ]
  },
  {
   "cell_type": "code",
   "execution_count": 26,
   "id": "85965f3e",
   "metadata": {},
   "outputs": [],
   "source": [
    "stop_words = nltk.corpus.stopwords.words('english')"
   ]
  },
  {
   "cell_type": "code",
   "execution_count": 27,
   "id": "47166883",
   "metadata": {},
   "outputs": [
    {
     "data": {
      "text/html": [
       "<div>\n",
       "<style scoped>\n",
       "    .dataframe tbody tr th:only-of-type {\n",
       "        vertical-align: middle;\n",
       "    }\n",
       "\n",
       "    .dataframe tbody tr th {\n",
       "        vertical-align: top;\n",
       "    }\n",
       "\n",
       "    .dataframe thead th {\n",
       "        text-align: right;\n",
       "    }\n",
       "</style>\n",
       "<table border=\"1\" class=\"dataframe\">\n",
       "  <thead>\n",
       "    <tr style=\"text-align: right;\">\n",
       "      <th></th>\n",
       "      <th>abstract</th>\n",
       "      <th>account</th>\n",
       "      <th>active</th>\n",
       "      <th>activity</th>\n",
       "      <th>actually</th>\n",
       "      <th>add</th>\n",
       "      <th>ago</th>\n",
       "      <th>almost</th>\n",
       "      <th>already</th>\n",
       "      <th>always</th>\n",
       "      <th>...</th>\n",
       "      <th>well</th>\n",
       "      <th>whale</th>\n",
       "      <th>white</th>\n",
       "      <th>win</th>\n",
       "      <th>without</th>\n",
       "      <th>working</th>\n",
       "      <th>worth</th>\n",
       "      <th>wrong</th>\n",
       "      <th>yes</th>\n",
       "      <th>yield</th>\n",
       "    </tr>\n",
       "    <tr>\n",
       "      <th>text</th>\n",
       "      <th></th>\n",
       "      <th></th>\n",
       "      <th></th>\n",
       "      <th></th>\n",
       "      <th></th>\n",
       "      <th></th>\n",
       "      <th></th>\n",
       "      <th></th>\n",
       "      <th></th>\n",
       "      <th></th>\n",
       "      <th></th>\n",
       "      <th></th>\n",
       "      <th></th>\n",
       "      <th></th>\n",
       "      <th></th>\n",
       "      <th></th>\n",
       "      <th></th>\n",
       "      <th></th>\n",
       "      <th></th>\n",
       "      <th></th>\n",
       "      <th></th>\n",
       "    </tr>\n",
       "  </thead>\n",
       "  <tbody>\n",
       "    <tr>\n",
       "      <th>b let s trading</th>\n",
       "      <td>0</td>\n",
       "      <td>0</td>\n",
       "      <td>0</td>\n",
       "      <td>0</td>\n",
       "      <td>0</td>\n",
       "      <td>0</td>\n",
       "      <td>0</td>\n",
       "      <td>0</td>\n",
       "      <td>0</td>\n",
       "      <td>0</td>\n",
       "      <td>...</td>\n",
       "      <td>0</td>\n",
       "      <td>0</td>\n",
       "      <td>0</td>\n",
       "      <td>0</td>\n",
       "      <td>0</td>\n",
       "      <td>0</td>\n",
       "      <td>0</td>\n",
       "      <td>0</td>\n",
       "      <td>0</td>\n",
       "      <td>0</td>\n",
       "    </tr>\n",
       "    <tr>\n",
       "      <th>the big cat will produce a unique nft collection on the ethereum of the big cat have been made</th>\n",
       "      <td>0</td>\n",
       "      <td>0</td>\n",
       "      <td>0</td>\n",
       "      <td>0</td>\n",
       "      <td>0</td>\n",
       "      <td>0</td>\n",
       "      <td>0</td>\n",
       "      <td>0</td>\n",
       "      <td>0</td>\n",
       "      <td>0</td>\n",
       "      <td>...</td>\n",
       "      <td>0</td>\n",
       "      <td>0</td>\n",
       "      <td>0</td>\n",
       "      <td>0</td>\n",
       "      <td>0</td>\n",
       "      <td>0</td>\n",
       "      <td>0</td>\n",
       "      <td>0</td>\n",
       "      <td>0</td>\n",
       "      <td>0</td>\n",
       "    </tr>\n",
       "    <tr>\n",
       "      <th>sneak peek ethereum halo goon away spot on this follow like</th>\n",
       "      <td>0</td>\n",
       "      <td>0</td>\n",
       "      <td>0</td>\n",
       "      <td>0</td>\n",
       "      <td>0</td>\n",
       "      <td>0</td>\n",
       "      <td>0</td>\n",
       "      <td>0</td>\n",
       "      <td>0</td>\n",
       "      <td>0</td>\n",
       "      <td>...</td>\n",
       "      <td>0</td>\n",
       "      <td>0</td>\n",
       "      <td>0</td>\n",
       "      <td>0</td>\n",
       "      <td>0</td>\n",
       "      <td>0</td>\n",
       "      <td>0</td>\n",
       "      <td>0</td>\n",
       "      <td>0</td>\n",
       "      <td>0</td>\n",
       "    </tr>\n",
       "    <tr>\n",
       "      <th>some of the artist live in place where their friend mint their free mint without blowing</th>\n",
       "      <td>0</td>\n",
       "      <td>0</td>\n",
       "      <td>0</td>\n",
       "      <td>0</td>\n",
       "      <td>0</td>\n",
       "      <td>0</td>\n",
       "      <td>0</td>\n",
       "      <td>0</td>\n",
       "      <td>0</td>\n",
       "      <td>0</td>\n",
       "      <td>...</td>\n",
       "      <td>0</td>\n",
       "      <td>0</td>\n",
       "      <td>0</td>\n",
       "      <td>0</td>\n",
       "      <td>1</td>\n",
       "      <td>0</td>\n",
       "      <td>0</td>\n",
       "      <td>0</td>\n",
       "      <td>0</td>\n",
       "      <td>0</td>\n",
       "    </tr>\n",
       "    <tr>\n",
       "      <th>a g e nft of follow</th>\n",
       "      <td>0</td>\n",
       "      <td>0</td>\n",
       "      <td>0</td>\n",
       "      <td>0</td>\n",
       "      <td>0</td>\n",
       "      <td>0</td>\n",
       "      <td>0</td>\n",
       "      <td>0</td>\n",
       "      <td>0</td>\n",
       "      <td>0</td>\n",
       "      <td>...</td>\n",
       "      <td>0</td>\n",
       "      <td>0</td>\n",
       "      <td>0</td>\n",
       "      <td>0</td>\n",
       "      <td>0</td>\n",
       "      <td>0</td>\n",
       "      <td>0</td>\n",
       "      <td>0</td>\n",
       "      <td>0</td>\n",
       "      <td>0</td>\n",
       "    </tr>\n",
       "    <tr>\n",
       "      <th>to giving away nft follow</th>\n",
       "      <td>0</td>\n",
       "      <td>0</td>\n",
       "      <td>0</td>\n",
       "      <td>0</td>\n",
       "      <td>0</td>\n",
       "      <td>0</td>\n",
       "      <td>0</td>\n",
       "      <td>0</td>\n",
       "      <td>0</td>\n",
       "      <td>0</td>\n",
       "      <td>...</td>\n",
       "      <td>0</td>\n",
       "      <td>0</td>\n",
       "      <td>0</td>\n",
       "      <td>0</td>\n",
       "      <td>0</td>\n",
       "      <td>0</td>\n",
       "      <td>0</td>\n",
       "      <td>0</td>\n",
       "      <td>0</td>\n",
       "      <td>0</td>\n",
       "    </tr>\n",
       "    <tr>\n",
       "      <th>club hand nft art artist</th>\n",
       "      <td>0</td>\n",
       "      <td>0</td>\n",
       "      <td>0</td>\n",
       "      <td>0</td>\n",
       "      <td>0</td>\n",
       "      <td>0</td>\n",
       "      <td>0</td>\n",
       "      <td>0</td>\n",
       "      <td>0</td>\n",
       "      <td>0</td>\n",
       "      <td>...</td>\n",
       "      <td>0</td>\n",
       "      <td>0</td>\n",
       "      <td>0</td>\n",
       "      <td>0</td>\n",
       "      <td>0</td>\n",
       "      <td>0</td>\n",
       "      <td>0</td>\n",
       "      <td>0</td>\n",
       "      <td>0</td>\n",
       "      <td>0</td>\n",
       "    </tr>\n",
       "    <tr>\n",
       "      <th>ethereum</th>\n",
       "      <td>0</td>\n",
       "      <td>0</td>\n",
       "      <td>0</td>\n",
       "      <td>0</td>\n",
       "      <td>0</td>\n",
       "      <td>0</td>\n",
       "      <td>0</td>\n",
       "      <td>0</td>\n",
       "      <td>0</td>\n",
       "      <td>0</td>\n",
       "      <td>...</td>\n",
       "      <td>0</td>\n",
       "      <td>0</td>\n",
       "      <td>0</td>\n",
       "      <td>0</td>\n",
       "      <td>0</td>\n",
       "      <td>0</td>\n",
       "      <td>0</td>\n",
       "      <td>0</td>\n",
       "      <td>0</td>\n",
       "      <td>0</td>\n",
       "    </tr>\n",
       "    <tr>\n",
       "      <th>market gain close to in hour value jump token see triple digit gain</th>\n",
       "      <td>0</td>\n",
       "      <td>0</td>\n",
       "      <td>0</td>\n",
       "      <td>0</td>\n",
       "      <td>0</td>\n",
       "      <td>0</td>\n",
       "      <td>0</td>\n",
       "      <td>0</td>\n",
       "      <td>0</td>\n",
       "      <td>0</td>\n",
       "      <td>...</td>\n",
       "      <td>0</td>\n",
       "      <td>0</td>\n",
       "      <td>0</td>\n",
       "      <td>0</td>\n",
       "      <td>0</td>\n",
       "      <td>0</td>\n",
       "      <td>0</td>\n",
       "      <td>0</td>\n",
       "      <td>0</td>\n",
       "      <td>0</td>\n",
       "    </tr>\n",
       "    <tr>\n",
       "      <th>faucet fund into on the ethereum test network</th>\n",
       "      <td>0</td>\n",
       "      <td>0</td>\n",
       "      <td>0</td>\n",
       "      <td>0</td>\n",
       "      <td>0</td>\n",
       "      <td>0</td>\n",
       "      <td>0</td>\n",
       "      <td>0</td>\n",
       "      <td>0</td>\n",
       "      <td>0</td>\n",
       "      <td>...</td>\n",
       "      <td>0</td>\n",
       "      <td>0</td>\n",
       "      <td>0</td>\n",
       "      <td>0</td>\n",
       "      <td>0</td>\n",
       "      <td>0</td>\n",
       "      <td>0</td>\n",
       "      <td>0</td>\n",
       "      <td>0</td>\n",
       "      <td>0</td>\n",
       "    </tr>\n",
       "  </tbody>\n",
       "</table>\n",
       "<p>10 rows × 268 columns</p>\n",
       "</div>"
      ],
      "text/plain": [
       "                                                    abstract  account  active  \\\n",
       "text                                                                            \n",
       "b let s trading                                            0        0       0   \n",
       "the big cat will produce a unique nft collectio...         0        0       0   \n",
       "sneak peek ethereum halo goon away spot on this...         0        0       0   \n",
       "some of the artist live in place where their fr...         0        0       0   \n",
       "a g e nft of follow                                        0        0       0   \n",
       "to giving away nft follow                                  0        0       0   \n",
       "club hand nft art artist                                   0        0       0   \n",
       "ethereum                                                   0        0       0   \n",
       "market gain close to in hour value jump token s...         0        0       0   \n",
       "faucet fund into on the ethereum test network              0        0       0   \n",
       "\n",
       "                                                    activity  actually  add  \\\n",
       "text                                                                          \n",
       "b let s trading                                            0         0    0   \n",
       "the big cat will produce a unique nft collectio...         0         0    0   \n",
       "sneak peek ethereum halo goon away spot on this...         0         0    0   \n",
       "some of the artist live in place where their fr...         0         0    0   \n",
       "a g e nft of follow                                        0         0    0   \n",
       "to giving away nft follow                                  0         0    0   \n",
       "club hand nft art artist                                   0         0    0   \n",
       "ethereum                                                   0         0    0   \n",
       "market gain close to in hour value jump token s...         0         0    0   \n",
       "faucet fund into on the ethereum test network              0         0    0   \n",
       "\n",
       "                                                    ago  almost  already  \\\n",
       "text                                                                       \n",
       "b let s trading                                       0       0        0   \n",
       "the big cat will produce a unique nft collectio...    0       0        0   \n",
       "sneak peek ethereum halo goon away spot on this...    0       0        0   \n",
       "some of the artist live in place where their fr...    0       0        0   \n",
       "a g e nft of follow                                   0       0        0   \n",
       "to giving away nft follow                             0       0        0   \n",
       "club hand nft art artist                              0       0        0   \n",
       "ethereum                                              0       0        0   \n",
       "market gain close to in hour value jump token s...    0       0        0   \n",
       "faucet fund into on the ethereum test network         0       0        0   \n",
       "\n",
       "                                                    always  ...  well  whale  \\\n",
       "text                                                        ...                \n",
       "b let s trading                                          0  ...     0      0   \n",
       "the big cat will produce a unique nft collectio...       0  ...     0      0   \n",
       "sneak peek ethereum halo goon away spot on this...       0  ...     0      0   \n",
       "some of the artist live in place where their fr...       0  ...     0      0   \n",
       "a g e nft of follow                                      0  ...     0      0   \n",
       "to giving away nft follow                                0  ...     0      0   \n",
       "club hand nft art artist                                 0  ...     0      0   \n",
       "ethereum                                                 0  ...     0      0   \n",
       "market gain close to in hour value jump token s...       0  ...     0      0   \n",
       "faucet fund into on the ethereum test network            0  ...     0      0   \n",
       "\n",
       "                                                    white  win  without  \\\n",
       "text                                                                      \n",
       "b let s trading                                         0    0        0   \n",
       "the big cat will produce a unique nft collectio...      0    0        0   \n",
       "sneak peek ethereum halo goon away spot on this...      0    0        0   \n",
       "some of the artist live in place where their fr...      0    0        1   \n",
       "a g e nft of follow                                     0    0        0   \n",
       "to giving away nft follow                               0    0        0   \n",
       "club hand nft art artist                                0    0        0   \n",
       "ethereum                                                0    0        0   \n",
       "market gain close to in hour value jump token s...      0    0        0   \n",
       "faucet fund into on the ethereum test network           0    0        0   \n",
       "\n",
       "                                                    working  worth  wrong  \\\n",
       "text                                                                        \n",
       "b let s trading                                           0      0      0   \n",
       "the big cat will produce a unique nft collectio...        0      0      0   \n",
       "sneak peek ethereum halo goon away spot on this...        0      0      0   \n",
       "some of the artist live in place where their fr...        0      0      0   \n",
       "a g e nft of follow                                       0      0      0   \n",
       "to giving away nft follow                                 0      0      0   \n",
       "club hand nft art artist                                  0      0      0   \n",
       "ethereum                                                  0      0      0   \n",
       "market gain close to in hour value jump token s...        0      0      0   \n",
       "faucet fund into on the ethereum test network             0      0      0   \n",
       "\n",
       "                                                    yes  yield  \n",
       "text                                                            \n",
       "b let s trading                                       0      0  \n",
       "the big cat will produce a unique nft collectio...    0      0  \n",
       "sneak peek ethereum halo goon away spot on this...    0      0  \n",
       "some of the artist live in place where their fr...    0      0  \n",
       "a g e nft of follow                                   0      0  \n",
       "to giving away nft follow                             0      0  \n",
       "club hand nft art artist                              0      0  \n",
       "ethereum                                              0      0  \n",
       "market gain close to in hour value jump token s...    0      0  \n",
       "faucet fund into on the ethereum test network         0      0  \n",
       "\n",
       "[10 rows x 268 columns]"
      ]
     },
     "execution_count": 27,
     "metadata": {},
     "output_type": "execute_result"
    }
   ],
   "source": [
    "## CountVectorize\n",
    "cvec = CountVectorizer(stop_words=stop_words, max_df=7, min_df=3)\n",
    "doc_word_cv = cvec.fit_transform(df_eth.text)\n",
    "pd.DataFrame(doc_word_cv.toarray(), index=df_eth.text, columns=cvec.get_feature_names()).head(10)"
   ]
  },
  {
   "cell_type": "code",
   "execution_count": 28,
   "id": "e345404a",
   "metadata": {},
   "outputs": [
    {
     "data": {
      "text/html": [
       "<div>\n",
       "<style scoped>\n",
       "    .dataframe tbody tr th:only-of-type {\n",
       "        vertical-align: middle;\n",
       "    }\n",
       "\n",
       "    .dataframe tbody tr th {\n",
       "        vertical-align: top;\n",
       "    }\n",
       "\n",
       "    .dataframe thead th {\n",
       "        text-align: right;\n",
       "    }\n",
       "</style>\n",
       "<table border=\"1\" class=\"dataframe\">\n",
       "  <thead>\n",
       "    <tr style=\"text-align: right;\">\n",
       "      <th></th>\n",
       "      <th>abstract</th>\n",
       "      <th>account</th>\n",
       "      <th>active</th>\n",
       "      <th>activity</th>\n",
       "      <th>actually</th>\n",
       "      <th>add</th>\n",
       "      <th>address</th>\n",
       "      <th>ago</th>\n",
       "      <th>airdrop</th>\n",
       "      <th>alien</th>\n",
       "      <th>...</th>\n",
       "      <th>work</th>\n",
       "      <th>working</th>\n",
       "      <th>world</th>\n",
       "      <th>worth</th>\n",
       "      <th>would</th>\n",
       "      <th>wrong</th>\n",
       "      <th>year</th>\n",
       "      <th>yes</th>\n",
       "      <th>yet</th>\n",
       "      <th>yield</th>\n",
       "    </tr>\n",
       "    <tr>\n",
       "      <th>text</th>\n",
       "      <th></th>\n",
       "      <th></th>\n",
       "      <th></th>\n",
       "      <th></th>\n",
       "      <th></th>\n",
       "      <th></th>\n",
       "      <th></th>\n",
       "      <th></th>\n",
       "      <th></th>\n",
       "      <th></th>\n",
       "      <th></th>\n",
       "      <th></th>\n",
       "      <th></th>\n",
       "      <th></th>\n",
       "      <th></th>\n",
       "      <th></th>\n",
       "      <th></th>\n",
       "      <th></th>\n",
       "      <th></th>\n",
       "      <th></th>\n",
       "      <th></th>\n",
       "    </tr>\n",
       "  </thead>\n",
       "  <tbody>\n",
       "    <tr>\n",
       "      <th>b let s trading</th>\n",
       "      <td>0.0</td>\n",
       "      <td>0.0</td>\n",
       "      <td>0.0</td>\n",
       "      <td>0.0</td>\n",
       "      <td>0.0</td>\n",
       "      <td>0.0</td>\n",
       "      <td>0.0</td>\n",
       "      <td>0.0</td>\n",
       "      <td>0.0</td>\n",
       "      <td>0.0</td>\n",
       "      <td>...</td>\n",
       "      <td>0.0</td>\n",
       "      <td>0.0</td>\n",
       "      <td>0.0</td>\n",
       "      <td>0.0</td>\n",
       "      <td>0.0</td>\n",
       "      <td>0.0</td>\n",
       "      <td>0.0</td>\n",
       "      <td>0.0</td>\n",
       "      <td>0.0</td>\n",
       "      <td>0.0</td>\n",
       "    </tr>\n",
       "    <tr>\n",
       "      <th>the big cat will produce a unique nft collection on the ethereum of the big cat have been made</th>\n",
       "      <td>0.0</td>\n",
       "      <td>0.0</td>\n",
       "      <td>0.0</td>\n",
       "      <td>0.0</td>\n",
       "      <td>0.0</td>\n",
       "      <td>0.0</td>\n",
       "      <td>0.0</td>\n",
       "      <td>0.0</td>\n",
       "      <td>0.0</td>\n",
       "      <td>0.0</td>\n",
       "      <td>...</td>\n",
       "      <td>0.0</td>\n",
       "      <td>0.0</td>\n",
       "      <td>0.0</td>\n",
       "      <td>0.0</td>\n",
       "      <td>0.0</td>\n",
       "      <td>0.0</td>\n",
       "      <td>0.0</td>\n",
       "      <td>0.0</td>\n",
       "      <td>0.0</td>\n",
       "      <td>0.0</td>\n",
       "    </tr>\n",
       "    <tr>\n",
       "      <th>sneak peek ethereum halo goon away spot on this follow like</th>\n",
       "      <td>0.0</td>\n",
       "      <td>0.0</td>\n",
       "      <td>0.0</td>\n",
       "      <td>0.0</td>\n",
       "      <td>0.0</td>\n",
       "      <td>0.0</td>\n",
       "      <td>0.0</td>\n",
       "      <td>0.0</td>\n",
       "      <td>0.0</td>\n",
       "      <td>0.0</td>\n",
       "      <td>...</td>\n",
       "      <td>0.0</td>\n",
       "      <td>0.0</td>\n",
       "      <td>0.0</td>\n",
       "      <td>0.0</td>\n",
       "      <td>0.0</td>\n",
       "      <td>0.0</td>\n",
       "      <td>0.0</td>\n",
       "      <td>0.0</td>\n",
       "      <td>0.0</td>\n",
       "      <td>0.0</td>\n",
       "    </tr>\n",
       "    <tr>\n",
       "      <th>some of the artist live in place where their friend mint their free mint without blowing</th>\n",
       "      <td>0.0</td>\n",
       "      <td>0.0</td>\n",
       "      <td>0.0</td>\n",
       "      <td>0.0</td>\n",
       "      <td>0.0</td>\n",
       "      <td>0.0</td>\n",
       "      <td>0.0</td>\n",
       "      <td>0.0</td>\n",
       "      <td>0.0</td>\n",
       "      <td>0.0</td>\n",
       "      <td>...</td>\n",
       "      <td>0.0</td>\n",
       "      <td>0.0</td>\n",
       "      <td>0.0</td>\n",
       "      <td>0.0</td>\n",
       "      <td>0.0</td>\n",
       "      <td>0.0</td>\n",
       "      <td>0.0</td>\n",
       "      <td>0.0</td>\n",
       "      <td>0.0</td>\n",
       "      <td>0.0</td>\n",
       "    </tr>\n",
       "    <tr>\n",
       "      <th>a g e nft of follow</th>\n",
       "      <td>0.0</td>\n",
       "      <td>0.0</td>\n",
       "      <td>0.0</td>\n",
       "      <td>0.0</td>\n",
       "      <td>0.0</td>\n",
       "      <td>0.0</td>\n",
       "      <td>0.0</td>\n",
       "      <td>0.0</td>\n",
       "      <td>0.0</td>\n",
       "      <td>0.0</td>\n",
       "      <td>...</td>\n",
       "      <td>0.0</td>\n",
       "      <td>0.0</td>\n",
       "      <td>0.0</td>\n",
       "      <td>0.0</td>\n",
       "      <td>0.0</td>\n",
       "      <td>0.0</td>\n",
       "      <td>0.0</td>\n",
       "      <td>0.0</td>\n",
       "      <td>0.0</td>\n",
       "      <td>0.0</td>\n",
       "    </tr>\n",
       "    <tr>\n",
       "      <th>to giving away nft follow</th>\n",
       "      <td>0.0</td>\n",
       "      <td>0.0</td>\n",
       "      <td>0.0</td>\n",
       "      <td>0.0</td>\n",
       "      <td>0.0</td>\n",
       "      <td>0.0</td>\n",
       "      <td>0.0</td>\n",
       "      <td>0.0</td>\n",
       "      <td>0.0</td>\n",
       "      <td>0.0</td>\n",
       "      <td>...</td>\n",
       "      <td>0.0</td>\n",
       "      <td>0.0</td>\n",
       "      <td>0.0</td>\n",
       "      <td>0.0</td>\n",
       "      <td>0.0</td>\n",
       "      <td>0.0</td>\n",
       "      <td>0.0</td>\n",
       "      <td>0.0</td>\n",
       "      <td>0.0</td>\n",
       "      <td>0.0</td>\n",
       "    </tr>\n",
       "    <tr>\n",
       "      <th>club hand nft art artist</th>\n",
       "      <td>0.0</td>\n",
       "      <td>0.0</td>\n",
       "      <td>0.0</td>\n",
       "      <td>0.0</td>\n",
       "      <td>0.0</td>\n",
       "      <td>0.0</td>\n",
       "      <td>0.0</td>\n",
       "      <td>0.0</td>\n",
       "      <td>0.0</td>\n",
       "      <td>0.0</td>\n",
       "      <td>...</td>\n",
       "      <td>0.0</td>\n",
       "      <td>0.0</td>\n",
       "      <td>0.0</td>\n",
       "      <td>0.0</td>\n",
       "      <td>0.0</td>\n",
       "      <td>0.0</td>\n",
       "      <td>0.0</td>\n",
       "      <td>0.0</td>\n",
       "      <td>0.0</td>\n",
       "      <td>0.0</td>\n",
       "    </tr>\n",
       "    <tr>\n",
       "      <th>ethereum</th>\n",
       "      <td>0.0</td>\n",
       "      <td>0.0</td>\n",
       "      <td>0.0</td>\n",
       "      <td>0.0</td>\n",
       "      <td>0.0</td>\n",
       "      <td>0.0</td>\n",
       "      <td>0.0</td>\n",
       "      <td>0.0</td>\n",
       "      <td>0.0</td>\n",
       "      <td>0.0</td>\n",
       "      <td>...</td>\n",
       "      <td>0.0</td>\n",
       "      <td>0.0</td>\n",
       "      <td>0.0</td>\n",
       "      <td>0.0</td>\n",
       "      <td>0.0</td>\n",
       "      <td>0.0</td>\n",
       "      <td>0.0</td>\n",
       "      <td>0.0</td>\n",
       "      <td>0.0</td>\n",
       "      <td>0.0</td>\n",
       "    </tr>\n",
       "    <tr>\n",
       "      <th>market gain close to in hour value jump token see triple digit gain</th>\n",
       "      <td>0.0</td>\n",
       "      <td>0.0</td>\n",
       "      <td>0.0</td>\n",
       "      <td>0.0</td>\n",
       "      <td>0.0</td>\n",
       "      <td>0.0</td>\n",
       "      <td>0.0</td>\n",
       "      <td>0.0</td>\n",
       "      <td>0.0</td>\n",
       "      <td>0.0</td>\n",
       "      <td>...</td>\n",
       "      <td>0.0</td>\n",
       "      <td>0.0</td>\n",
       "      <td>0.0</td>\n",
       "      <td>0.0</td>\n",
       "      <td>0.0</td>\n",
       "      <td>0.0</td>\n",
       "      <td>0.0</td>\n",
       "      <td>0.0</td>\n",
       "      <td>0.0</td>\n",
       "      <td>0.0</td>\n",
       "    </tr>\n",
       "    <tr>\n",
       "      <th>faucet fund into on the ethereum test network</th>\n",
       "      <td>0.0</td>\n",
       "      <td>0.0</td>\n",
       "      <td>0.0</td>\n",
       "      <td>0.0</td>\n",
       "      <td>0.0</td>\n",
       "      <td>0.0</td>\n",
       "      <td>0.0</td>\n",
       "      <td>0.0</td>\n",
       "      <td>0.0</td>\n",
       "      <td>0.0</td>\n",
       "      <td>...</td>\n",
       "      <td>0.0</td>\n",
       "      <td>0.0</td>\n",
       "      <td>0.0</td>\n",
       "      <td>0.0</td>\n",
       "      <td>0.0</td>\n",
       "      <td>0.0</td>\n",
       "      <td>0.0</td>\n",
       "      <td>0.0</td>\n",
       "      <td>0.0</td>\n",
       "      <td>0.0</td>\n",
       "    </tr>\n",
       "  </tbody>\n",
       "</table>\n",
       "<p>10 rows × 417 columns</p>\n",
       "</div>"
      ],
      "text/plain": [
       "                                                    abstract  account  active  \\\n",
       "text                                                                            \n",
       "b let s trading                                          0.0      0.0     0.0   \n",
       "the big cat will produce a unique nft collectio...       0.0      0.0     0.0   \n",
       "sneak peek ethereum halo goon away spot on this...       0.0      0.0     0.0   \n",
       "some of the artist live in place where their fr...       0.0      0.0     0.0   \n",
       "a g e nft of follow                                      0.0      0.0     0.0   \n",
       "to giving away nft follow                                0.0      0.0     0.0   \n",
       "club hand nft art artist                                 0.0      0.0     0.0   \n",
       "ethereum                                                 0.0      0.0     0.0   \n",
       "market gain close to in hour value jump token s...       0.0      0.0     0.0   \n",
       "faucet fund into on the ethereum test network            0.0      0.0     0.0   \n",
       "\n",
       "                                                    activity  actually  add  \\\n",
       "text                                                                          \n",
       "b let s trading                                          0.0       0.0  0.0   \n",
       "the big cat will produce a unique nft collectio...       0.0       0.0  0.0   \n",
       "sneak peek ethereum halo goon away spot on this...       0.0       0.0  0.0   \n",
       "some of the artist live in place where their fr...       0.0       0.0  0.0   \n",
       "a g e nft of follow                                      0.0       0.0  0.0   \n",
       "to giving away nft follow                                0.0       0.0  0.0   \n",
       "club hand nft art artist                                 0.0       0.0  0.0   \n",
       "ethereum                                                 0.0       0.0  0.0   \n",
       "market gain close to in hour value jump token s...       0.0       0.0  0.0   \n",
       "faucet fund into on the ethereum test network            0.0       0.0  0.0   \n",
       "\n",
       "                                                    address  ago  airdrop  \\\n",
       "text                                                                        \n",
       "b let s trading                                         0.0  0.0      0.0   \n",
       "the big cat will produce a unique nft collectio...      0.0  0.0      0.0   \n",
       "sneak peek ethereum halo goon away spot on this...      0.0  0.0      0.0   \n",
       "some of the artist live in place where their fr...      0.0  0.0      0.0   \n",
       "a g e nft of follow                                     0.0  0.0      0.0   \n",
       "to giving away nft follow                               0.0  0.0      0.0   \n",
       "club hand nft art artist                                0.0  0.0      0.0   \n",
       "ethereum                                                0.0  0.0      0.0   \n",
       "market gain close to in hour value jump token s...      0.0  0.0      0.0   \n",
       "faucet fund into on the ethereum test network           0.0  0.0      0.0   \n",
       "\n",
       "                                                    alien  ...  work  working  \\\n",
       "text                                                       ...                  \n",
       "b let s trading                                       0.0  ...   0.0      0.0   \n",
       "the big cat will produce a unique nft collectio...    0.0  ...   0.0      0.0   \n",
       "sneak peek ethereum halo goon away spot on this...    0.0  ...   0.0      0.0   \n",
       "some of the artist live in place where their fr...    0.0  ...   0.0      0.0   \n",
       "a g e nft of follow                                   0.0  ...   0.0      0.0   \n",
       "to giving away nft follow                             0.0  ...   0.0      0.0   \n",
       "club hand nft art artist                              0.0  ...   0.0      0.0   \n",
       "ethereum                                              0.0  ...   0.0      0.0   \n",
       "market gain close to in hour value jump token s...    0.0  ...   0.0      0.0   \n",
       "faucet fund into on the ethereum test network         0.0  ...   0.0      0.0   \n",
       "\n",
       "                                                    world  worth  would  \\\n",
       "text                                                                      \n",
       "b let s trading                                       0.0    0.0    0.0   \n",
       "the big cat will produce a unique nft collectio...    0.0    0.0    0.0   \n",
       "sneak peek ethereum halo goon away spot on this...    0.0    0.0    0.0   \n",
       "some of the artist live in place where their fr...    0.0    0.0    0.0   \n",
       "a g e nft of follow                                   0.0    0.0    0.0   \n",
       "to giving away nft follow                             0.0    0.0    0.0   \n",
       "club hand nft art artist                              0.0    0.0    0.0   \n",
       "ethereum                                              0.0    0.0    0.0   \n",
       "market gain close to in hour value jump token s...    0.0    0.0    0.0   \n",
       "faucet fund into on the ethereum test network         0.0    0.0    0.0   \n",
       "\n",
       "                                                    wrong  year  yes  yet  \\\n",
       "text                                                                        \n",
       "b let s trading                                       0.0   0.0  0.0  0.0   \n",
       "the big cat will produce a unique nft collectio...    0.0   0.0  0.0  0.0   \n",
       "sneak peek ethereum halo goon away spot on this...    0.0   0.0  0.0  0.0   \n",
       "some of the artist live in place where their fr...    0.0   0.0  0.0  0.0   \n",
       "a g e nft of follow                                   0.0   0.0  0.0  0.0   \n",
       "to giving away nft follow                             0.0   0.0  0.0  0.0   \n",
       "club hand nft art artist                              0.0   0.0  0.0  0.0   \n",
       "ethereum                                              0.0   0.0  0.0  0.0   \n",
       "market gain close to in hour value jump token s...    0.0   0.0  0.0  0.0   \n",
       "faucet fund into on the ethereum test network         0.0   0.0  0.0  0.0   \n",
       "\n",
       "                                                    yield  \n",
       "text                                                       \n",
       "b let s trading                                       0.0  \n",
       "the big cat will produce a unique nft collectio...    0.0  \n",
       "sneak peek ethereum halo goon away spot on this...    0.0  \n",
       "some of the artist live in place where their fr...    0.0  \n",
       "a g e nft of follow                                   0.0  \n",
       "to giving away nft follow                             0.0  \n",
       "club hand nft art artist                              0.0  \n",
       "ethereum                                              0.0  \n",
       "market gain close to in hour value jump token s...    0.0  \n",
       "faucet fund into on the ethereum test network         0.0  \n",
       "\n",
       "[10 rows x 417 columns]"
      ]
     },
     "execution_count": 28,
     "metadata": {},
     "output_type": "execute_result"
    }
   ],
   "source": [
    "##TFIDF\n",
    "cv_tfidf = TfidfVectorizer(stop_words=stop_words,max_df =0.7, min_df=3)\n",
    "doc_word_tfidf = cv_tfidf.fit_transform(df_eth.text)\n",
    "pd.DataFrame(doc_word_tfidf.toarray(), index=df_eth.text, columns=cv_tfidf.get_feature_names()).head(10)"
   ]
  },
  {
   "cell_type": "code",
   "execution_count": 29,
   "id": "89b5f3f6",
   "metadata": {},
   "outputs": [
    {
     "data": {
      "text/plain": [
       "(1201, 417)"
      ]
     },
     "execution_count": 29,
     "metadata": {},
     "output_type": "execute_result"
    }
   ],
   "source": [
    "doc_word_tfidf.shape"
   ]
  },
  {
   "cell_type": "code",
   "execution_count": 30,
   "id": "ea3ec853",
   "metadata": {},
   "outputs": [],
   "source": [
    "def display_topics(model, feature_names, no_top_words, topic_names=None):\n",
    "    for ix, topic in enumerate(model.components_):\n",
    "        if not topic_names or not topic_names[ix]:\n",
    "            print(\"\\nTopic \", ix)\n",
    "        else:\n",
    "            print(\"\\nTopic: '\",topic_names[ix],\"'\")\n",
    "        print(\", \".join([feature_names[i]\n",
    "                        for i in topic.argsort()[:-no_top_words - 1:-1]]))"
   ]
  },
  {
   "cell_type": "markdown",
   "id": "4161974a",
   "metadata": {},
   "source": [
    "### NMF Model"
   ]
  },
  {
   "cell_type": "code",
   "execution_count": 31,
   "id": "48af85d4",
   "metadata": {},
   "outputs": [],
   "source": [
    "from sklearn.decomposition import NMF, TruncatedSVD"
   ]
  },
  {
   "cell_type": "code",
   "execution_count": 32,
   "id": "0b469706",
   "metadata": {},
   "outputs": [
    {
     "name": "stderr",
     "output_type": "stream",
     "text": [
      "/Users/Elena/Anaconda/anaconda3/envs/metis/lib/python3.8/site-packages/sklearn/decomposition/_nmf.py:312: FutureWarning: The 'init' value, when 'init=None' and n_components is less than n_samples and n_features, will be changed from 'nndsvd' to 'nndsvda' in 1.1 (renaming of 0.26).\n",
      "  warnings.warn((\"The 'init' value, when 'init=None' and \"\n"
     ]
    }
   ],
   "source": [
    "n_topics=10\n",
    "nmf = NMF(n_components=n_topics)\n",
    "doc_topic=nmf.fit_transform(doc_word_tfidf)"
   ]
  },
  {
   "cell_type": "code",
   "execution_count": 33,
   "id": "15764a2b",
   "metadata": {},
   "outputs": [
    {
     "data": {
      "text/html": [
       "<div>\n",
       "<style scoped>\n",
       "    .dataframe tbody tr th:only-of-type {\n",
       "        vertical-align: middle;\n",
       "    }\n",
       "\n",
       "    .dataframe tbody tr th {\n",
       "        vertical-align: top;\n",
       "    }\n",
       "\n",
       "    .dataframe thead th {\n",
       "        text-align: right;\n",
       "    }\n",
       "</style>\n",
       "<table border=\"1\" class=\"dataframe\">\n",
       "  <thead>\n",
       "    <tr style=\"text-align: right;\">\n",
       "      <th></th>\n",
       "      <th>abstract</th>\n",
       "      <th>account</th>\n",
       "      <th>active</th>\n",
       "      <th>activity</th>\n",
       "      <th>actually</th>\n",
       "      <th>add</th>\n",
       "      <th>address</th>\n",
       "      <th>ago</th>\n",
       "      <th>airdrop</th>\n",
       "      <th>alien</th>\n",
       "      <th>...</th>\n",
       "      <th>work</th>\n",
       "      <th>working</th>\n",
       "      <th>world</th>\n",
       "      <th>worth</th>\n",
       "      <th>would</th>\n",
       "      <th>wrong</th>\n",
       "      <th>year</th>\n",
       "      <th>yes</th>\n",
       "      <th>yet</th>\n",
       "      <th>yield</th>\n",
       "    </tr>\n",
       "  </thead>\n",
       "  <tbody>\n",
       "    <tr>\n",
       "      <th>component_1</th>\n",
       "      <td>0.000</td>\n",
       "      <td>0.005</td>\n",
       "      <td>0.011</td>\n",
       "      <td>0.000</td>\n",
       "      <td>0.000</td>\n",
       "      <td>0.001</td>\n",
       "      <td>0.026</td>\n",
       "      <td>0.010</td>\n",
       "      <td>0.000</td>\n",
       "      <td>0.000</td>\n",
       "      <td>...</td>\n",
       "      <td>0.018</td>\n",
       "      <td>0.003</td>\n",
       "      <td>0.000</td>\n",
       "      <td>0.016</td>\n",
       "      <td>0.010</td>\n",
       "      <td>0.000</td>\n",
       "      <td>0.010</td>\n",
       "      <td>0.009</td>\n",
       "      <td>0.009</td>\n",
       "      <td>0.000</td>\n",
       "    </tr>\n",
       "    <tr>\n",
       "      <th>component_2</th>\n",
       "      <td>0.000</td>\n",
       "      <td>0.000</td>\n",
       "      <td>0.003</td>\n",
       "      <td>0.000</td>\n",
       "      <td>0.000</td>\n",
       "      <td>0.000</td>\n",
       "      <td>0.000</td>\n",
       "      <td>0.000</td>\n",
       "      <td>0.000</td>\n",
       "      <td>0.000</td>\n",
       "      <td>...</td>\n",
       "      <td>0.007</td>\n",
       "      <td>0.002</td>\n",
       "      <td>0.807</td>\n",
       "      <td>0.000</td>\n",
       "      <td>0.000</td>\n",
       "      <td>0.000</td>\n",
       "      <td>0.000</td>\n",
       "      <td>0.007</td>\n",
       "      <td>0.889</td>\n",
       "      <td>0.000</td>\n",
       "    </tr>\n",
       "    <tr>\n",
       "      <th>component_3</th>\n",
       "      <td>0.000</td>\n",
       "      <td>0.000</td>\n",
       "      <td>0.000</td>\n",
       "      <td>0.000</td>\n",
       "      <td>0.000</td>\n",
       "      <td>0.000</td>\n",
       "      <td>0.000</td>\n",
       "      <td>0.000</td>\n",
       "      <td>0.000</td>\n",
       "      <td>0.000</td>\n",
       "      <td>...</td>\n",
       "      <td>0.013</td>\n",
       "      <td>0.000</td>\n",
       "      <td>0.000</td>\n",
       "      <td>0.000</td>\n",
       "      <td>0.000</td>\n",
       "      <td>0.000</td>\n",
       "      <td>0.000</td>\n",
       "      <td>0.000</td>\n",
       "      <td>0.000</td>\n",
       "      <td>0.000</td>\n",
       "    </tr>\n",
       "    <tr>\n",
       "      <th>component_4</th>\n",
       "      <td>0.000</td>\n",
       "      <td>0.000</td>\n",
       "      <td>0.000</td>\n",
       "      <td>0.000</td>\n",
       "      <td>0.000</td>\n",
       "      <td>0.000</td>\n",
       "      <td>0.000</td>\n",
       "      <td>0.000</td>\n",
       "      <td>0.000</td>\n",
       "      <td>0.000</td>\n",
       "      <td>...</td>\n",
       "      <td>0.000</td>\n",
       "      <td>0.000</td>\n",
       "      <td>0.000</td>\n",
       "      <td>0.000</td>\n",
       "      <td>0.000</td>\n",
       "      <td>0.000</td>\n",
       "      <td>0.000</td>\n",
       "      <td>0.000</td>\n",
       "      <td>0.000</td>\n",
       "      <td>0.000</td>\n",
       "    </tr>\n",
       "    <tr>\n",
       "      <th>component_5</th>\n",
       "      <td>0.007</td>\n",
       "      <td>0.000</td>\n",
       "      <td>0.000</td>\n",
       "      <td>0.019</td>\n",
       "      <td>0.011</td>\n",
       "      <td>0.028</td>\n",
       "      <td>0.157</td>\n",
       "      <td>0.000</td>\n",
       "      <td>0.000</td>\n",
       "      <td>0.000</td>\n",
       "      <td>...</td>\n",
       "      <td>0.001</td>\n",
       "      <td>0.000</td>\n",
       "      <td>0.000</td>\n",
       "      <td>0.024</td>\n",
       "      <td>0.002</td>\n",
       "      <td>0.000</td>\n",
       "      <td>0.000</td>\n",
       "      <td>0.000</td>\n",
       "      <td>0.000</td>\n",
       "      <td>0.000</td>\n",
       "    </tr>\n",
       "    <tr>\n",
       "      <th>component_6</th>\n",
       "      <td>0.000</td>\n",
       "      <td>0.000</td>\n",
       "      <td>0.000</td>\n",
       "      <td>0.000</td>\n",
       "      <td>0.000</td>\n",
       "      <td>0.000</td>\n",
       "      <td>0.000</td>\n",
       "      <td>0.000</td>\n",
       "      <td>0.000</td>\n",
       "      <td>0.000</td>\n",
       "      <td>...</td>\n",
       "      <td>0.000</td>\n",
       "      <td>0.001</td>\n",
       "      <td>0.000</td>\n",
       "      <td>0.015</td>\n",
       "      <td>0.013</td>\n",
       "      <td>0.001</td>\n",
       "      <td>0.000</td>\n",
       "      <td>0.000</td>\n",
       "      <td>0.000</td>\n",
       "      <td>0.011</td>\n",
       "    </tr>\n",
       "    <tr>\n",
       "      <th>component_7</th>\n",
       "      <td>0.005</td>\n",
       "      <td>0.049</td>\n",
       "      <td>0.000</td>\n",
       "      <td>0.004</td>\n",
       "      <td>0.000</td>\n",
       "      <td>0.005</td>\n",
       "      <td>0.002</td>\n",
       "      <td>0.017</td>\n",
       "      <td>1.104</td>\n",
       "      <td>0.000</td>\n",
       "      <td>...</td>\n",
       "      <td>0.013</td>\n",
       "      <td>0.000</td>\n",
       "      <td>0.762</td>\n",
       "      <td>0.000</td>\n",
       "      <td>0.001</td>\n",
       "      <td>0.000</td>\n",
       "      <td>0.051</td>\n",
       "      <td>0.025</td>\n",
       "      <td>0.000</td>\n",
       "      <td>0.000</td>\n",
       "    </tr>\n",
       "    <tr>\n",
       "      <th>component_8</th>\n",
       "      <td>0.000</td>\n",
       "      <td>0.000</td>\n",
       "      <td>0.000</td>\n",
       "      <td>0.000</td>\n",
       "      <td>0.000</td>\n",
       "      <td>0.003</td>\n",
       "      <td>0.000</td>\n",
       "      <td>0.000</td>\n",
       "      <td>0.000</td>\n",
       "      <td>1.293</td>\n",
       "      <td>...</td>\n",
       "      <td>0.010</td>\n",
       "      <td>0.000</td>\n",
       "      <td>0.000</td>\n",
       "      <td>0.000</td>\n",
       "      <td>0.000</td>\n",
       "      <td>0.000</td>\n",
       "      <td>0.004</td>\n",
       "      <td>0.000</td>\n",
       "      <td>0.000</td>\n",
       "      <td>0.000</td>\n",
       "    </tr>\n",
       "    <tr>\n",
       "      <th>component_9</th>\n",
       "      <td>0.000</td>\n",
       "      <td>0.022</td>\n",
       "      <td>0.010</td>\n",
       "      <td>0.000</td>\n",
       "      <td>0.000</td>\n",
       "      <td>0.015</td>\n",
       "      <td>0.005</td>\n",
       "      <td>0.000</td>\n",
       "      <td>0.000</td>\n",
       "      <td>0.000</td>\n",
       "      <td>...</td>\n",
       "      <td>0.000</td>\n",
       "      <td>0.016</td>\n",
       "      <td>0.000</td>\n",
       "      <td>0.000</td>\n",
       "      <td>0.000</td>\n",
       "      <td>0.000</td>\n",
       "      <td>0.008</td>\n",
       "      <td>0.000</td>\n",
       "      <td>0.000</td>\n",
       "      <td>0.012</td>\n",
       "    </tr>\n",
       "    <tr>\n",
       "      <th>component_10</th>\n",
       "      <td>0.000</td>\n",
       "      <td>0.000</td>\n",
       "      <td>0.000</td>\n",
       "      <td>0.000</td>\n",
       "      <td>0.000</td>\n",
       "      <td>0.002</td>\n",
       "      <td>0.000</td>\n",
       "      <td>0.000</td>\n",
       "      <td>0.000</td>\n",
       "      <td>0.000</td>\n",
       "      <td>...</td>\n",
       "      <td>0.000</td>\n",
       "      <td>0.000</td>\n",
       "      <td>0.000</td>\n",
       "      <td>0.000</td>\n",
       "      <td>0.000</td>\n",
       "      <td>0.000</td>\n",
       "      <td>0.047</td>\n",
       "      <td>0.000</td>\n",
       "      <td>0.000</td>\n",
       "      <td>0.001</td>\n",
       "    </tr>\n",
       "  </tbody>\n",
       "</table>\n",
       "<p>10 rows × 417 columns</p>\n",
       "</div>"
      ],
      "text/plain": [
       "              abstract  account  active  activity  actually    add  address  \\\n",
       "component_1      0.000    0.005   0.011     0.000     0.000  0.001    0.026   \n",
       "component_2      0.000    0.000   0.003     0.000     0.000  0.000    0.000   \n",
       "component_3      0.000    0.000   0.000     0.000     0.000  0.000    0.000   \n",
       "component_4      0.000    0.000   0.000     0.000     0.000  0.000    0.000   \n",
       "component_5      0.007    0.000   0.000     0.019     0.011  0.028    0.157   \n",
       "component_6      0.000    0.000   0.000     0.000     0.000  0.000    0.000   \n",
       "component_7      0.005    0.049   0.000     0.004     0.000  0.005    0.002   \n",
       "component_8      0.000    0.000   0.000     0.000     0.000  0.003    0.000   \n",
       "component_9      0.000    0.022   0.010     0.000     0.000  0.015    0.005   \n",
       "component_10     0.000    0.000   0.000     0.000     0.000  0.002    0.000   \n",
       "\n",
       "                ago  airdrop  alien  ...   work  working  world  worth  would  \\\n",
       "component_1   0.010    0.000  0.000  ...  0.018    0.003  0.000  0.016  0.010   \n",
       "component_2   0.000    0.000  0.000  ...  0.007    0.002  0.807  0.000  0.000   \n",
       "component_3   0.000    0.000  0.000  ...  0.013    0.000  0.000  0.000  0.000   \n",
       "component_4   0.000    0.000  0.000  ...  0.000    0.000  0.000  0.000  0.000   \n",
       "component_5   0.000    0.000  0.000  ...  0.001    0.000  0.000  0.024  0.002   \n",
       "component_6   0.000    0.000  0.000  ...  0.000    0.001  0.000  0.015  0.013   \n",
       "component_7   0.017    1.104  0.000  ...  0.013    0.000  0.762  0.000  0.001   \n",
       "component_8   0.000    0.000  1.293  ...  0.010    0.000  0.000  0.000  0.000   \n",
       "component_9   0.000    0.000  0.000  ...  0.000    0.016  0.000  0.000  0.000   \n",
       "component_10  0.000    0.000  0.000  ...  0.000    0.000  0.000  0.000  0.000   \n",
       "\n",
       "              wrong   year    yes    yet  yield  \n",
       "component_1   0.000  0.010  0.009  0.009  0.000  \n",
       "component_2   0.000  0.000  0.007  0.889  0.000  \n",
       "component_3   0.000  0.000  0.000  0.000  0.000  \n",
       "component_4   0.000  0.000  0.000  0.000  0.000  \n",
       "component_5   0.000  0.000  0.000  0.000  0.000  \n",
       "component_6   0.001  0.000  0.000  0.000  0.011  \n",
       "component_7   0.000  0.051  0.025  0.000  0.000  \n",
       "component_8   0.000  0.004  0.000  0.000  0.000  \n",
       "component_9   0.000  0.008  0.000  0.000  0.012  \n",
       "component_10  0.000  0.047  0.000  0.000  0.001  \n",
       "\n",
       "[10 rows x 417 columns]"
      ]
     },
     "execution_count": 33,
     "metadata": {},
     "output_type": "execute_result"
    }
   ],
   "source": [
    "topic_word = pd.DataFrame(nmf.components_.round(3),\n",
    "             index = [\"component_1\",\"component_2\",\"component_3\",\"component_4\",\"component_5\",\n",
    "                     \"component_6\",\"component_7\",\"component_8\",\"component_9\",\"component_10\"],\n",
    "             columns = cv_tfidf.get_feature_names())\n",
    "topic_word"
   ]
  },
  {
   "cell_type": "code",
   "execution_count": 34,
   "id": "40bf1b0f",
   "metadata": {
    "scrolled": false
   },
   "outputs": [
    {
     "name": "stdout",
     "output_type": "stream",
     "text": [
      "\n",
      "Topic  0\n",
      "ethereum, network, price, buy, gas, solana, faucet, test, fund, binance\n",
      "\n",
      "Topic  1\n",
      "eye, yet, dream, find, ha, world, discovered, art, edit, stillness\n",
      "\n",
      "Topic  2\n",
      "check, rare, amazing, nft, listing, project, sir, enter, winner, free\n",
      "\n",
      "Topic  3\n",
      "collectible, eye, angel, ley, oriental, dance, series, de, going, chain\n",
      "\n",
      "Topic  4\n",
      "nft, collection, follow, drop, purchase, discover, may, address, randomly, get\n",
      "\n",
      "Topic  5\n",
      "bitcoin, binance, price, cash, bet, coin, money, para, gain, en\n",
      "\n",
      "Topic  6\n",
      "airdrop, free, coin, new, world, giveaway, get, one, follow, need\n",
      "\n",
      "Topic  7\n",
      "available, art, alien, nft, artist, sold, club, term, real, wa\n",
      "\n",
      "Topic  8\n",
      "go, way, along, maybe, ethereum, home, let, big, time, join\n",
      "\n",
      "Topic  9\n",
      "found, look, stillness, gun, girl, eye, share, need, network, token\n"
     ]
    }
   ],
   "source": [
    "display_topics(nmf, cv_tfidf.get_feature_names(), 10)"
   ]
  },
  {
   "cell_type": "code",
   "execution_count": 35,
   "id": "4fb3f78a",
   "metadata": {},
   "outputs": [],
   "source": [
    "## among all the topics, topic 9 contains a lot of unexplainanle words\n",
    "## We need to inspect each topic to better under the content"
   ]
  },
  {
   "cell_type": "code",
   "execution_count": 36,
   "id": "44a3d2ab",
   "metadata": {},
   "outputs": [
    {
     "name": "stdout",
     "output_type": "stream",
     "text": [
      "[0.00118557 0.         0.00098145 0.         0.00092402 0.00185955\n",
      " 0.00556928 0.         0.00772191 0.00019928]\n"
     ]
    }
   ],
   "source": [
    "print(doc_topic[0])"
   ]
  },
  {
   "cell_type": "code",
   "execution_count": 37,
   "id": "9e5474f2",
   "metadata": {},
   "outputs": [
    {
     "data": {
      "text/plain": [
       "'b let s trading'"
      ]
     },
     "execution_count": 37,
     "metadata": {},
     "output_type": "execute_result"
    }
   ],
   "source": [
    "df_eth.text.iloc[0]"
   ]
  },
  {
   "cell_type": "code",
   "execution_count": 38,
   "id": "0652bca8",
   "metadata": {
    "scrolled": true
   },
   "outputs": [
    {
     "data": {
      "text/plain": [
       "0     8\n",
       "1     4\n",
       "2     0\n",
       "3     6\n",
       "4     4\n",
       "6     4\n",
       "7     7\n",
       "8     0\n",
       "9     5\n",
       "11    0\n",
       "Name: argmax_topic, dtype: int64"
      ]
     },
     "execution_count": 38,
     "metadata": {},
     "output_type": "execute_result"
    }
   ],
   "source": [
    "df_eth['argmax_topic']=np.argmax(doc_topic, axis=1)\n",
    "df_eth.argmax_topic.head(10)"
   ]
  },
  {
   "cell_type": "code",
   "execution_count": 39,
   "id": "043d3ec8",
   "metadata": {},
   "outputs": [
    {
     "data": {
      "text/plain": [
       "0    302\n",
       "4    240\n",
       "6    172\n",
       "5    136\n",
       "1     77\n",
       "9     71\n",
       "2     62\n",
       "3     54\n",
       "7     45\n",
       "8     42\n",
       "Name: argmax_topic, dtype: int64"
      ]
     },
     "execution_count": 39,
     "metadata": {},
     "output_type": "execute_result"
    }
   ],
   "source": [
    "pd.Series(df_eth.argmax_topic).value_counts()"
   ]
  },
  {
   "cell_type": "code",
   "execution_count": 40,
   "id": "b91e4b85",
   "metadata": {},
   "outputs": [],
   "source": [
    "###########\n",
    "# Topic 0 #  ### Ethereum Network, how other crytos are affected \n",
    "###########"
   ]
  },
  {
   "cell_type": "code",
   "execution_count": 122,
   "id": "7587c2a7",
   "metadata": {
    "scrolled": true
   },
   "outputs": [
    {
     "data": {
      "text/plain": [
       "842    ethereum layer two developer valued at followi...\n",
       "843    is that true that seek to integrate the applic...\n",
       "850                                  good night ethereum\n",
       "861               do you believe ethereum will flip sure\n",
       "864    model or in ethereum like minimum doe to parti...\n",
       "865                                          de ethereum\n",
       "872    b we all know tron network is ethereum tron s ...\n",
       "885    poll for ethereum community you wake up in and...\n",
       "887              current price of ethereum change volume\n",
       "901    b dao is coming a start for our digital countr...\n",
       "Name: text, dtype: object"
      ]
     },
     "execution_count": 122,
     "metadata": {},
     "output_type": "execute_result"
    }
   ],
   "source": [
    "df_eth_0=df_eth[df_eth.argmax_topic==0]\n",
    "df_eth_0.text.iloc[190:200]"
   ]
  },
  {
   "cell_type": "code",
   "execution_count": 108,
   "id": "a947e2dd",
   "metadata": {
    "scrolled": true
   },
   "outputs": [
    {
     "data": {
      "text/plain": [
       "\"b'Requesting faucet funds into 0x5bEbF71Da5172229A2162d0548466e76123bDa81 on the #Rinkeby #Ethereum test network.'\""
      ]
     },
     "execution_count": 108,
     "metadata": {},
     "output_type": "execute_result"
    }
   ],
   "source": [
    "df_eth_orig.text.iloc[11]"
   ]
  },
  {
   "cell_type": "code",
   "execution_count": 117,
   "id": "920d93f4",
   "metadata": {},
   "outputs": [
    {
     "data": {
      "text/plain": [
       "\"b'RT @laurashin: Lightning has much less total value locked ($165 million) than big Ethereum-based DeFi protocols (billion of $). @RyanTheGen\\\\xe2\\\\x80\\\\xa6'\""
      ]
     },
     "execution_count": 117,
     "metadata": {},
     "output_type": "execute_result"
    }
   ],
   "source": [
    "df_eth_orig.text.iloc[358]"
   ]
  },
  {
   "cell_type": "code",
   "execution_count": 118,
   "id": "ca7dd63b",
   "metadata": {},
   "outputs": [
    {
     "data": {
      "text/plain": [
       "\"b'RT @intocryptoverse: If you cannot mentally navigate #Bitcoin\\\\xe2\\\\x80\\\\x99s range between $30k-$60k (with short and slight deviations outside of it) or\\\\xe2\\\\x80\\\\xa6'\""
      ]
     },
     "execution_count": 118,
     "metadata": {},
     "output_type": "execute_result"
    }
   ],
   "source": [
    "df_eth_orig.text.iloc[539]"
   ]
  },
  {
   "cell_type": "code",
   "execution_count": 121,
   "id": "0992d953",
   "metadata": {
    "scrolled": true
   },
   "outputs": [
    {
     "data": {
      "text/plain": [
       "\"b'$BNB #BNB #BinanceSmartChain \\\\n\\\\nRespect the BNB and never doubt it.\\\\nAs much of a competitor to the \\\\xf0\\\\x9f\\\\x91\\\\x91  as #Ethereum.'\""
      ]
     },
     "execution_count": 121,
     "metadata": {},
     "output_type": "execute_result"
    }
   ],
   "source": [
    "df_eth_orig.text.iloc[978]"
   ]
  },
  {
   "cell_type": "code",
   "execution_count": 124,
   "id": "f5ccc16e",
   "metadata": {},
   "outputs": [
    {
     "data": {
      "text/plain": [
       "'b\"@BTCTN We all know Tron network is Ethereum 2.0. #Tron\\'s development team has already made the Super Representative\\\\xe2\\\\x80\\\\xa6 https://t.co/I8oQ4lRlWM\"'"
      ]
     },
     "execution_count": 124,
     "metadata": {},
     "output_type": "execute_result"
    }
   ],
   "source": [
    "df_eth_orig.text.iloc[872]"
   ]
  },
  {
   "cell_type": "code",
   "execution_count": 47,
   "id": "ff8680b6",
   "metadata": {},
   "outputs": [],
   "source": [
    "###########\n",
    "# Topic 1 #  ### Robot accounts to promote NFTs\n",
    "###########"
   ]
  },
  {
   "cell_type": "code",
   "execution_count": 130,
   "id": "1cabe9c1",
   "metadata": {},
   "outputs": [
    {
     "data": {
      "text/plain": [
       "544    find your dream in eye eye are a world that ha...\n",
       "554    find your dream in eye eye are a world that ha...\n",
       "560    find your dream in eye eye are a world that ha...\n",
       "568    find your dream in eye eye are a world that ha...\n",
       "578    find your dream in eye eye are a world that ha...\n",
       "584    the smart contract of effect is anti whale eff...\n",
       "586    find your dream in eye eye are a world that ha...\n",
       "600    find your dream in eye eye are a world that ha...\n",
       "608    find your dream in eye eye are a world that ha...\n",
       "626    find your dream in eye eye are a world that ha...\n",
       "643    find your dream in eye eye are a world that ha...\n",
       "650    find your dream in eye eye are a world that ha...\n",
       "656    find your dream in eye eye are a world that ha...\n",
       "661    find your dream in eye eye are a world that ha...\n",
       "670    find your dream in eye eye are a world that ha...\n",
       "698    find your dream in eye eye are a world that ha...\n",
       "700    today i want to present you to he ha a white i...\n",
       "714    find your dream in eye eye are a world that ha...\n",
       "719    find your dream in eye eye are a world that ha...\n",
       "726    find your dream in eye eye are a world that ha...\n",
       "Name: text, dtype: object"
      ]
     },
     "execution_count": 130,
     "metadata": {},
     "output_type": "execute_result"
    }
   ],
   "source": [
    "df_eth_1=df_eth[df_eth.argmax_topic==1]\n",
    "df_eth_1.text.iloc[40:60]"
   ]
  },
  {
   "cell_type": "code",
   "execution_count": 126,
   "id": "50638719",
   "metadata": {},
   "outputs": [
    {
     "data": {
      "text/plain": [
       "\"b'RT @MetawarOfficial: Less than 2 days after Metawar launch, Metawar chat - 1 has reached 200,000 users, it is full, so fast\\\\xf0\\\\x9f\\\\xa5\\\\xb0\\\\n\\\\n#Binance #Bit\\\\xe2\\\\x80\\\\xa6'\""
      ]
     },
     "execution_count": 126,
     "metadata": {},
     "output_type": "execute_result"
    }
   ],
   "source": [
    "df_eth_orig.text.iloc[75]"
   ]
  },
  {
   "cell_type": "code",
   "execution_count": 128,
   "id": "005f644d",
   "metadata": {},
   "outputs": [
    {
     "data": {
      "text/plain": [
       "'b\\'@DeanSteinerNFT \" Find your dreams in eyes \" Eyes are a world that has not yet been discovered #art #pixelart #edit\\\\xe2\\\\x80\\\\xa6 https://t.co/8qxX1xRxBz\\''"
      ]
     },
     "execution_count": 128,
     "metadata": {},
     "output_type": "execute_result"
    }
   ],
   "source": [
    "df_eth_orig.text.iloc[289]"
   ]
  },
  {
   "cell_type": "code",
   "execution_count": 131,
   "id": "1847e33e",
   "metadata": {},
   "outputs": [
    {
     "data": {
      "text/plain": [
       "'b\\'@DeanSteinerNFT \" Find your dreams in eyes \" Eyes are a world that has not yet been discovered #art #pixelart #edit\\\\xe2\\\\x80\\\\xa6 https://t.co/8qxX1xRxBz\\''"
      ]
     },
     "execution_count": 131,
     "metadata": {},
     "output_type": "execute_result"
    }
   ],
   "source": [
    "df_eth_orig.text.iloc[289]"
   ]
  },
  {
   "cell_type": "code",
   "execution_count": 134,
   "id": "481e6461",
   "metadata": {},
   "outputs": [
    {
     "data": {
      "text/plain": [
       "\"b'RT @TaleteDiNerete: Today I want to present you to \\\\xe3\\\\x81\\\\x91\\\\xe3\\\\x81\\\\x84, he has a White Maneki-neko.\\\\n\\\\nHe is the Squeerkat #777 and now is on sale on OpenSea\\\\xe2\\\\x80\\\\xa6'\""
      ]
     },
     "execution_count": 134,
     "metadata": {},
     "output_type": "execute_result"
    }
   ],
   "source": [
    "df_eth_orig.text.iloc[700]"
   ]
  },
  {
   "cell_type": "code",
   "execution_count": 54,
   "id": "5c1ca2d4",
   "metadata": {},
   "outputs": [],
   "source": [
    "###########\n",
    "# Topic 2 #  #### Promote NFT\n",
    "###########"
   ]
  },
  {
   "cell_type": "code",
   "execution_count": 138,
   "id": "44926064",
   "metadata": {},
   "outputs": [
    {
     "data": {
      "text/plain": [
       "503                     check this amazing nft it a rare\n",
       "506                     check this amazing nft it a rare\n",
       "518                     check this amazing nft it a rare\n",
       "566                 check out my nft listing on ethereum\n",
       "572    is not total score can check by the effect con...\n",
       "649                     check this amazing nft it a rare\n",
       "657                     check this amazing nft it a rare\n",
       "662                     check this amazing nft it a rare\n",
       "673                     check this amazing nft it a rare\n",
       "678                     check this amazing nft it a rare\n",
       "680    ethereum is my second biggest holding i believ...\n",
       "702                     check this amazing nft it a rare\n",
       "710                     check this amazing nft it a rare\n",
       "717    check out my photography project on still in t...\n",
       "724              you can now have free check out you are\n",
       "750       you can now have free check out the man who ha\n",
       "764                                   check you ethereum\n",
       "783                                            check sir\n",
       "831                     check this amazing nft it a rare\n",
       "Name: text, dtype: object"
      ]
     },
     "execution_count": 138,
     "metadata": {},
     "output_type": "execute_result"
    }
   ],
   "source": [
    "df_eth_2=df_eth[df_eth.argmax_topic==2]\n",
    "df_eth_2.text.iloc[21:40]"
   ]
  },
  {
   "cell_type": "code",
   "execution_count": 135,
   "id": "eedf6efd",
   "metadata": {},
   "outputs": [
    {
     "data": {
      "text/plain": [
       "\"b'@psikoape Check this amazing Ape\\\\xf0\\\\x9f\\\\xa6\\\\x8d NFT \\\\xf0\\\\x9f\\\\xa6\\\\x8d\\\\xf0\\\\x9f\\\\xa6\\\\x8d Its a Rare Nft..\\\\xf0\\\\x9f\\\\xa6\\\\x8d\\\\xf0\\\\x9f\\\\xa6\\\\x8d\\\\nhttps://t.co/fIMVmDiazX \\\\n#nft #nftart #nftartist\\\\xe2\\\\x80\\\\xa6 https://t.co/I7mqSogFOh'\""
      ]
     },
     "execution_count": 135,
     "metadata": {},
     "output_type": "execute_result"
    }
   ],
   "source": [
    "df_eth_orig.text.iloc[54]"
   ]
  },
  {
   "cell_type": "code",
   "execution_count": 136,
   "id": "1e1044ad",
   "metadata": {},
   "outputs": [
    {
     "data": {
      "text/plain": [
       "\"b'RT @FTeller420: The community over @Cool_Dogs_ has been amazing and it seems that someone has been coming through to sweep up that floor!\\\\xf0\\\\x9f\\\\x91\\\\x80\\\\xe2\\\\x80\\\\xa6'\""
      ]
     },
     "execution_count": 136,
     "metadata": {},
     "output_type": "execute_result"
    }
   ],
   "source": [
    "df_eth_orig.text.iloc[111]"
   ]
  },
  {
   "cell_type": "code",
   "execution_count": 137,
   "id": "3f48b90d",
   "metadata": {},
   "outputs": [
    {
     "data": {
      "text/plain": [
       "\"b'RT @NFTLEMON_: \\\\xf0\\\\x9f\\\\x8e\\\\x8a #NFTGiveaway \\\\xf0\\\\x9f\\\\x8e\\\\x8a\\\\n\\\\n\\\\xf0\\\\x9f\\\\x8e\\\\x81A lucky winner will get a WL for this amazing project \\\\xf0\\\\x9f\\\\x8c\\\\x88\\\\xf0\\\\x9f\\\\x90\\\\xb5\\\\n\\\\nStay tuned\\\\n\\\\nTo Enter:\\\\n\\\\n1\\\\xef\\\\xb8\\\\x8f\\\\xe2\\\\x83\\\\xa3Follow @ApeDoods &amp; @N\\\\xe2\\\\x80\\\\xa6'\""
      ]
     },
     "execution_count": 137,
     "metadata": {},
     "output_type": "execute_result"
    }
   ],
   "source": [
    "df_eth_orig.text.iloc[277]"
   ]
  },
  {
   "cell_type": "code",
   "execution_count": 139,
   "id": "5884af72",
   "metadata": {},
   "outputs": [
    {
     "data": {
      "text/plain": [
       "\"b'RT @TheCryptoLark: #ethereum is my second biggest #crypto holding. I believe the team is going to deliver something really amazing for ETH\\\\xe2\\\\x80\\\\xa6'\""
      ]
     },
     "execution_count": 139,
     "metadata": {},
     "output_type": "execute_result"
    }
   ],
   "source": [
    "df_eth_orig.text.iloc[680]"
   ]
  },
  {
   "cell_type": "code",
   "execution_count": 59,
   "id": "abe5a400",
   "metadata": {},
   "outputs": [],
   "source": [
    "###########\n",
    "# Topic 3 #  #### Almost all include #Rarible and #NFT, so we can assume that topic 3 is about selling NFTs in Rarible\n",
    "###########"
   ]
  },
  {
   "cell_type": "code",
   "execution_count": 60,
   "id": "1ae646f6",
   "metadata": {},
   "outputs": [
    {
     "data": {
      "text/plain": [
       "44                         just evening flow collectible\n",
       "64                               just ley de collectible\n",
       "106    the mask maniac club is a collection of unique...\n",
       "130                          just lovely boy collectible\n",
       "182                                     just collectible\n",
       "198    mint now alpha and omega of one of the first d...\n",
       "260                                     just collectible\n",
       "304                                 just eye collectible\n",
       "380                                     just collectible\n",
       "389                              time string and the ley\n",
       "405                                 just eye collectible\n",
       "447                                 just eye collectible\n",
       "490                                     just collectible\n",
       "515    hello are making collectible and half of the p...\n",
       "585                                 going ham riser rise\n",
       "595                                     just collectible\n",
       "664    i think you have really discovered just i thin...\n",
       "669        just omega collectible the most expensive nft\n",
       "671                   integration between is going to be\n",
       "704                                 just eye collectible\n",
       "705                                     just collectible\n",
       "744                                 just eye collectible\n",
       "758                             just bomb it collectible\n",
       "759                                     just collectible\n",
       "766    this is an nft edition digital collectible wit...\n",
       "787               just oriental dance series collectible\n",
       "808             will be listed on is a chain hub on that\n",
       "852               just oriental dance series collectible\n",
       "899                            just piss off collectible\n",
       "913                      the angel of wisdom collectible\n",
       "Name: text, dtype: object"
      ]
     },
     "execution_count": 60,
     "metadata": {},
     "output_type": "execute_result"
    }
   ],
   "source": [
    "df_eth_3=df_eth[df_eth.argmax_topic==3]\n",
    "df_eth_3.text.iloc[0:30]"
   ]
  },
  {
   "cell_type": "code",
   "execution_count": 140,
   "id": "a895607b",
   "metadata": {},
   "outputs": [
    {
     "data": {
      "text/plain": [
       "'b\\'I\\\\\\'ve just created \"\"Evening Flow\"\" collectible! https://t.co/BXU3olkuna #rarible #ethereum #flow #nonfungible\\\\xe2\\\\x80\\\\xa6 https://t.co/0CMvZ6Trce\\''"
      ]
     },
     "execution_count": 140,
     "metadata": {},
     "output_type": "execute_result"
    }
   ],
   "source": [
    "df_eth_orig.text.iloc[44]"
   ]
  },
  {
   "cell_type": "code",
   "execution_count": 141,
   "id": "9a7eac52",
   "metadata": {},
   "outputs": [
    {
     "data": {
      "text/plain": [
       "'b\\'I\\\\\\'ve just created \"Shiva\" collectible! https://t.co/Q24fbeTy4a #rarible #ethereum  #NFTCommunity #nftart #NFTs\\\\xc2\\\\xa0\\\\xe2\\\\x80\\\\xa6 https://t.co/Va8EXLktOq\\''"
      ]
     },
     "execution_count": 141,
     "metadata": {},
     "output_type": "execute_result"
    }
   ],
   "source": [
    "df_eth_orig.text.iloc[380]"
   ]
  },
  {
   "cell_type": "code",
   "execution_count": 142,
   "id": "4eaec815",
   "metadata": {},
   "outputs": [
    {
     "data": {
      "text/plain": [
       "'b\\'\"The Angel of Wisdom\" collectible! https://t.co/490VdJvjZy #rarible #ethereum #flow #nonfungible #NFTCommunity\\\\xe2\\\\x80\\\\xa6 https://t.co/rFpgUgZl18\\''"
      ]
     },
     "execution_count": 142,
     "metadata": {},
     "output_type": "execute_result"
    }
   ],
   "source": [
    "df_eth_orig.text.iloc[913]"
   ]
  },
  {
   "cell_type": "code",
   "execution_count": 64,
   "id": "1bbab553",
   "metadata": {},
   "outputs": [],
   "source": [
    "###########\n",
    "# Topic 4 #  ### NFT\n",
    "###########"
   ]
  },
  {
   "cell_type": "code",
   "execution_count": 65,
   "id": "7ea72f5a",
   "metadata": {
    "scrolled": true
   },
   "outputs": [
    {
     "data": {
      "text/plain": [
       "1     the big cat will produce a unique nft collecti...\n",
       "4                                   a g e nft of follow\n",
       "6                             to giving away nft follow\n",
       "17                          discover the collection nft\n",
       "18               lucky winner will get a their and stay\n",
       "19    to win you need friend winner nft winner luck ...\n",
       "20                                           polygon de\n",
       "23                      drop your activity extra follow\n",
       "26                                   follow like tag on\n",
       "30                          discover the collection nft\n",
       "35    service are unlocking innovative nft use case ...\n",
       "36                                             away nft\n",
       "47    winner will receive a another undead pastel nf...\n",
       "48                          discover the collection nft\n",
       "52    more than just a game of play for fun or play ...\n",
       "58    making it too easy may actually bring security...\n",
       "61    this is my gift to you that support me every d...\n",
       "63    so many going on at the same winner will be at...\n",
       "67    drop your ethereum address randomly drop nft j...\n",
       "69    welcome to my new mandala made by thank you so...\n",
       "Name: text, dtype: object"
      ]
     },
     "execution_count": 65,
     "metadata": {},
     "output_type": "execute_result"
    }
   ],
   "source": [
    "df_eth_4=df_eth[df_eth.argmax_topic==4]\n",
    "df_eth_4.text.iloc[0:20]"
   ]
  },
  {
   "cell_type": "code",
   "execution_count": 143,
   "id": "34f27d0d",
   "metadata": {},
   "outputs": [
    {
     "data": {
      "text/plain": [
       "\"b'RT @bigcats_nft: The Big Cats will produce a unique NFT collection on the Ethereum Blockchain.\\\\n\\\\nAll of the Big Cats NFTs have been made by\\\\xe2\\\\x80\\\\xa6'\""
      ]
     },
     "execution_count": 143,
     "metadata": {},
     "output_type": "execute_result"
    }
   ],
   "source": [
    "df_eth_orig.text.iloc[1]"
   ]
  },
  {
   "cell_type": "code",
   "execution_count": 144,
   "id": "b16f54f8",
   "metadata": {},
   "outputs": [
    {
     "data": {
      "text/plain": [
       "\"b'@iamDCinvestor @ethereum Making it too easy may actually bring less security and more centralization to the network\\\\xe2\\\\x80\\\\xa6 https://t.co/K9PYjcl9lq'\""
      ]
     },
     "execution_count": 144,
     "metadata": {},
     "output_type": "execute_result"
    }
   ],
   "source": [
    "df_eth_orig.text.iloc[58]"
   ]
  },
  {
   "cell_type": "code",
   "execution_count": 68,
   "id": "bbc6415c",
   "metadata": {},
   "outputs": [
    {
     "data": {
      "text/plain": [
       "\"b'Hany Mukhtar bought for 0.465 ETH (1549.32$) on the secondary market \\\\n\\\\nSeason: 2021-2022\\\\nLevel: 7\\\\nSerial: 8/100\\\\nPri\\\\xe2\\\\x80\\\\xa6 https://t.co/6sJ3zTYtJM'\""
      ]
     },
     "execution_count": 68,
     "metadata": {},
     "output_type": "execute_result"
    }
   ],
   "source": [
    "df_eth_orig.text.iloc[558]"
   ]
  },
  {
   "cell_type": "code",
   "execution_count": 69,
   "id": "fef4d335",
   "metadata": {},
   "outputs": [],
   "source": [
    "###########\n",
    "# Topic 5 #   ###More intellectual thinkings about Eth and other cryptos\n",
    "###########"
   ]
  },
  {
   "cell_type": "code",
   "execution_count": 148,
   "id": "8cbe4856",
   "metadata": {
    "scrolled": true
   },
   "outputs": [
    {
     "data": {
      "text/plain": [
       "1094    swipe and lead higher after bitcoin hit ethere...\n",
       "1097                            bitcoin ethereum ethereum\n",
       "1098    incredible to see baby saying he want to hold ...\n",
       "1122     price today market dip marginally even a bitcoin\n",
       "1130    b apparently and enable bitcoin on ethereum ca...\n",
       "1147    b bitcoin and are useless and pointless for th...\n",
       "1156       person who and me will win a nft worth bitcoin\n",
       "1157                                  bitcoin price slide\n",
       "1160    if got a dream chase it because the dream chas...\n",
       "1188                                     bitcoin ethereum\n",
       "1204                                  gas price fast slow\n",
       "1205       ethereum i expect serious rise in bitcoin dodo\n",
       "1224                                  bitcoin ethereum bu\n",
       "1226                       bitcoin is ethereum is are dum\n",
       "1281                  is about to go parabolic in bitcoin\n",
       "1288                      bitcoin price price price price\n",
       "1295    banning bitcoin or ethereum security could be ...\n",
       "1301                                              bitcoin\n",
       "1327                                            han en de\n",
       "1335    did you know is now a proof to heal it proof w...\n",
       "Name: text, dtype: object"
      ]
     },
     "execution_count": 148,
     "metadata": {},
     "output_type": "execute_result"
    }
   ],
   "source": [
    "df_eth_5=df_eth[df_eth.argmax_topic==5]\n",
    "df_eth_5.text.iloc[110:130]"
   ]
  },
  {
   "cell_type": "code",
   "execution_count": 71,
   "id": "8004f35e",
   "metadata": {},
   "outputs": [
    {
     "data": {
      "text/plain": [
       "\"b'4chan /biz/ coin mentions (past hour)\\\\n\\\\n#1\\\\xf0\\\\x9f\\\\xa5\\\\x87 Bitcoin: 30 (-3)\\\\n#2\\\\xf0\\\\x9f\\\\xa5\\\\x88 Ethereum: 15 (-3)\\\\n#3\\\\xf0\\\\x9f\\\\xa5\\\\x89 Fantom: 14 (-1)\\\\n#4 Chainlink:\\\\xe2\\\\x80\\\\xa6 https://t.co/w4wLpQkeaE'\""
      ]
     },
     "execution_count": 71,
     "metadata": {},
     "output_type": "execute_result"
    }
   ],
   "source": [
    "df_eth_orig.text.iloc[55]"
   ]
  },
  {
   "cell_type": "code",
   "execution_count": 72,
   "id": "1fae560a",
   "metadata": {},
   "outputs": [
    {
     "data": {
      "text/plain": [
       "\"b'RT @AkitaAlliance: The wait is almost Over. We are FAMILY and we deserve This!\\\\n#AKITA #AKITA_NETWORK #AVAX #Ethereum \\\\n@essojayofficial @Mac\\\\xe2\\\\x80\\\\xa6'\""
      ]
     },
     "execution_count": 72,
     "metadata": {},
     "output_type": "execute_result"
    }
   ],
   "source": [
    "df_eth_orig.text.iloc[274]"
   ]
  },
  {
   "cell_type": "code",
   "execution_count": 146,
   "id": "3e469f33",
   "metadata": {},
   "outputs": [
    {
     "data": {
      "text/plain": [
       "'b\"RT @CardanoConvo: It is about time that #Cardano gets the recognition that it deserves! It\\'s been a better bet for multiple years!\\\\xf0\\\\x9f\\\\x98\\\\x84\\\\n\\\\nhttps:\\\\xe2\\\\x80\\\\xa6\"'"
      ]
     },
     "execution_count": 146,
     "metadata": {},
     "output_type": "execute_result"
    }
   ],
   "source": [
    "df_eth_orig.text.iloc[1071]"
   ]
  },
  {
   "cell_type": "code",
   "execution_count": 149,
   "id": "adef952e",
   "metadata": {},
   "outputs": [
    {
     "data": {
      "text/plain": [
       "\"b'Crypto Prices Today: Market dips marginally even as Bitcoin, Ethereum\\\\xc2\\\\xa0dip https://t.co/f3BeUXhV60'\""
      ]
     },
     "execution_count": 149,
     "metadata": {},
     "output_type": "execute_result"
    }
   ],
   "source": [
    "df_eth_orig.text.iloc[1122]"
   ]
  },
  {
   "cell_type": "code",
   "execution_count": 75,
   "id": "79cf6624",
   "metadata": {},
   "outputs": [],
   "source": [
    "###########\n",
    "# Topic 6 #  ### A guy called Richard Heart(PulseX.com) posting about his Youtube Live event \n",
    "###########  ### talks how cryto change the future lives and financial system"
   ]
  },
  {
   "cell_type": "code",
   "execution_count": 162,
   "id": "bf0e8f5f",
   "metadata": {
    "scrolled": true
   },
   "outputs": [
    {
     "data": {
      "text/plain": [
       "647    the by rarity is live official project for mon...\n",
       "667             game and more coming this highly engaged\n",
       "676                bought for by n on the primary market\n",
       "685              market watch coin with massive ethereum\n",
       "686      b trade with value your love trading our family\n",
       "687             game and more coming this highly engaged\n",
       "688      b trade with value your love trading our family\n",
       "695    new user will enter the space through without ...\n",
       "699                   free money yes please the standard\n",
       "718    will completely change the rule of the game in...\n",
       "723                                      hi happy day on\n",
       "727    will completely change the rule of the game in...\n",
       "739    will completely change the rule of the game in...\n",
       "742                   bought for on the secondary market\n",
       "746    much more convenient for u increase adoption a...\n",
       "767    win free cash with entrepreneurial leadership ...\n",
       "774    hex is already doing what is trying to do with...\n",
       "778    the reason why i decided to draw a picture of ...\n",
       "794    win free cash with not whether you get down wh...\n",
       "796                             of the video of steven i\n",
       "Name: text, dtype: object"
      ]
     },
     "execution_count": 162,
     "metadata": {},
     "output_type": "execute_result"
    }
   ],
   "source": [
    "df_eth_6=df_eth[df_eth.argmax_topic==6]\n",
    "df_eth_6.text.iloc[80:100]"
   ]
  },
  {
   "cell_type": "code",
   "execution_count": 150,
   "id": "0f4ab006",
   "metadata": {},
   "outputs": [
    {
     "data": {
      "text/plain": [
       "\"b'RT @jpatten__: Some of the @Treasure_DAO artists live in places where their friends can\\\\xe2\\\\x80\\\\x99t mint their NFTs (free mints!) without blowing wee\\\\xe2\\\\x80\\\\xa6'\""
      ]
     },
     "execution_count": 150,
     "metadata": {},
     "output_type": "execute_result"
    }
   ],
   "source": [
    "df_eth_orig.text.iloc[3]"
   ]
  },
  {
   "cell_type": "code",
   "execution_count": 153,
   "id": "227dab7a",
   "metadata": {},
   "outputs": [
    {
     "data": {
      "text/plain": [
       "\"b'Senator Cynthia Lummis backs crypto for US retirement plans\\\\n#ethereum #trading #litecoin #coinbase\\\\nhttps://t.co/XUUYVSquG3'\""
      ]
     },
     "execution_count": 153,
     "metadata": {},
     "output_type": "execute_result"
    }
   ],
   "source": [
    "df_eth_orig.text.iloc[57]"
   ]
  },
  {
   "cell_type": "code",
   "execution_count": 159,
   "id": "db0e4174",
   "metadata": {},
   "outputs": [
    {
     "data": {
      "text/plain": [
       "\"b'\\\\xe2\\\\x9a\\\\xa0\\\\xef\\\\xb8\\\\x8fURGENT ETHEREUM FREE AIRDROP &amp; NEW COIN $1B WORLDS LARGEST! 5% INCREAS... https://t.co/58K64AZjDc via @YouTube'\""
      ]
     },
     "execution_count": 159,
     "metadata": {},
     "output_type": "execute_result"
    }
   ],
   "source": [
    "df_eth_orig.text.iloc[458]"
   ]
  },
  {
   "cell_type": "code",
   "execution_count": 163,
   "id": "991ee165",
   "metadata": {},
   "outputs": [
    {
     "data": {
      "text/plain": [
       "\"b'RT @NarbTrading: New users will enter the space through @0xPolygon without even knowing they\\\\xe2\\\\x80\\\\x99re using Ethereum.\\\\n\\\\nFurther in the future, new\\\\xe2\\\\x80\\\\xa6'\""
      ]
     },
     "execution_count": 163,
     "metadata": {},
     "output_type": "execute_result"
    }
   ],
   "source": [
    "df_eth_orig.text.iloc[695]"
   ]
  },
  {
   "cell_type": "code",
   "execution_count": 81,
   "id": "298ff787",
   "metadata": {},
   "outputs": [],
   "source": [
    "###########\n",
    "# Topic 7 #  ### Annoucement of a new NFT collection & The impact and power of Ethereum network\n",
    "###########"
   ]
  },
  {
   "cell_type": "code",
   "execution_count": 168,
   "id": "1a14bb43",
   "metadata": {
    "scrolled": true
   },
   "outputs": [
    {
     "data": {
      "text/plain": [
       "548                       alien available now on nft art\n",
       "561                          poetry art or grid ethereum\n",
       "563                       alien available now on nft art\n",
       "564                              nft art artist ethereum\n",
       "576                       alien available now on nft art\n",
       "593                       alien available now on nft art\n",
       "613                       alien available now on nft art\n",
       "638    edition republican nft now available limited s...\n",
       "645                       alien available now on nft art\n",
       "660                       alien available now on nft art\n",
       "691                       alien available now on nft art\n",
       "711                       alien available now on nft art\n",
       "713    my available work world the power of ethereum ...\n",
       "722                       alien available now on nft art\n",
       "725    daily doodle is available now doodle are on et...\n",
       "733                       alien available now on nft art\n",
       "737                         sold nft art artist ethereum\n",
       "756                                 bear deluxe sold for\n",
       "893                            circle of hell at dod art\n",
       "905                                                  art\n",
       "Name: text, dtype: object"
      ]
     },
     "execution_count": 168,
     "metadata": {},
     "output_type": "execute_result"
    }
   ],
   "source": [
    "df_eth_7=df_eth[df_eth.argmax_topic==7]\n",
    "df_eth_7.text.iloc[20:40]"
   ]
  },
  {
   "cell_type": "code",
   "execution_count": 165,
   "id": "05c1818a",
   "metadata": {},
   "outputs": [
    {
     "data": {
      "text/plain": [
       "'b\"RT @pseudotheos: Ethereum has become the intersection of tech, culture, finance, and art. \\\\n\\\\nCan\\'t wait to see what this becomes 10 years fr\\\\xe2\\\\x80\\\\xa6\"'"
      ]
     },
     "execution_count": 165,
     "metadata": {},
     "output_type": "execute_result"
    }
   ],
   "source": [
    "df_eth_orig.text.iloc[27]"
   ]
  },
  {
   "cell_type": "code",
   "execution_count": 166,
   "id": "9eea3051",
   "metadata": {},
   "outputs": [
    {
     "data": {
      "text/plain": [
       "'b\\'An analysis published by Linkedin on January 13, 2021 shows that from 2020 to 2021, hiring with the terms \"Bitcoin,\\\\xe2\\\\x80\\\\xa6 https://t.co/VapC6q5A0v\\''"
      ]
     },
     "execution_count": 166,
     "metadata": {},
     "output_type": "execute_result"
    }
   ],
   "source": [
    "df_eth_orig.text.iloc[278]"
   ]
  },
  {
   "cell_type": "code",
   "execution_count": 167,
   "id": "960cd56d",
   "metadata": {},
   "outputs": [
    {
     "data": {
      "text/plain": [
       "\"b'Alien #77 available Now on @opensea \\\\xf0\\\\x9f\\\\x91\\\\xbd\\\\n\\\\n#nftart #nft #nftartist #art #digitalart #nftcommunity #nfts #cryptoart\\\\xe2\\\\x80\\\\xa6 https://t.co/xhXr3BEMZQ'\""
      ]
     },
     "execution_count": 167,
     "metadata": {},
     "output_type": "execute_result"
    }
   ],
   "source": [
    "df_eth_orig.text.iloc[528]"
   ]
  },
  {
   "cell_type": "code",
   "execution_count": 169,
   "id": "f0acdcec",
   "metadata": {},
   "outputs": [
    {
     "data": {
      "text/plain": [
       "\"b'RT @DoubleSart: My Available work \\\\xf0\\\\x9f\\\\x94\\\\xa5\\\\n\\\\nETHEREUM WORLD // 0.3 $ETH\\\\nWith the greatest power of Ethereum, all creatures are hunting for it.\\\\n\\\\nhtt\\\\xe2\\\\x80\\\\xa6'\""
      ]
     },
     "execution_count": 169,
     "metadata": {},
     "output_type": "execute_result"
    }
   ],
   "source": [
    "df_eth_orig.text.iloc[713]"
   ]
  },
  {
   "cell_type": "code",
   "execution_count": 87,
   "id": "5f183de8",
   "metadata": {},
   "outputs": [],
   "source": [
    "###########\n",
    "# Topic 8 #  #### Random\n",
    "###########"
   ]
  },
  {
   "cell_type": "code",
   "execution_count": 175,
   "id": "62c98aca",
   "metadata": {
    "scrolled": true
   },
   "outputs": [
    {
     "data": {
      "text/plain": [
       "846     can you do with your one way is to stake them ...\n",
       "886     is the go to oracle is the key to the working ...\n",
       "897                            go big or go home ethereum\n",
       "900                                                    go\n",
       "1083                       b finally a wait too much only\n",
       "1186                     my for ethereum go vulnerability\n",
       "1195            maybe some ethereum will go along way for\n",
       "1200            maybe some ethereum will go along way for\n",
       "1207            maybe some ethereum will go along way for\n",
       "1211            maybe some ethereum will go along way for\n",
       "1219            maybe some ethereum will go along way for\n",
       "1225            maybe some ethereum will go along way for\n",
       "1234            maybe some ethereum will go along way for\n",
       "1242            maybe some ethereum will go along way for\n",
       "1247            maybe some ethereum will go along way for\n",
       "1251            maybe some ethereum will go along way for\n",
       "1255    then let me one more good is a node a a servic...\n",
       "1276                                      go nft ethereum\n",
       "1362            maybe some ethereum will go along way for\n",
       "1368            maybe some ethereum will go along way for\n",
       "Name: text, dtype: object"
      ]
     },
     "execution_count": 175,
     "metadata": {},
     "output_type": "execute_result"
    }
   ],
   "source": [
    "df_eth_8=df_eth[df_eth.argmax_topic==8]\n",
    "df_eth_8.text.iloc[20:40]"
   ]
  },
  {
   "cell_type": "code",
   "execution_count": 171,
   "id": "e17730a8",
   "metadata": {},
   "outputs": [
    {
     "data": {
      "text/plain": [
       "\"b'RT @chainlink: Chainlink decentralized services are unlocking innovative #NFT use cases across gaming, DeFi, and beyond.\\\\n\\\\nExplore today\\\\xe2\\\\x80\\\\x99s i\\\\xe2\\\\x80\\\\xa6'\""
      ]
     },
     "execution_count": 171,
     "metadata": {},
     "output_type": "execute_result"
    }
   ],
   "source": [
    "df_eth_orig.text.iloc[35]"
   ]
  },
  {
   "cell_type": "code",
   "execution_count": 172,
   "id": "09d3fe15",
   "metadata": {},
   "outputs": [
    {
     "data": {
      "text/plain": [
       "\"b'RT @iamDCinvestor: Ethereum staking UX is still WAY too hard 1+ year later, and even experienced users are reticent to change clients\\\\n\\\\ni wo\\\\xe2\\\\x80\\\\xa6'\""
      ]
     },
     "execution_count": 172,
     "metadata": {},
     "output_type": "execute_result"
    }
   ],
   "source": [
    "df_eth_orig.text.iloc[364]"
   ]
  },
  {
   "cell_type": "code",
   "execution_count": 176,
   "id": "e2f46fb3",
   "metadata": {},
   "outputs": [
    {
     "data": {
      "text/plain": [
       "\"b'@blocka84 @mongs_nft @mongoosecoineth Maybe some Ethereum will go along way for college.\\\\n\\\\n0xFbE6A589fDAEf5b5019520195EA0cD5F533c9aA5'\""
      ]
     },
     "execution_count": 176,
     "metadata": {},
     "output_type": "execute_result"
    }
   ],
   "source": [
    "df_eth_orig.text.iloc[1195]"
   ]
  },
  {
   "cell_type": "code",
   "execution_count": 185,
   "id": "4f69c1cb",
   "metadata": {},
   "outputs": [],
   "source": [
    "###########\n",
    "# Topic 9 #  ### NFTs\n",
    "###########"
   ]
  },
  {
   "cell_type": "code",
   "execution_count": 183,
   "id": "59642f94",
   "metadata": {
    "scrolled": true
   },
   "outputs": [
    {
     "data": {
      "text/plain": [
       "908     happy new year need some look at this beautifu...\n",
       "917     happy new year need some look at this beautifu...\n",
       "922                look what i found gun girl collectible\n",
       "929     happy new year need some look at this beautifu...\n",
       "947             look what i found night angel collectible\n",
       "959                look what i found gun girl collectible\n",
       "960             look what i found night angel collectible\n",
       "974     cannot wait is all the piece together the rema...\n",
       "976     cannot wait for this is all the piece together...\n",
       "996     happy new year need some look at this beautifu...\n",
       "1016    happy new year need some look at this beautifu...\n",
       "1022                                 ethereum share found\n",
       "1024               look what i found gun girl collectible\n",
       "1030                                 ethereum share found\n",
       "1037           look what i found resurrection collectible\n",
       "1044                                 ethereum share found\n",
       "1045                    look what i found hen collectible\n",
       "1061               look what i found gun girl collectible\n",
       "1069               look what i found gun girl collectible\n",
       "1076                                  which token will do\n",
       "Name: text, dtype: object"
      ]
     },
     "execution_count": 183,
     "metadata": {},
     "output_type": "execute_result"
    }
   ],
   "source": [
    "df_eth_9=df_eth[df_eth.argmax_topic==9]\n",
    "df_eth_9.text.iloc[20:40]"
   ]
  },
  {
   "cell_type": "code",
   "execution_count": 178,
   "id": "6ad3c072",
   "metadata": {},
   "outputs": [
    {
     "data": {
      "text/plain": [
       "\"b'Continuing our research on $UNO\\\\xf0\\\\x9f\\\\x94\\\\x8e\\\\xf0\\\\x9f\\\\x94\\\\x8e \\\\n\\\\nAs we dig deeper, It looks more solid. I advise always DYOR before you buy some\\\\xe2\\\\x80\\\\xa6 https://t.co/SdkHmLzNao'\""
      ]
     },
     "execution_count": 178,
     "metadata": {},
     "output_type": "execute_result"
    }
   ],
   "source": [
    "df_eth_orig.text.iloc[59]"
   ]
  },
  {
   "cell_type": "code",
   "execution_count": 180,
   "id": "2afdb23f",
   "metadata": {},
   "outputs": [
    {
     "data": {
      "text/plain": [
       "\"b'Taking care of our holders! Literally one week and look at how much has come back to the holders!! \\\\xf0\\\\x9f\\\\xa4\\\\xaf\\\\xf0\\\\x9f\\\\xa4\\\\xaf #Ethereum\\\\xe2\\\\x80\\\\xa6 https://t.co/yHpnREIXii'\""
      ]
     },
     "execution_count": 180,
     "metadata": {},
     "output_type": "execute_result"
    }
   ],
   "source": [
    "df_eth_orig.text.iloc[338]"
   ]
  },
  {
   "cell_type": "code",
   "execution_count": 181,
   "id": "360d7097",
   "metadata": {},
   "outputs": [
    {
     "data": {
      "text/plain": [
       "\"b'@NFTscollector1 Happy New Year \\\\xf0\\\\x9f\\\\xa5\\\\xb3. Needs some TLC look at this Beautiful unique Ape one of its kind.  Need a date wh\\\\xe2\\\\x80\\\\xa6 https://t.co/2wuKXFL3U8'\""
      ]
     },
     "execution_count": 181,
     "metadata": {},
     "output_type": "execute_result"
    }
   ],
   "source": [
    "df_eth_orig.text.iloc[818]"
   ]
  },
  {
   "cell_type": "code",
   "execution_count": 184,
   "id": "ab85e6a4",
   "metadata": {},
   "outputs": [
    {
     "data": {
      "text/plain": [
       "\"b'RT @Richy_Beats: @DymarczykAutym Look what I found! Gun Girl 5  collectible https://t.co/o0yCdMFnlH #rarible #ethereum #flow #nonfungible #\\\\xe2\\\\x80\\\\xa6'\""
      ]
     },
     "execution_count": 184,
     "metadata": {},
     "output_type": "execute_result"
    }
   ],
   "source": [
    "df_eth_orig.text.iloc[922]"
   ]
  },
  {
   "cell_type": "code",
   "execution_count": null,
   "id": "950ca74f",
   "metadata": {},
   "outputs": [],
   "source": [
    "#### In general, twitters about Ethereum is more random than Bitcoin, possibly because Eth is faster and cheaper\n",
    "#### and a lot of other cryto database is actually based on Eth"
   ]
  },
  {
   "cell_type": "markdown",
   "id": "10e7cafa",
   "metadata": {},
   "source": [
    "### CorEx Model"
   ]
  },
  {
   "cell_type": "code",
   "execution_count": 98,
   "id": "5a915d63",
   "metadata": {},
   "outputs": [],
   "source": [
    "from corextopic import corextopic as ct\n",
    "from corextopic import vis_topic as vt\n",
    "import matplotlib.pyplot as plt\n",
    "%matplotlib inline"
   ]
  },
  {
   "cell_type": "code",
   "execution_count": 99,
   "id": "63a245cf",
   "metadata": {},
   "outputs": [
    {
     "name": "stdout",
     "output_type": "stream",
     "text": [
      "0: per,data,tell,piece,bullish,trade,thanks,cannot,true,take\n",
      "1: people,proof,white,worth,making,asset,rule,chance,payment,present\n",
      "2: hey,exchange,video,create,secure,locked,sign,always,billion,doge\n",
      "3: fast,version,welcome,holder,thank,support,slow,care,gift,taking\n",
      "4: flow,sir,dance,oriental,yes,collectable,nonfungible,success,account,long\n",
      "5: key,gaming,heart,use,avalanche,thing,might,anyone,history,excited\n",
      "6: soon,sold,listed,near,win,cash,since,bear,min,prediction\n",
      "7: night,angel,late,update,stay,dao,profile,genesis,spot,safe\n",
      "8: lot,great,stake,home,mining,activity,earn,name,creature,said\n",
      "9: rise,classic,discord,let,got,date,even,actually,cat,face\n"
     ]
    }
   ],
   "source": [
    "words = list(np.asarray(cvec.get_feature_names()))\n",
    "topic_model = ct.Corex(n_hidden=10, words=words,\n",
    "                       max_iter=200, verbose=False, seed=1)\n",
    "\n",
    "topic_model.fit(doc_word_cv, words=words)\n",
    "\n",
    "# Print all topics from the CorEx topic model\n",
    "topics = topic_model.get_topics()\n",
    "for n,topic in enumerate(topics):\n",
    "    topic_words,_,_ = zip(*topic)\n",
    "    print('{}: '.format(n) + ','.join(topic_words))"
   ]
  },
  {
   "cell_type": "code",
   "execution_count": null,
   "id": "57c36f97",
   "metadata": {},
   "outputs": [],
   "source": []
  },
  {
   "cell_type": "code",
   "execution_count": null,
   "id": "81d4572a",
   "metadata": {},
   "outputs": [],
   "source": []
  },
  {
   "cell_type": "code",
   "execution_count": null,
   "id": "54251c94",
   "metadata": {},
   "outputs": [],
   "source": []
  },
  {
   "cell_type": "markdown",
   "id": "77c44fc5",
   "metadata": {},
   "source": [
    "### K-Means Clustering"
   ]
  },
  {
   "cell_type": "code",
   "execution_count": 100,
   "id": "a0fe0c41",
   "metadata": {},
   "outputs": [],
   "source": [
    "from sklearn.cluster import KMeans"
   ]
  },
  {
   "cell_type": "code",
   "execution_count": 101,
   "id": "eb5af3b0",
   "metadata": {},
   "outputs": [
    {
     "data": {
      "image/png": "[encoded data removed]",
      "text/plain": [
       "<Figure size 432x288 with 1 Axes>"
      ]
     },
     "metadata": {
      "needs_background": "light"
     },
     "output_type": "display_data"
    }
   ],
   "source": [
    "inertia = []\n",
    "list_num_clusters = list(range(1,20))\n",
    "for num_clusters in list_num_clusters:\n",
    "    km = KMeans(n_clusters=num_clusters, max_iter=200, n_init=10)\n",
    "    km.fit(doc_word_tfidf)\n",
    "    inertia.append(km.inertia_)\n",
    "    \n",
    "plt.plot(list_num_clusters,inertia)\n",
    "plt.scatter(list_num_clusters,inertia)\n",
    "plt.xlabel('Number of Clusters')\n",
    "plt.ylabel('Inertia');"
   ]
  },
  {
   "cell_type": "code",
   "execution_count": null,
   "id": "5e98dcb4",
   "metadata": {},
   "outputs": [],
   "source": []
  }
 ],
 "metadata": {
  "kernelspec": {
   "display_name": "Python [conda env:metis] *",
   "language": "python",
   "name": "conda-env-metis-py"
  },
  "language_info": {
   "codemirror_mode": {
    "name": "ipython",
    "version": 3
   },
   "file_extension": ".py",
   "mimetype": "text/x-python",
   "name": "python",
   "nbconvert_exporter": "python",
   "pygments_lexer": "ipython3",
   "version": "3.8.10"
  }
 },
 "nbformat": 4,
 "nbformat_minor": 5
}
