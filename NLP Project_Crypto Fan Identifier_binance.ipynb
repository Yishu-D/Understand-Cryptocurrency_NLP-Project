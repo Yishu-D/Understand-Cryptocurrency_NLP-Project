{
 "cells": [
  {
   "cell_type": "code",
   "execution_count": 1,
   "id": "dba54d42",
   "metadata": {},
   "outputs": [],
   "source": [
    "import pandas as pd\n",
    "import numpy as np\n",
    "from sklearn.feature_extraction.text import TfidfVectorizer, CountVectorizer\n",
    "from nltk.stem import WordNetLemmatizer, LancasterStemmer\n",
    "import re\n",
    "import nltk"
   ]
  },
  {
   "cell_type": "code",
   "execution_count": 2,
   "id": "8e15e399",
   "metadata": {},
   "outputs": [],
   "source": [
    "df_bnb = pd.read_csv('data_bnb.csv')"
   ]
  },
  {
   "cell_type": "markdown",
   "id": "0365101e",
   "metadata": {},
   "source": [
    "## Binance"
   ]
  },
  {
   "cell_type": "code",
   "execution_count": 3,
   "id": "7ab0833d",
   "metadata": {
    "scrolled": true
   },
   "outputs": [
    {
     "data": {
      "text/html": [
       "<div>\n",
       "<style scoped>\n",
       "    .dataframe tbody tr th:only-of-type {\n",
       "        vertical-align: middle;\n",
       "    }\n",
       "\n",
       "    .dataframe tbody tr th {\n",
       "        vertical-align: top;\n",
       "    }\n",
       "\n",
       "    .dataframe thead th {\n",
       "        text-align: right;\n",
       "    }\n",
       "</style>\n",
       "<table border=\"1\" class=\"dataframe\">\n",
       "  <thead>\n",
       "    <tr style=\"text-align: right;\">\n",
       "      <th></th>\n",
       "      <th>Unnamed: 0</th>\n",
       "      <th>id</th>\n",
       "      <th>text</th>\n",
       "      <th>datetime</th>\n",
       "      <th>Location</th>\n",
       "    </tr>\n",
       "  </thead>\n",
       "  <tbody>\n",
       "    <tr>\n",
       "      <th>0</th>\n",
       "      <td>0</td>\n",
       "      <td>1482842032897138690</td>\n",
       "      <td>b'RT @MetakingsAI: \\xf0\\x9f\\x8f\\x86\\xf0\\x9f\\x8...</td>\n",
       "      <td>2022-01-16 22:27:45</td>\n",
       "      <td>NaN</td>\n",
       "    </tr>\n",
       "    <tr>\n",
       "      <th>1</th>\n",
       "      <td>1</td>\n",
       "      <td>1482842029675581440</td>\n",
       "      <td>b'RT @missufe: $150 | 2.100.000 IDR IN 12 HRS ...</td>\n",
       "      <td>2022-01-16 22:27:44</td>\n",
       "      <td>NaN</td>\n",
       "    </tr>\n",
       "    <tr>\n",
       "      <th>2</th>\n",
       "      <td>2</td>\n",
       "      <td>1482842029134602252</td>\n",
       "      <td>b'@BabyDogeCoin @cz_binance #BabyDoge'</td>\n",
       "      <td>2022-01-16 22:27:44</td>\n",
       "      <td>NaN</td>\n",
       "    </tr>\n",
       "    <tr>\n",
       "      <th>3</th>\n",
       "      <td>3</td>\n",
       "      <td>1482842029067587585</td>\n",
       "      <td>b'@ingenious_geek @decentraland @bloktopia @Th...</td>\n",
       "      <td>2022-01-16 22:27:44</td>\n",
       "      <td>NaN</td>\n",
       "    </tr>\n",
       "    <tr>\n",
       "      <th>4</th>\n",
       "      <td>4</td>\n",
       "      <td>1482842026982973443</td>\n",
       "      <td>b'RT @cryptot81124402: Which #crypto should @b...</td>\n",
       "      <td>2022-01-16 22:27:43</td>\n",
       "      <td>NaN</td>\n",
       "    </tr>\n",
       "  </tbody>\n",
       "</table>\n",
       "</div>"
      ],
      "text/plain": [
       "   Unnamed: 0                   id  \\\n",
       "0           0  1482842032897138690   \n",
       "1           1  1482842029675581440   \n",
       "2           2  1482842029134602252   \n",
       "3           3  1482842029067587585   \n",
       "4           4  1482842026982973443   \n",
       "\n",
       "                                                text             datetime  \\\n",
       "0  b'RT @MetakingsAI: \\xf0\\x9f\\x8f\\x86\\xf0\\x9f\\x8...  2022-01-16 22:27:45   \n",
       "1  b'RT @missufe: $150 | 2.100.000 IDR IN 12 HRS ...  2022-01-16 22:27:44   \n",
       "2             b'@BabyDogeCoin @cz_binance #BabyDoge'  2022-01-16 22:27:44   \n",
       "3  b'@ingenious_geek @decentraland @bloktopia @Th...  2022-01-16 22:27:44   \n",
       "4  b'RT @cryptot81124402: Which #crypto should @b...  2022-01-16 22:27:43   \n",
       "\n",
       "  Location  \n",
       "0      NaN  \n",
       "1      NaN  \n",
       "2      NaN  \n",
       "3      NaN  \n",
       "4      NaN  "
      ]
     },
     "execution_count": 3,
     "metadata": {},
     "output_type": "execute_result"
    }
   ],
   "source": [
    "df_bnb.head()"
   ]
  },
  {
   "cell_type": "code",
   "execution_count": 4,
   "id": "6e4ab607",
   "metadata": {},
   "outputs": [
    {
     "data": {
      "text/html": [
       "<div>\n",
       "<style scoped>\n",
       "    .dataframe tbody tr th:only-of-type {\n",
       "        vertical-align: middle;\n",
       "    }\n",
       "\n",
       "    .dataframe tbody tr th {\n",
       "        vertical-align: top;\n",
       "    }\n",
       "\n",
       "    .dataframe thead th {\n",
       "        text-align: right;\n",
       "    }\n",
       "</style>\n",
       "<table border=\"1\" class=\"dataframe\">\n",
       "  <thead>\n",
       "    <tr style=\"text-align: right;\">\n",
       "      <th></th>\n",
       "      <th>Unnamed: 0</th>\n",
       "      <th>id</th>\n",
       "      <th>text</th>\n",
       "      <th>datetime</th>\n",
       "      <th>Location</th>\n",
       "    </tr>\n",
       "  </thead>\n",
       "  <tbody>\n",
       "    <tr>\n",
       "      <th>9</th>\n",
       "      <td>9</td>\n",
       "      <td>1482842013834047491</td>\n",
       "      <td>b'RT @missufe: $150 | 2.100.000 IDR IN 12 HRS ...</td>\n",
       "      <td>2022-01-16 22:27:40</td>\n",
       "      <td>NaN</td>\n",
       "    </tr>\n",
       "    <tr>\n",
       "      <th>26</th>\n",
       "      <td>26</td>\n",
       "      <td>1482841966140624896</td>\n",
       "      <td>b'RT @defiswap_app: DeFiSwap is an open and co...</td>\n",
       "      <td>2022-01-16 22:27:29</td>\n",
       "      <td>NaN</td>\n",
       "    </tr>\n",
       "    <tr>\n",
       "      <th>29</th>\n",
       "      <td>29</td>\n",
       "      <td>1482841958993248261</td>\n",
       "      <td>b'RT @MetakingsAI: \\xf0\\x9f\\x8f\\x86\\xf0\\x9f\\x8...</td>\n",
       "      <td>2022-01-16 22:27:27</td>\n",
       "      <td>NaN</td>\n",
       "    </tr>\n",
       "    <tr>\n",
       "      <th>31</th>\n",
       "      <td>31</td>\n",
       "      <td>1482841957273829376</td>\n",
       "      <td>b'RT @CheemsInu: As we get closer to the relea...</td>\n",
       "      <td>2022-01-16 22:27:27</td>\n",
       "      <td>NaN</td>\n",
       "    </tr>\n",
       "    <tr>\n",
       "      <th>39</th>\n",
       "      <td>39</td>\n",
       "      <td>1482841934402142208</td>\n",
       "      <td>b'RT @Fatoshibsc: Listen to the words of @wolf...</td>\n",
       "      <td>2022-01-16 22:27:21</td>\n",
       "      <td>NaN</td>\n",
       "    </tr>\n",
       "    <tr>\n",
       "      <th>...</th>\n",
       "      <td>...</td>\n",
       "      <td>...</td>\n",
       "      <td>...</td>\n",
       "      <td>...</td>\n",
       "      <td>...</td>\n",
       "    </tr>\n",
       "    <tr>\n",
       "      <th>1977</th>\n",
       "      <td>1977</td>\n",
       "      <td>1482838571341996034</td>\n",
       "      <td>b'RT @deficonnect: Soon to come...\\n\\nDELTA7 o...</td>\n",
       "      <td>2022-01-16 22:13:59</td>\n",
       "      <td>NaN</td>\n",
       "    </tr>\n",
       "    <tr>\n",
       "      <th>1987</th>\n",
       "      <td>1987</td>\n",
       "      <td>1482838555160371202</td>\n",
       "      <td>b'RT @Egyptiangodsnft: Welcome Egyptian Gods N...</td>\n",
       "      <td>2022-01-16 22:13:56</td>\n",
       "      <td>NaN</td>\n",
       "    </tr>\n",
       "    <tr>\n",
       "      <th>1989</th>\n",
       "      <td>1989</td>\n",
       "      <td>1482838549728743430</td>\n",
       "      <td>b'RT @binance: F https://t.co/ywkiAr9jfT'</td>\n",
       "      <td>2022-01-16 22:13:54</td>\n",
       "      <td>NaN</td>\n",
       "    </tr>\n",
       "    <tr>\n",
       "      <th>1991</th>\n",
       "      <td>1991</td>\n",
       "      <td>1482838546725720066</td>\n",
       "      <td>b'RT @binance: F https://t.co/ywkiAr9jfT'</td>\n",
       "      <td>2022-01-16 22:13:54</td>\n",
       "      <td>NaN</td>\n",
       "    </tr>\n",
       "    <tr>\n",
       "      <th>1999</th>\n",
       "      <td>1999</td>\n",
       "      <td>1482838536982188032</td>\n",
       "      <td>b'RT @WhaleInsider: What\\xe2\\x80\\x99s your fav...</td>\n",
       "      <td>2022-01-16 22:13:51</td>\n",
       "      <td>NaN</td>\n",
       "    </tr>\n",
       "  </tbody>\n",
       "</table>\n",
       "<p>758 rows × 5 columns</p>\n",
       "</div>"
      ],
      "text/plain": [
       "      Unnamed: 0                   id  \\\n",
       "9              9  1482842013834047491   \n",
       "26            26  1482841966140624896   \n",
       "29            29  1482841958993248261   \n",
       "31            31  1482841957273829376   \n",
       "39            39  1482841934402142208   \n",
       "...          ...                  ...   \n",
       "1977        1977  1482838571341996034   \n",
       "1987        1987  1482838555160371202   \n",
       "1989        1989  1482838549728743430   \n",
       "1991        1991  1482838546725720066   \n",
       "1999        1999  1482838536982188032   \n",
       "\n",
       "                                                   text             datetime  \\\n",
       "9     b'RT @missufe: $150 | 2.100.000 IDR IN 12 HRS ...  2022-01-16 22:27:40   \n",
       "26    b'RT @defiswap_app: DeFiSwap is an open and co...  2022-01-16 22:27:29   \n",
       "29    b'RT @MetakingsAI: \\xf0\\x9f\\x8f\\x86\\xf0\\x9f\\x8...  2022-01-16 22:27:27   \n",
       "31    b'RT @CheemsInu: As we get closer to the relea...  2022-01-16 22:27:27   \n",
       "39    b'RT @Fatoshibsc: Listen to the words of @wolf...  2022-01-16 22:27:21   \n",
       "...                                                 ...                  ...   \n",
       "1977  b'RT @deficonnect: Soon to come...\\n\\nDELTA7 o...  2022-01-16 22:13:59   \n",
       "1987  b'RT @Egyptiangodsnft: Welcome Egyptian Gods N...  2022-01-16 22:13:56   \n",
       "1989          b'RT @binance: F https://t.co/ywkiAr9jfT'  2022-01-16 22:13:54   \n",
       "1991          b'RT @binance: F https://t.co/ywkiAr9jfT'  2022-01-16 22:13:54   \n",
       "1999  b'RT @WhaleInsider: What\\xe2\\x80\\x99s your fav...  2022-01-16 22:13:51   \n",
       "\n",
       "     Location  \n",
       "9         NaN  \n",
       "26        NaN  \n",
       "29        NaN  \n",
       "31        NaN  \n",
       "39        NaN  \n",
       "...       ...  \n",
       "1977      NaN  \n",
       "1987      NaN  \n",
       "1989      NaN  \n",
       "1991      NaN  \n",
       "1999      NaN  \n",
       "\n",
       "[758 rows x 5 columns]"
      ]
     },
     "execution_count": 4,
     "metadata": {},
     "output_type": "execute_result"
    }
   ],
   "source": [
    "mask = df_bnb.duplicated(subset=['text'])\n",
    "df_bnb[mask]"
   ]
  },
  {
   "cell_type": "code",
   "execution_count": 5,
   "id": "d1ccbb93",
   "metadata": {},
   "outputs": [
    {
     "data": {
      "text/plain": [
       "(1242, 5)"
      ]
     },
     "execution_count": 5,
     "metadata": {},
     "output_type": "execute_result"
    }
   ],
   "source": [
    "df_bnb = df_bnb[~mask].reset_index(drop=True)\n",
    "df_bnb.shape"
   ]
  },
  {
   "cell_type": "code",
   "execution_count": 6,
   "id": "6a328bf0",
   "metadata": {
    "scrolled": true
   },
   "outputs": [
    {
     "data": {
      "text/html": [
       "<div>\n",
       "<style scoped>\n",
       "    .dataframe tbody tr th:only-of-type {\n",
       "        vertical-align: middle;\n",
       "    }\n",
       "\n",
       "    .dataframe tbody tr th {\n",
       "        vertical-align: top;\n",
       "    }\n",
       "\n",
       "    .dataframe thead th {\n",
       "        text-align: right;\n",
       "    }\n",
       "</style>\n",
       "<table border=\"1\" class=\"dataframe\">\n",
       "  <thead>\n",
       "    <tr style=\"text-align: right;\">\n",
       "      <th></th>\n",
       "      <th>Unnamed: 0</th>\n",
       "      <th>id</th>\n",
       "      <th>text</th>\n",
       "      <th>datetime</th>\n",
       "      <th>Location</th>\n",
       "    </tr>\n",
       "  </thead>\n",
       "  <tbody>\n",
       "    <tr>\n",
       "      <th>0</th>\n",
       "      <td>0</td>\n",
       "      <td>1482842032897138690</td>\n",
       "      <td>b'RT @MetakingsAI: \\xf0\\x9f\\x8f\\x86\\xf0\\x9f\\x8...</td>\n",
       "      <td>2022-01-16 22:27:45</td>\n",
       "      <td>NaN</td>\n",
       "    </tr>\n",
       "    <tr>\n",
       "      <th>1</th>\n",
       "      <td>1</td>\n",
       "      <td>1482842029675581440</td>\n",
       "      <td>b'RT @missufe: $150 | 2.100.000 IDR IN 12 HRS ...</td>\n",
       "      <td>2022-01-16 22:27:44</td>\n",
       "      <td>NaN</td>\n",
       "    </tr>\n",
       "    <tr>\n",
       "      <th>2</th>\n",
       "      <td>2</td>\n",
       "      <td>1482842029134602252</td>\n",
       "      <td>b'@BabyDogeCoin @cz_binance #BabyDoge'</td>\n",
       "      <td>2022-01-16 22:27:44</td>\n",
       "      <td>NaN</td>\n",
       "    </tr>\n",
       "    <tr>\n",
       "      <th>3</th>\n",
       "      <td>3</td>\n",
       "      <td>1482842029067587585</td>\n",
       "      <td>b'@ingenious_geek @decentraland @bloktopia @Th...</td>\n",
       "      <td>2022-01-16 22:27:44</td>\n",
       "      <td>NaN</td>\n",
       "    </tr>\n",
       "    <tr>\n",
       "      <th>4</th>\n",
       "      <td>4</td>\n",
       "      <td>1482842026982973443</td>\n",
       "      <td>b'RT @cryptot81124402: Which #crypto should @b...</td>\n",
       "      <td>2022-01-16 22:27:43</td>\n",
       "      <td>NaN</td>\n",
       "    </tr>\n",
       "  </tbody>\n",
       "</table>\n",
       "</div>"
      ],
      "text/plain": [
       "   Unnamed: 0                   id  \\\n",
       "0           0  1482842032897138690   \n",
       "1           1  1482842029675581440   \n",
       "2           2  1482842029134602252   \n",
       "3           3  1482842029067587585   \n",
       "4           4  1482842026982973443   \n",
       "\n",
       "                                                text             datetime  \\\n",
       "0  b'RT @MetakingsAI: \\xf0\\x9f\\x8f\\x86\\xf0\\x9f\\x8...  2022-01-16 22:27:45   \n",
       "1  b'RT @missufe: $150 | 2.100.000 IDR IN 12 HRS ...  2022-01-16 22:27:44   \n",
       "2             b'@BabyDogeCoin @cz_binance #BabyDoge'  2022-01-16 22:27:44   \n",
       "3  b'@ingenious_geek @decentraland @bloktopia @Th...  2022-01-16 22:27:44   \n",
       "4  b'RT @cryptot81124402: Which #crypto should @b...  2022-01-16 22:27:43   \n",
       "\n",
       "  Location  \n",
       "0      NaN  \n",
       "1      NaN  \n",
       "2      NaN  \n",
       "3      NaN  \n",
       "4      NaN  "
      ]
     },
     "execution_count": 6,
     "metadata": {},
     "output_type": "execute_result"
    }
   ],
   "source": [
    "df_bnb.head()"
   ]
  },
  {
   "cell_type": "code",
   "execution_count": 7,
   "id": "27633370",
   "metadata": {},
   "outputs": [],
   "source": [
    "df_bnb_orig = df_bnb.copy()"
   ]
  },
  {
   "cell_type": "code",
   "execution_count": 8,
   "id": "4d54bfd1",
   "metadata": {},
   "outputs": [
    {
     "name": "stdout",
     "output_type": "stream",
     "text": [
      "b'@FEGtoken @binance \\xe2\\x99\\xa5\\xef\\xb8\\x8f\\xe2\\x9d\\x8e\\xe2\\x99\\xa5\\xef\\xb8\\x8f $FEG will rise from the ashes like a Phoenix\\xf0\\x9f\\x94\\xa5\\n\\xf0\\x9f\\xa6\\x8d\\n$USCT $FEG #SmartDefi $FEG #ListOnFEGex\\xe2\\x80\\xa6 https://t.co/qB8cLjMJni'\n",
      "b'RT @taftoken: @TheresaTaljaard @LandM_Marius @MariusBTAF @KOKLOLEG1 @Crypto_Kimmy @cz_binance $TAF will be listing on @dxsale and @PancakeS\\xe2\\x80\\xa6'\n",
      "b'@cz_binance I have created a website where you can use binance coin and all bep20 tokens to purchase over 100,000 p\\xe2\\x80\\xa6 https://t.co/8Yg3FVZoi4'\n",
      "b'RT @shehkie3: @CaroWarOfficial Great project \\xf0\\x9f\\x91\\x8d\\xf0\\x9f\\x91\\x8d\\xf0\\x9f\\x91\\x8d\\n\\nJoin @majied68 @elonmusk @azarijahromi @cz_binance @SamuelLJackson @najiem72\\n\\n#BSC #CRW #\\xe2\\x80\\xa6'\n",
      "b'RT @Lasiv4: @binance BABYDOGECO\\xc4\\xb0N \\xf0\\x9f\\x92\\xa3 https://t.co/LKAfZL1MBg'\n"
     ]
    }
   ],
   "source": [
    "for tweet in df_bnb['text'].sample(5).values:\n",
    "    print(tweet)"
   ]
  },
  {
   "cell_type": "markdown",
   "id": "04bdd001",
   "metadata": {},
   "source": [
    "### Put all hashtags into a new column"
   ]
  },
  {
   "cell_type": "code",
   "execution_count": 9,
   "id": "49a0ea38",
   "metadata": {},
   "outputs": [
    {
     "data": {
      "text/html": [
       "<div>\n",
       "<style scoped>\n",
       "    .dataframe tbody tr th:only-of-type {\n",
       "        vertical-align: middle;\n",
       "    }\n",
       "\n",
       "    .dataframe tbody tr th {\n",
       "        vertical-align: top;\n",
       "    }\n",
       "\n",
       "    .dataframe thead th {\n",
       "        text-align: right;\n",
       "    }\n",
       "</style>\n",
       "<table border=\"1\" class=\"dataframe\">\n",
       "  <thead>\n",
       "    <tr style=\"text-align: right;\">\n",
       "      <th></th>\n",
       "      <th>Unnamed: 0</th>\n",
       "      <th>id</th>\n",
       "      <th>text</th>\n",
       "      <th>datetime</th>\n",
       "      <th>Location</th>\n",
       "      <th>hashtag</th>\n",
       "    </tr>\n",
       "  </thead>\n",
       "  <tbody>\n",
       "    <tr>\n",
       "      <th>0</th>\n",
       "      <td>0</td>\n",
       "      <td>1482842032897138690</td>\n",
       "      <td>b'RT @MetakingsAI: \\xf0\\x9f\\x8f\\x86\\xf0\\x9f\\x8...</td>\n",
       "      <td>2022-01-16 22:27:45</td>\n",
       "      <td>NaN</td>\n",
       "      <td>[]</td>\n",
       "    </tr>\n",
       "    <tr>\n",
       "      <th>1</th>\n",
       "      <td>1</td>\n",
       "      <td>1482842029675581440</td>\n",
       "      <td>b'RT @missufe: $150 | 2.100.000 IDR IN 12 HRS ...</td>\n",
       "      <td>2022-01-16 22:27:44</td>\n",
       "      <td>NaN</td>\n",
       "      <td>[Byakko]</td>\n",
       "    </tr>\n",
       "    <tr>\n",
       "      <th>2</th>\n",
       "      <td>2</td>\n",
       "      <td>1482842029134602252</td>\n",
       "      <td>b'@BabyDogeCoin @cz_binance #BabyDoge'</td>\n",
       "      <td>2022-01-16 22:27:44</td>\n",
       "      <td>NaN</td>\n",
       "      <td>[BabyDoge]</td>\n",
       "    </tr>\n",
       "    <tr>\n",
       "      <th>3</th>\n",
       "      <td>3</td>\n",
       "      <td>1482842029067587585</td>\n",
       "      <td>b'@ingenious_geek @decentraland @bloktopia @Th...</td>\n",
       "      <td>2022-01-16 22:27:44</td>\n",
       "      <td>NaN</td>\n",
       "      <td>[Bloktopia]</td>\n",
       "    </tr>\n",
       "    <tr>\n",
       "      <th>4</th>\n",
       "      <td>4</td>\n",
       "      <td>1482842026982973443</td>\n",
       "      <td>b'RT @cryptot81124402: Which #crypto should @b...</td>\n",
       "      <td>2022-01-16 22:27:43</td>\n",
       "      <td>NaN</td>\n",
       "      <td>[crypto]</td>\n",
       "    </tr>\n",
       "  </tbody>\n",
       "</table>\n",
       "</div>"
      ],
      "text/plain": [
       "   Unnamed: 0                   id  \\\n",
       "0           0  1482842032897138690   \n",
       "1           1  1482842029675581440   \n",
       "2           2  1482842029134602252   \n",
       "3           3  1482842029067587585   \n",
       "4           4  1482842026982973443   \n",
       "\n",
       "                                                text             datetime  \\\n",
       "0  b'RT @MetakingsAI: \\xf0\\x9f\\x8f\\x86\\xf0\\x9f\\x8...  2022-01-16 22:27:45   \n",
       "1  b'RT @missufe: $150 | 2.100.000 IDR IN 12 HRS ...  2022-01-16 22:27:44   \n",
       "2             b'@BabyDogeCoin @cz_binance #BabyDoge'  2022-01-16 22:27:44   \n",
       "3  b'@ingenious_geek @decentraland @bloktopia @Th...  2022-01-16 22:27:44   \n",
       "4  b'RT @cryptot81124402: Which #crypto should @b...  2022-01-16 22:27:43   \n",
       "\n",
       "  Location      hashtag  \n",
       "0      NaN           []  \n",
       "1      NaN     [Byakko]  \n",
       "2      NaN   [BabyDoge]  \n",
       "3      NaN  [Bloktopia]  \n",
       "4      NaN     [crypto]  "
      ]
     },
     "execution_count": 9,
     "metadata": {},
     "output_type": "execute_result"
    }
   ],
   "source": [
    "df_bnb['hashtag'] = df_bnb['text'].apply(lambda x: re.findall(r\"#(\\w+)\", x))\n",
    "df_bnb.head()"
   ]
  },
  {
   "cell_type": "markdown",
   "id": "f906527d",
   "metadata": {},
   "source": [
    "### Remove emojis"
   ]
  },
  {
   "cell_type": "code",
   "execution_count": 10,
   "id": "1da3bb32",
   "metadata": {
    "scrolled": true
   },
   "outputs": [],
   "source": [
    "df_bnb.text = df_bnb.text.apply(lambda x: ' '.join([a for a in x.split() if '\\\\' not in a]))"
   ]
  },
  {
   "cell_type": "code",
   "execution_count": 11,
   "id": "7e1d5455",
   "metadata": {
    "scrolled": true
   },
   "outputs": [
    {
     "name": "stdout",
     "output_type": "stream",
     "text": [
      "0       b'RT @MetakingsAI: OFFICIAL AIRDROP AND DISTRI...\n",
      "1       b'RT @missufe: $150 | 2.100.000 IDR IN 12 HRS ...\n",
      "2                  b'@BabyDogeCoin @cz_binance #BabyDoge'\n",
      "3       b'@ingenious_geek @decentraland @bloktopia @Th...\n",
      "4       b'RT @cryptot81124402: Which #crypto should @b...\n",
      "                              ...                        \n",
      "1237    b\"@cryptolaney #Revival and #Vival so I can st...\n",
      "1238    b'@FEGtoken @binance $FEG $FEG $FEG $FEG $FEG ...\n",
      "1239    b'RT @FlokiMooni: #Flokimooni is going viral 3...\n",
      "1240    b'@AltcoinWorldcom @BabyDogeCoin @BabyDogeCoin...\n",
      "1241    b'@FEGtoken @binance $FEG $FEG $FEG $FEG $FEG ...\n",
      "Name: text, Length: 1242, dtype: object\n"
     ]
    }
   ],
   "source": [
    "test = df_bnb.text\n",
    "print(test)"
   ]
  },
  {
   "cell_type": "code",
   "execution_count": 12,
   "id": "48d688b8",
   "metadata": {},
   "outputs": [
    {
     "data": {
      "text/plain": [
       "'!\"#$%&\\'()*+,-./:;<=>?@[\\\\]^_`{|}~'"
      ]
     },
     "execution_count": 12,
     "metadata": {},
     "output_type": "execute_result"
    }
   ],
   "source": [
    "import string\n",
    "string.punctuation"
   ]
  },
  {
   "cell_type": "code",
   "execution_count": 13,
   "id": "3f6e4d62",
   "metadata": {},
   "outputs": [],
   "source": [
    "def remove_special_characters(text):\n",
    "    text = re.sub(\"@\\S+\", \"\", text) #remove mentions\n",
    "    text = re.sub(\"https?:\\/\\/.*[\\r\\n]*\", \"\", text) #remove hyperlinks\n",
    "    text = re.sub(\"#\", \"\", text) #remove hashtag symbol\n",
    "    text = re.sub('\\w*\\d\\w*', ' ', text) #remove numbers\n",
    "    text = re.sub(\"b'RT\",'', text) #remove b'RT\n",
    "    text = re.sub(\"b'\",'',text)\n",
    "    text = re.sub('[%s]' % re.escape(string.punctuation), ' ', text)\n",
    "    return text"
   ]
  },
  {
   "cell_type": "code",
   "execution_count": 14,
   "id": "dbbb43e5",
   "metadata": {
    "scrolled": true
   },
   "outputs": [],
   "source": [
    "df_bnb.text = df_bnb.text.apply(remove_special_characters)"
   ]
  },
  {
   "cell_type": "code",
   "execution_count": 15,
   "id": "5543e586",
   "metadata": {},
   "outputs": [
    {
     "data": {
      "text/html": [
       "<div>\n",
       "<style scoped>\n",
       "    .dataframe tbody tr th:only-of-type {\n",
       "        vertical-align: middle;\n",
       "    }\n",
       "\n",
       "    .dataframe tbody tr th {\n",
       "        vertical-align: top;\n",
       "    }\n",
       "\n",
       "    .dataframe thead th {\n",
       "        text-align: right;\n",
       "    }\n",
       "</style>\n",
       "<table border=\"1\" class=\"dataframe\">\n",
       "  <thead>\n",
       "    <tr style=\"text-align: right;\">\n",
       "      <th></th>\n",
       "      <th>Unnamed: 0</th>\n",
       "      <th>id</th>\n",
       "      <th>text</th>\n",
       "      <th>datetime</th>\n",
       "      <th>Location</th>\n",
       "      <th>hashtag</th>\n",
       "    </tr>\n",
       "  </thead>\n",
       "  <tbody>\n",
       "    <tr>\n",
       "      <th>0</th>\n",
       "      <td>0</td>\n",
       "      <td>1482842032897138690</td>\n",
       "      <td>OFFICIAL AIRDROP AND DISTRIBUTION HAS BEEN  ...</td>\n",
       "      <td>2022-01-16 22:27:45</td>\n",
       "      <td>NaN</td>\n",
       "      <td>[]</td>\n",
       "    </tr>\n",
       "    <tr>\n",
       "      <th>1</th>\n",
       "      <td>1</td>\n",
       "      <td>1482842029675581440</td>\n",
       "      <td>IDR IN   HRS quote retweet pin po...</td>\n",
       "      <td>2022-01-16 22:27:44</td>\n",
       "      <td>NaN</td>\n",
       "      <td>[Byakko]</td>\n",
       "    </tr>\n",
       "    <tr>\n",
       "      <th>2</th>\n",
       "      <td>2</td>\n",
       "      <td>1482842029134602252</td>\n",
       "      <td>BabyDoge</td>\n",
       "      <td>2022-01-16 22:27:44</td>\n",
       "      <td>NaN</td>\n",
       "      <td>[BabyDoge]</td>\n",
       "    </tr>\n",
       "    <tr>\n",
       "      <th>3</th>\n",
       "      <td>3</td>\n",
       "      <td>1482842029067587585</td>\n",
       "      <td>Honestly starting to wonder if Bloktopia is</td>\n",
       "      <td>2022-01-16 22:27:44</td>\n",
       "      <td>NaN</td>\n",
       "      <td>[Bloktopia]</td>\n",
       "    </tr>\n",
       "    <tr>\n",
       "      <th>4</th>\n",
       "      <td>4</td>\n",
       "      <td>1482842026982973443</td>\n",
       "      <td>Which crypto should  list next   sha   mtv  ...</td>\n",
       "      <td>2022-01-16 22:27:43</td>\n",
       "      <td>NaN</td>\n",
       "      <td>[crypto]</td>\n",
       "    </tr>\n",
       "  </tbody>\n",
       "</table>\n",
       "</div>"
      ],
      "text/plain": [
       "   Unnamed: 0                   id  \\\n",
       "0           0  1482842032897138690   \n",
       "1           1  1482842029675581440   \n",
       "2           2  1482842029134602252   \n",
       "3           3  1482842029067587585   \n",
       "4           4  1482842026982973443   \n",
       "\n",
       "                                                text             datetime  \\\n",
       "0    OFFICIAL AIRDROP AND DISTRIBUTION HAS BEEN  ...  2022-01-16 22:27:45   \n",
       "1               IDR IN   HRS quote retweet pin po...  2022-01-16 22:27:44   \n",
       "2                                          BabyDoge   2022-01-16 22:27:44   \n",
       "3       Honestly starting to wonder if Bloktopia is   2022-01-16 22:27:44   \n",
       "4    Which crypto should  list next   sha   mtv  ...  2022-01-16 22:27:43   \n",
       "\n",
       "  Location      hashtag  \n",
       "0      NaN           []  \n",
       "1      NaN     [Byakko]  \n",
       "2      NaN   [BabyDoge]  \n",
       "3      NaN  [Bloktopia]  \n",
       "4      NaN     [crypto]  "
      ]
     },
     "execution_count": 15,
     "metadata": {},
     "output_type": "execute_result"
    }
   ],
   "source": [
    "df_bnb.head()"
   ]
  },
  {
   "cell_type": "markdown",
   "id": "17aeb926",
   "metadata": {},
   "source": [
    "### Remove digits and lower the text"
   ]
  },
  {
   "cell_type": "code",
   "execution_count": 16,
   "id": "cb35f694",
   "metadata": {
    "scrolled": true
   },
   "outputs": [
    {
     "name": "stderr",
     "output_type": "stream",
     "text": [
      "/var/folders/bc/c9cbz3vx3k331bfmmjlgtbkm0000gn/T/ipykernel_36727/1220783607.py:1: FutureWarning: The default value of regex will change from True to False in a future version.\n",
      "  df_bnb.text = df_bnb.text.astype(str).str.replace('\\d+', '')\n"
     ]
    },
    {
     "data": {
      "text/plain": [
       "0      official airdrop and distribution has been  ...\n",
       "1                 idr in   hrs quote retweet pin po...\n",
       "2                                            babydoge \n",
       "3         honestly starting to wonder if bloktopia is \n",
       "4      which crypto should  list next   sha   mtv  ...\n",
       "Name: text, dtype: object"
      ]
     },
     "execution_count": 16,
     "metadata": {},
     "output_type": "execute_result"
    }
   ],
   "source": [
    "df_bnb.text = df_bnb.text.astype(str).str.replace('\\d+', '')\n",
    "df_bnb.text = df_bnb.text.str.lower()\n",
    "df_bnb.text.head()"
   ]
  },
  {
   "cell_type": "markdown",
   "id": "74bf1c7e",
   "metadata": {},
   "source": [
    "### Stemming text"
   ]
  },
  {
   "cell_type": "code",
   "execution_count": 17,
   "id": "8065d57c",
   "metadata": {
    "scrolled": true
   },
   "outputs": [],
   "source": [
    "from nltk.tokenize import TweetTokenizer"
   ]
  },
  {
   "cell_type": "code",
   "execution_count": 18,
   "id": "66754aab",
   "metadata": {},
   "outputs": [],
   "source": [
    "wnl = WordNetLemmatizer()\n",
    "stemmer = LancasterStemmer()\n",
    "def lemmatize_text(text):\n",
    "    text = text.split(' ')\n",
    "    for i, word in enumerate(text):\n",
    "        text[i] = wnl.lemmatize(word)   #results for stemming is better lemmatization\n",
    "        #text[i] = stemmer.stem(word)    \n",
    "    return ' '.join(text)"
   ]
  },
  {
   "cell_type": "code",
   "execution_count": 19,
   "id": "bf487115",
   "metadata": {
    "scrolled": true
   },
   "outputs": [
    {
     "data": {
      "text/html": [
       "<div>\n",
       "<style scoped>\n",
       "    .dataframe tbody tr th:only-of-type {\n",
       "        vertical-align: middle;\n",
       "    }\n",
       "\n",
       "    .dataframe tbody tr th {\n",
       "        vertical-align: top;\n",
       "    }\n",
       "\n",
       "    .dataframe thead th {\n",
       "        text-align: right;\n",
       "    }\n",
       "</style>\n",
       "<table border=\"1\" class=\"dataframe\">\n",
       "  <thead>\n",
       "    <tr style=\"text-align: right;\">\n",
       "      <th></th>\n",
       "      <th>Unnamed: 0</th>\n",
       "      <th>id</th>\n",
       "      <th>text</th>\n",
       "      <th>datetime</th>\n",
       "      <th>Location</th>\n",
       "      <th>hashtag</th>\n",
       "    </tr>\n",
       "  </thead>\n",
       "  <tbody>\n",
       "    <tr>\n",
       "      <th>0</th>\n",
       "      <td>0</td>\n",
       "      <td>1482842032897138690</td>\n",
       "      <td>official airdrop and distribution ha been   ...</td>\n",
       "      <td>2022-01-16 22:27:45</td>\n",
       "      <td>NaN</td>\n",
       "      <td>[]</td>\n",
       "    </tr>\n",
       "    <tr>\n",
       "      <th>1</th>\n",
       "      <td>1</td>\n",
       "      <td>1482842029675581440</td>\n",
       "      <td>idr in   hr quote retweet pin pos...</td>\n",
       "      <td>2022-01-16 22:27:44</td>\n",
       "      <td>NaN</td>\n",
       "      <td>[Byakko]</td>\n",
       "    </tr>\n",
       "    <tr>\n",
       "      <th>2</th>\n",
       "      <td>2</td>\n",
       "      <td>1482842029134602252</td>\n",
       "      <td>babydoge</td>\n",
       "      <td>2022-01-16 22:27:44</td>\n",
       "      <td>NaN</td>\n",
       "      <td>[BabyDoge]</td>\n",
       "    </tr>\n",
       "    <tr>\n",
       "      <th>3</th>\n",
       "      <td>3</td>\n",
       "      <td>1482842029067587585</td>\n",
       "      <td>honestly starting to wonder if bloktopia is</td>\n",
       "      <td>2022-01-16 22:27:44</td>\n",
       "      <td>NaN</td>\n",
       "      <td>[Bloktopia]</td>\n",
       "    </tr>\n",
       "    <tr>\n",
       "      <th>4</th>\n",
       "      <td>4</td>\n",
       "      <td>1482842026982973443</td>\n",
       "      <td>which crypto should  list next   sha   mtv  ...</td>\n",
       "      <td>2022-01-16 22:27:43</td>\n",
       "      <td>NaN</td>\n",
       "      <td>[crypto]</td>\n",
       "    </tr>\n",
       "  </tbody>\n",
       "</table>\n",
       "</div>"
      ],
      "text/plain": [
       "   Unnamed: 0                   id  \\\n",
       "0           0  1482842032897138690   \n",
       "1           1  1482842029675581440   \n",
       "2           2  1482842029134602252   \n",
       "3           3  1482842029067587585   \n",
       "4           4  1482842026982973443   \n",
       "\n",
       "                                                text             datetime  \\\n",
       "0    official airdrop and distribution ha been   ...  2022-01-16 22:27:45   \n",
       "1               idr in   hr quote retweet pin pos...  2022-01-16 22:27:44   \n",
       "2                                          babydoge   2022-01-16 22:27:44   \n",
       "3       honestly starting to wonder if bloktopia is   2022-01-16 22:27:44   \n",
       "4    which crypto should  list next   sha   mtv  ...  2022-01-16 22:27:43   \n",
       "\n",
       "  Location      hashtag  \n",
       "0      NaN           []  \n",
       "1      NaN     [Byakko]  \n",
       "2      NaN   [BabyDoge]  \n",
       "3      NaN  [Bloktopia]  \n",
       "4      NaN     [crypto]  "
      ]
     },
     "execution_count": 19,
     "metadata": {},
     "output_type": "execute_result"
    }
   ],
   "source": [
    "df_bnb.text = df_bnb.text.apply(lemmatize_text)\n",
    "df_bnb.head()"
   ]
  },
  {
   "cell_type": "markdown",
   "id": "2a00f0dd",
   "metadata": {},
   "source": [
    "### Check if there is non-enlighs words and remove them"
   ]
  },
  {
   "cell_type": "code",
   "execution_count": 20,
   "id": "dd71782e",
   "metadata": {},
   "outputs": [
    {
     "data": {
      "text/plain": [
       "0         official airdrop and distribution ha been   ...\n",
       "1                    idr in   hr quote retweet pin pos...\n",
       "2                                               babydoge \n",
       "3            honestly starting to wonder if bloktopia is \n",
       "4         which crypto should  list next   sha   mtv  ...\n",
       "                              ...                        \n",
       "1237    b  revival and vival so i can stake more in re...\n",
       "1238       feg  feg  feg  feg  feg smartdefi listonfeg...\n",
       "1239      flokimooni is going viral   month   strong  ...\n",
       "1240                                                     \n",
       "1241       feg  feg  feg  feg  feg smartdefi listonfeg...\n",
       "Name: text, Length: 1242, dtype: object"
      ]
     },
     "execution_count": 20,
     "metadata": {},
     "output_type": "execute_result"
    }
   ],
   "source": [
    "test = df_bnb.text\n",
    "test"
   ]
  },
  {
   "cell_type": "code",
   "execution_count": 21,
   "id": "7726366f",
   "metadata": {
    "scrolled": false
   },
   "outputs": [],
   "source": [
    "import nltk\n",
    "words = set(nltk.corpus.words.words())\n",
    "keep_words = ['bitcoin', 'bnbereum', 'binance','tbnber','solana','nft']\n",
    "\n",
    "def keep_eng(text):\n",
    "    return (\" \".join(w for w in nltk.wordpunct_tokenize(text) if w in words or not w.isalpha() or w in keep_words))"
   ]
  },
  {
   "cell_type": "code",
   "execution_count": 22,
   "id": "893f593c",
   "metadata": {},
   "outputs": [
    {
     "name": "stdout",
     "output_type": "stream",
     "text": [
      "0       official airdrop and distribution ha been reward\n",
      "1                              in quote pin post of with\n",
      "2                                                       \n",
      "3                      honestly starting to wonder if is\n",
      "4                        which should list next sha toko\n",
      "                              ...                       \n",
      "1237              b revival and so i can stake more in s\n",
      "1238                                                    \n",
      "1239          is going viral month strong follower on is\n",
      "1240                                                    \n",
      "1241                                                    \n",
      "Name: text, Length: 1242, dtype: object\n"
     ]
    }
   ],
   "source": [
    "df_bnb.text = df_bnb.text.apply(keep_eng)\n",
    "print(df_bnb.text)"
   ]
  },
  {
   "cell_type": "markdown",
   "id": "c97f03e7",
   "metadata": {},
   "source": [
    "### Remove rows containing empty tweets"
   ]
  },
  {
   "cell_type": "code",
   "execution_count": 23,
   "id": "9f99caa1",
   "metadata": {},
   "outputs": [
    {
     "name": "stdout",
     "output_type": "stream",
     "text": [
      " There are 438 rows that now have empty tweets.\n"
     ]
    }
   ],
   "source": [
    "print(f\" There are {np.sum(df_bnb.text == '')} rows that now have empty tweets.\")"
   ]
  },
  {
   "cell_type": "code",
   "execution_count": 24,
   "id": "a55a2ed3",
   "metadata": {},
   "outputs": [
    {
     "data": {
      "text/html": [
       "<div>\n",
       "<style scoped>\n",
       "    .dataframe tbody tr th:only-of-type {\n",
       "        vertical-align: middle;\n",
       "    }\n",
       "\n",
       "    .dataframe tbody tr th {\n",
       "        vertical-align: top;\n",
       "    }\n",
       "\n",
       "    .dataframe thead th {\n",
       "        text-align: right;\n",
       "    }\n",
       "</style>\n",
       "<table border=\"1\" class=\"dataframe\">\n",
       "  <thead>\n",
       "    <tr style=\"text-align: right;\">\n",
       "      <th></th>\n",
       "      <th>Unnamed: 0</th>\n",
       "      <th>id</th>\n",
       "      <th>text</th>\n",
       "      <th>datetime</th>\n",
       "      <th>Location</th>\n",
       "      <th>hashtag</th>\n",
       "    </tr>\n",
       "  </thead>\n",
       "  <tbody>\n",
       "    <tr>\n",
       "      <th>2</th>\n",
       "      <td>2</td>\n",
       "      <td>1482842029134602252</td>\n",
       "      <td></td>\n",
       "      <td>2022-01-16 22:27:44</td>\n",
       "      <td>NaN</td>\n",
       "      <td>[BabyDoge]</td>\n",
       "    </tr>\n",
       "    <tr>\n",
       "      <th>10</th>\n",
       "      <td>11</td>\n",
       "      <td>1482842012248260609</td>\n",
       "      <td></td>\n",
       "      <td>2022-01-16 22:27:40</td>\n",
       "      <td>NaN</td>\n",
       "      <td>[RBXS, RBXS, BSC]</td>\n",
       "    </tr>\n",
       "    <tr>\n",
       "      <th>11</th>\n",
       "      <td>12</td>\n",
       "      <td>1482842010591670278</td>\n",
       "      <td></td>\n",
       "      <td>2022-01-16 22:27:39</td>\n",
       "      <td>NaN</td>\n",
       "      <td>[FEGTOKEN]</td>\n",
       "    </tr>\n",
       "    <tr>\n",
       "      <th>12</th>\n",
       "      <td>13</td>\n",
       "      <td>1482842010394542083</td>\n",
       "      <td></td>\n",
       "      <td>2022-01-16 22:27:39</td>\n",
       "      <td>NaN</td>\n",
       "      <td>[SmartDefi, ListOnFEGex, SmartLend, FEG]</td>\n",
       "    </tr>\n",
       "    <tr>\n",
       "      <th>15</th>\n",
       "      <td>16</td>\n",
       "      <td>1482841994561208321</td>\n",
       "      <td></td>\n",
       "      <td>2022-01-16 22:27:36</td>\n",
       "      <td>NaN</td>\n",
       "      <td>[NarakaBNB]</td>\n",
       "    </tr>\n",
       "    <tr>\n",
       "      <th>...</th>\n",
       "      <td>...</td>\n",
       "      <td>...</td>\n",
       "      <td>...</td>\n",
       "      <td>...</td>\n",
       "      <td>...</td>\n",
       "      <td>...</td>\n",
       "    </tr>\n",
       "    <tr>\n",
       "      <th>1230</th>\n",
       "      <td>1984</td>\n",
       "      <td>1482838558922715140</td>\n",
       "      <td></td>\n",
       "      <td>2022-01-16 22:13:56</td>\n",
       "      <td>NaN</td>\n",
       "      <td>[SmartDefi, ListOnFEGex, SmartLend, AutoDeployer]</td>\n",
       "    </tr>\n",
       "    <tr>\n",
       "      <th>1232</th>\n",
       "      <td>1986</td>\n",
       "      <td>1482838556435382272</td>\n",
       "      <td></td>\n",
       "      <td>2022-01-16 22:13:56</td>\n",
       "      <td>NaN</td>\n",
       "      <td>[]</td>\n",
       "    </tr>\n",
       "    <tr>\n",
       "      <th>1238</th>\n",
       "      <td>1995</td>\n",
       "      <td>1482838543340916749</td>\n",
       "      <td></td>\n",
       "      <td>2022-01-16 22:13:53</td>\n",
       "      <td>NaN</td>\n",
       "      <td>[SmartDefi, ListOnFEGex, SmartLend, AutoDeployer]</td>\n",
       "    </tr>\n",
       "    <tr>\n",
       "      <th>1240</th>\n",
       "      <td>1997</td>\n",
       "      <td>1482838540426035200</td>\n",
       "      <td></td>\n",
       "      <td>2022-01-16 22:13:52</td>\n",
       "      <td>NaN</td>\n",
       "      <td>[BabyDoge, BabyDogeCoin, babydogearmy, Binance]</td>\n",
       "    </tr>\n",
       "    <tr>\n",
       "      <th>1241</th>\n",
       "      <td>1998</td>\n",
       "      <td>1482838537552674816</td>\n",
       "      <td></td>\n",
       "      <td>2022-01-16 22:13:51</td>\n",
       "      <td>NaN</td>\n",
       "      <td>[SmartDefi, ListOnFEGex, SmartLend, AutoDeployer]</td>\n",
       "    </tr>\n",
       "  </tbody>\n",
       "</table>\n",
       "<p>438 rows × 6 columns</p>\n",
       "</div>"
      ],
      "text/plain": [
       "      Unnamed: 0                   id text             datetime Location  \\\n",
       "2              2  1482842029134602252       2022-01-16 22:27:44      NaN   \n",
       "10            11  1482842012248260609       2022-01-16 22:27:40      NaN   \n",
       "11            12  1482842010591670278       2022-01-16 22:27:39      NaN   \n",
       "12            13  1482842010394542083       2022-01-16 22:27:39      NaN   \n",
       "15            16  1482841994561208321       2022-01-16 22:27:36      NaN   \n",
       "...          ...                  ...  ...                  ...      ...   \n",
       "1230        1984  1482838558922715140       2022-01-16 22:13:56      NaN   \n",
       "1232        1986  1482838556435382272       2022-01-16 22:13:56      NaN   \n",
       "1238        1995  1482838543340916749       2022-01-16 22:13:53      NaN   \n",
       "1240        1997  1482838540426035200       2022-01-16 22:13:52      NaN   \n",
       "1241        1998  1482838537552674816       2022-01-16 22:13:51      NaN   \n",
       "\n",
       "                                                hashtag  \n",
       "2                                            [BabyDoge]  \n",
       "10                                    [RBXS, RBXS, BSC]  \n",
       "11                                           [FEGTOKEN]  \n",
       "12             [SmartDefi, ListOnFEGex, SmartLend, FEG]  \n",
       "15                                          [NarakaBNB]  \n",
       "...                                                 ...  \n",
       "1230  [SmartDefi, ListOnFEGex, SmartLend, AutoDeployer]  \n",
       "1232                                                 []  \n",
       "1238  [SmartDefi, ListOnFEGex, SmartLend, AutoDeployer]  \n",
       "1240    [BabyDoge, BabyDogeCoin, babydogearmy, Binance]  \n",
       "1241  [SmartDefi, ListOnFEGex, SmartLend, AutoDeployer]  \n",
       "\n",
       "[438 rows x 6 columns]"
      ]
     },
     "execution_count": 24,
     "metadata": {},
     "output_type": "execute_result"
    }
   ],
   "source": [
    "mask = df_bnb.text == ''\n",
    "df_bnb[mask]"
   ]
  },
  {
   "cell_type": "code",
   "execution_count": 25,
   "id": "209f12f5",
   "metadata": {},
   "outputs": [
    {
     "data": {
      "text/plain": [
       "(804, 6)"
      ]
     },
     "execution_count": 25,
     "metadata": {},
     "output_type": "execute_result"
    }
   ],
   "source": [
    "df_bnb = df_bnb[~mask]\n",
    "df_bnb.shape"
   ]
  },
  {
   "cell_type": "code",
   "execution_count": null,
   "id": "ddd24564",
   "metadata": {},
   "outputs": [],
   "source": []
  },
  {
   "cell_type": "markdown",
   "id": "44328d61",
   "metadata": {},
   "source": [
    "### Tokenize the document"
   ]
  },
  {
   "cell_type": "code",
   "execution_count": 26,
   "id": "85965f3e",
   "metadata": {},
   "outputs": [],
   "source": [
    "stop_words = nltk.corpus.stopwords.words('english')"
   ]
  },
  {
   "cell_type": "code",
   "execution_count": 27,
   "id": "47166883",
   "metadata": {},
   "outputs": [
    {
     "data": {
      "text/html": [
       "<div>\n",
       "<style scoped>\n",
       "    .dataframe tbody tr th:only-of-type {\n",
       "        vertical-align: middle;\n",
       "    }\n",
       "\n",
       "    .dataframe tbody tr th {\n",
       "        vertical-align: top;\n",
       "    }\n",
       "\n",
       "    .dataframe thead th {\n",
       "        text-align: right;\n",
       "    }\n",
       "</style>\n",
       "<table border=\"1\" class=\"dataframe\">\n",
       "  <thead>\n",
       "    <tr style=\"text-align: right;\">\n",
       "      <th></th>\n",
       "      <th>add</th>\n",
       "      <th>address</th>\n",
       "      <th>adore</th>\n",
       "      <th>al</th>\n",
       "      <th>also</th>\n",
       "      <th>always</th>\n",
       "      <th>announce</th>\n",
       "      <th>another</th>\n",
       "      <th>ape</th>\n",
       "      <th>apiece</th>\n",
       "      <th>...</th>\n",
       "      <th>way</th>\n",
       "      <th>week</th>\n",
       "      <th>winner</th>\n",
       "      <th>without</th>\n",
       "      <th>word</th>\n",
       "      <th>working</th>\n",
       "      <th>world</th>\n",
       "      <th>would</th>\n",
       "      <th>wow</th>\n",
       "      <th>zero</th>\n",
       "    </tr>\n",
       "    <tr>\n",
       "      <th>text</th>\n",
       "      <th></th>\n",
       "      <th></th>\n",
       "      <th></th>\n",
       "      <th></th>\n",
       "      <th></th>\n",
       "      <th></th>\n",
       "      <th></th>\n",
       "      <th></th>\n",
       "      <th></th>\n",
       "      <th></th>\n",
       "      <th></th>\n",
       "      <th></th>\n",
       "      <th></th>\n",
       "      <th></th>\n",
       "      <th></th>\n",
       "      <th></th>\n",
       "      <th></th>\n",
       "      <th></th>\n",
       "      <th></th>\n",
       "      <th></th>\n",
       "      <th></th>\n",
       "    </tr>\n",
       "  </thead>\n",
       "  <tbody>\n",
       "    <tr>\n",
       "      <th>official airdrop and distribution ha been reward</th>\n",
       "      <td>0</td>\n",
       "      <td>0</td>\n",
       "      <td>0</td>\n",
       "      <td>0</td>\n",
       "      <td>0</td>\n",
       "      <td>0</td>\n",
       "      <td>0</td>\n",
       "      <td>0</td>\n",
       "      <td>0</td>\n",
       "      <td>0</td>\n",
       "      <td>...</td>\n",
       "      <td>0</td>\n",
       "      <td>0</td>\n",
       "      <td>0</td>\n",
       "      <td>0</td>\n",
       "      <td>0</td>\n",
       "      <td>0</td>\n",
       "      <td>0</td>\n",
       "      <td>0</td>\n",
       "      <td>0</td>\n",
       "      <td>0</td>\n",
       "    </tr>\n",
       "    <tr>\n",
       "      <th>in quote pin post of with</th>\n",
       "      <td>0</td>\n",
       "      <td>0</td>\n",
       "      <td>0</td>\n",
       "      <td>0</td>\n",
       "      <td>0</td>\n",
       "      <td>0</td>\n",
       "      <td>0</td>\n",
       "      <td>0</td>\n",
       "      <td>0</td>\n",
       "      <td>0</td>\n",
       "      <td>...</td>\n",
       "      <td>0</td>\n",
       "      <td>0</td>\n",
       "      <td>0</td>\n",
       "      <td>0</td>\n",
       "      <td>0</td>\n",
       "      <td>0</td>\n",
       "      <td>0</td>\n",
       "      <td>0</td>\n",
       "      <td>0</td>\n",
       "      <td>0</td>\n",
       "    </tr>\n",
       "    <tr>\n",
       "      <th>honestly starting to wonder if is</th>\n",
       "      <td>0</td>\n",
       "      <td>0</td>\n",
       "      <td>0</td>\n",
       "      <td>0</td>\n",
       "      <td>0</td>\n",
       "      <td>0</td>\n",
       "      <td>0</td>\n",
       "      <td>0</td>\n",
       "      <td>0</td>\n",
       "      <td>0</td>\n",
       "      <td>...</td>\n",
       "      <td>0</td>\n",
       "      <td>0</td>\n",
       "      <td>0</td>\n",
       "      <td>0</td>\n",
       "      <td>0</td>\n",
       "      <td>0</td>\n",
       "      <td>0</td>\n",
       "      <td>0</td>\n",
       "      <td>0</td>\n",
       "      <td>0</td>\n",
       "    </tr>\n",
       "    <tr>\n",
       "      <th>which should list next sha toko</th>\n",
       "      <td>0</td>\n",
       "      <td>0</td>\n",
       "      <td>0</td>\n",
       "      <td>0</td>\n",
       "      <td>0</td>\n",
       "      <td>0</td>\n",
       "      <td>0</td>\n",
       "      <td>0</td>\n",
       "      <td>0</td>\n",
       "      <td>0</td>\n",
       "      <td>...</td>\n",
       "      <td>0</td>\n",
       "      <td>0</td>\n",
       "      <td>0</td>\n",
       "      <td>0</td>\n",
       "      <td>0</td>\n",
       "      <td>0</td>\n",
       "      <td>0</td>\n",
       "      <td>0</td>\n",
       "      <td>0</td>\n",
       "      <td>0</td>\n",
       "    </tr>\n",
       "    <tr>\n",
       "      <th>soon to our very own complete and almost ready for future is indeed</th>\n",
       "      <td>0</td>\n",
       "      <td>0</td>\n",
       "      <td>0</td>\n",
       "      <td>0</td>\n",
       "      <td>0</td>\n",
       "      <td>0</td>\n",
       "      <td>0</td>\n",
       "      <td>0</td>\n",
       "      <td>0</td>\n",
       "      <td>0</td>\n",
       "      <td>...</td>\n",
       "      <td>0</td>\n",
       "      <td>0</td>\n",
       "      <td>0</td>\n",
       "      <td>0</td>\n",
       "      <td>0</td>\n",
       "      <td>0</td>\n",
       "      <td>0</td>\n",
       "      <td>0</td>\n",
       "      <td>0</td>\n",
       "      <td>0</td>\n",
       "    </tr>\n",
       "    <tr>\n",
       "      <th>b binance ha the biggest fortune on the planet vaulting him into the rank of the</th>\n",
       "      <td>0</td>\n",
       "      <td>0</td>\n",
       "      <td>0</td>\n",
       "      <td>0</td>\n",
       "      <td>0</td>\n",
       "      <td>0</td>\n",
       "      <td>0</td>\n",
       "      <td>0</td>\n",
       "      <td>0</td>\n",
       "      <td>0</td>\n",
       "      <td>...</td>\n",
       "      <td>0</td>\n",
       "      <td>0</td>\n",
       "      <td>0</td>\n",
       "      <td>0</td>\n",
       "      <td>0</td>\n",
       "      <td>0</td>\n",
       "      <td>0</td>\n",
       "      <td>0</td>\n",
       "      <td>0</td>\n",
       "      <td>0</td>\n",
       "    </tr>\n",
       "    <tr>\n",
       "      <th>be bigger than binance bitcoin</th>\n",
       "      <td>0</td>\n",
       "      <td>0</td>\n",
       "      <td>0</td>\n",
       "      <td>0</td>\n",
       "      <td>0</td>\n",
       "      <td>0</td>\n",
       "      <td>0</td>\n",
       "      <td>0</td>\n",
       "      <td>0</td>\n",
       "      <td>0</td>\n",
       "      <td>...</td>\n",
       "      <td>0</td>\n",
       "      <td>0</td>\n",
       "      <td>0</td>\n",
       "      <td>0</td>\n",
       "      <td>0</td>\n",
       "      <td>0</td>\n",
       "      <td>0</td>\n",
       "      <td>0</td>\n",
       "      <td>0</td>\n",
       "      <td>0</td>\n",
       "    </tr>\n",
       "    <tr>\n",
       "      <th>who want binance to accept me me</th>\n",
       "      <td>0</td>\n",
       "      <td>0</td>\n",
       "      <td>0</td>\n",
       "      <td>0</td>\n",
       "      <td>0</td>\n",
       "      <td>0</td>\n",
       "      <td>0</td>\n",
       "      <td>0</td>\n",
       "      <td>0</td>\n",
       "      <td>0</td>\n",
       "      <td>...</td>\n",
       "      <td>0</td>\n",
       "      <td>0</td>\n",
       "      <td>0</td>\n",
       "      <td>0</td>\n",
       "      <td>0</td>\n",
       "      <td>0</td>\n",
       "      <td>0</td>\n",
       "      <td>0</td>\n",
       "      <td>0</td>\n",
       "      <td>0</td>\n",
       "    </tr>\n",
       "    <tr>\n",
       "      <th>signal on binance future</th>\n",
       "      <td>0</td>\n",
       "      <td>0</td>\n",
       "      <td>0</td>\n",
       "      <td>0</td>\n",
       "      <td>0</td>\n",
       "      <td>0</td>\n",
       "      <td>0</td>\n",
       "      <td>0</td>\n",
       "      <td>0</td>\n",
       "      <td>0</td>\n",
       "      <td>...</td>\n",
       "      <td>0</td>\n",
       "      <td>0</td>\n",
       "      <td>0</td>\n",
       "      <td>0</td>\n",
       "      <td>0</td>\n",
       "      <td>0</td>\n",
       "      <td>0</td>\n",
       "      <td>0</td>\n",
       "      <td>0</td>\n",
       "      <td>0</td>\n",
       "    </tr>\n",
       "    <tr>\n",
       "      <th>today is my birthday and i want to celebrate with my will invest in new of</th>\n",
       "      <td>0</td>\n",
       "      <td>0</td>\n",
       "      <td>0</td>\n",
       "      <td>0</td>\n",
       "      <td>0</td>\n",
       "      <td>0</td>\n",
       "      <td>0</td>\n",
       "      <td>0</td>\n",
       "      <td>0</td>\n",
       "      <td>0</td>\n",
       "      <td>...</td>\n",
       "      <td>0</td>\n",
       "      <td>0</td>\n",
       "      <td>0</td>\n",
       "      <td>0</td>\n",
       "      <td>0</td>\n",
       "      <td>0</td>\n",
       "      <td>0</td>\n",
       "      <td>0</td>\n",
       "      <td>0</td>\n",
       "      <td>0</td>\n",
       "    </tr>\n",
       "  </tbody>\n",
       "</table>\n",
       "<p>10 rows × 192 columns</p>\n",
       "</div>"
      ],
      "text/plain": [
       "                                                    add  address  adore  al  \\\n",
       "text                                                                          \n",
       "official airdrop and distribution ha been reward      0        0      0   0   \n",
       "in quote pin post of with                             0        0      0   0   \n",
       "honestly starting to wonder if is                     0        0      0   0   \n",
       "which should list next sha toko                       0        0      0   0   \n",
       "soon to our very own complete and almost ready ...    0        0      0   0   \n",
       "b binance ha the biggest fortune on the planet ...    0        0      0   0   \n",
       "be bigger than binance bitcoin                        0        0      0   0   \n",
       "who want binance to accept me me                      0        0      0   0   \n",
       "signal on binance future                              0        0      0   0   \n",
       "today is my birthday and i want to celebrate wi...    0        0      0   0   \n",
       "\n",
       "                                                    also  always  announce  \\\n",
       "text                                                                         \n",
       "official airdrop and distribution ha been reward       0       0         0   \n",
       "in quote pin post of with                              0       0         0   \n",
       "honestly starting to wonder if is                      0       0         0   \n",
       "which should list next sha toko                        0       0         0   \n",
       "soon to our very own complete and almost ready ...     0       0         0   \n",
       "b binance ha the biggest fortune on the planet ...     0       0         0   \n",
       "be bigger than binance bitcoin                         0       0         0   \n",
       "who want binance to accept me me                       0       0         0   \n",
       "signal on binance future                               0       0         0   \n",
       "today is my birthday and i want to celebrate wi...     0       0         0   \n",
       "\n",
       "                                                    another  ape  apiece  ...  \\\n",
       "text                                                                      ...   \n",
       "official airdrop and distribution ha been reward          0    0       0  ...   \n",
       "in quote pin post of with                                 0    0       0  ...   \n",
       "honestly starting to wonder if is                         0    0       0  ...   \n",
       "which should list next sha toko                           0    0       0  ...   \n",
       "soon to our very own complete and almost ready ...        0    0       0  ...   \n",
       "b binance ha the biggest fortune on the planet ...        0    0       0  ...   \n",
       "be bigger than binance bitcoin                            0    0       0  ...   \n",
       "who want binance to accept me me                          0    0       0  ...   \n",
       "signal on binance future                                  0    0       0  ...   \n",
       "today is my birthday and i want to celebrate wi...        0    0       0  ...   \n",
       "\n",
       "                                                    way  week  winner  \\\n",
       "text                                                                    \n",
       "official airdrop and distribution ha been reward      0     0       0   \n",
       "in quote pin post of with                             0     0       0   \n",
       "honestly starting to wonder if is                     0     0       0   \n",
       "which should list next sha toko                       0     0       0   \n",
       "soon to our very own complete and almost ready ...    0     0       0   \n",
       "b binance ha the biggest fortune on the planet ...    0     0       0   \n",
       "be bigger than binance bitcoin                        0     0       0   \n",
       "who want binance to accept me me                      0     0       0   \n",
       "signal on binance future                              0     0       0   \n",
       "today is my birthday and i want to celebrate wi...    0     0       0   \n",
       "\n",
       "                                                    without  word  working  \\\n",
       "text                                                                         \n",
       "official airdrop and distribution ha been reward          0     0        0   \n",
       "in quote pin post of with                                 0     0        0   \n",
       "honestly starting to wonder if is                         0     0        0   \n",
       "which should list next sha toko                           0     0        0   \n",
       "soon to our very own complete and almost ready ...        0     0        0   \n",
       "b binance ha the biggest fortune on the planet ...        0     0        0   \n",
       "be bigger than binance bitcoin                            0     0        0   \n",
       "who want binance to accept me me                          0     0        0   \n",
       "signal on binance future                                  0     0        0   \n",
       "today is my birthday and i want to celebrate wi...        0     0        0   \n",
       "\n",
       "                                                    world  would  wow  zero  \n",
       "text                                                                         \n",
       "official airdrop and distribution ha been reward        0      0    0     0  \n",
       "in quote pin post of with                               0      0    0     0  \n",
       "honestly starting to wonder if is                       0      0    0     0  \n",
       "which should list next sha toko                         0      0    0     0  \n",
       "soon to our very own complete and almost ready ...      0      0    0     0  \n",
       "b binance ha the biggest fortune on the planet ...      0      0    0     0  \n",
       "be bigger than binance bitcoin                          0      0    0     0  \n",
       "who want binance to accept me me                        0      0    0     0  \n",
       "signal on binance future                                0      0    0     0  \n",
       "today is my birthday and i want to celebrate wi...      0      0    0     0  \n",
       "\n",
       "[10 rows x 192 columns]"
      ]
     },
     "execution_count": 27,
     "metadata": {},
     "output_type": "execute_result"
    }
   ],
   "source": [
    "## CountVectorize\n",
    "cvec = CountVectorizer(stop_words=stop_words, max_df=7, min_df=3)\n",
    "doc_word_cv = cvec.fit_transform(df_bnb.text)\n",
    "pd.DataFrame(doc_word_cv.toarray(), index=df_bnb.text, columns=cvec.get_feature_names()).head(10)"
   ]
  },
  {
   "cell_type": "code",
   "execution_count": 28,
   "id": "e345404a",
   "metadata": {
    "collapsed": true
   },
   "outputs": [
    {
     "data": {
      "text/html": [
       "<div>\n",
       "<style scoped>\n",
       "    .dataframe tbody tr th:only-of-type {\n",
       "        vertical-align: middle;\n",
       "    }\n",
       "\n",
       "    .dataframe tbody tr th {\n",
       "        vertical-align: top;\n",
       "    }\n",
       "\n",
       "    .dataframe thead th {\n",
       "        text-align: right;\n",
       "    }\n",
       "</style>\n",
       "<table border=\"1\" class=\"dataframe\">\n",
       "  <thead>\n",
       "    <tr style=\"text-align: right;\">\n",
       "      <th></th>\n",
       "      <th>accept</th>\n",
       "      <th>add</th>\n",
       "      <th>address</th>\n",
       "      <th>adore</th>\n",
       "      <th>airdrop</th>\n",
       "      <th>al</th>\n",
       "      <th>alert</th>\n",
       "      <th>also</th>\n",
       "      <th>always</th>\n",
       "      <th>announce</th>\n",
       "      <th>...</th>\n",
       "      <th>word</th>\n",
       "      <th>work</th>\n",
       "      <th>working</th>\n",
       "      <th>world</th>\n",
       "      <th>worth</th>\n",
       "      <th>would</th>\n",
       "      <th>wow</th>\n",
       "      <th>year</th>\n",
       "      <th>yes</th>\n",
       "      <th>zero</th>\n",
       "    </tr>\n",
       "    <tr>\n",
       "      <th>text</th>\n",
       "      <th></th>\n",
       "      <th></th>\n",
       "      <th></th>\n",
       "      <th></th>\n",
       "      <th></th>\n",
       "      <th></th>\n",
       "      <th></th>\n",
       "      <th></th>\n",
       "      <th></th>\n",
       "      <th></th>\n",
       "      <th></th>\n",
       "      <th></th>\n",
       "      <th></th>\n",
       "      <th></th>\n",
       "      <th></th>\n",
       "      <th></th>\n",
       "      <th></th>\n",
       "      <th></th>\n",
       "      <th></th>\n",
       "      <th></th>\n",
       "      <th></th>\n",
       "    </tr>\n",
       "  </thead>\n",
       "  <tbody>\n",
       "    <tr>\n",
       "      <th>official airdrop and distribution ha been reward</th>\n",
       "      <td>0.000000</td>\n",
       "      <td>0.0</td>\n",
       "      <td>0.0</td>\n",
       "      <td>0.0</td>\n",
       "      <td>0.55427</td>\n",
       "      <td>0.0</td>\n",
       "      <td>0.0</td>\n",
       "      <td>0.0</td>\n",
       "      <td>0.0</td>\n",
       "      <td>0.0</td>\n",
       "      <td>...</td>\n",
       "      <td>0.0</td>\n",
       "      <td>0.0</td>\n",
       "      <td>0.0</td>\n",
       "      <td>0.0</td>\n",
       "      <td>0.0</td>\n",
       "      <td>0.0</td>\n",
       "      <td>0.0</td>\n",
       "      <td>0.0</td>\n",
       "      <td>0.0</td>\n",
       "      <td>0.0</td>\n",
       "    </tr>\n",
       "    <tr>\n",
       "      <th>in quote pin post of with</th>\n",
       "      <td>0.000000</td>\n",
       "      <td>0.0</td>\n",
       "      <td>0.0</td>\n",
       "      <td>0.0</td>\n",
       "      <td>0.00000</td>\n",
       "      <td>0.0</td>\n",
       "      <td>0.0</td>\n",
       "      <td>0.0</td>\n",
       "      <td>0.0</td>\n",
       "      <td>0.0</td>\n",
       "      <td>...</td>\n",
       "      <td>0.0</td>\n",
       "      <td>0.0</td>\n",
       "      <td>0.0</td>\n",
       "      <td>0.0</td>\n",
       "      <td>0.0</td>\n",
       "      <td>0.0</td>\n",
       "      <td>0.0</td>\n",
       "      <td>0.0</td>\n",
       "      <td>0.0</td>\n",
       "      <td>0.0</td>\n",
       "    </tr>\n",
       "    <tr>\n",
       "      <th>honestly starting to wonder if is</th>\n",
       "      <td>0.000000</td>\n",
       "      <td>0.0</td>\n",
       "      <td>0.0</td>\n",
       "      <td>0.0</td>\n",
       "      <td>0.00000</td>\n",
       "      <td>0.0</td>\n",
       "      <td>0.0</td>\n",
       "      <td>0.0</td>\n",
       "      <td>0.0</td>\n",
       "      <td>0.0</td>\n",
       "      <td>...</td>\n",
       "      <td>0.0</td>\n",
       "      <td>0.0</td>\n",
       "      <td>0.0</td>\n",
       "      <td>0.0</td>\n",
       "      <td>0.0</td>\n",
       "      <td>0.0</td>\n",
       "      <td>0.0</td>\n",
       "      <td>0.0</td>\n",
       "      <td>0.0</td>\n",
       "      <td>0.0</td>\n",
       "    </tr>\n",
       "    <tr>\n",
       "      <th>which should list next sha toko</th>\n",
       "      <td>0.000000</td>\n",
       "      <td>0.0</td>\n",
       "      <td>0.0</td>\n",
       "      <td>0.0</td>\n",
       "      <td>0.00000</td>\n",
       "      <td>0.0</td>\n",
       "      <td>0.0</td>\n",
       "      <td>0.0</td>\n",
       "      <td>0.0</td>\n",
       "      <td>0.0</td>\n",
       "      <td>...</td>\n",
       "      <td>0.0</td>\n",
       "      <td>0.0</td>\n",
       "      <td>0.0</td>\n",
       "      <td>0.0</td>\n",
       "      <td>0.0</td>\n",
       "      <td>0.0</td>\n",
       "      <td>0.0</td>\n",
       "      <td>0.0</td>\n",
       "      <td>0.0</td>\n",
       "      <td>0.0</td>\n",
       "    </tr>\n",
       "    <tr>\n",
       "      <th>soon to our very own complete and almost ready for future is indeed</th>\n",
       "      <td>0.000000</td>\n",
       "      <td>0.0</td>\n",
       "      <td>0.0</td>\n",
       "      <td>0.0</td>\n",
       "      <td>0.00000</td>\n",
       "      <td>0.0</td>\n",
       "      <td>0.0</td>\n",
       "      <td>0.0</td>\n",
       "      <td>0.0</td>\n",
       "      <td>0.0</td>\n",
       "      <td>...</td>\n",
       "      <td>0.0</td>\n",
       "      <td>0.0</td>\n",
       "      <td>0.0</td>\n",
       "      <td>0.0</td>\n",
       "      <td>0.0</td>\n",
       "      <td>0.0</td>\n",
       "      <td>0.0</td>\n",
       "      <td>0.0</td>\n",
       "      <td>0.0</td>\n",
       "      <td>0.0</td>\n",
       "    </tr>\n",
       "    <tr>\n",
       "      <th>b binance ha the biggest fortune on the planet vaulting him into the rank of the</th>\n",
       "      <td>0.000000</td>\n",
       "      <td>0.0</td>\n",
       "      <td>0.0</td>\n",
       "      <td>0.0</td>\n",
       "      <td>0.00000</td>\n",
       "      <td>0.0</td>\n",
       "      <td>0.0</td>\n",
       "      <td>0.0</td>\n",
       "      <td>0.0</td>\n",
       "      <td>0.0</td>\n",
       "      <td>...</td>\n",
       "      <td>0.0</td>\n",
       "      <td>0.0</td>\n",
       "      <td>0.0</td>\n",
       "      <td>0.0</td>\n",
       "      <td>0.0</td>\n",
       "      <td>0.0</td>\n",
       "      <td>0.0</td>\n",
       "      <td>0.0</td>\n",
       "      <td>0.0</td>\n",
       "      <td>0.0</td>\n",
       "    </tr>\n",
       "    <tr>\n",
       "      <th>be bigger than binance bitcoin</th>\n",
       "      <td>0.000000</td>\n",
       "      <td>0.0</td>\n",
       "      <td>0.0</td>\n",
       "      <td>0.0</td>\n",
       "      <td>0.00000</td>\n",
       "      <td>0.0</td>\n",
       "      <td>0.0</td>\n",
       "      <td>0.0</td>\n",
       "      <td>0.0</td>\n",
       "      <td>0.0</td>\n",
       "      <td>...</td>\n",
       "      <td>0.0</td>\n",
       "      <td>0.0</td>\n",
       "      <td>0.0</td>\n",
       "      <td>0.0</td>\n",
       "      <td>0.0</td>\n",
       "      <td>0.0</td>\n",
       "      <td>0.0</td>\n",
       "      <td>0.0</td>\n",
       "      <td>0.0</td>\n",
       "      <td>0.0</td>\n",
       "    </tr>\n",
       "    <tr>\n",
       "      <th>who want binance to accept me me</th>\n",
       "      <td>0.736831</td>\n",
       "      <td>0.0</td>\n",
       "      <td>0.0</td>\n",
       "      <td>0.0</td>\n",
       "      <td>0.00000</td>\n",
       "      <td>0.0</td>\n",
       "      <td>0.0</td>\n",
       "      <td>0.0</td>\n",
       "      <td>0.0</td>\n",
       "      <td>0.0</td>\n",
       "      <td>...</td>\n",
       "      <td>0.0</td>\n",
       "      <td>0.0</td>\n",
       "      <td>0.0</td>\n",
       "      <td>0.0</td>\n",
       "      <td>0.0</td>\n",
       "      <td>0.0</td>\n",
       "      <td>0.0</td>\n",
       "      <td>0.0</td>\n",
       "      <td>0.0</td>\n",
       "      <td>0.0</td>\n",
       "    </tr>\n",
       "    <tr>\n",
       "      <th>signal on binance future</th>\n",
       "      <td>0.000000</td>\n",
       "      <td>0.0</td>\n",
       "      <td>0.0</td>\n",
       "      <td>0.0</td>\n",
       "      <td>0.00000</td>\n",
       "      <td>0.0</td>\n",
       "      <td>0.0</td>\n",
       "      <td>0.0</td>\n",
       "      <td>0.0</td>\n",
       "      <td>0.0</td>\n",
       "      <td>...</td>\n",
       "      <td>0.0</td>\n",
       "      <td>0.0</td>\n",
       "      <td>0.0</td>\n",
       "      <td>0.0</td>\n",
       "      <td>0.0</td>\n",
       "      <td>0.0</td>\n",
       "      <td>0.0</td>\n",
       "      <td>0.0</td>\n",
       "      <td>0.0</td>\n",
       "      <td>0.0</td>\n",
       "    </tr>\n",
       "    <tr>\n",
       "      <th>today is my birthday and i want to celebrate with my will invest in new of</th>\n",
       "      <td>0.000000</td>\n",
       "      <td>0.0</td>\n",
       "      <td>0.0</td>\n",
       "      <td>0.0</td>\n",
       "      <td>0.00000</td>\n",
       "      <td>0.0</td>\n",
       "      <td>0.0</td>\n",
       "      <td>0.0</td>\n",
       "      <td>0.0</td>\n",
       "      <td>0.0</td>\n",
       "      <td>...</td>\n",
       "      <td>0.0</td>\n",
       "      <td>0.0</td>\n",
       "      <td>0.0</td>\n",
       "      <td>0.0</td>\n",
       "      <td>0.0</td>\n",
       "      <td>0.0</td>\n",
       "      <td>0.0</td>\n",
       "      <td>0.0</td>\n",
       "      <td>0.0</td>\n",
       "      <td>0.0</td>\n",
       "    </tr>\n",
       "  </tbody>\n",
       "</table>\n",
       "<p>10 rows × 274 columns</p>\n",
       "</div>"
      ],
      "text/plain": [
       "                                                      accept  add  address  \\\n",
       "text                                                                         \n",
       "official airdrop and distribution ha been reward    0.000000  0.0      0.0   \n",
       "in quote pin post of with                           0.000000  0.0      0.0   \n",
       "honestly starting to wonder if is                   0.000000  0.0      0.0   \n",
       "which should list next sha toko                     0.000000  0.0      0.0   \n",
       "soon to our very own complete and almost ready ...  0.000000  0.0      0.0   \n",
       "b binance ha the biggest fortune on the planet ...  0.000000  0.0      0.0   \n",
       "be bigger than binance bitcoin                      0.000000  0.0      0.0   \n",
       "who want binance to accept me me                    0.736831  0.0      0.0   \n",
       "signal on binance future                            0.000000  0.0      0.0   \n",
       "today is my birthday and i want to celebrate wi...  0.000000  0.0      0.0   \n",
       "\n",
       "                                                    adore  airdrop   al  \\\n",
       "text                                                                      \n",
       "official airdrop and distribution ha been reward      0.0  0.55427  0.0   \n",
       "in quote pin post of with                             0.0  0.00000  0.0   \n",
       "honestly starting to wonder if is                     0.0  0.00000  0.0   \n",
       "which should list next sha toko                       0.0  0.00000  0.0   \n",
       "soon to our very own complete and almost ready ...    0.0  0.00000  0.0   \n",
       "b binance ha the biggest fortune on the planet ...    0.0  0.00000  0.0   \n",
       "be bigger than binance bitcoin                        0.0  0.00000  0.0   \n",
       "who want binance to accept me me                      0.0  0.00000  0.0   \n",
       "signal on binance future                              0.0  0.00000  0.0   \n",
       "today is my birthday and i want to celebrate wi...    0.0  0.00000  0.0   \n",
       "\n",
       "                                                    alert  also  always  \\\n",
       "text                                                                      \n",
       "official airdrop and distribution ha been reward      0.0   0.0     0.0   \n",
       "in quote pin post of with                             0.0   0.0     0.0   \n",
       "honestly starting to wonder if is                     0.0   0.0     0.0   \n",
       "which should list next sha toko                       0.0   0.0     0.0   \n",
       "soon to our very own complete and almost ready ...    0.0   0.0     0.0   \n",
       "b binance ha the biggest fortune on the planet ...    0.0   0.0     0.0   \n",
       "be bigger than binance bitcoin                        0.0   0.0     0.0   \n",
       "who want binance to accept me me                      0.0   0.0     0.0   \n",
       "signal on binance future                              0.0   0.0     0.0   \n",
       "today is my birthday and i want to celebrate wi...    0.0   0.0     0.0   \n",
       "\n",
       "                                                    announce  ...  word  work  \\\n",
       "text                                                          ...               \n",
       "official airdrop and distribution ha been reward         0.0  ...   0.0   0.0   \n",
       "in quote pin post of with                                0.0  ...   0.0   0.0   \n",
       "honestly starting to wonder if is                        0.0  ...   0.0   0.0   \n",
       "which should list next sha toko                          0.0  ...   0.0   0.0   \n",
       "soon to our very own complete and almost ready ...       0.0  ...   0.0   0.0   \n",
       "b binance ha the biggest fortune on the planet ...       0.0  ...   0.0   0.0   \n",
       "be bigger than binance bitcoin                           0.0  ...   0.0   0.0   \n",
       "who want binance to accept me me                         0.0  ...   0.0   0.0   \n",
       "signal on binance future                                 0.0  ...   0.0   0.0   \n",
       "today is my birthday and i want to celebrate wi...       0.0  ...   0.0   0.0   \n",
       "\n",
       "                                                    working  world  worth  \\\n",
       "text                                                                        \n",
       "official airdrop and distribution ha been reward        0.0    0.0    0.0   \n",
       "in quote pin post of with                               0.0    0.0    0.0   \n",
       "honestly starting to wonder if is                       0.0    0.0    0.0   \n",
       "which should list next sha toko                         0.0    0.0    0.0   \n",
       "soon to our very own complete and almost ready ...      0.0    0.0    0.0   \n",
       "b binance ha the biggest fortune on the planet ...      0.0    0.0    0.0   \n",
       "be bigger than binance bitcoin                          0.0    0.0    0.0   \n",
       "who want binance to accept me me                        0.0    0.0    0.0   \n",
       "signal on binance future                                0.0    0.0    0.0   \n",
       "today is my birthday and i want to celebrate wi...      0.0    0.0    0.0   \n",
       "\n",
       "                                                    would  wow  year  yes  \\\n",
       "text                                                                        \n",
       "official airdrop and distribution ha been reward      0.0  0.0   0.0  0.0   \n",
       "in quote pin post of with                             0.0  0.0   0.0  0.0   \n",
       "honestly starting to wonder if is                     0.0  0.0   0.0  0.0   \n",
       "which should list next sha toko                       0.0  0.0   0.0  0.0   \n",
       "soon to our very own complete and almost ready ...    0.0  0.0   0.0  0.0   \n",
       "b binance ha the biggest fortune on the planet ...    0.0  0.0   0.0  0.0   \n",
       "be bigger than binance bitcoin                        0.0  0.0   0.0  0.0   \n",
       "who want binance to accept me me                      0.0  0.0   0.0  0.0   \n",
       "signal on binance future                              0.0  0.0   0.0  0.0   \n",
       "today is my birthday and i want to celebrate wi...    0.0  0.0   0.0  0.0   \n",
       "\n",
       "                                                    zero  \n",
       "text                                                      \n",
       "official airdrop and distribution ha been reward     0.0  \n",
       "in quote pin post of with                            0.0  \n",
       "honestly starting to wonder if is                    0.0  \n",
       "which should list next sha toko                      0.0  \n",
       "soon to our very own complete and almost ready ...   0.0  \n",
       "b binance ha the biggest fortune on the planet ...   0.0  \n",
       "be bigger than binance bitcoin                       0.0  \n",
       "who want binance to accept me me                     0.0  \n",
       "signal on binance future                             0.0  \n",
       "today is my birthday and i want to celebrate wi...   0.0  \n",
       "\n",
       "[10 rows x 274 columns]"
      ]
     },
     "execution_count": 28,
     "metadata": {},
     "output_type": "execute_result"
    }
   ],
   "source": [
    "##TFIDF\n",
    "cv_tfidf = TfidfVectorizer(stop_words=stop_words,max_df =0.7, min_df=3)\n",
    "doc_word_tfidf = cv_tfidf.fit_transform(df_bnb.text)\n",
    "pd.DataFrame(doc_word_tfidf.toarray(), index=df_bnb.text, columns=cv_tfidf.get_feature_names()).head(10)"
   ]
  },
  {
   "cell_type": "code",
   "execution_count": 29,
   "id": "89b5f3f6",
   "metadata": {},
   "outputs": [
    {
     "data": {
      "text/plain": [
       "(804, 274)"
      ]
     },
     "execution_count": 29,
     "metadata": {},
     "output_type": "execute_result"
    }
   ],
   "source": [
    "doc_word_tfidf.shape"
   ]
  },
  {
   "cell_type": "code",
   "execution_count": 34,
   "id": "18d85591",
   "metadata": {},
   "outputs": [],
   "source": [
    "test = doc_word_tfidf.T"
   ]
  },
  {
   "cell_type": "code",
   "execution_count": 35,
   "id": "ea3ec853",
   "metadata": {},
   "outputs": [],
   "source": [
    "def display_topics(model, feature_names, no_top_words, topic_names=None):\n",
    "    for ix, topic in enumerate(model.components_):\n",
    "        if not topic_names or not topic_names[ix]:\n",
    "            print(\"\\nTopic \", ix)\n",
    "        else:\n",
    "            print(\"\\nTopic: '\",topic_names[ix],\"'\")\n",
    "        print(\", \".join([feature_names[i]\n",
    "                        for i in topic.argsort()[:-no_top_words - 1:-1]]))"
   ]
  },
  {
   "cell_type": "markdown",
   "id": "4161974a",
   "metadata": {},
   "source": [
    "### NMF Model"
   ]
  },
  {
   "cell_type": "code",
   "execution_count": 36,
   "id": "48af85d4",
   "metadata": {},
   "outputs": [],
   "source": [
    "from sklearn.decomposition import NMF, TruncatedSVD"
   ]
  },
  {
   "cell_type": "code",
   "execution_count": 37,
   "id": "0b469706",
   "metadata": {},
   "outputs": [
    {
     "name": "stderr",
     "output_type": "stream",
     "text": [
      "/Users/Elena/Anaconda/anaconda3/envs/metis/lib/python3.8/site-packages/sklearn/decomposition/_nmf.py:312: FutureWarning: The 'init' value, when 'init=None' and n_components is less than n_samples and n_features, will be changed from 'nndsvd' to 'nndsvda' in 1.1 (renaming of 0.26).\n",
      "  warnings.warn((\"The 'init' value, when 'init=None' and \"\n"
     ]
    }
   ],
   "source": [
    "n_topics=10\n",
    "nmf = NMF(n_components=n_topics)\n",
    "doc_topic=nmf.fit_transform(doc_word_tfidf)"
   ]
  },
  {
   "cell_type": "code",
   "execution_count": 38,
   "id": "15764a2b",
   "metadata": {
    "collapsed": true
   },
   "outputs": [
    {
     "data": {
      "text/html": [
       "<div>\n",
       "<style scoped>\n",
       "    .dataframe tbody tr th:only-of-type {\n",
       "        vertical-align: middle;\n",
       "    }\n",
       "\n",
       "    .dataframe tbody tr th {\n",
       "        vertical-align: top;\n",
       "    }\n",
       "\n",
       "    .dataframe thead th {\n",
       "        text-align: right;\n",
       "    }\n",
       "</style>\n",
       "<table border=\"1\" class=\"dataframe\">\n",
       "  <thead>\n",
       "    <tr style=\"text-align: right;\">\n",
       "      <th></th>\n",
       "      <th>accept</th>\n",
       "      <th>add</th>\n",
       "      <th>address</th>\n",
       "      <th>adore</th>\n",
       "      <th>airdrop</th>\n",
       "      <th>al</th>\n",
       "      <th>alert</th>\n",
       "      <th>also</th>\n",
       "      <th>always</th>\n",
       "      <th>announce</th>\n",
       "      <th>...</th>\n",
       "      <th>word</th>\n",
       "      <th>work</th>\n",
       "      <th>working</th>\n",
       "      <th>world</th>\n",
       "      <th>worth</th>\n",
       "      <th>would</th>\n",
       "      <th>wow</th>\n",
       "      <th>year</th>\n",
       "      <th>yes</th>\n",
       "      <th>zero</th>\n",
       "    </tr>\n",
       "  </thead>\n",
       "  <tbody>\n",
       "    <tr>\n",
       "      <th>component_1</th>\n",
       "      <td>0.00</td>\n",
       "      <td>0.000</td>\n",
       "      <td>0.000</td>\n",
       "      <td>0.000</td>\n",
       "      <td>0.000</td>\n",
       "      <td>0.000</td>\n",
       "      <td>0.000</td>\n",
       "      <td>0.000</td>\n",
       "      <td>0.000</td>\n",
       "      <td>0.000</td>\n",
       "      <td>...</td>\n",
       "      <td>0.000</td>\n",
       "      <td>0.006</td>\n",
       "      <td>0.000</td>\n",
       "      <td>0.004</td>\n",
       "      <td>0.000</td>\n",
       "      <td>0.008</td>\n",
       "      <td>0.000</td>\n",
       "      <td>0.001</td>\n",
       "      <td>0.000</td>\n",
       "      <td>0.000</td>\n",
       "    </tr>\n",
       "    <tr>\n",
       "      <th>component_2</th>\n",
       "      <td>0.00</td>\n",
       "      <td>0.010</td>\n",
       "      <td>0.000</td>\n",
       "      <td>0.000</td>\n",
       "      <td>0.034</td>\n",
       "      <td>0.005</td>\n",
       "      <td>0.033</td>\n",
       "      <td>0.004</td>\n",
       "      <td>0.016</td>\n",
       "      <td>0.000</td>\n",
       "      <td>...</td>\n",
       "      <td>0.000</td>\n",
       "      <td>0.000</td>\n",
       "      <td>0.005</td>\n",
       "      <td>0.006</td>\n",
       "      <td>0.021</td>\n",
       "      <td>0.006</td>\n",
       "      <td>0.007</td>\n",
       "      <td>0.000</td>\n",
       "      <td>0.000</td>\n",
       "      <td>0.035</td>\n",
       "    </tr>\n",
       "    <tr>\n",
       "      <th>component_3</th>\n",
       "      <td>1.54</td>\n",
       "      <td>0.000</td>\n",
       "      <td>0.000</td>\n",
       "      <td>0.000</td>\n",
       "      <td>0.000</td>\n",
       "      <td>0.000</td>\n",
       "      <td>0.000</td>\n",
       "      <td>0.004</td>\n",
       "      <td>0.000</td>\n",
       "      <td>0.000</td>\n",
       "      <td>...</td>\n",
       "      <td>0.000</td>\n",
       "      <td>0.000</td>\n",
       "      <td>0.000</td>\n",
       "      <td>0.000</td>\n",
       "      <td>0.001</td>\n",
       "      <td>0.004</td>\n",
       "      <td>0.000</td>\n",
       "      <td>0.001</td>\n",
       "      <td>0.000</td>\n",
       "      <td>0.000</td>\n",
       "    </tr>\n",
       "    <tr>\n",
       "      <th>component_4</th>\n",
       "      <td>0.00</td>\n",
       "      <td>0.000</td>\n",
       "      <td>0.000</td>\n",
       "      <td>0.000</td>\n",
       "      <td>0.000</td>\n",
       "      <td>0.000</td>\n",
       "      <td>0.000</td>\n",
       "      <td>0.045</td>\n",
       "      <td>0.000</td>\n",
       "      <td>0.005</td>\n",
       "      <td>...</td>\n",
       "      <td>0.000</td>\n",
       "      <td>0.096</td>\n",
       "      <td>0.004</td>\n",
       "      <td>0.005</td>\n",
       "      <td>0.000</td>\n",
       "      <td>0.002</td>\n",
       "      <td>0.001</td>\n",
       "      <td>0.027</td>\n",
       "      <td>0.000</td>\n",
       "      <td>0.118</td>\n",
       "    </tr>\n",
       "    <tr>\n",
       "      <th>component_5</th>\n",
       "      <td>0.00</td>\n",
       "      <td>0.000</td>\n",
       "      <td>0.047</td>\n",
       "      <td>0.000</td>\n",
       "      <td>0.000</td>\n",
       "      <td>0.000</td>\n",
       "      <td>0.000</td>\n",
       "      <td>0.021</td>\n",
       "      <td>0.000</td>\n",
       "      <td>0.001</td>\n",
       "      <td>...</td>\n",
       "      <td>0.000</td>\n",
       "      <td>0.003</td>\n",
       "      <td>0.000</td>\n",
       "      <td>0.000</td>\n",
       "      <td>0.033</td>\n",
       "      <td>0.021</td>\n",
       "      <td>0.000</td>\n",
       "      <td>0.005</td>\n",
       "      <td>0.000</td>\n",
       "      <td>0.000</td>\n",
       "    </tr>\n",
       "    <tr>\n",
       "      <th>component_6</th>\n",
       "      <td>0.00</td>\n",
       "      <td>0.067</td>\n",
       "      <td>0.000</td>\n",
       "      <td>0.000</td>\n",
       "      <td>0.000</td>\n",
       "      <td>0.000</td>\n",
       "      <td>0.000</td>\n",
       "      <td>0.000</td>\n",
       "      <td>0.000</td>\n",
       "      <td>0.000</td>\n",
       "      <td>...</td>\n",
       "      <td>0.000</td>\n",
       "      <td>0.000</td>\n",
       "      <td>0.001</td>\n",
       "      <td>0.001</td>\n",
       "      <td>0.000</td>\n",
       "      <td>0.000</td>\n",
       "      <td>0.001</td>\n",
       "      <td>0.000</td>\n",
       "      <td>0.000</td>\n",
       "      <td>0.000</td>\n",
       "    </tr>\n",
       "    <tr>\n",
       "      <th>component_7</th>\n",
       "      <td>0.00</td>\n",
       "      <td>0.000</td>\n",
       "      <td>0.001</td>\n",
       "      <td>0.000</td>\n",
       "      <td>0.169</td>\n",
       "      <td>0.000</td>\n",
       "      <td>0.000</td>\n",
       "      <td>0.000</td>\n",
       "      <td>0.052</td>\n",
       "      <td>0.003</td>\n",
       "      <td>...</td>\n",
       "      <td>0.000</td>\n",
       "      <td>0.000</td>\n",
       "      <td>0.019</td>\n",
       "      <td>0.000</td>\n",
       "      <td>0.000</td>\n",
       "      <td>0.024</td>\n",
       "      <td>0.002</td>\n",
       "      <td>0.015</td>\n",
       "      <td>0.000</td>\n",
       "      <td>0.001</td>\n",
       "    </tr>\n",
       "    <tr>\n",
       "      <th>component_8</th>\n",
       "      <td>0.00</td>\n",
       "      <td>0.000</td>\n",
       "      <td>0.000</td>\n",
       "      <td>0.256</td>\n",
       "      <td>0.000</td>\n",
       "      <td>0.090</td>\n",
       "      <td>0.000</td>\n",
       "      <td>0.000</td>\n",
       "      <td>0.000</td>\n",
       "      <td>0.000</td>\n",
       "      <td>...</td>\n",
       "      <td>0.000</td>\n",
       "      <td>0.000</td>\n",
       "      <td>0.000</td>\n",
       "      <td>0.000</td>\n",
       "      <td>0.000</td>\n",
       "      <td>0.000</td>\n",
       "      <td>0.000</td>\n",
       "      <td>0.000</td>\n",
       "      <td>0.000</td>\n",
       "      <td>0.000</td>\n",
       "    </tr>\n",
       "    <tr>\n",
       "      <th>component_9</th>\n",
       "      <td>0.00</td>\n",
       "      <td>0.001</td>\n",
       "      <td>0.000</td>\n",
       "      <td>0.000</td>\n",
       "      <td>0.000</td>\n",
       "      <td>0.000</td>\n",
       "      <td>0.000</td>\n",
       "      <td>0.000</td>\n",
       "      <td>0.003</td>\n",
       "      <td>0.000</td>\n",
       "      <td>...</td>\n",
       "      <td>0.000</td>\n",
       "      <td>0.023</td>\n",
       "      <td>0.003</td>\n",
       "      <td>0.000</td>\n",
       "      <td>0.004</td>\n",
       "      <td>0.000</td>\n",
       "      <td>0.004</td>\n",
       "      <td>0.022</td>\n",
       "      <td>1.443</td>\n",
       "      <td>0.004</td>\n",
       "    </tr>\n",
       "    <tr>\n",
       "      <th>component_10</th>\n",
       "      <td>0.00</td>\n",
       "      <td>0.014</td>\n",
       "      <td>0.023</td>\n",
       "      <td>0.000</td>\n",
       "      <td>0.314</td>\n",
       "      <td>0.045</td>\n",
       "      <td>0.010</td>\n",
       "      <td>0.010</td>\n",
       "      <td>0.003</td>\n",
       "      <td>0.009</td>\n",
       "      <td>...</td>\n",
       "      <td>0.014</td>\n",
       "      <td>0.000</td>\n",
       "      <td>0.032</td>\n",
       "      <td>0.008</td>\n",
       "      <td>0.055</td>\n",
       "      <td>0.021</td>\n",
       "      <td>0.018</td>\n",
       "      <td>0.081</td>\n",
       "      <td>0.000</td>\n",
       "      <td>0.013</td>\n",
       "    </tr>\n",
       "  </tbody>\n",
       "</table>\n",
       "<p>10 rows × 274 columns</p>\n",
       "</div>"
      ],
      "text/plain": [
       "              accept    add  address  adore  airdrop     al  alert   also  \\\n",
       "component_1     0.00  0.000    0.000  0.000    0.000  0.000  0.000  0.000   \n",
       "component_2     0.00  0.010    0.000  0.000    0.034  0.005  0.033  0.004   \n",
       "component_3     1.54  0.000    0.000  0.000    0.000  0.000  0.000  0.004   \n",
       "component_4     0.00  0.000    0.000  0.000    0.000  0.000  0.000  0.045   \n",
       "component_5     0.00  0.000    0.047  0.000    0.000  0.000  0.000  0.021   \n",
       "component_6     0.00  0.067    0.000  0.000    0.000  0.000  0.000  0.000   \n",
       "component_7     0.00  0.000    0.001  0.000    0.169  0.000  0.000  0.000   \n",
       "component_8     0.00  0.000    0.000  0.256    0.000  0.090  0.000  0.000   \n",
       "component_9     0.00  0.001    0.000  0.000    0.000  0.000  0.000  0.000   \n",
       "component_10    0.00  0.014    0.023  0.000    0.314  0.045  0.010  0.010   \n",
       "\n",
       "              always  announce  ...   word   work  working  world  worth  \\\n",
       "component_1    0.000     0.000  ...  0.000  0.006    0.000  0.004  0.000   \n",
       "component_2    0.016     0.000  ...  0.000  0.000    0.005  0.006  0.021   \n",
       "component_3    0.000     0.000  ...  0.000  0.000    0.000  0.000  0.001   \n",
       "component_4    0.000     0.005  ...  0.000  0.096    0.004  0.005  0.000   \n",
       "component_5    0.000     0.001  ...  0.000  0.003    0.000  0.000  0.033   \n",
       "component_6    0.000     0.000  ...  0.000  0.000    0.001  0.001  0.000   \n",
       "component_7    0.052     0.003  ...  0.000  0.000    0.019  0.000  0.000   \n",
       "component_8    0.000     0.000  ...  0.000  0.000    0.000  0.000  0.000   \n",
       "component_9    0.003     0.000  ...  0.000  0.023    0.003  0.000  0.004   \n",
       "component_10   0.003     0.009  ...  0.014  0.000    0.032  0.008  0.055   \n",
       "\n",
       "              would    wow   year    yes   zero  \n",
       "component_1   0.008  0.000  0.001  0.000  0.000  \n",
       "component_2   0.006  0.007  0.000  0.000  0.035  \n",
       "component_3   0.004  0.000  0.001  0.000  0.000  \n",
       "component_4   0.002  0.001  0.027  0.000  0.118  \n",
       "component_5   0.021  0.000  0.005  0.000  0.000  \n",
       "component_6   0.000  0.001  0.000  0.000  0.000  \n",
       "component_7   0.024  0.002  0.015  0.000  0.001  \n",
       "component_8   0.000  0.000  0.000  0.000  0.000  \n",
       "component_9   0.000  0.004  0.022  1.443  0.004  \n",
       "component_10  0.021  0.018  0.081  0.000  0.013  \n",
       "\n",
       "[10 rows x 274 columns]"
      ]
     },
     "execution_count": 38,
     "metadata": {},
     "output_type": "execute_result"
    }
   ],
   "source": [
    "topic_word = pd.DataFrame(nmf.components_.round(3),\n",
    "             index = [\"component_1\",\"component_2\",\"component_3\",\"component_4\",\"component_5\",\n",
    "                     \"component_6\",\"component_7\",\"component_8\",\"component_9\",\"component_10\"],\n",
    "             columns = cv_tfidf.get_feature_names())\n",
    "topic_word"
   ]
  },
  {
   "cell_type": "code",
   "execution_count": 39,
   "id": "40bf1b0f",
   "metadata": {
    "scrolled": false
   },
   "outputs": [
    {
     "name": "stdout",
     "output_type": "stream",
     "text": [
      "\n",
      "Topic  0\n",
      "ash, rise, like, take, taste, giveaway, see, right, great, love\n",
      "\n",
      "Topic  1\n",
      "binance, need, future, en, time, love, come, see, zero, smart\n",
      "\n",
      "Topic  2\n",
      "want, accept, get, new, follow, fan, month, buy, listed, need\n",
      "\n",
      "Topic  3\n",
      "token, fan, think, moon, first, listing, buy, zero, work, awesome\n",
      "\n",
      "Topic  4\n",
      "nft, market, buy, place, consider, nice, best, coin, first, need\n",
      "\n",
      "Topic  5\n",
      "list, next, holder, want, many, comment, sincerely, two, first, add\n",
      "\n",
      "Topic  6\n",
      "good, project, luck, quote, airdrop, great, see, hope, get, nice\n",
      "\n",
      "Topic  7\n",
      "de, la, adore, impatient, un, mi, con, en, son, da\n",
      "\n",
      "Topic  8\n",
      "yes, listed, get, thank, month, next, comment, breaking, getting, soon\n",
      "\n",
      "Topic  9\n",
      "go, bitcoin, day, let, today, break, airdrop, see, doge, one\n"
     ]
    }
   ],
   "source": [
    "display_topics(nmf, cv_tfidf.get_feature_names(), 10)"
   ]
  },
  {
   "cell_type": "code",
   "execution_count": 40,
   "id": "4fb3f78a",
   "metadata": {},
   "outputs": [],
   "source": [
    "## among all the topics, topic 9 contains a lot of unexplainanle words\n",
    "## We need to inspect each topic to better under the content"
   ]
  },
  {
   "cell_type": "code",
   "execution_count": 41,
   "id": "44a3d2ab",
   "metadata": {},
   "outputs": [
    {
     "name": "stdout",
     "output_type": "stream",
     "text": [
      "[0.         0.00322877 0.         0.00297329 0.         0.00906757\n",
      " 0.02592672 0.         0.         0.12009258]\n"
     ]
    }
   ],
   "source": [
    "print(doc_topic[0])"
   ]
  },
  {
   "cell_type": "code",
   "execution_count": 42,
   "id": "9e5474f2",
   "metadata": {},
   "outputs": [
    {
     "data": {
      "text/plain": [
       "'official airdrop and distribution ha been reward'"
      ]
     },
     "execution_count": 42,
     "metadata": {},
     "output_type": "execute_result"
    }
   ],
   "source": [
    "df_bnb.text.iloc[0]"
   ]
  },
  {
   "cell_type": "code",
   "execution_count": 43,
   "id": "0652bca8",
   "metadata": {
    "scrolled": true
   },
   "outputs": [
    {
     "data": {
      "text/plain": [
       "0     9\n",
       "1     6\n",
       "3     9\n",
       "4     5\n",
       "5     9\n",
       "6     1\n",
       "7     9\n",
       "8     2\n",
       "9     1\n",
       "13    2\n",
       "Name: argmax_topic, dtype: int64"
      ]
     },
     "execution_count": 43,
     "metadata": {},
     "output_type": "execute_result"
    }
   ],
   "source": [
    "df_bnb['argmax_topic']=np.argmax(doc_topic, axis=1)\n",
    "df_bnb.argmax_topic.head(10)"
   ]
  },
  {
   "cell_type": "code",
   "execution_count": 44,
   "id": "043d3ec8",
   "metadata": {},
   "outputs": [
    {
     "data": {
      "text/plain": [
       "9    230\n",
       "0    139\n",
       "1    122\n",
       "4     59\n",
       "3     55\n",
       "6     49\n",
       "8     47\n",
       "7     46\n",
       "5     31\n",
       "2     26\n",
       "Name: argmax_topic, dtype: int64"
      ]
     },
     "execution_count": 44,
     "metadata": {},
     "output_type": "execute_result"
    }
   ],
   "source": [
    "pd.Series(df_bnb.argmax_topic).value_counts()"
   ]
  },
  {
   "cell_type": "code",
   "execution_count": 45,
   "id": "b91e4b85",
   "metadata": {},
   "outputs": [],
   "source": [
    "###########\n",
    "# Topic 0 #  ### FEG token (a hyper-deflationary token on both the Ethereum blockchain and the Binance Smart Chain)\n",
    "###########"
   ]
  },
  {
   "cell_type": "code",
   "execution_count": 122,
   "id": "7587c2a7",
   "metadata": {
    "collapsed": true
   },
   "outputs": [
    {
     "data": {
      "text/plain": [
       "767                                               wish me\n",
       "770                                                 is on\n",
       "775                                                we are\n",
       "782                      only can do this in current bear\n",
       "785                                                     f\n",
       "799     you love our giveaway of and so another like t...\n",
       "808     right or you thought to say d like prop to he ...\n",
       "809                                                raffle\n",
       "855                                   hello be your trust\n",
       "856                                            the legend\n",
       "869                                                  buna\n",
       "906                   flight hotel ticket booking holiday\n",
       "910            joining the bigwig like and musk should be\n",
       "965                                                secret\n",
       "972            the competition end on and condition apply\n",
       "979     jaw drop partner to provide to the united stat...\n",
       "1032      clearly the sponsorship deal is increasing with\n",
       "1052                                              just in\n",
       "1055                                          nonfungible\n",
       "1057                                               to the\n",
       "Name: text, dtype: object"
      ]
     },
     "execution_count": 122,
     "metadata": {},
     "output_type": "execute_result"
    }
   ],
   "source": [
    "df_bnb_0=df_bnb[df_bnb.argmax_topic==0]\n",
    "df_bnb_0.text.iloc[110:130]"
   ]
  },
  {
   "cell_type": "code",
   "execution_count": 112,
   "id": "a947e2dd",
   "metadata": {
    "scrolled": false
   },
   "outputs": [
    {
     "data": {
      "text/plain": [
       "\"b'RT @CheemsInu: As we get closer to the release of MemeTools in quarter 1, I\\\\xe2\\\\x80\\\\x99d like to remind all of you to research how ground breaking and\\\\xe2\\\\x80\\\\xa6'\""
      ]
     },
     "execution_count": 112,
     "metadata": {},
     "output_type": "execute_result"
    }
   ],
   "source": [
    "df_bnb_orig.text.iloc[16]"
   ]
  },
  {
   "cell_type": "code",
   "execution_count": 115,
   "id": "920d93f4",
   "metadata": {
    "scrolled": true
   },
   "outputs": [
    {
     "data": {
      "text/plain": [
       "\"b'@FEGtoken @binance \\\\xe2\\\\x99\\\\xa5\\\\xef\\\\xb8\\\\x8f\\\\xe2\\\\x9d\\\\x8e\\\\xe2\\\\x99\\\\xa5\\\\xef\\\\xb8\\\\x8f $FEG will rise from the ashes like a Phoenix\\\\xf0\\\\x9f\\\\x94\\\\xa5\\\\n\\\\xf0\\\\x9f\\\\xa6\\\\x8d\\\\n$USCT $FEG #SmartDefi $FEG #ListOnFEGex\\\\xe2\\\\x80\\\\xa6 https://t.co/A0gxcSYwv9'\""
      ]
     },
     "execution_count": 115,
     "metadata": {},
     "output_type": "execute_result"
    }
   ],
   "source": [
    "df_bnb_orig.text.iloc[139]"
   ]
  },
  {
   "cell_type": "code",
   "execution_count": 120,
   "id": "ca7dd63b",
   "metadata": {},
   "outputs": [
    {
     "data": {
      "text/plain": [
       "\"b'@FEGtoken @binance \\\\xe2\\\\x99\\\\xa5\\\\xef\\\\xb8\\\\x8f\\\\xe2\\\\x9d\\\\x8e\\\\xe2\\\\x99\\\\xa5\\\\xef\\\\xb8\\\\x8f $FEG will rise from the ashes like a Phoenix\\\\xf0\\\\x9f\\\\x94\\\\xa5\\\\n\\\\xf0\\\\x9f\\\\xa6\\\\x8d\\\\n$USCT $FEG #SmartDefi $FEG #ListOnFEGex\\\\xe2\\\\x80\\\\xa6 https://t.co/NXinA73ks7'\""
      ]
     },
     "execution_count": 120,
     "metadata": {},
     "output_type": "execute_result"
    }
   ],
   "source": [
    "df_bnb_orig.text.iloc[627]"
   ]
  },
  {
   "cell_type": "code",
   "execution_count": 121,
   "id": "0992d953",
   "metadata": {
    "scrolled": true
   },
   "outputs": [
    {
     "data": {
      "text/plain": [
       "\"b'@binance Stay safe Sat \\\\xf0\\\\x9f\\\\xa5\\\\xba'\""
      ]
     },
     "execution_count": 121,
     "metadata": {},
     "output_type": "execute_result"
    }
   ],
   "source": [
    "df_bnb_orig.text.iloc[740]"
   ]
  },
  {
   "cell_type": "code",
   "execution_count": 51,
   "id": "f51d7a7a",
   "metadata": {},
   "outputs": [
    {
     "data": {
      "text/plain": [
       "\"b'@FEGtoken @binance \\\\xe2\\\\x99\\\\xa5\\\\xef\\\\xb8\\\\x8f $FEG \\\\xe2\\\\x99\\\\xa5\\\\xef\\\\xb8\\\\x8f $FEG \\\\xe2\\\\x99\\\\xa5\\\\xef\\\\xb8\\\\x8f $FEG \\\\xe2\\\\x99\\\\xa5\\\\xef\\\\xb8\\\\x8f $FEG \\\\xe2\\\\x99\\\\xa5\\\\xef\\\\xb8\\\\x8f $FEG \\\\xe2\\\\x99\\\\xa5\\\\xef\\\\xb8\\\\x8f\\\\n\\\\xf0\\\\x9f\\\\xa6\\\\x8d\\\\n#FEG $USCT #FEG #SmartDefi #ListOnFEGex #SmartLend\\\\xe2\\\\x80\\\\xa6 https://t.co/1BFgGuEY8V'\""
      ]
     },
     "execution_count": 51,
     "metadata": {},
     "output_type": "execute_result"
    }
   ],
   "source": [
    "df_bnb_orig.text.iloc[872]"
   ]
  },
  {
   "cell_type": "code",
   "execution_count": 52,
   "id": "ff8680b6",
   "metadata": {},
   "outputs": [],
   "source": [
    "###########\n",
    "# Topic 1 #  ### Overall, positive attitudes to Binance future\n",
    "###########"
   ]
  },
  {
   "cell_type": "code",
   "execution_count": 129,
   "id": "1cabe9c1",
   "metadata": {},
   "outputs": [
    {
     "data": {
      "text/plain": [
       "907          giveaway photo or video of binance the point\n",
       "922     alert binance future at in the last second whi...\n",
       "925                                          binance dump\n",
       "934                                               binance\n",
       "940                                                   rox\n",
       "944           b i hold diamond like and rox don t binance\n",
       "950                                  baby doge na binance\n",
       "962                        the pup need a hug buy binance\n",
       "963                                             b binance\n",
       "969                                       binance en high\n",
       "976                              gala gaming binance vade\n",
       "981                                               binance\n",
       "990                                               binance\n",
       "991                          binance margin add new asset\n",
       "999                                               binance\n",
       "1001                                                  rox\n",
       "1020                         binance even the cat love it\n",
       "1022                                              binance\n",
       "1025                             binance no fee no stress\n",
       "1036                                                  rox\n",
       "Name: text, dtype: object"
      ]
     },
     "execution_count": 129,
     "metadata": {},
     "output_type": "execute_result"
    }
   ],
   "source": [
    "df_bnb_1=df_bnb[df_bnb.argmax_topic==1]\n",
    "df_bnb_1.text.iloc[80:100]"
   ]
  },
  {
   "cell_type": "code",
   "execution_count": 125,
   "id": "50638719",
   "metadata": {},
   "outputs": [
    {
     "data": {
      "text/plain": [
       "\"b'@GermanGuy001 @joncoopertweets Jamesbinancetrades\\\\nFree signals on binance future trade.\\\\nhttps://t.co/0AfRJKIaCO\\\\nAre\\\\xe2\\\\x80\\\\xa6 https://t.co/4Klb2rvabN'\""
      ]
     },
     "execution_count": 125,
     "metadata": {},
     "output_type": "execute_result"
    }
   ],
   "source": [
    "df_bnb_orig.text.iloc[9]"
   ]
  },
  {
   "cell_type": "code",
   "execution_count": 126,
   "id": "005f644d",
   "metadata": {},
   "outputs": [
    {
     "data": {
      "text/plain": [
       "\"b'#NexonNFT #bsc #Binance #btc #bep20 #Nexon\\\\nNexonNFT is poised to becoming a crypto of choice that will bring an unp\\\\xe2\\\\x80\\\\xa6 https://t.co/TJSlAMz62e'\""
      ]
     },
     "execution_count": 126,
     "metadata": {},
     "output_type": "execute_result"
    }
   ],
   "source": [
    "df_bnb_orig.text.iloc[68]"
   ]
  },
  {
   "cell_type": "code",
   "execution_count": 128,
   "id": "1847e33e",
   "metadata": {},
   "outputs": [
    {
     "data": {
      "text/plain": [
       "\"b'\\\\xf0\\\\x9f\\\\x9a\\\\xa8\\\\xf0\\\\x9f\\\\x9a\\\\xa8\\\\xf0\\\\x9f\\\\x9a\\\\xa8\\\\xf0\\\\x9f\\\\x9a\\\\xa8\\\\xf0\\\\x9f\\\\x9a\\\\xa8[Volume alert ]  #Binance Futures $AXSUSDT: 6,312.0 $AXS traded at vwap: 80.670670 in the last 10 seconds whic\\\\xe2\\\\x80\\\\xa6 https://t.co/8fCTluOT7Q'\""
      ]
     },
     "execution_count": 128,
     "metadata": {},
     "output_type": "execute_result"
    }
   ],
   "source": [
    "df_bnb_orig.text.iloc[442]"
   ]
  },
  {
   "cell_type": "code",
   "execution_count": 130,
   "id": "481e6461",
   "metadata": {},
   "outputs": [
    {
     "data": {
      "text/plain": [
       "\"b'RT @binance: #Binance Margin adds new assets on:\\\\n\\\\nCross Margin:\\\\n\\\\xf0\\\\x9f\\\\x94\\\\xb8 $ANKR\\\\n\\\\xf0\\\\x9f\\\\x94\\\\xb8 $DAR\\\\n\\\\xf0\\\\x9f\\\\x94\\\\xb8 $ENJ\\\\n\\\\xf0\\\\x9f\\\\x94\\\\xb8 $HIVE\\\\n\\\\xf0\\\\x9f\\\\x94\\\\xb8 $ROSE\\\\n\\\\xf0\\\\x9f\\\\x94\\\\xb8 $STPT\\\\n\\\\nIsolated Margin:\\\\n\\\\xf0\\\\x9f\\\\x94\\\\xb8 $AMP\\\\n\\\\xf0\\\\x9f\\\\x94\\\\xb8 $D\\\\xe2\\\\x80\\\\xa6'\""
      ]
     },
     "execution_count": 130,
     "metadata": {},
     "output_type": "execute_result"
    }
   ],
   "source": [
    "df_bnb_orig.text.iloc[991]"
   ]
  },
  {
   "cell_type": "code",
   "execution_count": null,
   "id": "5c1ca2d4",
   "metadata": {},
   "outputs": [],
   "source": [
    "###########\n",
    "# Topic 2 #  #### \n",
    "###########"
   ]
  },
  {
   "cell_type": "code",
   "execution_count": null,
   "id": "44926064",
   "metadata": {},
   "outputs": [],
   "source": [
    "df_bnb_2=df_bnb[df_bnb.argmax_topic==2]\n",
    "df_bnb_2.text.iloc[21:40]"
   ]
  },
  {
   "cell_type": "code",
   "execution_count": null,
   "id": "eedf6efd",
   "metadata": {},
   "outputs": [],
   "source": [
    "df_bnb_orig.text.iloc[54]"
   ]
  },
  {
   "cell_type": "code",
   "execution_count": null,
   "id": "1e1044ad",
   "metadata": {},
   "outputs": [],
   "source": [
    "df_bnb_orig.text.iloc[111]"
   ]
  },
  {
   "cell_type": "code",
   "execution_count": null,
   "id": "3f48b90d",
   "metadata": {},
   "outputs": [],
   "source": [
    "df_bnb_orig.text.iloc[277]"
   ]
  },
  {
   "cell_type": "code",
   "execution_count": null,
   "id": "1083c683",
   "metadata": {},
   "outputs": [],
   "source": [
    "df_bnb_orig.text.iloc[680]"
   ]
  },
  {
   "cell_type": "code",
   "execution_count": 64,
   "id": "abe5a400",
   "metadata": {},
   "outputs": [],
   "source": [
    "###########\n",
    "# Topic 3 #  #### Different tokens and transaction within Binance network.\n",
    "###########"
   ]
  },
  {
   "cell_type": "code",
   "execution_count": 155,
   "id": "1ae646f6",
   "metadata": {},
   "outputs": [
    {
     "data": {
      "text/plain": [
       "732             b for it and did it you re awesome coming\n",
       "734     even binance want some will be the biggest tok...\n",
       "750                                                 still\n",
       "772     this product is the result of serious and inno...\n",
       "801       the league of kingdom loka token sale on pinned\n",
       "827     b if you don t like or to store your token you...\n",
       "837                                                 token\n",
       "838                                                 token\n",
       "858                                                 token\n",
       "860                                                 token\n",
       "863                                                 token\n",
       "868                                                 token\n",
       "881                                                 token\n",
       "886     which gaming token got more potential to do in...\n",
       "952     b i m inter football fan fan and i want to buy...\n",
       "960                    sir i want to buy your token is it\n",
       "983       power up your fandom with porto fan token to be\n",
       "1026                                                token\n",
       "1038    b you can now buy your credit or debit card on...\n",
       "1138    the original token easy from here many great t...\n",
       "Name: text, dtype: object"
      ]
     },
     "execution_count": 155,
     "metadata": {},
     "output_type": "execute_result"
    }
   ],
   "source": [
    "df_bnb_3=df_bnb[df_bnb.argmax_topic==3]\n",
    "df_bnb_3.text.iloc[30:50]"
   ]
  },
  {
   "cell_type": "code",
   "execution_count": 143,
   "id": "a895607b",
   "metadata": {},
   "outputs": [
    {
     "data": {
      "text/plain": [
       "\"b'RT @SwapdexO: We are pleased to announce that our Wrap from KSI to WKSI and Bridge are now live ready to use on our chains dashboard https:\\\\xe2\\\\x80\\\\xa6'\""
      ]
     },
     "execution_count": 143,
     "metadata": {},
     "output_type": "execute_result"
    }
   ],
   "source": [
    "df_bnb_orig.text.iloc[75]"
   ]
  },
  {
   "cell_type": "code",
   "execution_count": 144,
   "id": "9a7eac52",
   "metadata": {},
   "outputs": [
    {
     "data": {
      "text/plain": [
       "\"b'RT @naksamura1: @binance Learn what Boss Token is and act accordingly. Micro cap gem with several trips to the moon planned \\\\xf0\\\\x9f\\\\x8c\\\\x99\\\\n\\\\nBinance x Bo\\\\xe2\\\\x80\\\\xa6'\""
      ]
     },
     "execution_count": 144,
     "metadata": {},
     "output_type": "execute_result"
    }
   ],
   "source": [
    "df_bnb_orig.text.iloc[349]"
   ]
  },
  {
   "cell_type": "code",
   "execution_count": 156,
   "id": "4eaec815",
   "metadata": {},
   "outputs": [
    {
     "data": {
      "text/plain": [
       "'b\"RT @CheemsInu: If you don\\'t like #metamask or #trustwallet to store your tokens, you may now use @cryptocom\\'s DeFi wallet to store your #Ch\\\\xe2\\\\x80\\\\xa6\"'"
      ]
     },
     "execution_count": 156,
     "metadata": {},
     "output_type": "execute_result"
    }
   ],
   "source": [
    "df_bnb_orig.text.iloc[827]"
   ]
  },
  {
   "cell_type": "code",
   "execution_count": 154,
   "id": "d8eff27c",
   "metadata": {},
   "outputs": [
    {
     "data": {
      "text/plain": [
       "\"b'RT @xcrypto79: The original  @coinbase meme token. Easy 1000x from here. Many great things yet to come. V3 MOON SOON \\\\n#DEFIDO $DEFIDO #BINA\\\\xe2\\\\x80\\\\xa6'\""
      ]
     },
     "execution_count": 154,
     "metadata": {},
     "output_type": "execute_result"
    }
   ],
   "source": [
    "df_bnb_orig.text.iloc[1216]"
   ]
  },
  {
   "cell_type": "code",
   "execution_count": 69,
   "id": "1bbab553",
   "metadata": {},
   "outputs": [],
   "source": [
    "###########\n",
    "# Topic 4 #  ### 'Buy Signals' for binance, NFTs\n",
    "###########"
   ]
  },
  {
   "cell_type": "code",
   "execution_count": 160,
   "id": "7ea72f5a",
   "metadata": {
    "scrolled": true
   },
   "outputs": [
    {
     "data": {
      "text/plain": [
       "414                 stop binance coin try to buy instead\n",
       "427                   are still nft for first come first\n",
       "472                                   buy now or cry gem\n",
       "492    it would taste awesome there is already one in...\n",
       "499    the is this need to find your entry point soon...\n",
       "509                                                 nice\n",
       "534    b baby bitcoin with the market cap of baby wou...\n",
       "544    nice but consider to buy more in binance nft m...\n",
       "555    nice but consider to buy more in binance nft m...\n",
       "561                                             the best\n",
       "569                                                  buy\n",
       "571    nice but consider to buy more in binance nft m...\n",
       "583    try another nft and consider to buy more in bi...\n",
       "598                                              address\n",
       "702                               son nft con con con la\n",
       "728    best to buy in rock punk the real original nft...\n",
       "741      more in binance nft market and nft market place\n",
       "753    chase are in binance nft market and nft market...\n",
       "790    more in binance nft market and nft market plac...\n",
       "804    nice but consider to buy more in binance nft m...\n",
       "Name: text, dtype: object"
      ]
     },
     "execution_count": 160,
     "metadata": {},
     "output_type": "execute_result"
    }
   ],
   "source": [
    "df_bnb_4=df_bnb[df_bnb.argmax_topic==4]\n",
    "df_bnb_4.text.iloc[20:40]"
   ]
  },
  {
   "cell_type": "code",
   "execution_count": 157,
   "id": "34f27d0d",
   "metadata": {},
   "outputs": [
    {
     "data": {
      "text/plain": [
       "\"b'@SohailWarsi2469 @cz_binance sorry man, hey i have been in such situation contact @nickyqieqi his the best out here\\\\xe2\\\\x80\\\\xa6 https://t.co/WPm6Wn2WZq'\""
      ]
     },
     "execution_count": 157,
     "metadata": {},
     "output_type": "execute_result"
    }
   ],
   "source": [
    "df_bnb_orig.text.iloc[18]"
   ]
  },
  {
   "cell_type": "code",
   "execution_count": 158,
   "id": "b16f54f8",
   "metadata": {},
   "outputs": [
    {
     "data": {
      "text/plain": [
       "\"b'RT @AguSemplicius: Retweet if you believe in FREEDOM COIN  $free @THE_FREE_COIN  @binance @kucoincom @xfreecoin https://t.co/FNk40CdGZK'\""
      ]
     },
     "execution_count": 158,
     "metadata": {},
     "output_type": "execute_result"
    }
   ],
   "source": [
    "df_bnb_orig.text.iloc[190]"
   ]
  },
  {
   "cell_type": "code",
   "execution_count": 159,
   "id": "bbc6415c",
   "metadata": {},
   "outputs": [
    {
     "data": {
      "text/plain": [
       "'b\"RT @MikeHSCryp: @binance_Pumpp @PhantasmaChain $soul first blockchain with next generation NFT technology. \\\\n\\\\nSmart NFT\\'s are programmable w\\\\xe2\\\\x80\\\\xa6\"'"
      ]
     },
     "execution_count": 159,
     "metadata": {},
     "output_type": "execute_result"
    }
   ],
   "source": [
    "df_bnb_orig.text.iloc[309]"
   ]
  },
  {
   "cell_type": "code",
   "execution_count": 161,
   "id": "564c0293",
   "metadata": {},
   "outputs": [
    {
     "data": {
      "text/plain": [
       "\"b'RT @JonathanDelami2: @davidgokhshtein don\\\\xe2\\\\x80\\\\x99t chase meme coin,\\\\n\\\\nCome\\\\n$BALA are trending in BINANCE NFT market and okex nft market place, Publ\\\\xe2\\\\x80\\\\xa6'\""
      ]
     },
     "execution_count": 161,
     "metadata": {},
     "output_type": "execute_result"
    }
   ],
   "source": [
    "df_bnb_orig.text.iloc[753]"
   ]
  },
  {
   "cell_type": "code",
   "execution_count": null,
   "id": "fef4d335",
   "metadata": {},
   "outputs": [],
   "source": [
    "###########\n",
    "# Topic 5 #   ###More intellectual thinkings about Eth and other cryptos\n",
    "###########"
   ]
  },
  {
   "cell_type": "code",
   "execution_count": null,
   "id": "8cbe4856",
   "metadata": {
    "scrolled": true
   },
   "outputs": [],
   "source": [
    "df_bnb_5=df_bnb[df_bnb.argmax_topic==5]\n",
    "df_bnb_5.text.iloc[0:20]"
   ]
  },
  {
   "cell_type": "code",
   "execution_count": null,
   "id": "8004f35e",
   "metadata": {},
   "outputs": [],
   "source": [
    "df_bnb_orig.text.iloc[55]"
   ]
  },
  {
   "cell_type": "code",
   "execution_count": null,
   "id": "1fae560a",
   "metadata": {},
   "outputs": [],
   "source": [
    "df_bnb_orig.text.iloc[274]"
   ]
  },
  {
   "cell_type": "code",
   "execution_count": null,
   "id": "3e469f33",
   "metadata": {},
   "outputs": [],
   "source": [
    "df_bnb_orig.text.iloc[1071]"
   ]
  },
  {
   "cell_type": "code",
   "execution_count": null,
   "id": "adef952e",
   "metadata": {},
   "outputs": [],
   "source": [
    "df_bnb_orig.text.iloc[1122]"
   ]
  },
  {
   "cell_type": "code",
   "execution_count": null,
   "id": "79cf6624",
   "metadata": {},
   "outputs": [],
   "source": [
    "###########\n",
    "# Topic 6 #  ### A guy called Richard Heart(PulseX.com) posting about his Youtube Live event \n",
    "###########  ### talks how cryto change the future lives and financial system"
   ]
  },
  {
   "cell_type": "code",
   "execution_count": null,
   "id": "bf0e8f5f",
   "metadata": {
    "scrolled": true
   },
   "outputs": [],
   "source": [
    "df_bnb_6=df_bnb[df_bnb.argmax_topic==6]\n",
    "df_bnb_6.text.iloc[80:100]"
   ]
  },
  {
   "cell_type": "code",
   "execution_count": null,
   "id": "0f4ab006",
   "metadata": {},
   "outputs": [],
   "source": [
    "df_bnb_orig.text.iloc[3]"
   ]
  },
  {
   "cell_type": "code",
   "execution_count": null,
   "id": "227dab7a",
   "metadata": {},
   "outputs": [],
   "source": [
    "df_bnb_orig.text.iloc[57]"
   ]
  },
  {
   "cell_type": "code",
   "execution_count": null,
   "id": "db0e4174",
   "metadata": {},
   "outputs": [],
   "source": [
    "df_bnb_orig.text.iloc[458]"
   ]
  },
  {
   "cell_type": "code",
   "execution_count": null,
   "id": "991ee165",
   "metadata": {},
   "outputs": [],
   "source": [
    "df_bnb_orig.text.iloc[695]"
   ]
  },
  {
   "cell_type": "code",
   "execution_count": null,
   "id": "298ff787",
   "metadata": {},
   "outputs": [],
   "source": [
    "###########\n",
    "# Topic 7 #  ### Annoucement of a new NFT collection & The impact and power of Ethereum network\n",
    "###########"
   ]
  },
  {
   "cell_type": "code",
   "execution_count": null,
   "id": "1a14bb43",
   "metadata": {
    "scrolled": true
   },
   "outputs": [],
   "source": [
    "df_bnb_7=df_bnb[df_bnb.argmax_topic==7]\n",
    "df_bnb_7.text.iloc[20:40]"
   ]
  },
  {
   "cell_type": "code",
   "execution_count": null,
   "id": "05c1818a",
   "metadata": {},
   "outputs": [],
   "source": [
    "df_bnb_orig.text.iloc[27]"
   ]
  },
  {
   "cell_type": "code",
   "execution_count": null,
   "id": "9eea3051",
   "metadata": {},
   "outputs": [],
   "source": [
    "df_bnb_orig.text.iloc[278]"
   ]
  },
  {
   "cell_type": "code",
   "execution_count": null,
   "id": "960cd56d",
   "metadata": {},
   "outputs": [],
   "source": [
    "df_bnb_orig.text.iloc[528]"
   ]
  },
  {
   "cell_type": "code",
   "execution_count": null,
   "id": "f0acdcec",
   "metadata": {
    "scrolled": true
   },
   "outputs": [],
   "source": [
    "df_bnb_orig.text.iloc[713]"
   ]
  },
  {
   "cell_type": "code",
   "execution_count": 92,
   "id": "5f183de8",
   "metadata": {},
   "outputs": [],
   "source": [
    "###########\n",
    "# Topic 8 #  #### Random\n",
    "###########"
   ]
  },
  {
   "cell_type": "code",
   "execution_count": null,
   "id": "62c98aca",
   "metadata": {},
   "outputs": [],
   "source": [
    "df_bnb_8=df_bnb[df_bnb.argmax_topic==8]\n",
    "df_bnb_8.text.iloc[20:40]"
   ]
  },
  {
   "cell_type": "code",
   "execution_count": null,
   "id": "e17730a8",
   "metadata": {},
   "outputs": [],
   "source": [
    "df_bnb_orig.text.iloc[35]"
   ]
  },
  {
   "cell_type": "code",
   "execution_count": null,
   "id": "09d3fe15",
   "metadata": {},
   "outputs": [],
   "source": [
    "df_bnb_orig.text.iloc[364]"
   ]
  },
  {
   "cell_type": "code",
   "execution_count": null,
   "id": "e2f46fb3",
   "metadata": {},
   "outputs": [],
   "source": [
    "df_bnb_orig.text.iloc[1195]"
   ]
  },
  {
   "cell_type": "code",
   "execution_count": 97,
   "id": "4f69c1cb",
   "metadata": {},
   "outputs": [],
   "source": [
    "###########\n",
    "# Topic 9 #  ### General talks on cryptos: value fluctuations, investment analysis, projectection...\n",
    "###########"
   ]
  },
  {
   "cell_type": "code",
   "execution_count": 141,
   "id": "59642f94",
   "metadata": {
    "scrolled": true
   },
   "outputs": [
    {
     "data": {
      "text/plain": [
       "623    on the cusp of a new ha been crushing it come ...\n",
       "658    anti w tangible mining utility centric telegra...\n",
       "673                            scan result bullish trend\n",
       "683           i hope it will go up and up waiting for it\n",
       "686    over one year in i wa suffering before thank u...\n",
       "693     than day after launch chat ha user it is full so\n",
       "701    b another news for now reduced by a whooping g...\n",
       "706    anti w tangible mining utility centric telegra...\n",
       "709                              gorilla together strong\n",
       "710                                 go to million holder\n",
       "715    another giveaway down congratulation to all th...\n",
       "721                                          in one year\n",
       "724                                         love me some\n",
       "727                     if this is not i dont know it is\n",
       "730    price burn bear en route to thing to watch in ...\n",
       "749    charity vote tomorrow will be the start of our...\n",
       "751                      you need some take some welcome\n",
       "752    we are so happy to announce the partnership wi...\n",
       "758    can you see this we just got get rid of some z...\n",
       "761    an update on our monster dungeon tier tier and...\n",
       "Name: text, dtype: object"
      ]
     },
     "execution_count": 141,
     "metadata": {},
     "output_type": "execute_result"
    }
   ],
   "source": [
    "df_bnb_9=df_bnb[df_bnb.argmax_topic==9]\n",
    "df_bnb_9.text.iloc[130:150]"
   ]
  },
  {
   "cell_type": "code",
   "execution_count": 132,
   "id": "6ad3c072",
   "metadata": {},
   "outputs": [
    {
     "data": {
      "text/plain": [
       "\"b'RT @deficonnect: Soon to come...\\\\n\\\\nDELTA7 our very own metaverse..\\\\n\\\\n80% complete and almost ready for launch...\\\\n\\\\nThe future is indeed bright\\\\xe2\\\\x80\\\\xa6'\""
      ]
     },
     "execution_count": 132,
     "metadata": {},
     "output_type": "execute_result"
    }
   ],
   "source": [
    "df_bnb_orig.text.iloc[5]"
   ]
  },
  {
   "cell_type": "code",
   "execution_count": 133,
   "id": "2afdb23f",
   "metadata": {},
   "outputs": [
    {
     "data": {
      "text/plain": [
       "\"b'@binance The #CryptoProphecies is currently in open beta with new features coming in the next few weeks and months.'\""
      ]
     },
     "execution_count": 133,
     "metadata": {},
     "output_type": "execute_result"
    }
   ],
   "source": [
    "df_bnb_orig.text.iloc[92]"
   ]
  },
  {
   "cell_type": "code",
   "execution_count": 140,
   "id": "360d7097",
   "metadata": {},
   "outputs": [
    {
     "data": {
      "text/plain": [
       "\"b'@binance Finally, we will know how shite tastes'\""
      ]
     },
     "execution_count": 140,
     "metadata": {},
     "output_type": "execute_result"
    }
   ],
   "source": [
    "df_bnb_orig.text.iloc[464]"
   ]
  },
  {
   "cell_type": "code",
   "execution_count": 142,
   "id": "ab85e6a4",
   "metadata": {},
   "outputs": [
    {
     "data": {
      "text/plain": [
       "\"b'BTC price burns bears en route to $40K: 5 things to watch in Bitcoin this week\\\\n#blockchain #litecoin #binance\\\\xe2\\\\x80\\\\xa6 https://t.co/EWM10F0iME'\""
      ]
     },
     "execution_count": 142,
     "metadata": {},
     "output_type": "execute_result"
    }
   ],
   "source": [
    "df_bnb_orig.text.iloc[730]"
   ]
  },
  {
   "cell_type": "code",
   "execution_count": 103,
   "id": "c1f2e3bc",
   "metadata": {},
   "outputs": [],
   "source": [
    "#### In general, twitters about Ethereum is more random than Bitcoin, possibly because Eth is faster and cheaper\n",
    "#### and a lot of other cryto database is actually based on Eth"
   ]
  },
  {
   "cell_type": "markdown",
   "id": "10e7cafa",
   "metadata": {},
   "source": [
    "### CorEx Model"
   ]
  },
  {
   "cell_type": "code",
   "execution_count": 104,
   "id": "5a915d63",
   "metadata": {},
   "outputs": [],
   "source": [
    "from corextopic import corextopic as ct\n",
    "from corextopic import vis_topic as vt\n",
    "import matplotlib.pyplot as plt\n",
    "%matplotlib inline"
   ]
  },
  {
   "cell_type": "code",
   "execution_count": 105,
   "id": "63a245cf",
   "metadata": {},
   "outputs": [
    {
     "name": "stdout",
     "output_type": "stream",
     "text": [
      "0: bot,result,scan,trend,adore,impatient,wow,fortune,step,following\n",
      "1: gift,posting,thing,digital,fan,take,special,original,part,football\n",
      "2: two,complete,potential,development,task,designed,network,sincerely,utility,used\n",
      "3: existence,finance,full,link,twitter,solana,would,spread,word,listen\n",
      "4: hour,second,look,early,tomorrow,bigger,ax,week,game,sale\n",
      "5: un,con,mi,around,since,stop,volume,bought,currently,top\n",
      "6: gem,hold,post,run,congratulation,starting,miss,winner,address,revival\n",
      "7: cap,breaking,happy,wallet,give,may,grow,check,keep,news\n",
      "8: smart,launch,gaming,gala,sol,wait,add,everyone,long,awesome\n",
      "9: telegram,point,hey,video,better,taste,hard,apiece,invest,luck\n"
     ]
    }
   ],
   "source": [
    "words = list(np.asarray(cvec.get_feature_names()))\n",
    "topic_model = ct.Corex(n_hidden=10, words=words,\n",
    "                       max_iter=200, verbose=False, seed=1)\n",
    "\n",
    "topic_model.fit(doc_word_cv, words=words)\n",
    "\n",
    "# Print all topics from the CorEx topic model\n",
    "topics = topic_model.get_topics()\n",
    "for n,topic in enumerate(topics):\n",
    "    topic_words,_,_ = zip(*topic)\n",
    "    print('{}: '.format(n) + ','.join(topic_words))"
   ]
  },
  {
   "cell_type": "code",
   "execution_count": null,
   "id": "57c36f97",
   "metadata": {},
   "outputs": [],
   "source": []
  },
  {
   "cell_type": "code",
   "execution_count": null,
   "id": "81d4572a",
   "metadata": {},
   "outputs": [],
   "source": []
  },
  {
   "cell_type": "code",
   "execution_count": null,
   "id": "54251c94",
   "metadata": {},
   "outputs": [],
   "source": []
  },
  {
   "cell_type": "markdown",
   "id": "77c44fc5",
   "metadata": {},
   "source": [
    "### K-Means Clustering"
   ]
  },
  {
   "cell_type": "code",
   "execution_count": 106,
   "id": "a0fe0c41",
   "metadata": {},
   "outputs": [],
   "source": [
    "from sklearn.cluster import KMeans"
   ]
  },
  {
   "cell_type": "code",
   "execution_count": 107,
   "id": "eb5af3b0",
   "metadata": {},
   "outputs": [
    {
     "data": {
      "image/png": "[encoded data removed]",
      "text/plain": [
       "<Figure size 432x288 with 1 Axes>"
      ]
     },
     "metadata": {
      "needs_background": "light"
     },
     "output_type": "display_data"
    }
   ],
   "source": [
    "inertia = []\n",
    "list_num_clusters = list(range(1,20))\n",
    "for num_clusters in list_num_clusters:\n",
    "    km = KMeans(n_clusters=num_clusters, max_iter=200, n_init=10)\n",
    "    km.fit(doc_word_tfidf)\n",
    "    inertia.append(km.inertia_)\n",
    "    \n",
    "plt.plot(list_num_clusters,inertia)\n",
    "plt.scatter(list_num_clusters,inertia)\n",
    "plt.xlabel('Number of Clusters')\n",
    "plt.ylabel('Inertia');"
   ]
  },
  {
   "cell_type": "code",
   "execution_count": null,
   "id": "5e98dcb4",
   "metadata": {},
   "outputs": [],
   "source": []
  }
 ],
 "metadata": {
  "kernelspec": {
   "display_name": "Python [conda env:metis] *",
   "language": "python",
   "name": "conda-env-metis-py"
  },
  "language_info": {
   "codemirror_mode": {
    "name": "ipython",
    "version": 3
   },
   "file_extension": ".py",
   "mimetype": "text/x-python",
   "name": "python",
   "nbconvert_exporter": "python",
   "pygments_lexer": "ipython3",
   "version": "3.8.10"
  }
 },
 "nbformat": 4,
 "nbformat_minor": 5
}
