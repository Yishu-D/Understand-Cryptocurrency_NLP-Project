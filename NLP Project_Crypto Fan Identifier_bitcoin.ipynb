{
 "cells": [
  {
   "cell_type": "code",
   "execution_count": 2,
   "id": "dba54d42",
   "metadata": {},
   "outputs": [],
   "source": [
    "import pandas as pd\n",
    "import numpy as np\n",
    "from sklearn.feature_extraction.text import TfidfVectorizer, CountVectorizer\n",
    "from nltk.stem import WordNetLemmatizer, LancasterStemmer\n",
    "import re\n",
    "import nltk"
   ]
  },
  {
   "cell_type": "code",
   "execution_count": 3,
   "id": "8e15e399",
   "metadata": {},
   "outputs": [],
   "source": [
    "df_bit = pd.read_csv('data_bit.csv')"
   ]
  },
  {
   "cell_type": "markdown",
   "id": "0365101e",
   "metadata": {},
   "source": [
    "## Bitcoin"
   ]
  },
  {
   "cell_type": "code",
   "execution_count": 4,
   "id": "7ab0833d",
   "metadata": {
    "scrolled": true
   },
   "outputs": [
    {
     "data": {
      "text/html": [
       "<div>\n",
       "<style scoped>\n",
       "    .dataframe tbody tr th:only-of-type {\n",
       "        vertical-align: middle;\n",
       "    }\n",
       "\n",
       "    .dataframe tbody tr th {\n",
       "        vertical-align: top;\n",
       "    }\n",
       "\n",
       "    .dataframe thead th {\n",
       "        text-align: right;\n",
       "    }\n",
       "</style>\n",
       "<table border=\"1\" class=\"dataframe\">\n",
       "  <thead>\n",
       "    <tr style=\"text-align: right;\">\n",
       "      <th></th>\n",
       "      <th>Unnamed: 0</th>\n",
       "      <th>id</th>\n",
       "      <th>text</th>\n",
       "      <th>datetime</th>\n",
       "      <th>Location</th>\n",
       "    </tr>\n",
       "  </thead>\n",
       "  <tbody>\n",
       "    <tr>\n",
       "      <th>0</th>\n",
       "      <td>0</td>\n",
       "      <td>1482837567175286790</td>\n",
       "      <td>b'RT @AarikaRhodes: I\\xe2\\x80\\x99m running aga...</td>\n",
       "      <td>2022-01-16 22:10:00</td>\n",
       "      <td>NaN</td>\n",
       "    </tr>\n",
       "    <tr>\n",
       "      <th>1</th>\n",
       "      <td>1</td>\n",
       "      <td>1482837566395019267</td>\n",
       "      <td>b'@TheMoonCarl Earn $80 when you sign up at ki...</td>\n",
       "      <td>2022-01-16 22:10:00</td>\n",
       "      <td>NaN</td>\n",
       "    </tr>\n",
       "    <tr>\n",
       "      <th>2</th>\n",
       "      <td>2</td>\n",
       "      <td>1482837566143479814</td>\n",
       "      <td>b'Continuing our research on $UNO\\xf0\\x9f\\x94\\...</td>\n",
       "      <td>2022-01-16 22:10:00</td>\n",
       "      <td>NaN</td>\n",
       "    </tr>\n",
       "    <tr>\n",
       "      <th>3</th>\n",
       "      <td>3</td>\n",
       "      <td>1482837566126800896</td>\n",
       "      <td>b'Bitcoin subiu :) - R$\\xc2\\xa0238.809,4 \\xc3\\...</td>\n",
       "      <td>2022-01-16 22:10:00</td>\n",
       "      <td>NaN</td>\n",
       "    </tr>\n",
       "    <tr>\n",
       "      <th>4</th>\n",
       "      <td>4</td>\n",
       "      <td>1482837565644410886</td>\n",
       "      <td>b'RT @AshleyPurdy: \\xf0\\x9f\\x98\\xa1 \\xf0\\x9f\\x...</td>\n",
       "      <td>2022-01-16 22:10:00</td>\n",
       "      <td>NaN</td>\n",
       "    </tr>\n",
       "  </tbody>\n",
       "</table>\n",
       "</div>"
      ],
      "text/plain": [
       "   Unnamed: 0                   id  \\\n",
       "0           0  1482837567175286790   \n",
       "1           1  1482837566395019267   \n",
       "2           2  1482837566143479814   \n",
       "3           3  1482837566126800896   \n",
       "4           4  1482837565644410886   \n",
       "\n",
       "                                                text             datetime  \\\n",
       "0  b'RT @AarikaRhodes: I\\xe2\\x80\\x99m running aga...  2022-01-16 22:10:00   \n",
       "1  b'@TheMoonCarl Earn $80 when you sign up at ki...  2022-01-16 22:10:00   \n",
       "2  b'Continuing our research on $UNO\\xf0\\x9f\\x94\\...  2022-01-16 22:10:00   \n",
       "3  b'Bitcoin subiu :) - R$\\xc2\\xa0238.809,4 \\xc3\\...  2022-01-16 22:10:00   \n",
       "4  b'RT @AshleyPurdy: \\xf0\\x9f\\x98\\xa1 \\xf0\\x9f\\x...  2022-01-16 22:10:00   \n",
       "\n",
       "  Location  \n",
       "0      NaN  \n",
       "1      NaN  \n",
       "2      NaN  \n",
       "3      NaN  \n",
       "4      NaN  "
      ]
     },
     "execution_count": 4,
     "metadata": {},
     "output_type": "execute_result"
    }
   ],
   "source": [
    "df_bit.head()"
   ]
  },
  {
   "cell_type": "code",
   "execution_count": 5,
   "id": "6e4ab607",
   "metadata": {},
   "outputs": [
    {
     "data": {
      "text/html": [
       "<div>\n",
       "<style scoped>\n",
       "    .dataframe tbody tr th:only-of-type {\n",
       "        vertical-align: middle;\n",
       "    }\n",
       "\n",
       "    .dataframe tbody tr th {\n",
       "        vertical-align: top;\n",
       "    }\n",
       "\n",
       "    .dataframe thead th {\n",
       "        text-align: right;\n",
       "    }\n",
       "</style>\n",
       "<table border=\"1\" class=\"dataframe\">\n",
       "  <thead>\n",
       "    <tr style=\"text-align: right;\">\n",
       "      <th></th>\n",
       "      <th>Unnamed: 0</th>\n",
       "      <th>id</th>\n",
       "      <th>text</th>\n",
       "      <th>datetime</th>\n",
       "      <th>Location</th>\n",
       "    </tr>\n",
       "  </thead>\n",
       "  <tbody>\n",
       "    <tr>\n",
       "      <th>10</th>\n",
       "      <td>10</td>\n",
       "      <td>1482837559357190147</td>\n",
       "      <td>b'RT @MeganBitchell: Screaming and crying as a...</td>\n",
       "      <td>2022-01-16 22:09:58</td>\n",
       "      <td>NaN</td>\n",
       "    </tr>\n",
       "    <tr>\n",
       "      <th>23</th>\n",
       "      <td>23</td>\n",
       "      <td>1482837540973461504</td>\n",
       "      <td>b'RT @BitcoinMagazine: #Bitcoin https://t.co/z...</td>\n",
       "      <td>2022-01-16 22:09:54</td>\n",
       "      <td>NaN</td>\n",
       "    </tr>\n",
       "    <tr>\n",
       "      <th>30</th>\n",
       "      <td>30</td>\n",
       "      <td>1482837528860405761</td>\n",
       "      <td>b'RT @deficonnect: Soon to come...\\n\\nDELTA7 o...</td>\n",
       "      <td>2022-01-16 22:09:51</td>\n",
       "      <td>NaN</td>\n",
       "    </tr>\n",
       "    <tr>\n",
       "      <th>40</th>\n",
       "      <td>40</td>\n",
       "      <td>1482837510065635340</td>\n",
       "      <td>b'RT @deficonnect: Soon to come...\\n\\nDELTA7 o...</td>\n",
       "      <td>2022-01-16 22:09:46</td>\n",
       "      <td>NaN</td>\n",
       "    </tr>\n",
       "    <tr>\n",
       "      <th>43</th>\n",
       "      <td>43</td>\n",
       "      <td>1482837507649716231</td>\n",
       "      <td>b'RT @MeganBitchell: Screaming and crying as a...</td>\n",
       "      <td>2022-01-16 22:09:46</td>\n",
       "      <td>NaN</td>\n",
       "    </tr>\n",
       "    <tr>\n",
       "      <th>...</th>\n",
       "      <td>...</td>\n",
       "      <td>...</td>\n",
       "      <td>...</td>\n",
       "      <td>...</td>\n",
       "      <td>...</td>\n",
       "    </tr>\n",
       "    <tr>\n",
       "      <th>1975</th>\n",
       "      <td>1975</td>\n",
       "      <td>1482835092368236551</td>\n",
       "      <td>b'RT @jordanbpeterson: Yes. Bitcoin fixes this.'</td>\n",
       "      <td>2022-01-16 22:00:10</td>\n",
       "      <td>NaN</td>\n",
       "    </tr>\n",
       "    <tr>\n",
       "      <th>1984</th>\n",
       "      <td>1984</td>\n",
       "      <td>1482835083526656000</td>\n",
       "      <td>b'RT @generationofhex: Does $hex go viral in 2...</td>\n",
       "      <td>2022-01-16 22:00:08</td>\n",
       "      <td>NaN</td>\n",
       "    </tr>\n",
       "    <tr>\n",
       "      <th>1989</th>\n",
       "      <td>1989</td>\n",
       "      <td>1482835078598344705</td>\n",
       "      <td>b'RT @Bitcoin: https://t.co/14bFOuJOHD'</td>\n",
       "      <td>2022-01-16 22:00:07</td>\n",
       "      <td>NaN</td>\n",
       "    </tr>\n",
       "    <tr>\n",
       "      <th>1992</th>\n",
       "      <td>1992</td>\n",
       "      <td>1482835077575094274</td>\n",
       "      <td>b'RT @RunOnFlux: $FLUX global network #hashrat...</td>\n",
       "      <td>2022-01-16 22:00:06</td>\n",
       "      <td>NaN</td>\n",
       "    </tr>\n",
       "    <tr>\n",
       "      <th>1993</th>\n",
       "      <td>1993</td>\n",
       "      <td>1482835076752691205</td>\n",
       "      <td>b'RT @jordanbpeterson: Yes. Bitcoin fixes this.'</td>\n",
       "      <td>2022-01-16 22:00:06</td>\n",
       "      <td>NaN</td>\n",
       "    </tr>\n",
       "  </tbody>\n",
       "</table>\n",
       "<p>683 rows × 5 columns</p>\n",
       "</div>"
      ],
      "text/plain": [
       "      Unnamed: 0                   id  \\\n",
       "10            10  1482837559357190147   \n",
       "23            23  1482837540973461504   \n",
       "30            30  1482837528860405761   \n",
       "40            40  1482837510065635340   \n",
       "43            43  1482837507649716231   \n",
       "...          ...                  ...   \n",
       "1975        1975  1482835092368236551   \n",
       "1984        1984  1482835083526656000   \n",
       "1989        1989  1482835078598344705   \n",
       "1992        1992  1482835077575094274   \n",
       "1993        1993  1482835076752691205   \n",
       "\n",
       "                                                   text             datetime  \\\n",
       "10    b'RT @MeganBitchell: Screaming and crying as a...  2022-01-16 22:09:58   \n",
       "23    b'RT @BitcoinMagazine: #Bitcoin https://t.co/z...  2022-01-16 22:09:54   \n",
       "30    b'RT @deficonnect: Soon to come...\\n\\nDELTA7 o...  2022-01-16 22:09:51   \n",
       "40    b'RT @deficonnect: Soon to come...\\n\\nDELTA7 o...  2022-01-16 22:09:46   \n",
       "43    b'RT @MeganBitchell: Screaming and crying as a...  2022-01-16 22:09:46   \n",
       "...                                                 ...                  ...   \n",
       "1975   b'RT @jordanbpeterson: Yes. Bitcoin fixes this.'  2022-01-16 22:00:10   \n",
       "1984  b'RT @generationofhex: Does $hex go viral in 2...  2022-01-16 22:00:08   \n",
       "1989            b'RT @Bitcoin: https://t.co/14bFOuJOHD'  2022-01-16 22:00:07   \n",
       "1992  b'RT @RunOnFlux: $FLUX global network #hashrat...  2022-01-16 22:00:06   \n",
       "1993   b'RT @jordanbpeterson: Yes. Bitcoin fixes this.'  2022-01-16 22:00:06   \n",
       "\n",
       "     Location  \n",
       "10        NaN  \n",
       "23        NaN  \n",
       "30        NaN  \n",
       "40        NaN  \n",
       "43        NaN  \n",
       "...       ...  \n",
       "1975      NaN  \n",
       "1984      NaN  \n",
       "1989      NaN  \n",
       "1992      NaN  \n",
       "1993      NaN  \n",
       "\n",
       "[683 rows x 5 columns]"
      ]
     },
     "execution_count": 5,
     "metadata": {},
     "output_type": "execute_result"
    }
   ],
   "source": [
    "mask = df_bit.duplicated(subset=['text'])\n",
    "df_bit[mask]"
   ]
  },
  {
   "cell_type": "code",
   "execution_count": 6,
   "id": "d1ccbb93",
   "metadata": {},
   "outputs": [
    {
     "data": {
      "text/plain": [
       "(1317, 5)"
      ]
     },
     "execution_count": 6,
     "metadata": {},
     "output_type": "execute_result"
    }
   ],
   "source": [
    "df_bit = df_bit[~mask].reset_index(drop=True)\n",
    "df_bit.shape"
   ]
  },
  {
   "cell_type": "code",
   "execution_count": 7,
   "id": "6a328bf0",
   "metadata": {},
   "outputs": [
    {
     "data": {
      "text/html": [
       "<div>\n",
       "<style scoped>\n",
       "    .dataframe tbody tr th:only-of-type {\n",
       "        vertical-align: middle;\n",
       "    }\n",
       "\n",
       "    .dataframe tbody tr th {\n",
       "        vertical-align: top;\n",
       "    }\n",
       "\n",
       "    .dataframe thead th {\n",
       "        text-align: right;\n",
       "    }\n",
       "</style>\n",
       "<table border=\"1\" class=\"dataframe\">\n",
       "  <thead>\n",
       "    <tr style=\"text-align: right;\">\n",
       "      <th></th>\n",
       "      <th>Unnamed: 0</th>\n",
       "      <th>id</th>\n",
       "      <th>text</th>\n",
       "      <th>datetime</th>\n",
       "      <th>Location</th>\n",
       "    </tr>\n",
       "  </thead>\n",
       "  <tbody>\n",
       "    <tr>\n",
       "      <th>0</th>\n",
       "      <td>0</td>\n",
       "      <td>1482837567175286790</td>\n",
       "      <td>b'RT @AarikaRhodes: I\\xe2\\x80\\x99m running aga...</td>\n",
       "      <td>2022-01-16 22:10:00</td>\n",
       "      <td>NaN</td>\n",
       "    </tr>\n",
       "    <tr>\n",
       "      <th>1</th>\n",
       "      <td>1</td>\n",
       "      <td>1482837566395019267</td>\n",
       "      <td>b'@TheMoonCarl Earn $80 when you sign up at ki...</td>\n",
       "      <td>2022-01-16 22:10:00</td>\n",
       "      <td>NaN</td>\n",
       "    </tr>\n",
       "    <tr>\n",
       "      <th>2</th>\n",
       "      <td>2</td>\n",
       "      <td>1482837566143479814</td>\n",
       "      <td>b'Continuing our research on $UNO\\xf0\\x9f\\x94\\...</td>\n",
       "      <td>2022-01-16 22:10:00</td>\n",
       "      <td>NaN</td>\n",
       "    </tr>\n",
       "    <tr>\n",
       "      <th>3</th>\n",
       "      <td>3</td>\n",
       "      <td>1482837566126800896</td>\n",
       "      <td>b'Bitcoin subiu :) - R$\\xc2\\xa0238.809,4 \\xc3\\...</td>\n",
       "      <td>2022-01-16 22:10:00</td>\n",
       "      <td>NaN</td>\n",
       "    </tr>\n",
       "    <tr>\n",
       "      <th>4</th>\n",
       "      <td>4</td>\n",
       "      <td>1482837565644410886</td>\n",
       "      <td>b'RT @AshleyPurdy: \\xf0\\x9f\\x98\\xa1 \\xf0\\x9f\\x...</td>\n",
       "      <td>2022-01-16 22:10:00</td>\n",
       "      <td>NaN</td>\n",
       "    </tr>\n",
       "  </tbody>\n",
       "</table>\n",
       "</div>"
      ],
      "text/plain": [
       "   Unnamed: 0                   id  \\\n",
       "0           0  1482837567175286790   \n",
       "1           1  1482837566395019267   \n",
       "2           2  1482837566143479814   \n",
       "3           3  1482837566126800896   \n",
       "4           4  1482837565644410886   \n",
       "\n",
       "                                                text             datetime  \\\n",
       "0  b'RT @AarikaRhodes: I\\xe2\\x80\\x99m running aga...  2022-01-16 22:10:00   \n",
       "1  b'@TheMoonCarl Earn $80 when you sign up at ki...  2022-01-16 22:10:00   \n",
       "2  b'Continuing our research on $UNO\\xf0\\x9f\\x94\\...  2022-01-16 22:10:00   \n",
       "3  b'Bitcoin subiu :) - R$\\xc2\\xa0238.809,4 \\xc3\\...  2022-01-16 22:10:00   \n",
       "4  b'RT @AshleyPurdy: \\xf0\\x9f\\x98\\xa1 \\xf0\\x9f\\x...  2022-01-16 22:10:00   \n",
       "\n",
       "  Location  \n",
       "0      NaN  \n",
       "1      NaN  \n",
       "2      NaN  \n",
       "3      NaN  \n",
       "4      NaN  "
      ]
     },
     "execution_count": 7,
     "metadata": {},
     "output_type": "execute_result"
    }
   ],
   "source": [
    "df_bit.head()"
   ]
  },
  {
   "cell_type": "code",
   "execution_count": 8,
   "id": "27633370",
   "metadata": {},
   "outputs": [],
   "source": [
    "df_bit_orig = df_bit.copy()"
   ]
  },
  {
   "cell_type": "code",
   "execution_count": 9,
   "id": "4d54bfd1",
   "metadata": {},
   "outputs": [
    {
     "name": "stdout",
     "output_type": "stream",
     "text": [
      "b'RT @balajis: It was easier to start Bitcoin than to reform the Fed.\\nIt is easier to start a new city than to reform SF.'\n",
      "b\"@kucoincom #bluesparrow isn't it amazing?\\n\\xe2\\x80\\xa2  Daily &amp; weekly &amp; monthly draw\\n\\xe2\\x80\\xa2  NFT\\n\\xe2\\x80\\xa2  WEB 3\\n\\xe2\\x80\\xa2  OWN CEX\\n\\xe2\\x80\\xa2  NAME IT \\n\\xe2\\x80\\xa2\\xe2\\x80\\xa6 https://t.co/L1uYbZY2Wj\"\n",
      "b'RT @ShibarrowToken: #CAPTAINSHIBARROW NOW ON #CoinMarketCap \\xf0\\x9f\\x98\\x8d\\n\\n#SHIBARROW #BSCGems #BSC #Binance #BinanceSmartChain #BNB #Bitcoin #BTC #Eth\\xe2\\x80\\xa6'\n",
      "b'\\xf0\\x9f\\x90\\x8b #Crypto Whales vs. #Stablecoins \\xf0\\x9f\\x92\\xb5\\n\\n\\xf0\\x9f\\x9a\\xa8 Last 4 hours of #BTC-Exchange transactions \\xf0\\x9f\\x9a\\xa8\\n\\nFor clarification:\\n#Crypto are\\xe2\\x80\\xa6 https://t.co/89Ip8UraJa'\n",
      "b'https://t.co/vXjfP8ZHQp\\n#bitcoin'\n"
     ]
    }
   ],
   "source": [
    "for tweet in df_bit['text'].sample(5).values:\n",
    "    print(tweet)"
   ]
  },
  {
   "cell_type": "markdown",
   "id": "04bdd001",
   "metadata": {},
   "source": [
    "### Put all hashtags into a new column"
   ]
  },
  {
   "cell_type": "code",
   "execution_count": 10,
   "id": "49a0ea38",
   "metadata": {},
   "outputs": [
    {
     "data": {
      "text/html": [
       "<div>\n",
       "<style scoped>\n",
       "    .dataframe tbody tr th:only-of-type {\n",
       "        vertical-align: middle;\n",
       "    }\n",
       "\n",
       "    .dataframe tbody tr th {\n",
       "        vertical-align: top;\n",
       "    }\n",
       "\n",
       "    .dataframe thead th {\n",
       "        text-align: right;\n",
       "    }\n",
       "</style>\n",
       "<table border=\"1\" class=\"dataframe\">\n",
       "  <thead>\n",
       "    <tr style=\"text-align: right;\">\n",
       "      <th></th>\n",
       "      <th>Unnamed: 0</th>\n",
       "      <th>id</th>\n",
       "      <th>text</th>\n",
       "      <th>datetime</th>\n",
       "      <th>Location</th>\n",
       "      <th>hashtag</th>\n",
       "    </tr>\n",
       "  </thead>\n",
       "  <tbody>\n",
       "    <tr>\n",
       "      <th>0</th>\n",
       "      <td>0</td>\n",
       "      <td>1482837567175286790</td>\n",
       "      <td>b'RT @AarikaRhodes: I\\xe2\\x80\\x99m running aga...</td>\n",
       "      <td>2022-01-16 22:10:00</td>\n",
       "      <td>NaN</td>\n",
       "      <td>[Bitcoin]</td>\n",
       "    </tr>\n",
       "    <tr>\n",
       "      <th>1</th>\n",
       "      <td>1</td>\n",
       "      <td>1482837566395019267</td>\n",
       "      <td>b'@TheMoonCarl Earn $80 when you sign up at ki...</td>\n",
       "      <td>2022-01-16 22:10:00</td>\n",
       "      <td>NaN</td>\n",
       "      <td>[]</td>\n",
       "    </tr>\n",
       "    <tr>\n",
       "      <th>2</th>\n",
       "      <td>2</td>\n",
       "      <td>1482837566143479814</td>\n",
       "      <td>b'Continuing our research on $UNO\\xf0\\x9f\\x94\\...</td>\n",
       "      <td>2022-01-16 22:10:00</td>\n",
       "      <td>NaN</td>\n",
       "      <td>[]</td>\n",
       "    </tr>\n",
       "    <tr>\n",
       "      <th>3</th>\n",
       "      <td>3</td>\n",
       "      <td>1482837566126800896</td>\n",
       "      <td>b'Bitcoin subiu :) - R$\\xc2\\xa0238.809,4 \\xc3\\...</td>\n",
       "      <td>2022-01-16 22:10:00</td>\n",
       "      <td>NaN</td>\n",
       "      <td>[]</td>\n",
       "    </tr>\n",
       "    <tr>\n",
       "      <th>4</th>\n",
       "      <td>4</td>\n",
       "      <td>1482837565644410886</td>\n",
       "      <td>b'RT @AshleyPurdy: \\xf0\\x9f\\x98\\xa1 \\xf0\\x9f\\x...</td>\n",
       "      <td>2022-01-16 22:10:00</td>\n",
       "      <td>NaN</td>\n",
       "      <td>[Bitcoin]</td>\n",
       "    </tr>\n",
       "  </tbody>\n",
       "</table>\n",
       "</div>"
      ],
      "text/plain": [
       "   Unnamed: 0                   id  \\\n",
       "0           0  1482837567175286790   \n",
       "1           1  1482837566395019267   \n",
       "2           2  1482837566143479814   \n",
       "3           3  1482837566126800896   \n",
       "4           4  1482837565644410886   \n",
       "\n",
       "                                                text             datetime  \\\n",
       "0  b'RT @AarikaRhodes: I\\xe2\\x80\\x99m running aga...  2022-01-16 22:10:00   \n",
       "1  b'@TheMoonCarl Earn $80 when you sign up at ki...  2022-01-16 22:10:00   \n",
       "2  b'Continuing our research on $UNO\\xf0\\x9f\\x94\\...  2022-01-16 22:10:00   \n",
       "3  b'Bitcoin subiu :) - R$\\xc2\\xa0238.809,4 \\xc3\\...  2022-01-16 22:10:00   \n",
       "4  b'RT @AshleyPurdy: \\xf0\\x9f\\x98\\xa1 \\xf0\\x9f\\x...  2022-01-16 22:10:00   \n",
       "\n",
       "  Location    hashtag  \n",
       "0      NaN  [Bitcoin]  \n",
       "1      NaN         []  \n",
       "2      NaN         []  \n",
       "3      NaN         []  \n",
       "4      NaN  [Bitcoin]  "
      ]
     },
     "execution_count": 10,
     "metadata": {},
     "output_type": "execute_result"
    }
   ],
   "source": [
    "df_bit['hashtag'] = df_bit['text'].apply(lambda x: re.findall(r\"#(\\w+)\", x))\n",
    "df_bit.head()"
   ]
  },
  {
   "cell_type": "markdown",
   "id": "f906527d",
   "metadata": {},
   "source": [
    "### Remove emojis"
   ]
  },
  {
   "cell_type": "code",
   "execution_count": 11,
   "id": "1da3bb32",
   "metadata": {
    "scrolled": true
   },
   "outputs": [],
   "source": [
    "df_bit.text = df_bit.text.apply(lambda x: ' '.join([a for a in x.split() if '\\\\' not in a]))"
   ]
  },
  {
   "cell_type": "code",
   "execution_count": 12,
   "id": "7e1d5455",
   "metadata": {
    "scrolled": true
   },
   "outputs": [
    {
     "name": "stdout",
     "output_type": "stream",
     "text": [
      "0       b'RT @AarikaRhodes: running against Congressma...\n",
      "1       b'@TheMoonCarl Earn $80 when you sign up at ki...\n",
      "2       b'Continuing our research on we dig deeper, It...\n",
      "3                             b'Bitcoin subiu :) - 19:10'\n",
      "4                   b'RT @AshleyPurdy: You stop #Bitcoin'\n",
      "                              ...                        \n",
      "1312    b'RT @ShibarrowToken: #CAPTAINSHIBARROW NOW ON...\n",
      "1313    b'RT @NikoJilch: Bitcoin Is Green Energy - by ...\n",
      "1314    b'#Bitcoin stats every 220.49 last 24h: Fee: h...\n",
      "1315    b'Fastest: 1 sat/vB Hour: 1 sat/vB 1 sat/vB Fe...\n",
      "1316    b'Ukraine Demonstrates How Bitcoin Can Transfo...\n",
      "Name: text, Length: 1317, dtype: object\n"
     ]
    }
   ],
   "source": [
    "test = df_bit.text\n",
    "print(test)"
   ]
  },
  {
   "cell_type": "code",
   "execution_count": 13,
   "id": "48d688b8",
   "metadata": {},
   "outputs": [
    {
     "data": {
      "text/plain": [
       "'!\"#$%&\\'()*+,-./:;<=>?@[\\\\]^_`{|}~'"
      ]
     },
     "execution_count": 13,
     "metadata": {},
     "output_type": "execute_result"
    }
   ],
   "source": [
    "import string\n",
    "string.punctuation"
   ]
  },
  {
   "cell_type": "code",
   "execution_count": 14,
   "id": "3f6e4d62",
   "metadata": {},
   "outputs": [],
   "source": [
    "def remove_special_characters(text):\n",
    "    text = re.sub(\"@\\S+\", \"\", text) #remove mentions\n",
    "    text = re.sub(\"https?:\\/\\/.*[\\r\\n]*\", \"\", text) #remove hyperlinks\n",
    "    text = re.sub(\"#\", \"\", text) #remove hashtag symbol\n",
    "    text = re.sub('\\w*\\d\\w*', ' ', text) #remove numbers\n",
    "    text = re.sub(\"b'RT\",'', text) #remove b'RT\n",
    "    text = re.sub(\"b'\",'',text)\n",
    "    text = re.sub('[%s]' % re.escape(string.punctuation), ' ', text)\n",
    "    return text"
   ]
  },
  {
   "cell_type": "code",
   "execution_count": 15,
   "id": "dbbb43e5",
   "metadata": {
    "scrolled": true
   },
   "outputs": [],
   "source": [
    "df_bit.text = df_bit.text.apply(remove_special_characters)"
   ]
  },
  {
   "cell_type": "code",
   "execution_count": 16,
   "id": "5543e586",
   "metadata": {},
   "outputs": [
    {
     "data": {
      "text/html": [
       "<div>\n",
       "<style scoped>\n",
       "    .dataframe tbody tr th:only-of-type {\n",
       "        vertical-align: middle;\n",
       "    }\n",
       "\n",
       "    .dataframe tbody tr th {\n",
       "        vertical-align: top;\n",
       "    }\n",
       "\n",
       "    .dataframe thead th {\n",
       "        text-align: right;\n",
       "    }\n",
       "</style>\n",
       "<table border=\"1\" class=\"dataframe\">\n",
       "  <thead>\n",
       "    <tr style=\"text-align: right;\">\n",
       "      <th></th>\n",
       "      <th>Unnamed: 0</th>\n",
       "      <th>id</th>\n",
       "      <th>text</th>\n",
       "      <th>datetime</th>\n",
       "      <th>Location</th>\n",
       "      <th>hashtag</th>\n",
       "    </tr>\n",
       "  </thead>\n",
       "  <tbody>\n",
       "    <tr>\n",
       "      <th>0</th>\n",
       "      <td>0</td>\n",
       "      <td>1482837567175286790</td>\n",
       "      <td>running against Congressman Brad Sherman  wh...</td>\n",
       "      <td>2022-01-16 22:10:00</td>\n",
       "      <td>NaN</td>\n",
       "      <td>[Bitcoin]</td>\n",
       "    </tr>\n",
       "    <tr>\n",
       "      <th>1</th>\n",
       "      <td>1</td>\n",
       "      <td>1482837566395019267</td>\n",
       "      <td>Earn    when you sign up at kingbitcoi bitcoi...</td>\n",
       "      <td>2022-01-16 22:10:00</td>\n",
       "      <td>NaN</td>\n",
       "      <td>[]</td>\n",
       "    </tr>\n",
       "    <tr>\n",
       "      <th>2</th>\n",
       "      <td>2</td>\n",
       "      <td>1482837566143479814</td>\n",
       "      <td>Continuing our research on we dig deeper  It l...</td>\n",
       "      <td>2022-01-16 22:10:00</td>\n",
       "      <td>NaN</td>\n",
       "      <td>[]</td>\n",
       "    </tr>\n",
       "    <tr>\n",
       "      <th>3</th>\n",
       "      <td>3</td>\n",
       "      <td>1482837566126800896</td>\n",
       "      <td>Bitcoin subiu</td>\n",
       "      <td>2022-01-16 22:10:00</td>\n",
       "      <td>NaN</td>\n",
       "      <td>[]</td>\n",
       "    </tr>\n",
       "    <tr>\n",
       "      <th>4</th>\n",
       "      <td>4</td>\n",
       "      <td>1482837565644410886</td>\n",
       "      <td>You stop Bitcoin</td>\n",
       "      <td>2022-01-16 22:10:00</td>\n",
       "      <td>NaN</td>\n",
       "      <td>[Bitcoin]</td>\n",
       "    </tr>\n",
       "  </tbody>\n",
       "</table>\n",
       "</div>"
      ],
      "text/plain": [
       "   Unnamed: 0                   id  \\\n",
       "0           0  1482837567175286790   \n",
       "1           1  1482837566395019267   \n",
       "2           2  1482837566143479814   \n",
       "3           3  1482837566126800896   \n",
       "4           4  1482837565644410886   \n",
       "\n",
       "                                                text             datetime  \\\n",
       "0    running against Congressman Brad Sherman  wh...  2022-01-16 22:10:00   \n",
       "1   Earn    when you sign up at kingbitcoi bitcoi...  2022-01-16 22:10:00   \n",
       "2  Continuing our research on we dig deeper  It l...  2022-01-16 22:10:00   \n",
       "3                            Bitcoin subiu            2022-01-16 22:10:00   \n",
       "4                                  You stop Bitcoin   2022-01-16 22:10:00   \n",
       "\n",
       "  Location    hashtag  \n",
       "0      NaN  [Bitcoin]  \n",
       "1      NaN         []  \n",
       "2      NaN         []  \n",
       "3      NaN         []  \n",
       "4      NaN  [Bitcoin]  "
      ]
     },
     "execution_count": 16,
     "metadata": {},
     "output_type": "execute_result"
    }
   ],
   "source": [
    "df_bit.head()"
   ]
  },
  {
   "cell_type": "markdown",
   "id": "17aeb926",
   "metadata": {},
   "source": [
    "### Remove digits and lower the text"
   ]
  },
  {
   "cell_type": "code",
   "execution_count": 17,
   "id": "cb35f694",
   "metadata": {
    "scrolled": true
   },
   "outputs": [
    {
     "name": "stderr",
     "output_type": "stream",
     "text": [
      "/var/folders/bc/c9cbz3vx3k331bfmmjlgtbkm0000gn/T/ipykernel_46399/1368404841.py:1: FutureWarning: The default value of regex will change from True to False in a future version.\n",
      "  df_bit.text = df_bit.text.astype(str).str.replace('\\d+', '')\n"
     ]
    },
    {
     "data": {
      "text/plain": [
       "0      running against congressman brad sherman  wh...\n",
       "1     earn    when you sign up at kingbitcoi bitcoi...\n",
       "2    continuing our research on we dig deeper  it l...\n",
       "3                              bitcoin subiu          \n",
       "4                                    you stop bitcoin \n",
       "Name: text, dtype: object"
      ]
     },
     "execution_count": 17,
     "metadata": {},
     "output_type": "execute_result"
    }
   ],
   "source": [
    "df_bit.text = df_bit.text.astype(str).str.replace('\\d+', '')\n",
    "df_bit.text = df_bit.text.str.lower()\n",
    "df_bit.text.head()"
   ]
  },
  {
   "cell_type": "markdown",
   "id": "74bf1c7e",
   "metadata": {},
   "source": [
    "### Stemming text"
   ]
  },
  {
   "cell_type": "code",
   "execution_count": 18,
   "id": "8065d57c",
   "metadata": {
    "scrolled": true
   },
   "outputs": [],
   "source": [
    "from nltk.tokenize import TweetTokenizer"
   ]
  },
  {
   "cell_type": "code",
   "execution_count": 19,
   "id": "66754aab",
   "metadata": {},
   "outputs": [],
   "source": [
    "wnl = WordNetLemmatizer()\n",
    "stemmer = LancasterStemmer()\n",
    "def lemmatize_text(text):\n",
    "    text = text.split(' ')\n",
    "    for i, word in enumerate(text):\n",
    "        text[i] = wnl.lemmatize(word)   #results for stemming is better lemmatization\n",
    "        #text[i] = stemmer.stem(word)    \n",
    "    return ' '.join(text)"
   ]
  },
  {
   "cell_type": "code",
   "execution_count": 20,
   "id": "bf487115",
   "metadata": {
    "scrolled": true
   },
   "outputs": [
    {
     "data": {
      "text/html": [
       "<div>\n",
       "<style scoped>\n",
       "    .dataframe tbody tr th:only-of-type {\n",
       "        vertical-align: middle;\n",
       "    }\n",
       "\n",
       "    .dataframe tbody tr th {\n",
       "        vertical-align: top;\n",
       "    }\n",
       "\n",
       "    .dataframe thead th {\n",
       "        text-align: right;\n",
       "    }\n",
       "</style>\n",
       "<table border=\"1\" class=\"dataframe\">\n",
       "  <thead>\n",
       "    <tr style=\"text-align: right;\">\n",
       "      <th></th>\n",
       "      <th>Unnamed: 0</th>\n",
       "      <th>id</th>\n",
       "      <th>text</th>\n",
       "      <th>datetime</th>\n",
       "      <th>Location</th>\n",
       "      <th>hashtag</th>\n",
       "    </tr>\n",
       "  </thead>\n",
       "  <tbody>\n",
       "    <tr>\n",
       "      <th>0</th>\n",
       "      <td>0</td>\n",
       "      <td>1482837567175286790</td>\n",
       "      <td>running against congressman brad sherman  wh...</td>\n",
       "      <td>2022-01-16 22:10:00</td>\n",
       "      <td>NaN</td>\n",
       "      <td>[Bitcoin]</td>\n",
       "    </tr>\n",
       "    <tr>\n",
       "      <th>1</th>\n",
       "      <td>1</td>\n",
       "      <td>1482837566395019267</td>\n",
       "      <td>earn    when you sign up at kingbitcoi bitcoi...</td>\n",
       "      <td>2022-01-16 22:10:00</td>\n",
       "      <td>NaN</td>\n",
       "      <td>[]</td>\n",
       "    </tr>\n",
       "    <tr>\n",
       "      <th>2</th>\n",
       "      <td>2</td>\n",
       "      <td>1482837566143479814</td>\n",
       "      <td>continuing our research on we dig deeper  it l...</td>\n",
       "      <td>2022-01-16 22:10:00</td>\n",
       "      <td>NaN</td>\n",
       "      <td>[]</td>\n",
       "    </tr>\n",
       "    <tr>\n",
       "      <th>3</th>\n",
       "      <td>3</td>\n",
       "      <td>1482837566126800896</td>\n",
       "      <td>bitcoin subiu</td>\n",
       "      <td>2022-01-16 22:10:00</td>\n",
       "      <td>NaN</td>\n",
       "      <td>[]</td>\n",
       "    </tr>\n",
       "    <tr>\n",
       "      <th>4</th>\n",
       "      <td>4</td>\n",
       "      <td>1482837565644410886</td>\n",
       "      <td>you stop bitcoin</td>\n",
       "      <td>2022-01-16 22:10:00</td>\n",
       "      <td>NaN</td>\n",
       "      <td>[Bitcoin]</td>\n",
       "    </tr>\n",
       "  </tbody>\n",
       "</table>\n",
       "</div>"
      ],
      "text/plain": [
       "   Unnamed: 0                   id  \\\n",
       "0           0  1482837567175286790   \n",
       "1           1  1482837566395019267   \n",
       "2           2  1482837566143479814   \n",
       "3           3  1482837566126800896   \n",
       "4           4  1482837565644410886   \n",
       "\n",
       "                                                text             datetime  \\\n",
       "0    running against congressman brad sherman  wh...  2022-01-16 22:10:00   \n",
       "1   earn    when you sign up at kingbitcoi bitcoi...  2022-01-16 22:10:00   \n",
       "2  continuing our research on we dig deeper  it l...  2022-01-16 22:10:00   \n",
       "3                            bitcoin subiu            2022-01-16 22:10:00   \n",
       "4                                  you stop bitcoin   2022-01-16 22:10:00   \n",
       "\n",
       "  Location    hashtag  \n",
       "0      NaN  [Bitcoin]  \n",
       "1      NaN         []  \n",
       "2      NaN         []  \n",
       "3      NaN         []  \n",
       "4      NaN  [Bitcoin]  "
      ]
     },
     "execution_count": 20,
     "metadata": {},
     "output_type": "execute_result"
    }
   ],
   "source": [
    "df_bit.text = df_bit.text.apply(lemmatize_text)\n",
    "df_bit.head()"
   ]
  },
  {
   "cell_type": "markdown",
   "id": "2a00f0dd",
   "metadata": {},
   "source": [
    "### Check if there is non-enlighs words and remove them"
   ]
  },
  {
   "cell_type": "code",
   "execution_count": 21,
   "id": "dd71782e",
   "metadata": {},
   "outputs": [
    {
     "data": {
      "text/plain": [
       "0         running against congressman brad sherman  wh...\n",
       "1        earn    when you sign up at kingbitcoi bitcoi...\n",
       "2       continuing our research on we dig deeper  it l...\n",
       "3                                 bitcoin subiu          \n",
       "4                                       you stop bitcoin \n",
       "                              ...                        \n",
       "1312      captainshibarrow now on coinmarketcap bscgem...\n",
       "1313      bitcoin is green energy   by joshua mcconkey...\n",
       "1314                bitcoin stats every     last    fee  \n",
       "1315    fastest    sat vb hour    sat vb   sat vb fee ...\n",
       "1316    ukraine demonstrates how bitcoin can transform...\n",
       "Name: text, Length: 1317, dtype: object"
      ]
     },
     "execution_count": 21,
     "metadata": {},
     "output_type": "execute_result"
    }
   ],
   "source": [
    "test = df_bit.text\n",
    "test"
   ]
  },
  {
   "cell_type": "code",
   "execution_count": 22,
   "id": "7726366f",
   "metadata": {
    "scrolled": false
   },
   "outputs": [],
   "source": [
    "import nltk\n",
    "words = set(nltk.corpus.words.words())\n",
    "keep_words = ['bitcoin', 'ethereum', 'binance','tether','solana','nft']\n",
    "\n",
    "def keep_eng(text):\n",
    "    return (\" \".join(w for w in nltk.wordpunct_tokenize(text) if w in words or not w.isalpha() or w in keep_words))"
   ]
  },
  {
   "cell_type": "code",
   "execution_count": 23,
   "id": "893f593c",
   "metadata": {},
   "outputs": [
    {
     "name": "stdout",
     "output_type": "stream",
     "text": [
      "0       running against congressman brad who think bit...\n",
      "1       earn when you sign up at bitcoin mining you al...\n",
      "2       our research on we dig it look more solid i ad...\n",
      "3                                                 bitcoin\n",
      "4                                        you stop bitcoin\n",
      "                              ...                        \n",
      "1312                               now on binance bitcoin\n",
      "1313                           bitcoin is green energy by\n",
      "1314                               bitcoin every last fee\n",
      "1315                 sat hour sat sat fee sat transaction\n",
      "1316    how bitcoin can transform country bitcoin maga...\n",
      "Name: text, Length: 1317, dtype: object\n"
     ]
    }
   ],
   "source": [
    "df_bit.text = df_bit.text.apply(keep_eng)\n",
    "print(df_bit.text)"
   ]
  },
  {
   "cell_type": "markdown",
   "id": "c97f03e7",
   "metadata": {},
   "source": [
    "### Remove rows containing empty tweets"
   ]
  },
  {
   "cell_type": "code",
   "execution_count": 24,
   "id": "9f99caa1",
   "metadata": {},
   "outputs": [
    {
     "name": "stdout",
     "output_type": "stream",
     "text": [
      " There are 97 rows that now have empty tweets.\n"
     ]
    }
   ],
   "source": [
    "print(f\" There are {np.sum(df_bit.text == '')} rows that now have empty tweets.\")"
   ]
  },
  {
   "cell_type": "code",
   "execution_count": 25,
   "id": "a55a2ed3",
   "metadata": {},
   "outputs": [
    {
     "data": {
      "text/html": [
       "<div>\n",
       "<style scoped>\n",
       "    .dataframe tbody tr th:only-of-type {\n",
       "        vertical-align: middle;\n",
       "    }\n",
       "\n",
       "    .dataframe tbody tr th {\n",
       "        vertical-align: top;\n",
       "    }\n",
       "\n",
       "    .dataframe thead th {\n",
       "        text-align: right;\n",
       "    }\n",
       "</style>\n",
       "<table border=\"1\" class=\"dataframe\">\n",
       "  <thead>\n",
       "    <tr style=\"text-align: right;\">\n",
       "      <th></th>\n",
       "      <th>Unnamed: 0</th>\n",
       "      <th>id</th>\n",
       "      <th>text</th>\n",
       "      <th>datetime</th>\n",
       "      <th>Location</th>\n",
       "      <th>hashtag</th>\n",
       "    </tr>\n",
       "  </thead>\n",
       "  <tbody>\n",
       "    <tr>\n",
       "      <th>51</th>\n",
       "      <td>57</td>\n",
       "      <td>1482837479589883904</td>\n",
       "      <td></td>\n",
       "      <td>2022-01-16 22:09:39</td>\n",
       "      <td>NaN</td>\n",
       "      <td>[cryptocurrency, blockchain, Binance, BNB]</td>\n",
       "    </tr>\n",
       "    <tr>\n",
       "      <th>69</th>\n",
       "      <td>77</td>\n",
       "      <td>1482837446593232903</td>\n",
       "      <td></td>\n",
       "      <td>2022-01-16 22:09:31</td>\n",
       "      <td>NaN</td>\n",
       "      <td>[]</td>\n",
       "    </tr>\n",
       "    <tr>\n",
       "      <th>73</th>\n",
       "      <td>82</td>\n",
       "      <td>1482837436153708549</td>\n",
       "      <td></td>\n",
       "      <td>2022-01-16 22:09:29</td>\n",
       "      <td>NaN</td>\n",
       "      <td>[cryptocurrency, blockchain, Binance, BNB, BSCg]</td>\n",
       "    </tr>\n",
       "    <tr>\n",
       "      <th>74</th>\n",
       "      <td>83</td>\n",
       "      <td>1482837434471702533</td>\n",
       "      <td></td>\n",
       "      <td>2022-01-16 22:09:28</td>\n",
       "      <td>NaN</td>\n",
       "      <td>[]</td>\n",
       "    </tr>\n",
       "    <tr>\n",
       "      <th>98</th>\n",
       "      <td>116</td>\n",
       "      <td>1482837394298904579</td>\n",
       "      <td></td>\n",
       "      <td>2022-01-16 22:09:19</td>\n",
       "      <td>NaN</td>\n",
       "      <td>[cryptocurrency, blockchain, Binance]</td>\n",
       "    </tr>\n",
       "    <tr>\n",
       "      <th>...</th>\n",
       "      <td>...</td>\n",
       "      <td>...</td>\n",
       "      <td>...</td>\n",
       "      <td>...</td>\n",
       "      <td>...</td>\n",
       "      <td>...</td>\n",
       "    </tr>\n",
       "    <tr>\n",
       "      <th>1225</th>\n",
       "      <td>1872</td>\n",
       "      <td>1482835190829527050</td>\n",
       "      <td></td>\n",
       "      <td>2022-01-16 22:00:33</td>\n",
       "      <td>NaN</td>\n",
       "      <td>[]</td>\n",
       "    </tr>\n",
       "    <tr>\n",
       "      <th>1239</th>\n",
       "      <td>1895</td>\n",
       "      <td>1482835173704335364</td>\n",
       "      <td></td>\n",
       "      <td>2022-01-16 22:00:29</td>\n",
       "      <td>NaN</td>\n",
       "      <td>[]</td>\n",
       "    </tr>\n",
       "    <tr>\n",
       "      <th>1261</th>\n",
       "      <td>1926</td>\n",
       "      <td>1482835140346888195</td>\n",
       "      <td></td>\n",
       "      <td>2022-01-16 22:00:21</td>\n",
       "      <td>NaN</td>\n",
       "      <td>[hodl, bitcoin]</td>\n",
       "    </tr>\n",
       "    <tr>\n",
       "      <th>1285</th>\n",
       "      <td>1960</td>\n",
       "      <td>1482835104120639492</td>\n",
       "      <td></td>\n",
       "      <td>2022-01-16 22:00:13</td>\n",
       "      <td>NaN</td>\n",
       "      <td>[USD, EUR, GBP]</td>\n",
       "    </tr>\n",
       "    <tr>\n",
       "      <th>1293</th>\n",
       "      <td>1971</td>\n",
       "      <td>1482835094926929920</td>\n",
       "      <td></td>\n",
       "      <td>2022-01-16 22:00:11</td>\n",
       "      <td>NaN</td>\n",
       "      <td>[INV]</td>\n",
       "    </tr>\n",
       "  </tbody>\n",
       "</table>\n",
       "<p>97 rows × 6 columns</p>\n",
       "</div>"
      ],
      "text/plain": [
       "      Unnamed: 0                   id text             datetime Location  \\\n",
       "51            57  1482837479589883904       2022-01-16 22:09:39      NaN   \n",
       "69            77  1482837446593232903       2022-01-16 22:09:31      NaN   \n",
       "73            82  1482837436153708549       2022-01-16 22:09:29      NaN   \n",
       "74            83  1482837434471702533       2022-01-16 22:09:28      NaN   \n",
       "98           116  1482837394298904579       2022-01-16 22:09:19      NaN   \n",
       "...          ...                  ...  ...                  ...      ...   \n",
       "1225        1872  1482835190829527050       2022-01-16 22:00:33      NaN   \n",
       "1239        1895  1482835173704335364       2022-01-16 22:00:29      NaN   \n",
       "1261        1926  1482835140346888195       2022-01-16 22:00:21      NaN   \n",
       "1285        1960  1482835104120639492       2022-01-16 22:00:13      NaN   \n",
       "1293        1971  1482835094926929920       2022-01-16 22:00:11      NaN   \n",
       "\n",
       "                                               hashtag  \n",
       "51          [cryptocurrency, blockchain, Binance, BNB]  \n",
       "69                                                  []  \n",
       "73    [cryptocurrency, blockchain, Binance, BNB, BSCg]  \n",
       "74                                                  []  \n",
       "98               [cryptocurrency, blockchain, Binance]  \n",
       "...                                                ...  \n",
       "1225                                                []  \n",
       "1239                                                []  \n",
       "1261                                   [hodl, bitcoin]  \n",
       "1285                                   [USD, EUR, GBP]  \n",
       "1293                                             [INV]  \n",
       "\n",
       "[97 rows x 6 columns]"
      ]
     },
     "execution_count": 25,
     "metadata": {},
     "output_type": "execute_result"
    }
   ],
   "source": [
    "mask = df_bit.text == ''\n",
    "df_bit[mask]"
   ]
  },
  {
   "cell_type": "code",
   "execution_count": 26,
   "id": "209f12f5",
   "metadata": {},
   "outputs": [
    {
     "data": {
      "text/plain": [
       "(1220, 6)"
      ]
     },
     "execution_count": 26,
     "metadata": {},
     "output_type": "execute_result"
    }
   ],
   "source": [
    "df_bit = df_bit[~mask]\n",
    "df_bit.shape"
   ]
  },
  {
   "cell_type": "code",
   "execution_count": null,
   "id": "ddd24564",
   "metadata": {},
   "outputs": [],
   "source": []
  },
  {
   "cell_type": "markdown",
   "id": "44328d61",
   "metadata": {},
   "source": [
    "### Tokenize the document"
   ]
  },
  {
   "cell_type": "code",
   "execution_count": 27,
   "id": "85965f3e",
   "metadata": {},
   "outputs": [],
   "source": [
    "stop_words = nltk.corpus.stopwords.words('english')"
   ]
  },
  {
   "cell_type": "code",
   "execution_count": 28,
   "id": "47166883",
   "metadata": {},
   "outputs": [
    {
     "data": {
      "text/html": [
       "<div>\n",
       "<style scoped>\n",
       "    .dataframe tbody tr th:only-of-type {\n",
       "        vertical-align: middle;\n",
       "    }\n",
       "\n",
       "    .dataframe tbody tr th {\n",
       "        vertical-align: top;\n",
       "    }\n",
       "\n",
       "    .dataframe thead th {\n",
       "        text-align: right;\n",
       "    }\n",
       "</style>\n",
       "<table border=\"1\" class=\"dataframe\">\n",
       "  <thead>\n",
       "    <tr style=\"text-align: right;\">\n",
       "      <th></th>\n",
       "      <th>accelerate</th>\n",
       "      <th>accept</th>\n",
       "      <th>according</th>\n",
       "      <th>actual</th>\n",
       "      <th>address</th>\n",
       "      <th>advised</th>\n",
       "      <th>ago</th>\n",
       "      <th>ahead</th>\n",
       "      <th>al</th>\n",
       "      <th>almost</th>\n",
       "      <th>...</th>\n",
       "      <th>win</th>\n",
       "      <th>working</th>\n",
       "      <th>write</th>\n",
       "      <th>ya</th>\n",
       "      <th>yeah</th>\n",
       "      <th>yellow</th>\n",
       "      <th>yes</th>\n",
       "      <th>yet</th>\n",
       "      <th>yield</th>\n",
       "      <th>zero</th>\n",
       "    </tr>\n",
       "    <tr>\n",
       "      <th>text</th>\n",
       "      <th></th>\n",
       "      <th></th>\n",
       "      <th></th>\n",
       "      <th></th>\n",
       "      <th></th>\n",
       "      <th></th>\n",
       "      <th></th>\n",
       "      <th></th>\n",
       "      <th></th>\n",
       "      <th></th>\n",
       "      <th></th>\n",
       "      <th></th>\n",
       "      <th></th>\n",
       "      <th></th>\n",
       "      <th></th>\n",
       "      <th></th>\n",
       "      <th></th>\n",
       "      <th></th>\n",
       "      <th></th>\n",
       "      <th></th>\n",
       "      <th></th>\n",
       "    </tr>\n",
       "  </thead>\n",
       "  <tbody>\n",
       "    <tr>\n",
       "      <th>running against congressman brad who think bitcoin is the threat to upward mobility when it is our</th>\n",
       "      <td>0</td>\n",
       "      <td>0</td>\n",
       "      <td>0</td>\n",
       "      <td>0</td>\n",
       "      <td>0</td>\n",
       "      <td>0</td>\n",
       "      <td>0</td>\n",
       "      <td>0</td>\n",
       "      <td>0</td>\n",
       "      <td>0</td>\n",
       "      <td>...</td>\n",
       "      <td>0</td>\n",
       "      <td>0</td>\n",
       "      <td>0</td>\n",
       "      <td>0</td>\n",
       "      <td>0</td>\n",
       "      <td>0</td>\n",
       "      <td>0</td>\n",
       "      <td>0</td>\n",
       "      <td>0</td>\n",
       "      <td>0</td>\n",
       "    </tr>\n",
       "    <tr>\n",
       "      <th>earn when you sign up at bitcoin mining you also stand a chance to earn via referral</th>\n",
       "      <td>0</td>\n",
       "      <td>0</td>\n",
       "      <td>0</td>\n",
       "      <td>0</td>\n",
       "      <td>0</td>\n",
       "      <td>0</td>\n",
       "      <td>0</td>\n",
       "      <td>0</td>\n",
       "      <td>0</td>\n",
       "      <td>0</td>\n",
       "      <td>...</td>\n",
       "      <td>0</td>\n",
       "      <td>0</td>\n",
       "      <td>0</td>\n",
       "      <td>0</td>\n",
       "      <td>0</td>\n",
       "      <td>0</td>\n",
       "      <td>0</td>\n",
       "      <td>0</td>\n",
       "      <td>0</td>\n",
       "      <td>0</td>\n",
       "    </tr>\n",
       "    <tr>\n",
       "      <th>our research on we dig it look more solid i advise always before you buy</th>\n",
       "      <td>0</td>\n",
       "      <td>0</td>\n",
       "      <td>0</td>\n",
       "      <td>0</td>\n",
       "      <td>0</td>\n",
       "      <td>0</td>\n",
       "      <td>0</td>\n",
       "      <td>0</td>\n",
       "      <td>0</td>\n",
       "      <td>0</td>\n",
       "      <td>...</td>\n",
       "      <td>0</td>\n",
       "      <td>0</td>\n",
       "      <td>0</td>\n",
       "      <td>0</td>\n",
       "      <td>0</td>\n",
       "      <td>0</td>\n",
       "      <td>0</td>\n",
       "      <td>0</td>\n",
       "      <td>0</td>\n",
       "      <td>0</td>\n",
       "    </tr>\n",
       "    <tr>\n",
       "      <th>bitcoin</th>\n",
       "      <td>0</td>\n",
       "      <td>0</td>\n",
       "      <td>0</td>\n",
       "      <td>0</td>\n",
       "      <td>0</td>\n",
       "      <td>0</td>\n",
       "      <td>0</td>\n",
       "      <td>0</td>\n",
       "      <td>0</td>\n",
       "      <td>0</td>\n",
       "      <td>...</td>\n",
       "      <td>0</td>\n",
       "      <td>0</td>\n",
       "      <td>0</td>\n",
       "      <td>0</td>\n",
       "      <td>0</td>\n",
       "      <td>0</td>\n",
       "      <td>0</td>\n",
       "      <td>0</td>\n",
       "      <td>0</td>\n",
       "      <td>0</td>\n",
       "    </tr>\n",
       "    <tr>\n",
       "      <th>you stop bitcoin</th>\n",
       "      <td>0</td>\n",
       "      <td>0</td>\n",
       "      <td>0</td>\n",
       "      <td>0</td>\n",
       "      <td>0</td>\n",
       "      <td>0</td>\n",
       "      <td>0</td>\n",
       "      <td>0</td>\n",
       "      <td>0</td>\n",
       "      <td>0</td>\n",
       "      <td>...</td>\n",
       "      <td>0</td>\n",
       "      <td>0</td>\n",
       "      <td>0</td>\n",
       "      <td>0</td>\n",
       "      <td>0</td>\n",
       "      <td>0</td>\n",
       "      <td>0</td>\n",
       "      <td>0</td>\n",
       "      <td>0</td>\n",
       "      <td>0</td>\n",
       "    </tr>\n",
       "    <tr>\n",
       "      <th>doge y de token en binance el exchange de</th>\n",
       "      <td>0</td>\n",
       "      <td>0</td>\n",
       "      <td>0</td>\n",
       "      <td>0</td>\n",
       "      <td>0</td>\n",
       "      <td>0</td>\n",
       "      <td>0</td>\n",
       "      <td>0</td>\n",
       "      <td>0</td>\n",
       "      <td>0</td>\n",
       "      <td>...</td>\n",
       "      <td>0</td>\n",
       "      <td>0</td>\n",
       "      <td>0</td>\n",
       "      <td>0</td>\n",
       "      <td>0</td>\n",
       "      <td>0</td>\n",
       "      <td>0</td>\n",
       "      <td>0</td>\n",
       "      <td>0</td>\n",
       "      <td>0</td>\n",
       "    </tr>\n",
       "    <tr>\n",
       "      <th>follow tag friend our discord nft</th>\n",
       "      <td>0</td>\n",
       "      <td>0</td>\n",
       "      <td>0</td>\n",
       "      <td>0</td>\n",
       "      <td>0</td>\n",
       "      <td>0</td>\n",
       "      <td>0</td>\n",
       "      <td>0</td>\n",
       "      <td>0</td>\n",
       "      <td>0</td>\n",
       "      <td>...</td>\n",
       "      <td>0</td>\n",
       "      <td>0</td>\n",
       "      <td>0</td>\n",
       "      <td>0</td>\n",
       "      <td>0</td>\n",
       "      <td>0</td>\n",
       "      <td>0</td>\n",
       "      <td>0</td>\n",
       "      <td>0</td>\n",
       "      <td>0</td>\n",
       "    </tr>\n",
       "    <tr>\n",
       "      <th>this account stay a it is the second account will focus more on bitcoin news how to</th>\n",
       "      <td>0</td>\n",
       "      <td>0</td>\n",
       "      <td>0</td>\n",
       "      <td>0</td>\n",
       "      <td>0</td>\n",
       "      <td>0</td>\n",
       "      <td>0</td>\n",
       "      <td>0</td>\n",
       "      <td>0</td>\n",
       "      <td>0</td>\n",
       "      <td>...</td>\n",
       "      <td>0</td>\n",
       "      <td>0</td>\n",
       "      <td>0</td>\n",
       "      <td>0</td>\n",
       "      <td>0</td>\n",
       "      <td>0</td>\n",
       "      <td>0</td>\n",
       "      <td>0</td>\n",
       "      <td>0</td>\n",
       "      <td>0</td>\n",
       "    </tr>\n",
       "    <tr>\n",
       "      <th>screaming and cry a a six year old trying to explain what bitcoin is to my parent mid divorce</th>\n",
       "      <td>0</td>\n",
       "      <td>0</td>\n",
       "      <td>0</td>\n",
       "      <td>0</td>\n",
       "      <td>0</td>\n",
       "      <td>0</td>\n",
       "      <td>0</td>\n",
       "      <td>0</td>\n",
       "      <td>0</td>\n",
       "      <td>0</td>\n",
       "      <td>...</td>\n",
       "      <td>0</td>\n",
       "      <td>0</td>\n",
       "      <td>0</td>\n",
       "      <td>0</td>\n",
       "      <td>0</td>\n",
       "      <td>0</td>\n",
       "      <td>0</td>\n",
       "      <td>0</td>\n",
       "      <td>0</td>\n",
       "      <td>0</td>\n",
       "    </tr>\n",
       "    <tr>\n",
       "      <th>yes bitcoin fix this</th>\n",
       "      <td>0</td>\n",
       "      <td>0</td>\n",
       "      <td>0</td>\n",
       "      <td>0</td>\n",
       "      <td>0</td>\n",
       "      <td>0</td>\n",
       "      <td>0</td>\n",
       "      <td>0</td>\n",
       "      <td>0</td>\n",
       "      <td>0</td>\n",
       "      <td>...</td>\n",
       "      <td>0</td>\n",
       "      <td>0</td>\n",
       "      <td>0</td>\n",
       "      <td>0</td>\n",
       "      <td>0</td>\n",
       "      <td>0</td>\n",
       "      <td>1</td>\n",
       "      <td>0</td>\n",
       "      <td>0</td>\n",
       "      <td>0</td>\n",
       "    </tr>\n",
       "  </tbody>\n",
       "</table>\n",
       "<p>10 rows × 319 columns</p>\n",
       "</div>"
      ],
      "text/plain": [
       "                                                    accelerate  accept  \\\n",
       "text                                                                     \n",
       "running against congressman brad who think bitc...           0       0   \n",
       "earn when you sign up at bitcoin mining you als...           0       0   \n",
       "our research on we dig it look more solid i adv...           0       0   \n",
       "bitcoin                                                      0       0   \n",
       "you stop bitcoin                                             0       0   \n",
       "doge y de token en binance el exchange de                    0       0   \n",
       "follow tag friend our discord nft                            0       0   \n",
       "this account stay a it is the second account wi...           0       0   \n",
       "screaming and cry a a six year old trying to ex...           0       0   \n",
       "yes bitcoin fix this                                         0       0   \n",
       "\n",
       "                                                    according  actual  \\\n",
       "text                                                                    \n",
       "running against congressman brad who think bitc...          0       0   \n",
       "earn when you sign up at bitcoin mining you als...          0       0   \n",
       "our research on we dig it look more solid i adv...          0       0   \n",
       "bitcoin                                                     0       0   \n",
       "you stop bitcoin                                            0       0   \n",
       "doge y de token en binance el exchange de                   0       0   \n",
       "follow tag friend our discord nft                           0       0   \n",
       "this account stay a it is the second account wi...          0       0   \n",
       "screaming and cry a a six year old trying to ex...          0       0   \n",
       "yes bitcoin fix this                                        0       0   \n",
       "\n",
       "                                                    address  advised  ago  \\\n",
       "text                                                                        \n",
       "running against congressman brad who think bitc...        0        0    0   \n",
       "earn when you sign up at bitcoin mining you als...        0        0    0   \n",
       "our research on we dig it look more solid i adv...        0        0    0   \n",
       "bitcoin                                                   0        0    0   \n",
       "you stop bitcoin                                          0        0    0   \n",
       "doge y de token en binance el exchange de                 0        0    0   \n",
       "follow tag friend our discord nft                         0        0    0   \n",
       "this account stay a it is the second account wi...        0        0    0   \n",
       "screaming and cry a a six year old trying to ex...        0        0    0   \n",
       "yes bitcoin fix this                                      0        0    0   \n",
       "\n",
       "                                                    ahead  al  almost  ...  \\\n",
       "text                                                                   ...   \n",
       "running against congressman brad who think bitc...      0   0       0  ...   \n",
       "earn when you sign up at bitcoin mining you als...      0   0       0  ...   \n",
       "our research on we dig it look more solid i adv...      0   0       0  ...   \n",
       "bitcoin                                                 0   0       0  ...   \n",
       "you stop bitcoin                                        0   0       0  ...   \n",
       "doge y de token en binance el exchange de               0   0       0  ...   \n",
       "follow tag friend our discord nft                       0   0       0  ...   \n",
       "this account stay a it is the second account wi...      0   0       0  ...   \n",
       "screaming and cry a a six year old trying to ex...      0   0       0  ...   \n",
       "yes bitcoin fix this                                    0   0       0  ...   \n",
       "\n",
       "                                                    win  working  write  ya  \\\n",
       "text                                                                          \n",
       "running against congressman brad who think bitc...    0        0      0   0   \n",
       "earn when you sign up at bitcoin mining you als...    0        0      0   0   \n",
       "our research on we dig it look more solid i adv...    0        0      0   0   \n",
       "bitcoin                                               0        0      0   0   \n",
       "you stop bitcoin                                      0        0      0   0   \n",
       "doge y de token en binance el exchange de             0        0      0   0   \n",
       "follow tag friend our discord nft                     0        0      0   0   \n",
       "this account stay a it is the second account wi...    0        0      0   0   \n",
       "screaming and cry a a six year old trying to ex...    0        0      0   0   \n",
       "yes bitcoin fix this                                  0        0      0   0   \n",
       "\n",
       "                                                    yeah  yellow  yes  yet  \\\n",
       "text                                                                         \n",
       "running against congressman brad who think bitc...     0       0    0    0   \n",
       "earn when you sign up at bitcoin mining you als...     0       0    0    0   \n",
       "our research on we dig it look more solid i adv...     0       0    0    0   \n",
       "bitcoin                                                0       0    0    0   \n",
       "you stop bitcoin                                       0       0    0    0   \n",
       "doge y de token en binance el exchange de              0       0    0    0   \n",
       "follow tag friend our discord nft                      0       0    0    0   \n",
       "this account stay a it is the second account wi...     0       0    0    0   \n",
       "screaming and cry a a six year old trying to ex...     0       0    0    0   \n",
       "yes bitcoin fix this                                   0       0    1    0   \n",
       "\n",
       "                                                    yield  zero  \n",
       "text                                                             \n",
       "running against congressman brad who think bitc...      0     0  \n",
       "earn when you sign up at bitcoin mining you als...      0     0  \n",
       "our research on we dig it look more solid i adv...      0     0  \n",
       "bitcoin                                                 0     0  \n",
       "you stop bitcoin                                        0     0  \n",
       "doge y de token en binance el exchange de               0     0  \n",
       "follow tag friend our discord nft                       0     0  \n",
       "this account stay a it is the second account wi...      0     0  \n",
       "screaming and cry a a six year old trying to ex...      0     0  \n",
       "yes bitcoin fix this                                    0     0  \n",
       "\n",
       "[10 rows x 319 columns]"
      ]
     },
     "execution_count": 28,
     "metadata": {},
     "output_type": "execute_result"
    }
   ],
   "source": [
    "## CountVectorize\n",
    "cvec = CountVectorizer(stop_words=stop_words, max_df=7, min_df=3)\n",
    "doc_word_cv = cvec.fit_transform(df_bit.text)\n",
    "pd.DataFrame(doc_word_cv.toarray(), index=df_bit.text, columns=cvec.get_feature_names()).head(10)"
   ]
  },
  {
   "cell_type": "code",
   "execution_count": 29,
   "id": "e345404a",
   "metadata": {},
   "outputs": [
    {
     "data": {
      "text/html": [
       "<div>\n",
       "<style scoped>\n",
       "    .dataframe tbody tr th:only-of-type {\n",
       "        vertical-align: middle;\n",
       "    }\n",
       "\n",
       "    .dataframe tbody tr th {\n",
       "        vertical-align: top;\n",
       "    }\n",
       "\n",
       "    .dataframe thead th {\n",
       "        text-align: right;\n",
       "    }\n",
       "</style>\n",
       "<table border=\"1\" class=\"dataframe\">\n",
       "  <thead>\n",
       "    <tr style=\"text-align: right;\">\n",
       "      <th></th>\n",
       "      <th>accelerate</th>\n",
       "      <th>accept</th>\n",
       "      <th>according</th>\n",
       "      <th>actual</th>\n",
       "      <th>address</th>\n",
       "      <th>advised</th>\n",
       "      <th>ago</th>\n",
       "      <th>ahead</th>\n",
       "      <th>airdrop</th>\n",
       "      <th>al</th>\n",
       "      <th>...</th>\n",
       "      <th>write</th>\n",
       "      <th>ya</th>\n",
       "      <th>yeah</th>\n",
       "      <th>year</th>\n",
       "      <th>yellow</th>\n",
       "      <th>yes</th>\n",
       "      <th>yet</th>\n",
       "      <th>yield</th>\n",
       "      <th>zero</th>\n",
       "      <th>zone</th>\n",
       "    </tr>\n",
       "    <tr>\n",
       "      <th>text</th>\n",
       "      <th></th>\n",
       "      <th></th>\n",
       "      <th></th>\n",
       "      <th></th>\n",
       "      <th></th>\n",
       "      <th></th>\n",
       "      <th></th>\n",
       "      <th></th>\n",
       "      <th></th>\n",
       "      <th></th>\n",
       "      <th></th>\n",
       "      <th></th>\n",
       "      <th></th>\n",
       "      <th></th>\n",
       "      <th></th>\n",
       "      <th></th>\n",
       "      <th></th>\n",
       "      <th></th>\n",
       "      <th></th>\n",
       "      <th></th>\n",
       "      <th></th>\n",
       "    </tr>\n",
       "  </thead>\n",
       "  <tbody>\n",
       "    <tr>\n",
       "      <th>running against congressman brad who think bitcoin is the threat to upward mobility when it is our</th>\n",
       "      <td>0.0</td>\n",
       "      <td>0.0</td>\n",
       "      <td>0.0</td>\n",
       "      <td>0.0</td>\n",
       "      <td>0.0</td>\n",
       "      <td>0.0</td>\n",
       "      <td>0.0</td>\n",
       "      <td>0.0</td>\n",
       "      <td>0.0</td>\n",
       "      <td>0.0</td>\n",
       "      <td>...</td>\n",
       "      <td>0.0</td>\n",
       "      <td>0.0</td>\n",
       "      <td>0.0</td>\n",
       "      <td>0.000000</td>\n",
       "      <td>0.0</td>\n",
       "      <td>0.000000</td>\n",
       "      <td>0.0</td>\n",
       "      <td>0.0</td>\n",
       "      <td>0.0</td>\n",
       "      <td>0.0</td>\n",
       "    </tr>\n",
       "    <tr>\n",
       "      <th>earn when you sign up at bitcoin mining you also stand a chance to earn via referral</th>\n",
       "      <td>0.0</td>\n",
       "      <td>0.0</td>\n",
       "      <td>0.0</td>\n",
       "      <td>0.0</td>\n",
       "      <td>0.0</td>\n",
       "      <td>0.0</td>\n",
       "      <td>0.0</td>\n",
       "      <td>0.0</td>\n",
       "      <td>0.0</td>\n",
       "      <td>0.0</td>\n",
       "      <td>...</td>\n",
       "      <td>0.0</td>\n",
       "      <td>0.0</td>\n",
       "      <td>0.0</td>\n",
       "      <td>0.000000</td>\n",
       "      <td>0.0</td>\n",
       "      <td>0.000000</td>\n",
       "      <td>0.0</td>\n",
       "      <td>0.0</td>\n",
       "      <td>0.0</td>\n",
       "      <td>0.0</td>\n",
       "    </tr>\n",
       "    <tr>\n",
       "      <th>our research on we dig it look more solid i advise always before you buy</th>\n",
       "      <td>0.0</td>\n",
       "      <td>0.0</td>\n",
       "      <td>0.0</td>\n",
       "      <td>0.0</td>\n",
       "      <td>0.0</td>\n",
       "      <td>0.0</td>\n",
       "      <td>0.0</td>\n",
       "      <td>0.0</td>\n",
       "      <td>0.0</td>\n",
       "      <td>0.0</td>\n",
       "      <td>...</td>\n",
       "      <td>0.0</td>\n",
       "      <td>0.0</td>\n",
       "      <td>0.0</td>\n",
       "      <td>0.000000</td>\n",
       "      <td>0.0</td>\n",
       "      <td>0.000000</td>\n",
       "      <td>0.0</td>\n",
       "      <td>0.0</td>\n",
       "      <td>0.0</td>\n",
       "      <td>0.0</td>\n",
       "    </tr>\n",
       "    <tr>\n",
       "      <th>bitcoin</th>\n",
       "      <td>0.0</td>\n",
       "      <td>0.0</td>\n",
       "      <td>0.0</td>\n",
       "      <td>0.0</td>\n",
       "      <td>0.0</td>\n",
       "      <td>0.0</td>\n",
       "      <td>0.0</td>\n",
       "      <td>0.0</td>\n",
       "      <td>0.0</td>\n",
       "      <td>0.0</td>\n",
       "      <td>...</td>\n",
       "      <td>0.0</td>\n",
       "      <td>0.0</td>\n",
       "      <td>0.0</td>\n",
       "      <td>0.000000</td>\n",
       "      <td>0.0</td>\n",
       "      <td>0.000000</td>\n",
       "      <td>0.0</td>\n",
       "      <td>0.0</td>\n",
       "      <td>0.0</td>\n",
       "      <td>0.0</td>\n",
       "    </tr>\n",
       "    <tr>\n",
       "      <th>you stop bitcoin</th>\n",
       "      <td>0.0</td>\n",
       "      <td>0.0</td>\n",
       "      <td>0.0</td>\n",
       "      <td>0.0</td>\n",
       "      <td>0.0</td>\n",
       "      <td>0.0</td>\n",
       "      <td>0.0</td>\n",
       "      <td>0.0</td>\n",
       "      <td>0.0</td>\n",
       "      <td>0.0</td>\n",
       "      <td>...</td>\n",
       "      <td>0.0</td>\n",
       "      <td>0.0</td>\n",
       "      <td>0.0</td>\n",
       "      <td>0.000000</td>\n",
       "      <td>0.0</td>\n",
       "      <td>0.000000</td>\n",
       "      <td>0.0</td>\n",
       "      <td>0.0</td>\n",
       "      <td>0.0</td>\n",
       "      <td>0.0</td>\n",
       "    </tr>\n",
       "    <tr>\n",
       "      <th>doge y de token en binance el exchange de</th>\n",
       "      <td>0.0</td>\n",
       "      <td>0.0</td>\n",
       "      <td>0.0</td>\n",
       "      <td>0.0</td>\n",
       "      <td>0.0</td>\n",
       "      <td>0.0</td>\n",
       "      <td>0.0</td>\n",
       "      <td>0.0</td>\n",
       "      <td>0.0</td>\n",
       "      <td>0.0</td>\n",
       "      <td>...</td>\n",
       "      <td>0.0</td>\n",
       "      <td>0.0</td>\n",
       "      <td>0.0</td>\n",
       "      <td>0.000000</td>\n",
       "      <td>0.0</td>\n",
       "      <td>0.000000</td>\n",
       "      <td>0.0</td>\n",
       "      <td>0.0</td>\n",
       "      <td>0.0</td>\n",
       "      <td>0.0</td>\n",
       "    </tr>\n",
       "    <tr>\n",
       "      <th>follow tag friend our discord nft</th>\n",
       "      <td>0.0</td>\n",
       "      <td>0.0</td>\n",
       "      <td>0.0</td>\n",
       "      <td>0.0</td>\n",
       "      <td>0.0</td>\n",
       "      <td>0.0</td>\n",
       "      <td>0.0</td>\n",
       "      <td>0.0</td>\n",
       "      <td>0.0</td>\n",
       "      <td>0.0</td>\n",
       "      <td>...</td>\n",
       "      <td>0.0</td>\n",
       "      <td>0.0</td>\n",
       "      <td>0.0</td>\n",
       "      <td>0.000000</td>\n",
       "      <td>0.0</td>\n",
       "      <td>0.000000</td>\n",
       "      <td>0.0</td>\n",
       "      <td>0.0</td>\n",
       "      <td>0.0</td>\n",
       "      <td>0.0</td>\n",
       "    </tr>\n",
       "    <tr>\n",
       "      <th>this account stay a it is the second account will focus more on bitcoin news how to</th>\n",
       "      <td>0.0</td>\n",
       "      <td>0.0</td>\n",
       "      <td>0.0</td>\n",
       "      <td>0.0</td>\n",
       "      <td>0.0</td>\n",
       "      <td>0.0</td>\n",
       "      <td>0.0</td>\n",
       "      <td>0.0</td>\n",
       "      <td>0.0</td>\n",
       "      <td>0.0</td>\n",
       "      <td>...</td>\n",
       "      <td>0.0</td>\n",
       "      <td>0.0</td>\n",
       "      <td>0.0</td>\n",
       "      <td>0.000000</td>\n",
       "      <td>0.0</td>\n",
       "      <td>0.000000</td>\n",
       "      <td>0.0</td>\n",
       "      <td>0.0</td>\n",
       "      <td>0.0</td>\n",
       "      <td>0.0</td>\n",
       "    </tr>\n",
       "    <tr>\n",
       "      <th>screaming and cry a a six year old trying to explain what bitcoin is to my parent mid divorce</th>\n",
       "      <td>0.0</td>\n",
       "      <td>0.0</td>\n",
       "      <td>0.0</td>\n",
       "      <td>0.0</td>\n",
       "      <td>0.0</td>\n",
       "      <td>0.0</td>\n",
       "      <td>0.0</td>\n",
       "      <td>0.0</td>\n",
       "      <td>0.0</td>\n",
       "      <td>0.0</td>\n",
       "      <td>...</td>\n",
       "      <td>0.0</td>\n",
       "      <td>0.0</td>\n",
       "      <td>0.0</td>\n",
       "      <td>0.463837</td>\n",
       "      <td>0.0</td>\n",
       "      <td>0.000000</td>\n",
       "      <td>0.0</td>\n",
       "      <td>0.0</td>\n",
       "      <td>0.0</td>\n",
       "      <td>0.0</td>\n",
       "    </tr>\n",
       "    <tr>\n",
       "      <th>yes bitcoin fix this</th>\n",
       "      <td>0.0</td>\n",
       "      <td>0.0</td>\n",
       "      <td>0.0</td>\n",
       "      <td>0.0</td>\n",
       "      <td>0.0</td>\n",
       "      <td>0.0</td>\n",
       "      <td>0.0</td>\n",
       "      <td>0.0</td>\n",
       "      <td>0.0</td>\n",
       "      <td>0.0</td>\n",
       "      <td>...</td>\n",
       "      <td>0.0</td>\n",
       "      <td>0.0</td>\n",
       "      <td>0.0</td>\n",
       "      <td>0.000000</td>\n",
       "      <td>0.0</td>\n",
       "      <td>0.686163</td>\n",
       "      <td>0.0</td>\n",
       "      <td>0.0</td>\n",
       "      <td>0.0</td>\n",
       "      <td>0.0</td>\n",
       "    </tr>\n",
       "  </tbody>\n",
       "</table>\n",
       "<p>10 rows × 462 columns</p>\n",
       "</div>"
      ],
      "text/plain": [
       "                                                    accelerate  accept  \\\n",
       "text                                                                     \n",
       "running against congressman brad who think bitc...         0.0     0.0   \n",
       "earn when you sign up at bitcoin mining you als...         0.0     0.0   \n",
       "our research on we dig it look more solid i adv...         0.0     0.0   \n",
       "bitcoin                                                    0.0     0.0   \n",
       "you stop bitcoin                                           0.0     0.0   \n",
       "doge y de token en binance el exchange de                  0.0     0.0   \n",
       "follow tag friend our discord nft                          0.0     0.0   \n",
       "this account stay a it is the second account wi...         0.0     0.0   \n",
       "screaming and cry a a six year old trying to ex...         0.0     0.0   \n",
       "yes bitcoin fix this                                       0.0     0.0   \n",
       "\n",
       "                                                    according  actual  \\\n",
       "text                                                                    \n",
       "running against congressman brad who think bitc...        0.0     0.0   \n",
       "earn when you sign up at bitcoin mining you als...        0.0     0.0   \n",
       "our research on we dig it look more solid i adv...        0.0     0.0   \n",
       "bitcoin                                                   0.0     0.0   \n",
       "you stop bitcoin                                          0.0     0.0   \n",
       "doge y de token en binance el exchange de                 0.0     0.0   \n",
       "follow tag friend our discord nft                         0.0     0.0   \n",
       "this account stay a it is the second account wi...        0.0     0.0   \n",
       "screaming and cry a a six year old trying to ex...        0.0     0.0   \n",
       "yes bitcoin fix this                                      0.0     0.0   \n",
       "\n",
       "                                                    address  advised  ago  \\\n",
       "text                                                                        \n",
       "running against congressman brad who think bitc...      0.0      0.0  0.0   \n",
       "earn when you sign up at bitcoin mining you als...      0.0      0.0  0.0   \n",
       "our research on we dig it look more solid i adv...      0.0      0.0  0.0   \n",
       "bitcoin                                                 0.0      0.0  0.0   \n",
       "you stop bitcoin                                        0.0      0.0  0.0   \n",
       "doge y de token en binance el exchange de               0.0      0.0  0.0   \n",
       "follow tag friend our discord nft                       0.0      0.0  0.0   \n",
       "this account stay a it is the second account wi...      0.0      0.0  0.0   \n",
       "screaming and cry a a six year old trying to ex...      0.0      0.0  0.0   \n",
       "yes bitcoin fix this                                    0.0      0.0  0.0   \n",
       "\n",
       "                                                    ahead  airdrop   al  ...  \\\n",
       "text                                                                     ...   \n",
       "running against congressman brad who think bitc...    0.0      0.0  0.0  ...   \n",
       "earn when you sign up at bitcoin mining you als...    0.0      0.0  0.0  ...   \n",
       "our research on we dig it look more solid i adv...    0.0      0.0  0.0  ...   \n",
       "bitcoin                                               0.0      0.0  0.0  ...   \n",
       "you stop bitcoin                                      0.0      0.0  0.0  ...   \n",
       "doge y de token en binance el exchange de             0.0      0.0  0.0  ...   \n",
       "follow tag friend our discord nft                     0.0      0.0  0.0  ...   \n",
       "this account stay a it is the second account wi...    0.0      0.0  0.0  ...   \n",
       "screaming and cry a a six year old trying to ex...    0.0      0.0  0.0  ...   \n",
       "yes bitcoin fix this                                  0.0      0.0  0.0  ...   \n",
       "\n",
       "                                                    write   ya  yeah  \\\n",
       "text                                                                   \n",
       "running against congressman brad who think bitc...    0.0  0.0   0.0   \n",
       "earn when you sign up at bitcoin mining you als...    0.0  0.0   0.0   \n",
       "our research on we dig it look more solid i adv...    0.0  0.0   0.0   \n",
       "bitcoin                                               0.0  0.0   0.0   \n",
       "you stop bitcoin                                      0.0  0.0   0.0   \n",
       "doge y de token en binance el exchange de             0.0  0.0   0.0   \n",
       "follow tag friend our discord nft                     0.0  0.0   0.0   \n",
       "this account stay a it is the second account wi...    0.0  0.0   0.0   \n",
       "screaming and cry a a six year old trying to ex...    0.0  0.0   0.0   \n",
       "yes bitcoin fix this                                  0.0  0.0   0.0   \n",
       "\n",
       "                                                        year  yellow  \\\n",
       "text                                                                   \n",
       "running against congressman brad who think bitc...  0.000000     0.0   \n",
       "earn when you sign up at bitcoin mining you als...  0.000000     0.0   \n",
       "our research on we dig it look more solid i adv...  0.000000     0.0   \n",
       "bitcoin                                             0.000000     0.0   \n",
       "you stop bitcoin                                    0.000000     0.0   \n",
       "doge y de token en binance el exchange de           0.000000     0.0   \n",
       "follow tag friend our discord nft                   0.000000     0.0   \n",
       "this account stay a it is the second account wi...  0.000000     0.0   \n",
       "screaming and cry a a six year old trying to ex...  0.463837     0.0   \n",
       "yes bitcoin fix this                                0.000000     0.0   \n",
       "\n",
       "                                                         yes  yet  yield  \\\n",
       "text                                                                       \n",
       "running against congressman brad who think bitc...  0.000000  0.0    0.0   \n",
       "earn when you sign up at bitcoin mining you als...  0.000000  0.0    0.0   \n",
       "our research on we dig it look more solid i adv...  0.000000  0.0    0.0   \n",
       "bitcoin                                             0.000000  0.0    0.0   \n",
       "you stop bitcoin                                    0.000000  0.0    0.0   \n",
       "doge y de token en binance el exchange de           0.000000  0.0    0.0   \n",
       "follow tag friend our discord nft                   0.000000  0.0    0.0   \n",
       "this account stay a it is the second account wi...  0.000000  0.0    0.0   \n",
       "screaming and cry a a six year old trying to ex...  0.000000  0.0    0.0   \n",
       "yes bitcoin fix this                                0.686163  0.0    0.0   \n",
       "\n",
       "                                                    zero  zone  \n",
       "text                                                            \n",
       "running against congressman brad who think bitc...   0.0   0.0  \n",
       "earn when you sign up at bitcoin mining you als...   0.0   0.0  \n",
       "our research on we dig it look more solid i adv...   0.0   0.0  \n",
       "bitcoin                                              0.0   0.0  \n",
       "you stop bitcoin                                     0.0   0.0  \n",
       "doge y de token en binance el exchange de            0.0   0.0  \n",
       "follow tag friend our discord nft                    0.0   0.0  \n",
       "this account stay a it is the second account wi...   0.0   0.0  \n",
       "screaming and cry a a six year old trying to ex...   0.0   0.0  \n",
       "yes bitcoin fix this                                 0.0   0.0  \n",
       "\n",
       "[10 rows x 462 columns]"
      ]
     },
     "execution_count": 29,
     "metadata": {},
     "output_type": "execute_result"
    }
   ],
   "source": [
    "##TFIDF\n",
    "cv_tfidf = TfidfVectorizer(stop_words=stop_words,max_df =0.7, min_df=3)\n",
    "doc_word_tfidf = cv_tfidf.fit_transform(df_bit.text)\n",
    "pd.DataFrame(doc_word_tfidf.toarray(), index=df_bit.text, columns=cv_tfidf.get_feature_names()).head(10)"
   ]
  },
  {
   "cell_type": "code",
   "execution_count": 30,
   "id": "89b5f3f6",
   "metadata": {},
   "outputs": [
    {
     "data": {
      "text/plain": [
       "(1220, 462)"
      ]
     },
     "execution_count": 30,
     "metadata": {},
     "output_type": "execute_result"
    }
   ],
   "source": [
    "doc_word_tfidf.shape"
   ]
  },
  {
   "cell_type": "code",
   "execution_count": 31,
   "id": "ea3ec853",
   "metadata": {},
   "outputs": [],
   "source": [
    "def display_topics(model, feature_names, no_top_words, topic_names=None):\n",
    "    for ix, topic in enumerate(model.components_):\n",
    "        if not topic_names or not topic_names[ix]:\n",
    "            print(\"\\nTopic \", ix)\n",
    "        else:\n",
    "            print(\"\\nTopic: '\",topic_names[ix],\"'\")\n",
    "        print(\", \".join([feature_names[i]\n",
    "                        for i in topic.argsort()[:-no_top_words - 1:-1]]))"
   ]
  },
  {
   "cell_type": "markdown",
   "id": "4161974a",
   "metadata": {},
   "source": [
    "### NMF Model"
   ]
  },
  {
   "cell_type": "code",
   "execution_count": 32,
   "id": "48af85d4",
   "metadata": {},
   "outputs": [],
   "source": [
    "from sklearn.decomposition import NMF, TruncatedSVD"
   ]
  },
  {
   "cell_type": "code",
   "execution_count": 33,
   "id": "0b469706",
   "metadata": {},
   "outputs": [
    {
     "name": "stderr",
     "output_type": "stream",
     "text": [
      "/Users/Elena/Anaconda/anaconda3/envs/metis/lib/python3.8/site-packages/sklearn/decomposition/_nmf.py:312: FutureWarning: The 'init' value, when 'init=None' and n_components is less than n_samples and n_features, will be changed from 'nndsvd' to 'nndsvda' in 1.1 (renaming of 0.26).\n",
      "  warnings.warn((\"The 'init' value, when 'init=None' and \"\n"
     ]
    }
   ],
   "source": [
    "n_topics=10\n",
    "nmf = NMF(n_components=n_topics)\n",
    "doc_topic=nmf.fit_transform(doc_word_tfidf)"
   ]
  },
  {
   "cell_type": "code",
   "execution_count": 34,
   "id": "15764a2b",
   "metadata": {},
   "outputs": [
    {
     "data": {
      "text/html": [
       "<div>\n",
       "<style scoped>\n",
       "    .dataframe tbody tr th:only-of-type {\n",
       "        vertical-align: middle;\n",
       "    }\n",
       "\n",
       "    .dataframe tbody tr th {\n",
       "        vertical-align: top;\n",
       "    }\n",
       "\n",
       "    .dataframe thead th {\n",
       "        text-align: right;\n",
       "    }\n",
       "</style>\n",
       "<table border=\"1\" class=\"dataframe\">\n",
       "  <thead>\n",
       "    <tr style=\"text-align: right;\">\n",
       "      <th></th>\n",
       "      <th>accelerate</th>\n",
       "      <th>accept</th>\n",
       "      <th>according</th>\n",
       "      <th>actual</th>\n",
       "      <th>address</th>\n",
       "      <th>advised</th>\n",
       "      <th>ago</th>\n",
       "      <th>ahead</th>\n",
       "      <th>airdrop</th>\n",
       "      <th>al</th>\n",
       "      <th>...</th>\n",
       "      <th>write</th>\n",
       "      <th>ya</th>\n",
       "      <th>yeah</th>\n",
       "      <th>year</th>\n",
       "      <th>yellow</th>\n",
       "      <th>yes</th>\n",
       "      <th>yet</th>\n",
       "      <th>yield</th>\n",
       "      <th>zero</th>\n",
       "      <th>zone</th>\n",
       "    </tr>\n",
       "  </thead>\n",
       "  <tbody>\n",
       "    <tr>\n",
       "      <th>component_1</th>\n",
       "      <td>0.003</td>\n",
       "      <td>0.005</td>\n",
       "      <td>0.003</td>\n",
       "      <td>0.000</td>\n",
       "      <td>0.004</td>\n",
       "      <td>0.000</td>\n",
       "      <td>0.005</td>\n",
       "      <td>0.001</td>\n",
       "      <td>0.000</td>\n",
       "      <td>0.003</td>\n",
       "      <td>...</td>\n",
       "      <td>0.003</td>\n",
       "      <td>0.003</td>\n",
       "      <td>0.008</td>\n",
       "      <td>0.011</td>\n",
       "      <td>0.006</td>\n",
       "      <td>0.009</td>\n",
       "      <td>0.006</td>\n",
       "      <td>0.004</td>\n",
       "      <td>0.006</td>\n",
       "      <td>0.000</td>\n",
       "    </tr>\n",
       "    <tr>\n",
       "      <th>component_2</th>\n",
       "      <td>0.000</td>\n",
       "      <td>0.000</td>\n",
       "      <td>0.000</td>\n",
       "      <td>0.000</td>\n",
       "      <td>0.000</td>\n",
       "      <td>0.000</td>\n",
       "      <td>0.000</td>\n",
       "      <td>0.000</td>\n",
       "      <td>0.000</td>\n",
       "      <td>0.000</td>\n",
       "      <td>...</td>\n",
       "      <td>0.000</td>\n",
       "      <td>0.000</td>\n",
       "      <td>0.000</td>\n",
       "      <td>0.000</td>\n",
       "      <td>0.000</td>\n",
       "      <td>0.000</td>\n",
       "      <td>0.000</td>\n",
       "      <td>0.000</td>\n",
       "      <td>0.000</td>\n",
       "      <td>0.000</td>\n",
       "    </tr>\n",
       "    <tr>\n",
       "      <th>component_3</th>\n",
       "      <td>0.000</td>\n",
       "      <td>0.000</td>\n",
       "      <td>0.000</td>\n",
       "      <td>0.000</td>\n",
       "      <td>0.000</td>\n",
       "      <td>0.000</td>\n",
       "      <td>0.000</td>\n",
       "      <td>0.000</td>\n",
       "      <td>0.002</td>\n",
       "      <td>0.057</td>\n",
       "      <td>...</td>\n",
       "      <td>0.000</td>\n",
       "      <td>0.065</td>\n",
       "      <td>0.000</td>\n",
       "      <td>0.000</td>\n",
       "      <td>0.000</td>\n",
       "      <td>0.000</td>\n",
       "      <td>0.000</td>\n",
       "      <td>0.000</td>\n",
       "      <td>0.000</td>\n",
       "      <td>0.000</td>\n",
       "    </tr>\n",
       "    <tr>\n",
       "      <th>component_4</th>\n",
       "      <td>0.000</td>\n",
       "      <td>0.000</td>\n",
       "      <td>0.000</td>\n",
       "      <td>0.000</td>\n",
       "      <td>0.000</td>\n",
       "      <td>0.000</td>\n",
       "      <td>0.000</td>\n",
       "      <td>0.015</td>\n",
       "      <td>0.000</td>\n",
       "      <td>0.000</td>\n",
       "      <td>...</td>\n",
       "      <td>0.000</td>\n",
       "      <td>0.000</td>\n",
       "      <td>0.000</td>\n",
       "      <td>0.000</td>\n",
       "      <td>0.000</td>\n",
       "      <td>0.000</td>\n",
       "      <td>0.000</td>\n",
       "      <td>0.000</td>\n",
       "      <td>0.002</td>\n",
       "      <td>0.000</td>\n",
       "    </tr>\n",
       "    <tr>\n",
       "      <th>component_5</th>\n",
       "      <td>0.000</td>\n",
       "      <td>0.001</td>\n",
       "      <td>0.000</td>\n",
       "      <td>0.000</td>\n",
       "      <td>0.000</td>\n",
       "      <td>0.000</td>\n",
       "      <td>0.000</td>\n",
       "      <td>0.027</td>\n",
       "      <td>0.012</td>\n",
       "      <td>0.000</td>\n",
       "      <td>...</td>\n",
       "      <td>0.000</td>\n",
       "      <td>0.000</td>\n",
       "      <td>0.000</td>\n",
       "      <td>0.000</td>\n",
       "      <td>0.000</td>\n",
       "      <td>0.000</td>\n",
       "      <td>0.000</td>\n",
       "      <td>0.000</td>\n",
       "      <td>0.001</td>\n",
       "      <td>0.000</td>\n",
       "    </tr>\n",
       "    <tr>\n",
       "      <th>component_6</th>\n",
       "      <td>0.001</td>\n",
       "      <td>0.000</td>\n",
       "      <td>0.000</td>\n",
       "      <td>0.000</td>\n",
       "      <td>0.000</td>\n",
       "      <td>0.000</td>\n",
       "      <td>0.000</td>\n",
       "      <td>0.000</td>\n",
       "      <td>0.004</td>\n",
       "      <td>0.000</td>\n",
       "      <td>...</td>\n",
       "      <td>0.000</td>\n",
       "      <td>0.000</td>\n",
       "      <td>0.000</td>\n",
       "      <td>0.000</td>\n",
       "      <td>0.000</td>\n",
       "      <td>0.000</td>\n",
       "      <td>0.000</td>\n",
       "      <td>0.000</td>\n",
       "      <td>0.000</td>\n",
       "      <td>0.000</td>\n",
       "    </tr>\n",
       "    <tr>\n",
       "      <th>component_7</th>\n",
       "      <td>0.025</td>\n",
       "      <td>0.000</td>\n",
       "      <td>0.011</td>\n",
       "      <td>0.000</td>\n",
       "      <td>0.015</td>\n",
       "      <td>0.025</td>\n",
       "      <td>0.026</td>\n",
       "      <td>0.000</td>\n",
       "      <td>0.003</td>\n",
       "      <td>0.000</td>\n",
       "      <td>...</td>\n",
       "      <td>0.013</td>\n",
       "      <td>0.000</td>\n",
       "      <td>0.000</td>\n",
       "      <td>0.014</td>\n",
       "      <td>0.003</td>\n",
       "      <td>0.024</td>\n",
       "      <td>0.006</td>\n",
       "      <td>0.000</td>\n",
       "      <td>0.000</td>\n",
       "      <td>0.612</td>\n",
       "    </tr>\n",
       "    <tr>\n",
       "      <th>component_8</th>\n",
       "      <td>0.003</td>\n",
       "      <td>0.005</td>\n",
       "      <td>0.004</td>\n",
       "      <td>0.027</td>\n",
       "      <td>0.006</td>\n",
       "      <td>0.062</td>\n",
       "      <td>0.005</td>\n",
       "      <td>0.002</td>\n",
       "      <td>0.053</td>\n",
       "      <td>0.000</td>\n",
       "      <td>...</td>\n",
       "      <td>0.006</td>\n",
       "      <td>0.000</td>\n",
       "      <td>0.001</td>\n",
       "      <td>0.073</td>\n",
       "      <td>0.009</td>\n",
       "      <td>0.003</td>\n",
       "      <td>0.013</td>\n",
       "      <td>0.009</td>\n",
       "      <td>0.007</td>\n",
       "      <td>0.000</td>\n",
       "    </tr>\n",
       "    <tr>\n",
       "      <th>component_9</th>\n",
       "      <td>0.004</td>\n",
       "      <td>0.000</td>\n",
       "      <td>0.000</td>\n",
       "      <td>0.000</td>\n",
       "      <td>0.000</td>\n",
       "      <td>0.000</td>\n",
       "      <td>0.000</td>\n",
       "      <td>0.000</td>\n",
       "      <td>0.016</td>\n",
       "      <td>0.000</td>\n",
       "      <td>...</td>\n",
       "      <td>0.000</td>\n",
       "      <td>0.000</td>\n",
       "      <td>0.000</td>\n",
       "      <td>0.026</td>\n",
       "      <td>0.000</td>\n",
       "      <td>0.000</td>\n",
       "      <td>0.000</td>\n",
       "      <td>0.000</td>\n",
       "      <td>0.000</td>\n",
       "      <td>0.000</td>\n",
       "    </tr>\n",
       "    <tr>\n",
       "      <th>component_10</th>\n",
       "      <td>0.000</td>\n",
       "      <td>0.000</td>\n",
       "      <td>0.000</td>\n",
       "      <td>0.000</td>\n",
       "      <td>0.000</td>\n",
       "      <td>0.000</td>\n",
       "      <td>0.001</td>\n",
       "      <td>0.002</td>\n",
       "      <td>0.006</td>\n",
       "      <td>0.012</td>\n",
       "      <td>...</td>\n",
       "      <td>0.000</td>\n",
       "      <td>0.049</td>\n",
       "      <td>0.000</td>\n",
       "      <td>0.000</td>\n",
       "      <td>0.000</td>\n",
       "      <td>0.000</td>\n",
       "      <td>0.000</td>\n",
       "      <td>0.000</td>\n",
       "      <td>0.000</td>\n",
       "      <td>0.000</td>\n",
       "    </tr>\n",
       "  </tbody>\n",
       "</table>\n",
       "<p>10 rows × 462 columns</p>\n",
       "</div>"
      ],
      "text/plain": [
       "              accelerate  accept  according  actual  address  advised    ago  \\\n",
       "component_1        0.003   0.005      0.003   0.000    0.004    0.000  0.005   \n",
       "component_2        0.000   0.000      0.000   0.000    0.000    0.000  0.000   \n",
       "component_3        0.000   0.000      0.000   0.000    0.000    0.000  0.000   \n",
       "component_4        0.000   0.000      0.000   0.000    0.000    0.000  0.000   \n",
       "component_5        0.000   0.001      0.000   0.000    0.000    0.000  0.000   \n",
       "component_6        0.001   0.000      0.000   0.000    0.000    0.000  0.000   \n",
       "component_7        0.025   0.000      0.011   0.000    0.015    0.025  0.026   \n",
       "component_8        0.003   0.005      0.004   0.027    0.006    0.062  0.005   \n",
       "component_9        0.004   0.000      0.000   0.000    0.000    0.000  0.000   \n",
       "component_10       0.000   0.000      0.000   0.000    0.000    0.000  0.001   \n",
       "\n",
       "              ahead  airdrop     al  ...  write     ya   yeah   year  yellow  \\\n",
       "component_1   0.001    0.000  0.003  ...  0.003  0.003  0.008  0.011   0.006   \n",
       "component_2   0.000    0.000  0.000  ...  0.000  0.000  0.000  0.000   0.000   \n",
       "component_3   0.000    0.002  0.057  ...  0.000  0.065  0.000  0.000   0.000   \n",
       "component_4   0.015    0.000  0.000  ...  0.000  0.000  0.000  0.000   0.000   \n",
       "component_5   0.027    0.012  0.000  ...  0.000  0.000  0.000  0.000   0.000   \n",
       "component_6   0.000    0.004  0.000  ...  0.000  0.000  0.000  0.000   0.000   \n",
       "component_7   0.000    0.003  0.000  ...  0.013  0.000  0.000  0.014   0.003   \n",
       "component_8   0.002    0.053  0.000  ...  0.006  0.000  0.001  0.073   0.009   \n",
       "component_9   0.000    0.016  0.000  ...  0.000  0.000  0.000  0.026   0.000   \n",
       "component_10  0.002    0.006  0.012  ...  0.000  0.049  0.000  0.000   0.000   \n",
       "\n",
       "                yes    yet  yield   zero   zone  \n",
       "component_1   0.009  0.006  0.004  0.006  0.000  \n",
       "component_2   0.000  0.000  0.000  0.000  0.000  \n",
       "component_3   0.000  0.000  0.000  0.000  0.000  \n",
       "component_4   0.000  0.000  0.000  0.002  0.000  \n",
       "component_5   0.000  0.000  0.000  0.001  0.000  \n",
       "component_6   0.000  0.000  0.000  0.000  0.000  \n",
       "component_7   0.024  0.006  0.000  0.000  0.612  \n",
       "component_8   0.003  0.013  0.009  0.007  0.000  \n",
       "component_9   0.000  0.000  0.000  0.000  0.000  \n",
       "component_10  0.000  0.000  0.000  0.000  0.000  \n",
       "\n",
       "[10 rows x 462 columns]"
      ]
     },
     "execution_count": 34,
     "metadata": {},
     "output_type": "execute_result"
    }
   ],
   "source": [
    "topic_word = pd.DataFrame(nmf.components_.round(3),\n",
    "             index = [\"component_1\",\"component_2\",\"component_3\",\"component_4\",\"component_5\",\n",
    "                     \"component_6\",\"component_7\",\"component_8\",\"component_9\",\"component_10\"],\n",
    "             columns = cv_tfidf.get_feature_names())\n",
    "topic_word"
   ]
  },
  {
   "cell_type": "code",
   "execution_count": 35,
   "id": "40bf1b0f",
   "metadata": {
    "scrolled": false
   },
   "outputs": [
    {
     "name": "stdout",
     "output_type": "stream",
     "text": [
      "\n",
      "Topic  0\n",
      "bitcoin, bu, ethereum, think, mining, money, future, ha, go, en\n",
      "\n",
      "Topic  1\n",
      "daily, web, monthly, weekly, name, stake, code, game, top, market\n",
      "\n",
      "Topic  2\n",
      "de, en, la, para, un, binance, follow, plus, sur, son\n",
      "\n",
      "Topic  3\n",
      "gift, twitter, deal, doge, present, space, sold, raise, plus, follow\n",
      "\n",
      "Topic  4\n",
      "check, amazing, rare, nft, free, launch, sure, let, go, sat\n",
      "\n",
      "Topic  5\n",
      "network, pocket, shake, infrastructure, release, press, ethereum, follow, token, buy\n",
      "\n",
      "Topic  6\n",
      "buy, wa, around, thing, target, potential, zone, double, bottom, try\n",
      "\n",
      "Topic  7\n",
      "price, current, market, change, ha, volume, binance, last, new, time\n",
      "\n",
      "Topic  8\n",
      "nft, art, alien, available, ethereum, artist, launch, valeur, binance, sol\n",
      "\n",
      "Topic  9\n",
      "el, un, con, la, lo, beach, trade, trading, persona, latest\n"
     ]
    }
   ],
   "source": [
    "display_topics(nmf, cv_tfidf.get_feature_names(), 10)"
   ]
  },
  {
   "cell_type": "code",
   "execution_count": 36,
   "id": "4fb3f78a",
   "metadata": {},
   "outputs": [],
   "source": [
    "## among all the topics, topic 9 contains a lot of unexplainanle words\n",
    "## We need to inspect each topic to better under the content"
   ]
  },
  {
   "cell_type": "code",
   "execution_count": 37,
   "id": "44a3d2ab",
   "metadata": {},
   "outputs": [
    {
     "name": "stdout",
     "output_type": "stream",
     "text": [
      "[0.09932926 0.         0.         0.         0.         0.\n",
      " 0.         0.01577387 0.         0.        ]\n"
     ]
    }
   ],
   "source": [
    "print(doc_topic[0])"
   ]
  },
  {
   "cell_type": "code",
   "execution_count": 38,
   "id": "9e5474f2",
   "metadata": {},
   "outputs": [
    {
     "data": {
      "text/plain": [
       "'running against congressman brad who think bitcoin is the threat to upward mobility when it is our'"
      ]
     },
     "execution_count": 38,
     "metadata": {},
     "output_type": "execute_result"
    }
   ],
   "source": [
    "df_bit.text.iloc[0]"
   ]
  },
  {
   "cell_type": "code",
   "execution_count": 39,
   "id": "0652bca8",
   "metadata": {
    "scrolled": true
   },
   "outputs": [
    {
     "data": {
      "text/plain": [
       "0    0\n",
       "1    0\n",
       "2    6\n",
       "3    0\n",
       "4    0\n",
       "5    2\n",
       "6    8\n",
       "7    0\n",
       "8    0\n",
       "9    0\n",
       "Name: argmax_topic, dtype: int64"
      ]
     },
     "execution_count": 39,
     "metadata": {},
     "output_type": "execute_result"
    }
   ],
   "source": [
    "df_bit['argmax_topic']=np.argmax(doc_topic, axis=1)\n",
    "df_bit.argmax_topic.head(10)"
   ]
  },
  {
   "cell_type": "code",
   "execution_count": 40,
   "id": "043d3ec8",
   "metadata": {},
   "outputs": [
    {
     "data": {
      "text/plain": [
       "0    462\n",
       "7    309\n",
       "1    112\n",
       "2     87\n",
       "6     78\n",
       "9     44\n",
       "8     38\n",
       "3     35\n",
       "4     28\n",
       "5     27\n",
       "Name: argmax_topic, dtype: int64"
      ]
     },
     "execution_count": 40,
     "metadata": {},
     "output_type": "execute_result"
    }
   ],
   "source": [
    "pd.Series(df_bit.argmax_topic).value_counts()"
   ]
  },
  {
   "cell_type": "code",
   "execution_count": 41,
   "id": "b91e4b85",
   "metadata": {},
   "outputs": [],
   "source": [
    "###########\n",
    "# Topic 0 #  ### General fans of Bitcoin\n",
    "###########"
   ]
  },
  {
   "cell_type": "code",
   "execution_count": 42,
   "id": "2b0ffaea",
   "metadata": {},
   "outputs": [
    {
     "data": {
      "text/html": [
       "<div>\n",
       "<style scoped>\n",
       "    .dataframe tbody tr th:only-of-type {\n",
       "        vertical-align: middle;\n",
       "    }\n",
       "\n",
       "    .dataframe tbody tr th {\n",
       "        vertical-align: top;\n",
       "    }\n",
       "\n",
       "    .dataframe thead th {\n",
       "        text-align: right;\n",
       "    }\n",
       "</style>\n",
       "<table border=\"1\" class=\"dataframe\">\n",
       "  <thead>\n",
       "    <tr style=\"text-align: right;\">\n",
       "      <th></th>\n",
       "      <th>Unnamed: 0</th>\n",
       "      <th>id</th>\n",
       "      <th>text</th>\n",
       "      <th>datetime</th>\n",
       "      <th>Location</th>\n",
       "      <th>hashtag</th>\n",
       "      <th>argmax_topic</th>\n",
       "    </tr>\n",
       "  </thead>\n",
       "  <tbody>\n",
       "    <tr>\n",
       "      <th>0</th>\n",
       "      <td>0</td>\n",
       "      <td>1482837567175286790</td>\n",
       "      <td>running against congressman brad who think bit...</td>\n",
       "      <td>2022-01-16 22:10:00</td>\n",
       "      <td>NaN</td>\n",
       "      <td>[Bitcoin]</td>\n",
       "      <td>0</td>\n",
       "    </tr>\n",
       "    <tr>\n",
       "      <th>1</th>\n",
       "      <td>1</td>\n",
       "      <td>1482837566395019267</td>\n",
       "      <td>earn when you sign up at bitcoin mining you al...</td>\n",
       "      <td>2022-01-16 22:10:00</td>\n",
       "      <td>NaN</td>\n",
       "      <td>[]</td>\n",
       "      <td>0</td>\n",
       "    </tr>\n",
       "    <tr>\n",
       "      <th>2</th>\n",
       "      <td>2</td>\n",
       "      <td>1482837566143479814</td>\n",
       "      <td>our research on we dig it look more solid i ad...</td>\n",
       "      <td>2022-01-16 22:10:00</td>\n",
       "      <td>NaN</td>\n",
       "      <td>[]</td>\n",
       "      <td>6</td>\n",
       "    </tr>\n",
       "    <tr>\n",
       "      <th>3</th>\n",
       "      <td>3</td>\n",
       "      <td>1482837566126800896</td>\n",
       "      <td>bitcoin</td>\n",
       "      <td>2022-01-16 22:10:00</td>\n",
       "      <td>NaN</td>\n",
       "      <td>[]</td>\n",
       "      <td>0</td>\n",
       "    </tr>\n",
       "    <tr>\n",
       "      <th>4</th>\n",
       "      <td>4</td>\n",
       "      <td>1482837565644410886</td>\n",
       "      <td>you stop bitcoin</td>\n",
       "      <td>2022-01-16 22:10:00</td>\n",
       "      <td>NaN</td>\n",
       "      <td>[Bitcoin]</td>\n",
       "      <td>0</td>\n",
       "    </tr>\n",
       "    <tr>\n",
       "      <th>...</th>\n",
       "      <td>...</td>\n",
       "      <td>...</td>\n",
       "      <td>...</td>\n",
       "      <td>...</td>\n",
       "      <td>...</td>\n",
       "      <td>...</td>\n",
       "      <td>...</td>\n",
       "    </tr>\n",
       "    <tr>\n",
       "      <th>1312</th>\n",
       "      <td>1995</td>\n",
       "      <td>1482835076304052224</td>\n",
       "      <td>now on binance bitcoin</td>\n",
       "      <td>2022-01-16 22:00:06</td>\n",
       "      <td>NaN</td>\n",
       "      <td>[CAPTAINSHIBARROW, CoinMarketCap, SHIBARROW, B...</td>\n",
       "      <td>0</td>\n",
       "    </tr>\n",
       "    <tr>\n",
       "      <th>1313</th>\n",
       "      <td>1996</td>\n",
       "      <td>1482835075691692033</td>\n",
       "      <td>bitcoin is green energy by</td>\n",
       "      <td>2022-01-16 22:00:06</td>\n",
       "      <td>NaN</td>\n",
       "      <td>[]</td>\n",
       "      <td>0</td>\n",
       "    </tr>\n",
       "    <tr>\n",
       "      <th>1314</th>\n",
       "      <td>1997</td>\n",
       "      <td>1482835075221884935</td>\n",
       "      <td>bitcoin every last fee</td>\n",
       "      <td>2022-01-16 22:00:06</td>\n",
       "      <td>NaN</td>\n",
       "      <td>[Bitcoin]</td>\n",
       "      <td>0</td>\n",
       "    </tr>\n",
       "    <tr>\n",
       "      <th>1315</th>\n",
       "      <td>1998</td>\n",
       "      <td>1482835074685054983</td>\n",
       "      <td>sat hour sat sat fee sat transaction</td>\n",
       "      <td>2022-01-16 22:00:06</td>\n",
       "      <td>NaN</td>\n",
       "      <td>[]</td>\n",
       "      <td>4</td>\n",
       "    </tr>\n",
       "    <tr>\n",
       "      <th>1316</th>\n",
       "      <td>1999</td>\n",
       "      <td>1482835074592743427</td>\n",
       "      <td>how bitcoin can transform country bitcoin maga...</td>\n",
       "      <td>2022-01-16 22:00:06</td>\n",
       "      <td>NaN</td>\n",
       "      <td>[]</td>\n",
       "      <td>0</td>\n",
       "    </tr>\n",
       "  </tbody>\n",
       "</table>\n",
       "<p>1220 rows × 7 columns</p>\n",
       "</div>"
      ],
      "text/plain": [
       "      Unnamed: 0                   id  \\\n",
       "0              0  1482837567175286790   \n",
       "1              1  1482837566395019267   \n",
       "2              2  1482837566143479814   \n",
       "3              3  1482837566126800896   \n",
       "4              4  1482837565644410886   \n",
       "...          ...                  ...   \n",
       "1312        1995  1482835076304052224   \n",
       "1313        1996  1482835075691692033   \n",
       "1314        1997  1482835075221884935   \n",
       "1315        1998  1482835074685054983   \n",
       "1316        1999  1482835074592743427   \n",
       "\n",
       "                                                   text             datetime  \\\n",
       "0     running against congressman brad who think bit...  2022-01-16 22:10:00   \n",
       "1     earn when you sign up at bitcoin mining you al...  2022-01-16 22:10:00   \n",
       "2     our research on we dig it look more solid i ad...  2022-01-16 22:10:00   \n",
       "3                                               bitcoin  2022-01-16 22:10:00   \n",
       "4                                      you stop bitcoin  2022-01-16 22:10:00   \n",
       "...                                                 ...                  ...   \n",
       "1312                             now on binance bitcoin  2022-01-16 22:00:06   \n",
       "1313                         bitcoin is green energy by  2022-01-16 22:00:06   \n",
       "1314                             bitcoin every last fee  2022-01-16 22:00:06   \n",
       "1315               sat hour sat sat fee sat transaction  2022-01-16 22:00:06   \n",
       "1316  how bitcoin can transform country bitcoin maga...  2022-01-16 22:00:06   \n",
       "\n",
       "     Location                                            hashtag  argmax_topic  \n",
       "0         NaN                                          [Bitcoin]             0  \n",
       "1         NaN                                                 []             0  \n",
       "2         NaN                                                 []             6  \n",
       "3         NaN                                                 []             0  \n",
       "4         NaN                                          [Bitcoin]             0  \n",
       "...       ...                                                ...           ...  \n",
       "1312      NaN  [CAPTAINSHIBARROW, CoinMarketCap, SHIBARROW, B...             0  \n",
       "1313      NaN                                                 []             0  \n",
       "1314      NaN                                          [Bitcoin]             0  \n",
       "1315      NaN                                                 []             4  \n",
       "1316      NaN                                                 []             0  \n",
       "\n",
       "[1220 rows x 7 columns]"
      ]
     },
     "execution_count": 42,
     "metadata": {},
     "output_type": "execute_result"
    }
   ],
   "source": [
    "df_bit"
   ]
  },
  {
   "cell_type": "code",
   "execution_count": 110,
   "id": "7587c2a7",
   "metadata": {
    "scrolled": true
   },
   "outputs": [
    {
     "data": {
      "text/plain": [
       "81                a we can see is just beginning bitcoin\n",
       "84                   good one is this related to bitcoin\n",
       "86                                        gem ne bitcoin\n",
       "89                                               bitcoin\n",
       "93     excited to announce taking part of my salary i...\n",
       "96     love how so many are still so bearish on bitco...\n",
       "100                                          dev bitcoin\n",
       "104                              bitcoin freedom dioxide\n",
       "107               bitcoin gold and inflation with german\n",
       "108                           bitcoin will make it worse\n",
       "109                                        since bitcoin\n",
       "111    retail investor are bitcoin while whale are se...\n",
       "112                       strike wont support bitcoin in\n",
       "117           affiliate travel tourism marketing bitcoin\n",
       "118    same here the long term picture is unchanged o...\n",
       "123    or to turn in your friend who hold bitcoin and...\n",
       "126                           bitcoin dip i feel no pain\n",
       "127    need help calculating and your bitcoin tax sim...\n",
       "129                                                  b a\n",
       "132    hold your key run a node adopt responsibility ...\n",
       "Name: text, dtype: object"
      ]
     },
     "execution_count": 110,
     "metadata": {},
     "output_type": "execute_result"
    }
   ],
   "source": [
    "df_bit_0=df_bit[df_bit.argmax_topic==0]\n",
    "df_bit_0.text.iloc[40:60]"
   ]
  },
  {
   "cell_type": "code",
   "execution_count": 111,
   "id": "a947e2dd",
   "metadata": {
    "scrolled": true
   },
   "outputs": [
    {
     "data": {
      "text/plain": [
       "\"b'RT @wmiddelkoop: Bitcoin, Gold and Inflation with/mit Willem Middelkoop (English/German) \\\\n\\\\nBy @marcfriedrich7 \\\\n\\\\nhttps://t.co/98qWEMI42q'\""
      ]
     },
     "execution_count": 111,
     "metadata": {},
     "output_type": "execute_result"
    }
   ],
   "source": [
    "df_bit_orig.text.iloc[107]"
   ]
  },
  {
   "cell_type": "code",
   "execution_count": 45,
   "id": "920d93f4",
   "metadata": {},
   "outputs": [
    {
     "data": {
      "text/plain": [
       "\"b'@lewaf @theBTCouple This account stays as it is, the second account will focus more on Bitcoin news, how-to videos\\\\xe2\\\\x80\\\\xa6 https://t.co/vJCKfhoWQI'\""
      ]
     },
     "execution_count": 45,
     "metadata": {},
     "output_type": "execute_result"
    }
   ],
   "source": [
    "df_bit_orig.text.iloc[7]"
   ]
  },
  {
   "cell_type": "code",
   "execution_count": 107,
   "id": "ca7dd63b",
   "metadata": {},
   "outputs": [
    {
     "data": {
      "text/plain": [
       "\"b'RT @jlrealww: Really Max?  Like mining #bitcoin doesn\\\\xe2\\\\x80\\\\x99t cause #environmentalpollution?  #bitcoin gonna fall hard in the coming weeks.  Sad\\\\xe2\\\\x80\\\\xa6'\""
      ]
     },
     "execution_count": 107,
     "metadata": {},
     "output_type": "execute_result"
    }
   ],
   "source": [
    "df_bit_orig.text.iloc[1307]"
   ]
  },
  {
   "cell_type": "code",
   "execution_count": 47,
   "id": "0992d953",
   "metadata": {
    "scrolled": true
   },
   "outputs": [
    {
     "data": {
      "text/plain": [
       "\"b'@Antre___ L. Bitcoin and Ethereum aren\\\\xe2\\\\x80\\\\x99t the only crypto. That\\\\xe2\\\\x80\\\\x99s like saying the U.S. is the only country.\\\\n\\\\nGo be a\\\\xe2\\\\x80\\\\xa6 https://t.co/gYte400GzX'\""
      ]
     },
     "execution_count": 47,
     "metadata": {},
     "output_type": "execute_result"
    }
   ],
   "source": [
    "df_bit_orig.text.iloc[1309]"
   ]
  },
  {
   "cell_type": "code",
   "execution_count": 48,
   "id": "ff8680b6",
   "metadata": {},
   "outputs": [],
   "source": [
    "###########\n",
    "# Topic 1 #  ### Robot accounts to promote a certain website or service\n",
    "###########"
   ]
  },
  {
   "cell_type": "code",
   "execution_count": 49,
   "id": "1cabe9c1",
   "metadata": {},
   "outputs": [
    {
     "data": {
      "text/plain": [
       "329    b t it daily weekly monthly web own\n",
       "337    b t it daily weekly monthly web own\n",
       "352    b t it daily weekly monthly web own\n",
       "370    b t it daily weekly monthly web own\n",
       "377    b t it daily weekly monthly web own\n",
       "389    b t it daily weekly monthly web own\n",
       "401    b t it daily weekly monthly web own\n",
       "408    bitcoin up to by game daily code to\n",
       "412    b t it daily weekly monthly web own\n",
       "423    b t it daily weekly monthly web own\n",
       "Name: text, dtype: object"
      ]
     },
     "execution_count": 49,
     "metadata": {},
     "output_type": "execute_result"
    }
   ],
   "source": [
    "df_bit_1=df_bit[df_bit.argmax_topic==1]\n",
    "df_bit_1.text.iloc[10:20]"
   ]
  },
  {
   "cell_type": "code",
   "execution_count": 50,
   "id": "50638719",
   "metadata": {},
   "outputs": [
    {
     "data": {
      "text/plain": [
       "'b\"@Terri_Bsparrow #bluesparrow isn\\'t it amazing?\\\\n\\\\xe2\\\\x80\\\\xa2  Daily &amp; weekly &amp; monthly draw\\\\n\\\\xe2\\\\x80\\\\xa2  NFT\\\\n\\\\xe2\\\\x80\\\\xa2  WEB 3\\\\n\\\\xe2\\\\x80\\\\xa2  OWN CEX\\\\n\\\\xe2\\\\x80\\\\xa2  NAME\\\\xe2\\\\x80\\\\xa6 https://t.co/pp5ImzyIWY\"'"
      ]
     },
     "execution_count": 50,
     "metadata": {},
     "output_type": "execute_result"
    }
   ],
   "source": [
    "df_bit_orig.text.iloc[329]"
   ]
  },
  {
   "cell_type": "code",
   "execution_count": 51,
   "id": "005f644d",
   "metadata": {},
   "outputs": [
    {
     "data": {
      "text/plain": [
       "Unnamed: 0                                                  612\n",
       "id                                          1482836761994747908\n",
       "text          b\"@Terri_Bsparrow #bluesparrow isn't it amazin...\n",
       "datetime                                    2022-01-16 22:06:48\n",
       "Location                                                    NaN\n",
       "Name: 423, dtype: object"
      ]
     },
     "execution_count": 51,
     "metadata": {},
     "output_type": "execute_result"
    }
   ],
   "source": [
    "df_bit_orig.iloc[423]"
   ]
  },
  {
   "cell_type": "code",
   "execution_count": 52,
   "id": "1847e33e",
   "metadata": {},
   "outputs": [
    {
     "data": {
      "text/plain": [
       "1150    b t it daily weekly monthly web own name it\n",
       "1158    b t it daily weekly monthly web own name it\n",
       "1167    b t it daily weekly monthly web own name it\n",
       "1175    b t it daily weekly monthly web own name it\n",
       "1183    b t it daily weekly monthly web own name it\n",
       "1188    b t it daily weekly monthly web own name it\n",
       "1209    b t it daily weekly monthly web own name it\n",
       "1220    b t it daily weekly monthly web own name it\n",
       "1232    b t it daily weekly monthly web own name it\n",
       "1242    b t it daily weekly monthly web own name it\n",
       "Name: text, dtype: object"
      ]
     },
     "execution_count": 52,
     "metadata": {},
     "output_type": "execute_result"
    }
   ],
   "source": [
    "df_bit_1.text.tail(10)"
   ]
  },
  {
   "cell_type": "code",
   "execution_count": 53,
   "id": "481e6461",
   "metadata": {},
   "outputs": [
    {
     "data": {
      "text/plain": [
       "Unnamed: 0                                                 1784\n",
       "id                                          1482835289294913538\n",
       "text          b\"@kucoincom #bluesparrow isn't it amazing?\\n\\...\n",
       "datetime                                    2022-01-16 22:00:57\n",
       "Location                                                    NaN\n",
       "Name: 1167, dtype: object"
      ]
     },
     "execution_count": 53,
     "metadata": {},
     "output_type": "execute_result"
    }
   ],
   "source": [
    "df_bit_orig.iloc[1167]"
   ]
  },
  {
   "cell_type": "code",
   "execution_count": 54,
   "id": "dd429796",
   "metadata": {},
   "outputs": [
    {
     "data": {
      "text/plain": [
       "\"b'RT @Airdropnotecom: #Bitcoin #crypto #Airdrop\\\\n\\\\xf0\\\\x9f\\\\x92\\\\xb0Earn Up to $100 daily\\\\xf0\\\\x9f\\\\x92\\\\xb0\\\\n\\\\nEarn crypto by playing games &amp; completing daily tasks\\\\n\\\\nUse code to g\\\\xe2\\\\x80\\\\xa6'\""
      ]
     },
     "execution_count": 54,
     "metadata": {},
     "output_type": "execute_result"
    }
   ],
   "source": [
    "df_bit_orig.text.iloc[408]"
   ]
  },
  {
   "cell_type": "code",
   "execution_count": 55,
   "id": "5c1ca2d4",
   "metadata": {},
   "outputs": [],
   "source": [
    "###########\n",
    "# Topic 2 #  #### Hispanic/French bitcoin fans\n",
    "###########"
   ]
  },
  {
   "cell_type": "code",
   "execution_count": 56,
   "id": "44926064",
   "metadata": {},
   "outputs": [
    {
     "data": {
      "text/plain": [
       "5           doge y de token en binance el exchange de\n",
       "23                                  en bitcoin follow\n",
       "32          doge y de token en binance el exchange de\n",
       "57                           se de a gas natural o de\n",
       "72                    de ce nft ape valeur de bitcoin\n",
       "82     excellent plus de la sur front sac inscription\n",
       "91                          son de de bitcoin y en al\n",
       "102                           el de la en bajada idea\n",
       "113               plus gros de twitter a follow t a s\n",
       "125                           b gar on sur en bitcoin\n",
       "153                     no de ha a la y a la do de la\n",
       "155                                bitcoin lo en la y\n",
       "158                               valor de en dale me\n",
       "165                  al con bitcoin rotundo de idea y\n",
       "166                                        la bitcoin\n",
       "168                                                da\n",
       "186                el cruce de la de bitcoin a con la\n",
       "219                            x pour giveaway follow\n",
       "242                          critique pour la bitcoin\n",
       "284                          ultra a la de ton pile a\n",
       "Name: text, dtype: object"
      ]
     },
     "execution_count": 56,
     "metadata": {},
     "output_type": "execute_result"
    }
   ],
   "source": [
    "df_bit_2=df_bit[df_bit.argmax_topic==2]\n",
    "df_bit_2.text.iloc[0:20]"
   ]
  },
  {
   "cell_type": "code",
   "execution_count": 57,
   "id": "eedf6efd",
   "metadata": {},
   "outputs": [
    {
     "data": {
      "text/plain": [
       "\"b'RT @TxConcours: 1000\\\\xe2\\\\x82\\\\xac en BITCOIN ou paypal\\\\n\\\\npour participer : RT + follow moi \\\\n\\\\ntirage dans 4jours'\""
      ]
     },
     "execution_count": 57,
     "metadata": {},
     "output_type": "execute_result"
    }
   ],
   "source": [
    "df_bit_orig.text.iloc[23]"
   ]
  },
  {
   "cell_type": "code",
   "execution_count": 112,
   "id": "1e1044ad",
   "metadata": {},
   "outputs": [
    {
     "data": {
      "text/plain": [
       "\"b'RT @healthy_pockets: Llega el cruce de la muerte  de Bitcoin | \\\\xc2\\\\xbfQu\\\\xc3\\\\xa9 va a pasar con las Criptomonedas?\\\\n\\\\nhttps://t.co/IWSQXdclNe\\\\n\\\\n#Bitcoin #B\\\\xe2\\\\x80\\\\xa6'\""
      ]
     },
     "execution_count": 112,
     "metadata": {},
     "output_type": "execute_result"
    }
   ],
   "source": [
    "df_bit_orig.text.iloc[186]"
   ]
  },
  {
   "cell_type": "code",
   "execution_count": 59,
   "id": "3f48b90d",
   "metadata": {},
   "outputs": [
    {
     "data": {
      "text/plain": [
       "\"b'RT @prestigefrench: ALERTE #CONCOURS ULTRA RAPIDE \\\\xf0\\\\x9f\\\\x9a\\\\xa8\\\\n\\\\n50$ a gagner dans la crypto de ton choix TIRAGE DANS 24H PILE ! \\\\xe2\\\\x9c\\\\x85\\\\n\\\\nTu as juste \\\\xc3\\\\xa0 RT +\\\\xe2\\\\x80\\\\xa6'\""
      ]
     },
     "execution_count": 59,
     "metadata": {},
     "output_type": "execute_result"
    }
   ],
   "source": [
    "df_bit_orig.text.iloc[284]"
   ]
  },
  {
   "cell_type": "code",
   "execution_count": 60,
   "id": "abe5a400",
   "metadata": {},
   "outputs": [],
   "source": [
    "###########\n",
    "# Topic 3 #  #### Twitter giveaway: bitcoin platform promotion\n",
    "###########"
   ]
  },
  {
   "cell_type": "code",
   "execution_count": 61,
   "id": "1ae646f6",
   "metadata": {},
   "outputs": [
    {
     "data": {
      "text/plain": [
       "19      this is my gift to you that support me every d...\n",
       "20      gift to pope sold a nft to raise fund for the ...\n",
       "56                                   bu her ethereum doge\n",
       "119                                          twitter gift\n",
       "120                                twitter doge deal gift\n",
       "122                                          twitter gift\n",
       "124                             twitter bitcoin deal gift\n",
       "164     and doge have no correlation other than they a...\n",
       "233                             present twitter deal gift\n",
       "234                present bitcoin twitter doge deal gift\n",
       "355     bumpy ride ahead for bitcoin this week might w...\n",
       "383                                   twitter bitcoin tip\n",
       "427                                     twitter gift gift\n",
       "508                                          twitter gift\n",
       "510                                          twitter gift\n",
       "511                             twitter bitcoin deal gift\n",
       "512                                twitter doge deal gift\n",
       "548     but present value of future cash flow at whate...\n",
       "600     free bitcoin core dev from twitter suspension ...\n",
       "763                present bitcoin twitter doge deal gift\n",
       "764                             present twitter deal gift\n",
       "892                                          twitter gift\n",
       "893                                                  deal\n",
       "894                                          twitter gift\n",
       "895                                twitter doge deal gift\n",
       "897                             twitter bitcoin deal gift\n",
       "1037    join u live on twitter space tomorrow on will ...\n",
       "1067    b next gen ha on bitcoin via miss this twitter...\n",
       "1269                            present twitter deal gift\n",
       "1274               love earn money affiliate bitcoin deal\n",
       "Name: text, dtype: object"
      ]
     },
     "execution_count": 61,
     "metadata": {},
     "output_type": "execute_result"
    }
   ],
   "source": [
    "df_bit_3=df_bit[df_bit.argmax_topic==3]\n",
    "df_bit_3.text.iloc[0:30]"
   ]
  },
  {
   "cell_type": "code",
   "execution_count": 62,
   "id": "a895607b",
   "metadata": {},
   "outputs": [
    {
     "data": {
      "text/plain": [
       "\"b'RT @BTCTN: Gift to Pope Francis sold as #NFT to raise funds for the women and children of #Afghanistan. https://t.co/TZF0uzkp5m'\""
      ]
     },
     "execution_count": 62,
     "metadata": {},
     "output_type": "execute_result"
    }
   ],
   "source": [
    "df_bit_orig.text.iloc[20]"
   ]
  },
  {
   "cell_type": "code",
   "execution_count": 63,
   "id": "9a7eac52",
   "metadata": {},
   "outputs": [
    {
     "data": {
      "text/plain": [
       "\"b'RT @fx__Nicole: Bumpy ride ahead for Bitcoin this week,might want to delete your Twitter for a while'\""
      ]
     },
     "execution_count": 63,
     "metadata": {},
     "output_type": "execute_result"
    }
   ],
   "source": [
    "df_bit_orig.text.iloc[355]"
   ]
  },
  {
   "cell_type": "code",
   "execution_count": 64,
   "id": "4eaec815",
   "metadata": {},
   "outputs": [
    {
     "data": {
      "text/plain": [
       "\"b'RT @diatomdao: Join us live on Twitter spaces tomorrow on January 17th, 2:30pm CST. \\\\n\\\\nWe will be hosting an AMA with the famed billionaire\\\\xe2\\\\x80\\\\xa6'\""
      ]
     },
     "execution_count": 64,
     "metadata": {},
     "output_type": "execute_result"
    }
   ],
   "source": [
    "df_bit_orig.text.iloc[1037]"
   ]
  },
  {
   "cell_type": "code",
   "execution_count": 65,
   "id": "1bbab553",
   "metadata": {},
   "outputs": [],
   "source": [
    "###########\n",
    "# Topic 4 #  ### NFT\n",
    "###########"
   ]
  },
  {
   "cell_type": "code",
   "execution_count": 66,
   "id": "7ea72f5a",
   "metadata": {
    "scrolled": true
   },
   "outputs": [
    {
     "data": {
      "text/plain": [
       "99      b i am my free lightning sat from amazing fauc...\n",
       "130     won over bitcoin in the poll that wa made by i...\n",
       "224     today we hit and crossed some amazing now in m...\n",
       "316                                                   let\n",
       "333     fam that have their make sure to check your wa...\n",
       "387                      check this amazing nft it a rare\n",
       "405                      check this amazing nft it a rare\n",
       "407                                    amazing let go rox\n",
       "417                      check this amazing nft it a rare\n",
       "439                      check this amazing nft it a rare\n",
       "445                      check this amazing nft it a rare\n",
       "457                      check this amazing nft it a rare\n",
       "487     be sure to check out our token project which w...\n",
       "539                      check this amazing nft it a rare\n",
       "558     today we hit and crossed some amazing now in m...\n",
       "659                              free ea tested with over\n",
       "886                      check this amazing nft it a rare\n",
       "986                      check this amazing nft it a rare\n",
       "1005                                        r sat sat sat\n",
       "1006                     check this amazing nft it a rare\n",
       "Name: text, dtype: object"
      ]
     },
     "execution_count": 66,
     "metadata": {},
     "output_type": "execute_result"
    }
   ],
   "source": [
    "df_bit_4=df_bit[df_bit.argmax_topic==4]\n",
    "df_bit_4.text.iloc[0:20]"
   ]
  },
  {
   "cell_type": "code",
   "execution_count": 67,
   "id": "34f27d0d",
   "metadata": {},
   "outputs": [
    {
     "data": {
      "text/plain": [
       "'b\"I am claiming my free Lightning sats from @_bitcoiner\\'s amazing faucet! \\\\xe2\\\\x9a\\\\xa1\\\\n\\\\n@boltcoiner unlock me fdf78f48-a156-4730\\\\xe2\\\\x80\\\\xa6 https://t.co/Sm1i4WKXmg\"'"
      ]
     },
     "execution_count": 67,
     "metadata": {},
     "output_type": "execute_result"
    }
   ],
   "source": [
    "df_bit_orig.text.iloc[99]"
   ]
  },
  {
   "cell_type": "code",
   "execution_count": 68,
   "id": "b16f54f8",
   "metadata": {},
   "outputs": [
    {
     "data": {
      "text/plain": [
       "\"b'@emre__art Check this amazing Ape\\\\xf0\\\\x9f\\\\xa6\\\\x8d NFT \\\\xf0\\\\x9f\\\\xa6\\\\x8d\\\\xf0\\\\x9f\\\\xa6\\\\x8d Its a Rare Nft..\\\\xf0\\\\x9f\\\\xa6\\\\x8d\\\\xf0\\\\x9f\\\\xa6\\\\x8d\\\\nhttps://t.co/fIMVmDiazX \\\\n#nft #nftart #nftartist\\\\xe2\\\\x80\\\\xa6 https://t.co/ArEppQkRan'\""
      ]
     },
     "execution_count": 68,
     "metadata": {},
     "output_type": "execute_result"
    }
   ],
   "source": [
    "df_bit_orig.text.iloc[417]"
   ]
  },
  {
   "cell_type": "code",
   "execution_count": 69,
   "id": "bbc6415c",
   "metadata": {},
   "outputs": [
    {
     "data": {
      "text/plain": [
       "\"b'Earlier today we hit and crossed some amazing milestones!\\\\n\\\\nP2P now in massive adoption!\\\\nContinue to stay ahead of t\\\\xe2\\\\x80\\\\xa6 https://t.co/qNPvaj83Wb'\""
      ]
     },
     "execution_count": 69,
     "metadata": {},
     "output_type": "execute_result"
    }
   ],
   "source": [
    "df_bit_orig.text.iloc[558]"
   ]
  },
  {
   "cell_type": "code",
   "execution_count": 70,
   "id": "fef4d335",
   "metadata": {},
   "outputs": [],
   "source": [
    "###########\n",
    "# Topic 5 #   ###Mining/New Crypto\n",
    "###########"
   ]
  },
  {
   "cell_type": "code",
   "execution_count": 71,
   "id": "8cbe4856",
   "metadata": {
    "scrolled": true
   },
   "outputs": [
    {
     "data": {
      "text/plain": [
       "55     flux global network hit a new again in the las...\n",
       "77     for pocket network shake up infrastructure of the\n",
       "139    pocket network for shake up infrastructure bit...\n",
       "268    anon nail bitcoin in early until the network e...\n",
       "274    after the value of pi network will continue to...\n",
       "281    why more bitcoin on ethereum than on the light...\n",
       "390    the current financial system corruption and lo...\n",
       "411    for pocket network shake up infrastructure of ...\n",
       "432    for pocket network shake up infrastructure of the\n",
       "506    for pocket network shake up infrastructure of the\n",
       "582    for pocket network shake up infrastructure of the\n",
       "585    for pocket network shake up infrastructure of the\n",
       "587    for pocket network shake up infrastructure of the\n",
       "588    for pocket network shake up infrastructure of the\n",
       "589    for pocket network shake up infrastructure of the\n",
       "590    for pocket network shake up infrastructure of the\n",
       "649    follow me for more news for pocket network sha...\n",
       "682    for pocket network shake up infrastructure of the\n",
       "695                                      bitcoin network\n",
       "701                         legion network token lithium\n",
       "Name: text, dtype: object"
      ]
     },
     "execution_count": 71,
     "metadata": {},
     "output_type": "execute_result"
    }
   ],
   "source": [
    "df_bit_5=df_bit[df_bit.argmax_topic==5]\n",
    "df_bit_5.text.iloc[0:20]"
   ]
  },
  {
   "cell_type": "code",
   "execution_count": 72,
   "id": "8004f35e",
   "metadata": {},
   "outputs": [
    {
     "data": {
      "text/plain": [
       "\"b'RT @RunOnFlux: $FLUX global network #hashrate hits a new ATH again. In the last 30 days, the nethash has increased by almost 120%. #Miners\\\\xe2\\\\x80\\\\xa6'\""
      ]
     },
     "execution_count": 72,
     "metadata": {},
     "output_type": "execute_result"
    }
   ],
   "source": [
    "df_bit_orig.text.iloc[55]"
   ]
  },
  {
   "cell_type": "code",
   "execution_count": 73,
   "id": "1fae560a",
   "metadata": {},
   "outputs": [
    {
     "data": {
      "text/plain": [
       "\"b'RT @mstor168: After KYC, the value of Pi network will continue to appreciate with the increase of ecology, and the mining rate will decreas\\\\xe2\\\\x80\\\\xa6'\""
      ]
     },
     "execution_count": 73,
     "metadata": {},
     "output_type": "execute_result"
    }
   ],
   "source": [
    "df_bit_orig.text.iloc[274]"
   ]
  },
  {
   "cell_type": "code",
   "execution_count": 74,
   "id": "3e469f33",
   "metadata": {},
   "outputs": [
    {
     "data": {
      "text/plain": [
       "\"b'#Pressrelease #PocketNetwork \\\\xe2\\\\x80\\\\x98AWS for Web3\\\\xe2\\\\x80\\\\x99 Pocket Network Shakes Up Infrastructure of the Internet https://t.co/LozIlSYV3E'\""
      ]
     },
     "execution_count": 74,
     "metadata": {},
     "output_type": "execute_result"
    }
   ],
   "source": [
    "df_bit_orig.text.iloc[588]"
   ]
  },
  {
   "cell_type": "code",
   "execution_count": 75,
   "id": "adef952e",
   "metadata": {},
   "outputs": [
    {
     "data": {
      "text/plain": [
       "\"b'RT @westkripto: \\\\xf0\\\\x9f\\\\x93\\\\xa3 Arkada\\\\xc5\\\\x9flar Legion Network KYC olmadan bedava 50$\\\\xe2\\\\x80\\\\x99a yak\\\\xc4\\\\xb1n token da\\\\xc4\\\\x9f\\\\xc4\\\\xb1t\\\\xc4\\\\xb1yor. LITHIUM LAUNCHPAD\\\\xe2\\\\x80\\\\x99de listelenicek \\\\xf0\\\\x9f\\\\x99\\\\x8c\\\\nYapman\\\\xc4\\\\xb1z ge\\\\xe2\\\\x80\\\\xa6'\""
      ]
     },
     "execution_count": 75,
     "metadata": {},
     "output_type": "execute_result"
    }
   ],
   "source": [
    "df_bit_orig.text.iloc[701]"
   ]
  },
  {
   "cell_type": "code",
   "execution_count": 76,
   "id": "79cf6624",
   "metadata": {},
   "outputs": [],
   "source": [
    "###########\n",
    "# Topic 6 #  ### Price prediction & investment advices\n",
    "###########"
   ]
  },
  {
   "cell_type": "code",
   "execution_count": 77,
   "id": "bf0e8f5f",
   "metadata": {
    "scrolled": true
   },
   "outputs": [
    {
     "data": {
      "text/plain": [
       "2      our research on we dig it look more solid i ad...\n",
       "11     bitcoin potential buy zone wa the h s target a...\n",
       "15     i wa at and the guy next to me said he is a fu...\n",
       "41     bitcoin prediction for wa bought for apiece mi...\n",
       "61     bitcoin option shift ha some bull calling the ...\n",
       "87                  stop bitcoin gold try to buy instead\n",
       "90     the last bitcoin daily death cross wa around s...\n",
       "103    trading volume since which wa also the bottom ...\n",
       "194    bitcoin potential buy zone wa the h s target a...\n",
       "215    if this wa an intelligence feint what were we ...\n",
       "220    the latest bitcoin block with transaction wa j...\n",
       "221    bitcoin potential buy zone wa the h s target a...\n",
       "232                        bitcoin wey i go buy go worth\n",
       "247    bitcoin potential buy zone wa the h s target a...\n",
       "261    bitcoin potential buy zone wa the h s target a...\n",
       "296    bitcoin potential buy zone wa the h s target a...\n",
       "320    our goal bigger than those who manipulate u sa...\n",
       "321                                     probably nothing\n",
       "335    b if there is one thing i learned from our com...\n",
       "365    b it that we have a bitcoin floor around make ...\n",
       "Name: text, dtype: object"
      ]
     },
     "execution_count": 77,
     "metadata": {},
     "output_type": "execute_result"
    }
   ],
   "source": [
    "df_bit_6=df_bit[df_bit.argmax_topic==6]\n",
    "df_bit_6.text.iloc[0:20]"
   ]
  },
  {
   "cell_type": "code",
   "execution_count": 78,
   "id": "0f4ab006",
   "metadata": {},
   "outputs": [
    {
     "data": {
      "text/plain": [
       "\"b'Continuing our research on $UNO\\\\xf0\\\\x9f\\\\x94\\\\x8e\\\\xf0\\\\x9f\\\\x94\\\\x8e \\\\n\\\\nAs we dig deeper, It looks more solid. I advise always DYOR before you buy some\\\\xe2\\\\x80\\\\xa6 https://t.co/SdkHmLzNao'\""
      ]
     },
     "execution_count": 78,
     "metadata": {},
     "output_type": "execute_result"
    }
   ],
   "source": [
    "df_bit_orig.text.iloc[2]"
   ]
  },
  {
   "cell_type": "code",
   "execution_count": 79,
   "id": "227dab7a",
   "metadata": {},
   "outputs": [
    {
     "data": {
      "text/plain": [
       "\"b'BITCOIN PREDICTION RESULT\\\\n\\\\nSELL 0.1BTC for 43,166.42 USDT.\\\\nIt was BOUGHT for 43,126.34 USDT apiece 3 min ago on Bin\\\\xe2\\\\x80\\\\xa6 https://t.co/g0nyrcAZcN'\""
      ]
     },
     "execution_count": 79,
     "metadata": {},
     "output_type": "execute_result"
    }
   ],
   "source": [
    "df_bit_orig.text.iloc[41]"
   ]
  },
  {
   "cell_type": "code",
   "execution_count": 80,
   "id": "db0e4174",
   "metadata": {},
   "outputs": [
    {
     "data": {
      "text/plain": [
       "\"b'@DoopieCash #bitcoin potentials buy zone was the H&amp;S target around the 42k Same thing: Double bottom reversal\\\\n\\\\npote\\\\xe2\\\\x80\\\\xa6 https://t.co/6lSNlMChR6'\""
      ]
     },
     "execution_count": 80,
     "metadata": {},
     "output_type": "execute_result"
    }
   ],
   "source": [
    "df_bit_orig.text.iloc[247]"
   ]
  },
  {
   "cell_type": "code",
   "execution_count": 81,
   "id": "991ee165",
   "metadata": {},
   "outputs": [
    {
     "data": {
      "text/plain": [
       "'b\"RT @TheRealPlanC: It appears that we have a #Bitcoin floor around 40k, make up of \\\\xf0\\\\x9f\\\\x91\\\\x87\\\\n\\\\n\\\\xe2\\\\x9c\\\\x85 HODLers of Last Resort - OG\\'s\\\\n\\\\nRetail &amp; Institutiona\\\\xe2\\\\x80\\\\xa6\"'"
      ]
     },
     "execution_count": 81,
     "metadata": {},
     "output_type": "execute_result"
    }
   ],
   "source": [
    "df_bit_orig.text.iloc[365]"
   ]
  },
  {
   "cell_type": "code",
   "execution_count": 82,
   "id": "298ff787",
   "metadata": {},
   "outputs": [],
   "source": [
    "###########\n",
    "# Topic 7 #  ### analysis on price and future growth\n",
    "###########"
   ]
  },
  {
   "cell_type": "code",
   "execution_count": 83,
   "id": "1a14bb43",
   "metadata": {
    "scrolled": true
   },
   "outputs": [
    {
     "data": {
      "text/plain": [
       "1272          bitcoin monthly price on each over the last\n",
       "1282    b then why do like need to spend s of million ...\n",
       "1283                stake axion earn the polygon ethereum\n",
       "1284                                  hourly price update\n",
       "1297    b we d love for you lot to join u in our new t...\n",
       "1302                                            the price\n",
       "1306    family office want asset they can hold for dec...\n",
       "1310    the company by revenue to be itself for a vent...\n",
       "1311               bitcoin change the rule few understand\n",
       "Name: text, dtype: object"
      ]
     },
     "execution_count": 83,
     "metadata": {},
     "output_type": "execute_result"
    }
   ],
   "source": [
    "df_bit_7=df_bit[df_bit.argmax_topic==7]\n",
    "df_bit_7.text.iloc[300:320]"
   ]
  },
  {
   "cell_type": "code",
   "execution_count": 84,
   "id": "05c1818a",
   "metadata": {},
   "outputs": [
    {
     "data": {
      "text/plain": [
       "\"b'RT @Cointelegraph: Traders could continue to flow into $NEAR, ATOM, $FTM and FTT if Bitcoin price continues to consolidate over the coming\\\\xe2\\\\x80\\\\xa6'\""
      ]
     },
     "execution_count": 84,
     "metadata": {},
     "output_type": "execute_result"
    }
   ],
   "source": [
    "df_bit_orig.text.iloc[25]"
   ]
  },
  {
   "cell_type": "code",
   "execution_count": 85,
   "id": "9eea3051",
   "metadata": {},
   "outputs": [
    {
     "data": {
      "text/plain": [
       "\"b'RT @ouracidworld: So, you prefer short and long giveaways, we will reward you. \\\\xf0\\\\x9f\\\\x8e\\\\x81\\\\n\\\\n\\\\xe2\\\\x8f\\\\xb0 2 hour contest \\\\xe2\\\\x8f\\\\xb0\\\\n\\\\n\\\\xf0\\\\x9f\\\\x91\\\\x89\\\\xf0\\\\x9f\\\\x8f\\\\xbc RT + Follow @ouracidworld\\\\n\\\\xf0\\\\x9f\\\\x91\\\\x80 Tag fr\\\\xe2\\\\x80\\\\xa6'\""
      ]
     },
     "execution_count": 85,
     "metadata": {},
     "output_type": "execute_result"
    }
   ],
   "source": [
    "df_bit_orig.text.iloc[88]"
   ]
  },
  {
   "cell_type": "code",
   "execution_count": 86,
   "id": "960cd56d",
   "metadata": {},
   "outputs": [
    {
     "data": {
      "text/plain": [
       "\"b'RT @Breedlove22: In a world where everyone wants to print money, and can print money, the money that nobody can print, wins. That\\\\xe2\\\\x80\\\\x99s why I o\\\\xe2\\\\x80\\\\xa6'\""
      ]
     },
     "execution_count": 86,
     "metadata": {},
     "output_type": "execute_result"
    }
   ],
   "source": [
    "df_bit_orig.text.iloc[443]"
   ]
  },
  {
   "cell_type": "code",
   "execution_count": 87,
   "id": "f0acdcec",
   "metadata": {},
   "outputs": [
    {
     "data": {
      "text/plain": [
       "\"b'#Bitcoin monthly price on each 16 over the last year:\\\\n\\\\nJan: $42,990\\\\nDec: $47,833\\\\nNov: $60,607\\\\nOct: $60,809\\\\nSep: $47\\\\xe2\\\\x80\\\\xa6 https://t.co/7BGKUdvAzp'\""
      ]
     },
     "execution_count": 87,
     "metadata": {},
     "output_type": "execute_result"
    }
   ],
   "source": [
    "df_bit_orig.text.iloc[1272]"
   ]
  },
  {
   "cell_type": "code",
   "execution_count": 88,
   "id": "5f183de8",
   "metadata": {},
   "outputs": [],
   "source": [
    "###########\n",
    "# Topic 8 #  #### Art NFT\n",
    "###########"
   ]
  },
  {
   "cell_type": "code",
   "execution_count": 89,
   "id": "62c98aca",
   "metadata": {
    "scrolled": true
   },
   "outputs": [
    {
     "data": {
      "text/plain": [
       "1078    owner of nft s on bitcoin liquid through invol...\n",
       "1092                       alien available now on nft art\n",
       "1121                       alien available now on nft art\n",
       "1129               nice project i love holder bitcoin nft\n",
       "1133                              nft art artist ethereum\n",
       "1146                       alien available now on nft art\n",
       "1156                       alien available now on nft art\n",
       "1181                       alien available now on nft art\n",
       "1184                              nft art artist ethereum\n",
       "1192                  bitcoin ethereum ripple nft binance\n",
       "1211                       alien available now on nft art\n",
       "1253                       alien available now on nft art\n",
       "1268    the of missing driving this whole nft thing so...\n",
       "1280                    legendary warp launch bitcoin nft\n",
       "1296    best to buy in rock punk the real original nft...\n",
       "1300                       alien available now on nft art\n",
       "1301                                          sol nft sol\n",
       "Name: text, dtype: object"
      ]
     },
     "execution_count": 89,
     "metadata": {},
     "output_type": "execute_result"
    }
   ],
   "source": [
    "df_bit_8=df_bit[df_bit.argmax_topic==8]\n",
    "df_bit_8.text.iloc[21:40]"
   ]
  },
  {
   "cell_type": "code",
   "execution_count": 90,
   "id": "e17730a8",
   "metadata": {},
   "outputs": [
    {
     "data": {
      "text/plain": [
       "'b\"@mikemajlak thinking about turning this art piece I did last year and you shared to your story on IG.. thinking it\\'\\\\xe2\\\\x80\\\\xa6 https://t.co/mjju4P9QkN\"'"
      ]
     },
     "execution_count": 90,
     "metadata": {},
     "output_type": "execute_result"
    }
   ],
   "source": [
    "df_bit_orig.text.iloc[150]"
   ]
  },
  {
   "cell_type": "code",
   "execution_count": 91,
   "id": "09d3fe15",
   "metadata": {},
   "outputs": [
    {
     "data": {
      "text/plain": [
       "\"b'Alien #82 available Now on @opensea \\\\xf0\\\\x9f\\\\x91\\\\xbd\\\\n\\\\n#nftart #nft #nftartist #art #digitalart #nftcommunity #nfts #cryptoart\\\\xe2\\\\x80\\\\xa6 https://t.co/nO0ywzhVZY'\""
      ]
     },
     "execution_count": 91,
     "metadata": {},
     "output_type": "execute_result"
    }
   ],
   "source": [
    "df_bit_orig.text.iloc[778]"
   ]
  },
  {
   "cell_type": "code",
   "execution_count": 92,
   "id": "e2f46fb3",
   "metadata": {},
   "outputs": [
    {
     "data": {
      "text/plain": [
       "\"b'Best #NFTCollection to Buy in 2022\\\\n\\\\nHARD ROCK PUNKS NFT\\\\n- The Real Original NFT -\\\\n\\\\nOnly 10K Original #HardRockPunks\\\\xe2\\\\x80\\\\xa6 https://t.co/OEIsAFzXQG'\""
      ]
     },
     "execution_count": 92,
     "metadata": {},
     "output_type": "execute_result"
    }
   ],
   "source": [
    "df_bit_orig.text.iloc[1296]"
   ]
  },
  {
   "cell_type": "code",
   "execution_count": 93,
   "id": "4f69c1cb",
   "metadata": {},
   "outputs": [],
   "source": [
    "###########\n",
    "# Topic 9 #  ### Introducing bitcoin related twitter account, El Salvador buying 410 new BTC drove the spanish community\n",
    "###########"
   ]
  },
  {
   "cell_type": "code",
   "execution_count": 94,
   "id": "59642f94",
   "metadata": {
    "scrolled": true
   },
   "outputs": [
    {
     "data": {
      "text/plain": [
       "789                        bitcoin no bien lo con la y el\n",
       "869                                  trading soon on poly\n",
       "919     straight el and dropping relentless bitcoin op...\n",
       "924                                       b let s trading\n",
       "929                                    trading investment\n",
       "936            el bitcoin rainbow price chart se en de el\n",
       "951     wa to bitcoin quote is from today el is the mi...\n",
       "981                                                ama da\n",
       "982                                                 el un\n",
       "1127                        la me de el doge era un token\n",
       "1153                                                  fed\n",
       "1187                                     y lo con bitcoin\n",
       "1208                                el prof bitcoin er no\n",
       "1217                       el call of rata si te a y a al\n",
       "Name: text, dtype: object"
      ]
     },
     "execution_count": 94,
     "metadata": {},
     "output_type": "execute_result"
    }
   ],
   "source": [
    "df_bit_9=df_bit[df_bit.argmax_topic==9]\n",
    "df_bit_9.text.iloc[30:50]"
   ]
  },
  {
   "cell_type": "code",
   "execution_count": 95,
   "id": "6ad3c072",
   "metadata": {},
   "outputs": [
    {
     "data": {
      "text/plain": [
       "\"b'RT @maxkeiser: Sunset in El Zonte #BITCOIN BEACH w/ @jimmysong https://t.co/3KwDQ9LYeq'\""
      ]
     },
     "execution_count": 95,
     "metadata": {},
     "output_type": "execute_result"
    }
   ],
   "source": [
    "df_bit_orig.text.iloc[203]"
   ]
  },
  {
   "cell_type": "code",
   "execution_count": 96,
   "id": "2afdb23f",
   "metadata": {},
   "outputs": [
    {
     "data": {
      "text/plain": [
       "\"b'@Bitcoin_Martian @Yikibe Closing the gap on wealth inequality is not an idea exclusive to progressives. It\\\\xe2\\\\x80\\\\x99s how th\\\\xe2\\\\x80\\\\xa6 https://t.co/hdXBXEuHBd'\""
      ]
     },
     "execution_count": 96,
     "metadata": {},
     "output_type": "execute_result"
    }
   ],
   "source": [
    "df_bit_orig.text.iloc[438]"
   ]
  },
  {
   "cell_type": "code",
   "execution_count": 97,
   "id": "360d7097",
   "metadata": {},
   "outputs": [
    {
     "data": {
      "text/plain": [
       "\"b'RT @usakenshin: Trading Soon On BSC/POLY/AVAX \\\\xf0\\\\x9f\\\\xa4\\\\x9f\\\\xf0\\\\x9f\\\\x91\\\\x8c\\\\nWebsite: https://t.co/jYQ4kof9iU\\\\n\\\\xf0\\\\x9f\\\\xa4\\\\x9f\\\\xf0\\\\x9f\\\\x91\\\\x8c\\\\n@wolfofcryptoBLV\\\\n@RBXSAMURAI\\\\n@RBXtoken\\\\n#BTC\\\\xc2\\\\xa0 #BNB\\\\xc2\\\\xa0 #RB\\\\xe2\\\\x80\\\\xa6'\""
      ]
     },
     "execution_count": 97,
     "metadata": {},
     "output_type": "execute_result"
    }
   ],
   "source": [
    "df_bit_orig.text.iloc[869]"
   ]
  },
  {
   "cell_type": "code",
   "execution_count": 98,
   "id": "ab85e6a4",
   "metadata": {},
   "outputs": [
    {
     "data": {
      "text/plain": [
       "\"b'RT @stacyherbert: Bukele was destined to bitcoin \\\\n\\\\nThis quote is from 2012\\\\n\\\\nAnd today, El Salvador is attracting the greatest minds to move\\\\xe2\\\\x80\\\\xa6'\""
      ]
     },
     "execution_count": 98,
     "metadata": {},
     "output_type": "execute_result"
    }
   ],
   "source": [
    "df_bit_orig.text.iloc[951]"
   ]
  },
  {
   "cell_type": "markdown",
   "id": "10e7cafa",
   "metadata": {},
   "source": [
    "### CorEx Model"
   ]
  },
  {
   "cell_type": "code",
   "execution_count": 103,
   "id": "5a915d63",
   "metadata": {},
   "outputs": [],
   "source": [
    "from corextopic import corextopic as ct\n",
    "from corextopic import vis_topic as vt\n",
    "import matplotlib.pyplot as plt\n",
    "%matplotlib inline"
   ]
  },
  {
   "cell_type": "code",
   "execution_count": 104,
   "id": "63a245cf",
   "metadata": {},
   "outputs": [
    {
     "name": "stdout",
     "output_type": "stream",
     "text": [
      "0: bank,move,bear,card,hey,user,central,system,first,giant\n",
      "1: help,pay,man,million,sure,polygon,post,tax,mine,comment\n",
      "2: friend,run,different,tag,whole,believe,goal,mean,either,especially\n",
      "3: possible,probability,must,government,trend,something,rising,pushing,pull,plug\n",
      "4: transaction,win,ago,billion,true,cost,catch,prediction,total,correct\n",
      "5: say,watch,inflation,call,german,guess,hedge,thought,plan,hoy\n",
      "6: look,taking,come,hex,heart,literally,life,technology,luck,research\n",
      "7: try,instead,bought,yield,die,closed,video,already,sound,core\n",
      "8: reward,solana,owner,referral,sol,link,animal,south,end\n",
      "9: use,yes,impact,fix,stock,biggest,gem,starting,dev,line\n"
     ]
    }
   ],
   "source": [
    "words = list(np.asarray(cvec.get_feature_names()))\n",
    "topic_model = ct.Corex(n_hidden=10, words=words,\n",
    "                       max_iter=200, verbose=False, seed=1)\n",
    "\n",
    "topic_model.fit(doc_word_cv, words=words)\n",
    "\n",
    "# Print all topics from the CorEx topic model\n",
    "topics = topic_model.get_topics()\n",
    "for n,topic in enumerate(topics):\n",
    "    topic_words,_,_ = zip(*topic)\n",
    "    print('{}: '.format(n) + ','.join(topic_words))"
   ]
  },
  {
   "cell_type": "code",
   "execution_count": null,
   "id": "57c36f97",
   "metadata": {},
   "outputs": [],
   "source": []
  },
  {
   "cell_type": "code",
   "execution_count": null,
   "id": "81d4572a",
   "metadata": {},
   "outputs": [],
   "source": []
  },
  {
   "cell_type": "code",
   "execution_count": null,
   "id": "54251c94",
   "metadata": {},
   "outputs": [],
   "source": []
  },
  {
   "cell_type": "markdown",
   "id": "77c44fc5",
   "metadata": {},
   "source": [
    "### K-Means Clustering"
   ]
  },
  {
   "cell_type": "code",
   "execution_count": 105,
   "id": "a0fe0c41",
   "metadata": {},
   "outputs": [],
   "source": [
    "from sklearn.cluster import KMeans"
   ]
  },
  {
   "cell_type": "code",
   "execution_count": 106,
   "id": "eb5af3b0",
   "metadata": {},
   "outputs": [
    {
     "data": {
      "image/png": "[encoded data removed]",
      "text/plain": [
       "<Figure size 432x288 with 1 Axes>"
      ]
     },
     "metadata": {
      "needs_background": "light"
     },
     "output_type": "display_data"
    }
   ],
   "source": [
    "inertia = []\n",
    "list_num_clusters = list(range(1,20))\n",
    "for num_clusters in list_num_clusters:\n",
    "    km = KMeans(n_clusters=num_clusters, max_iter=200, n_init=10)\n",
    "    km.fit(doc_word_tfidf)\n",
    "    inertia.append(km.inertia_)\n",
    "    \n",
    "plt.plot(list_num_clusters,inertia)\n",
    "plt.scatter(list_num_clusters,inertia)\n",
    "plt.xlabel('Number of Clusters')\n",
    "plt.ylabel('Inertia');"
   ]
  },
  {
   "cell_type": "code",
   "execution_count": null,
   "id": "5e98dcb4",
   "metadata": {},
   "outputs": [],
   "source": []
  }
 ],
 "metadata": {
  "kernelspec": {
   "display_name": "Python [conda env:metis] *",
   "language": "python",
   "name": "conda-env-metis-py"
  },
  "language_info": {
   "codemirror_mode": {
    "name": "ipython",
    "version": 3
   },
   "file_extension": ".py",
   "mimetype": "text/x-python",
   "name": "python",
   "nbconvert_exporter": "python",
   "pygments_lexer": "ipython3",
   "version": "3.8.10"
  }
 },
 "nbformat": 4,
 "nbformat_minor": 5
}
