{
 "cells": [
  {
   "cell_type": "code",
   "execution_count": 57,
   "id": "dba54d42",
   "metadata": {},
   "outputs": [],
   "source": [
    "import pandas as pd\n",
    "import numpy as np\n",
    "from sklearn.feature_extraction.text import TfidfVectorizer, CountVectorizer\n",
    "from nltk.stem import WordNetLemmatizer, LancasterStemmer\n",
    "import re\n",
    "import nltk"
   ]
  },
  {
   "cell_type": "code",
   "execution_count": 58,
   "id": "8e15e399",
   "metadata": {},
   "outputs": [],
   "source": [
    "df_tet = pd.read_csv('data_tet.csv')"
   ]
  },
  {
   "cell_type": "markdown",
   "id": "0365101e",
   "metadata": {},
   "source": [
    "## Binance"
   ]
  },
  {
   "cell_type": "code",
   "execution_count": 59,
   "id": "7ab0833d",
   "metadata": {
    "scrolled": true
   },
   "outputs": [
    {
     "data": {
      "text/html": [
       "<div>\n",
       "<style scoped>\n",
       "    .dataframe tbody tr th:only-of-type {\n",
       "        vertical-align: middle;\n",
       "    }\n",
       "\n",
       "    .dataframe tbody tr th {\n",
       "        vertical-align: top;\n",
       "    }\n",
       "\n",
       "    .dataframe thead th {\n",
       "        text-align: right;\n",
       "    }\n",
       "</style>\n",
       "<table border=\"1\" class=\"dataframe\">\n",
       "  <thead>\n",
       "    <tr style=\"text-align: right;\">\n",
       "      <th></th>\n",
       "      <th>Unnamed: 0</th>\n",
       "      <th>id</th>\n",
       "      <th>text</th>\n",
       "      <th>datetime</th>\n",
       "      <th>Location</th>\n",
       "    </tr>\n",
       "  </thead>\n",
       "  <tbody>\n",
       "    <tr>\n",
       "      <th>0</th>\n",
       "      <td>0</td>\n",
       "      <td>1482845765823188995</td>\n",
       "      <td>b'RT @GoldTelegraph_: Tether executives are un...</td>\n",
       "      <td>2022-01-16 22:42:35</td>\n",
       "      <td>NaN</td>\n",
       "    </tr>\n",
       "    <tr>\n",
       "      <th>1</th>\n",
       "      <td>1</td>\n",
       "      <td>1482845324473470980</td>\n",
       "      <td>b'RT @GoldTelegraph_: Tether executives are un...</td>\n",
       "      <td>2022-01-16 22:40:49</td>\n",
       "      <td>NaN</td>\n",
       "    </tr>\n",
       "    <tr>\n",
       "      <th>2</th>\n",
       "      <td>2</td>\n",
       "      <td>1482844716513341441</td>\n",
       "      <td>b'@Massive_game #KODIV2 #KODI2022 #NFTs #Pitch...</td>\n",
       "      <td>2022-01-16 22:38:24</td>\n",
       "      <td>NaN</td>\n",
       "    </tr>\n",
       "    <tr>\n",
       "      <th>3</th>\n",
       "      <td>3</td>\n",
       "      <td>1482844697773047808</td>\n",
       "      <td>b'RT @HamEggsnSam: Now do #Tether!'</td>\n",
       "      <td>2022-01-16 22:38:20</td>\n",
       "      <td>NaN</td>\n",
       "    </tr>\n",
       "    <tr>\n",
       "      <th>4</th>\n",
       "      <td>4</td>\n",
       "      <td>1482844663736422410</td>\n",
       "      <td>b'@Massive_game #KODIV2 #KODI2022 #NFTs #Pitch...</td>\n",
       "      <td>2022-01-16 22:38:12</td>\n",
       "      <td>NaN</td>\n",
       "    </tr>\n",
       "  </tbody>\n",
       "</table>\n",
       "</div>"
      ],
      "text/plain": [
       "   Unnamed: 0                   id  \\\n",
       "0           0  1482845765823188995   \n",
       "1           1  1482845324473470980   \n",
       "2           2  1482844716513341441   \n",
       "3           3  1482844697773047808   \n",
       "4           4  1482844663736422410   \n",
       "\n",
       "                                                text             datetime  \\\n",
       "0  b'RT @GoldTelegraph_: Tether executives are un...  2022-01-16 22:42:35   \n",
       "1  b'RT @GoldTelegraph_: Tether executives are un...  2022-01-16 22:40:49   \n",
       "2  b'@Massive_game #KODIV2 #KODI2022 #NFTs #Pitch...  2022-01-16 22:38:24   \n",
       "3                b'RT @HamEggsnSam: Now do #Tether!'  2022-01-16 22:38:20   \n",
       "4  b'@Massive_game #KODIV2 #KODI2022 #NFTs #Pitch...  2022-01-16 22:38:12   \n",
       "\n",
       "  Location  \n",
       "0      NaN  \n",
       "1      NaN  \n",
       "2      NaN  \n",
       "3      NaN  \n",
       "4      NaN  "
      ]
     },
     "execution_count": 59,
     "metadata": {},
     "output_type": "execute_result"
    }
   ],
   "source": [
    "df_tet.head()"
   ]
  },
  {
   "cell_type": "code",
   "execution_count": 60,
   "id": "6e4ab607",
   "metadata": {},
   "outputs": [
    {
     "data": {
      "text/html": [
       "<div>\n",
       "<style scoped>\n",
       "    .dataframe tbody tr th:only-of-type {\n",
       "        vertical-align: middle;\n",
       "    }\n",
       "\n",
       "    .dataframe tbody tr th {\n",
       "        vertical-align: top;\n",
       "    }\n",
       "\n",
       "    .dataframe thead th {\n",
       "        text-align: right;\n",
       "    }\n",
       "</style>\n",
       "<table border=\"1\" class=\"dataframe\">\n",
       "  <thead>\n",
       "    <tr style=\"text-align: right;\">\n",
       "      <th></th>\n",
       "      <th>Unnamed: 0</th>\n",
       "      <th>id</th>\n",
       "      <th>text</th>\n",
       "      <th>datetime</th>\n",
       "      <th>Location</th>\n",
       "    </tr>\n",
       "  </thead>\n",
       "  <tbody>\n",
       "    <tr>\n",
       "      <th>1</th>\n",
       "      <td>1</td>\n",
       "      <td>1482845324473470980</td>\n",
       "      <td>b'RT @GoldTelegraph_: Tether executives are un...</td>\n",
       "      <td>2022-01-16 22:40:49</td>\n",
       "      <td>NaN</td>\n",
       "    </tr>\n",
       "    <tr>\n",
       "      <th>5</th>\n",
       "      <td>5</td>\n",
       "      <td>1482844619255816200</td>\n",
       "      <td>b'RT @GoldTelegraph_: Tether executives are un...</td>\n",
       "      <td>2022-01-16 22:38:01</td>\n",
       "      <td>NaN</td>\n",
       "    </tr>\n",
       "    <tr>\n",
       "      <th>9</th>\n",
       "      <td>9</td>\n",
       "      <td>1482844492575170567</td>\n",
       "      <td>b'RT @GoldTelegraph_: Tether executives are un...</td>\n",
       "      <td>2022-01-16 22:37:31</td>\n",
       "      <td>NaN</td>\n",
       "    </tr>\n",
       "    <tr>\n",
       "      <th>17</th>\n",
       "      <td>17</td>\n",
       "      <td>1482844160449290243</td>\n",
       "      <td>b'RT @GoldTelegraph_: Tether executives are un...</td>\n",
       "      <td>2022-01-16 22:36:12</td>\n",
       "      <td>NaN</td>\n",
       "    </tr>\n",
       "    <tr>\n",
       "      <th>20</th>\n",
       "      <td>20</td>\n",
       "      <td>1482844031294259203</td>\n",
       "      <td>b'RT @GoldTelegraph_: Tether executives are un...</td>\n",
       "      <td>2022-01-16 22:35:41</td>\n",
       "      <td>NaN</td>\n",
       "    </tr>\n",
       "    <tr>\n",
       "      <th>...</th>\n",
       "      <td>...</td>\n",
       "      <td>...</td>\n",
       "      <td>...</td>\n",
       "      <td>...</td>\n",
       "      <td>...</td>\n",
       "    </tr>\n",
       "    <tr>\n",
       "      <th>1987</th>\n",
       "      <td>1987</td>\n",
       "      <td>1482615733184077827</td>\n",
       "      <td>b'RT @RareHippo: Turkish investors favor Bitco...</td>\n",
       "      <td>2022-01-16 07:28:31</td>\n",
       "      <td>NaN</td>\n",
       "    </tr>\n",
       "    <tr>\n",
       "      <th>1988</th>\n",
       "      <td>1988</td>\n",
       "      <td>1482615540715700226</td>\n",
       "      <td>b'RT @Timsomor: I wonder how this big tether \\...</td>\n",
       "      <td>2022-01-16 07:27:45</td>\n",
       "      <td>NaN</td>\n",
       "    </tr>\n",
       "    <tr>\n",
       "      <th>1993</th>\n",
       "      <td>1993</td>\n",
       "      <td>1482614777331720193</td>\n",
       "      <td>b'RT @BTCTN: This week, the current total supp...</td>\n",
       "      <td>2022-01-16 07:24:43</td>\n",
       "      <td>NaN</td>\n",
       "    </tr>\n",
       "    <tr>\n",
       "      <th>1994</th>\n",
       "      <td>1994</td>\n",
       "      <td>1482614652362276869</td>\n",
       "      <td>b'RT @vinibarbosabr: Aparentemente a #Tether c...</td>\n",
       "      <td>2022-01-16 07:24:13</td>\n",
       "      <td>NaN</td>\n",
       "    </tr>\n",
       "    <tr>\n",
       "      <th>1998</th>\n",
       "      <td>1998</td>\n",
       "      <td>1482614104775081984</td>\n",
       "      <td>b'RT @oleander8226: \\xe2\\x80\\x9cTether \\xe5\\x8...</td>\n",
       "      <td>2022-01-16 07:22:02</td>\n",
       "      <td>NaN</td>\n",
       "    </tr>\n",
       "  </tbody>\n",
       "</table>\n",
       "<p>525 rows × 5 columns</p>\n",
       "</div>"
      ],
      "text/plain": [
       "      Unnamed: 0                   id  \\\n",
       "1              1  1482845324473470980   \n",
       "5              5  1482844619255816200   \n",
       "9              9  1482844492575170567   \n",
       "17            17  1482844160449290243   \n",
       "20            20  1482844031294259203   \n",
       "...          ...                  ...   \n",
       "1987        1987  1482615733184077827   \n",
       "1988        1988  1482615540715700226   \n",
       "1993        1993  1482614777331720193   \n",
       "1994        1994  1482614652362276869   \n",
       "1998        1998  1482614104775081984   \n",
       "\n",
       "                                                   text             datetime  \\\n",
       "1     b'RT @GoldTelegraph_: Tether executives are un...  2022-01-16 22:40:49   \n",
       "5     b'RT @GoldTelegraph_: Tether executives are un...  2022-01-16 22:38:01   \n",
       "9     b'RT @GoldTelegraph_: Tether executives are un...  2022-01-16 22:37:31   \n",
       "17    b'RT @GoldTelegraph_: Tether executives are un...  2022-01-16 22:36:12   \n",
       "20    b'RT @GoldTelegraph_: Tether executives are un...  2022-01-16 22:35:41   \n",
       "...                                                 ...                  ...   \n",
       "1987  b'RT @RareHippo: Turkish investors favor Bitco...  2022-01-16 07:28:31   \n",
       "1988  b'RT @Timsomor: I wonder how this big tether \\...  2022-01-16 07:27:45   \n",
       "1993  b'RT @BTCTN: This week, the current total supp...  2022-01-16 07:24:43   \n",
       "1994  b'RT @vinibarbosabr: Aparentemente a #Tether c...  2022-01-16 07:24:13   \n",
       "1998  b'RT @oleander8226: \\xe2\\x80\\x9cTether \\xe5\\x8...  2022-01-16 07:22:02   \n",
       "\n",
       "     Location  \n",
       "1         NaN  \n",
       "5         NaN  \n",
       "9         NaN  \n",
       "17        NaN  \n",
       "20        NaN  \n",
       "...       ...  \n",
       "1987      NaN  \n",
       "1988      NaN  \n",
       "1993      NaN  \n",
       "1994      NaN  \n",
       "1998      NaN  \n",
       "\n",
       "[525 rows x 5 columns]"
      ]
     },
     "execution_count": 60,
     "metadata": {},
     "output_type": "execute_result"
    }
   ],
   "source": [
    "mask = df_tet.duplicated(subset=['text'])\n",
    "df_tet[mask]"
   ]
  },
  {
   "cell_type": "code",
   "execution_count": 61,
   "id": "d1ccbb93",
   "metadata": {},
   "outputs": [
    {
     "data": {
      "text/plain": [
       "(1475, 5)"
      ]
     },
     "execution_count": 61,
     "metadata": {},
     "output_type": "execute_result"
    }
   ],
   "source": [
    "df_tet = df_tet[~mask].reset_index(drop=True)\n",
    "df_tet.shape"
   ]
  },
  {
   "cell_type": "code",
   "execution_count": 62,
   "id": "6a328bf0",
   "metadata": {
    "scrolled": true
   },
   "outputs": [
    {
     "data": {
      "text/html": [
       "<div>\n",
       "<style scoped>\n",
       "    .dataframe tbody tr th:only-of-type {\n",
       "        vertical-align: middle;\n",
       "    }\n",
       "\n",
       "    .dataframe tbody tr th {\n",
       "        vertical-align: top;\n",
       "    }\n",
       "\n",
       "    .dataframe thead th {\n",
       "        text-align: right;\n",
       "    }\n",
       "</style>\n",
       "<table border=\"1\" class=\"dataframe\">\n",
       "  <thead>\n",
       "    <tr style=\"text-align: right;\">\n",
       "      <th></th>\n",
       "      <th>Unnamed: 0</th>\n",
       "      <th>id</th>\n",
       "      <th>text</th>\n",
       "      <th>datetime</th>\n",
       "      <th>Location</th>\n",
       "    </tr>\n",
       "  </thead>\n",
       "  <tbody>\n",
       "    <tr>\n",
       "      <th>0</th>\n",
       "      <td>0</td>\n",
       "      <td>1482845765823188995</td>\n",
       "      <td>b'RT @GoldTelegraph_: Tether executives are un...</td>\n",
       "      <td>2022-01-16 22:42:35</td>\n",
       "      <td>NaN</td>\n",
       "    </tr>\n",
       "    <tr>\n",
       "      <th>1</th>\n",
       "      <td>2</td>\n",
       "      <td>1482844716513341441</td>\n",
       "      <td>b'@Massive_game #KODIV2 #KODI2022 #NFTs #Pitch...</td>\n",
       "      <td>2022-01-16 22:38:24</td>\n",
       "      <td>NaN</td>\n",
       "    </tr>\n",
       "    <tr>\n",
       "      <th>2</th>\n",
       "      <td>3</td>\n",
       "      <td>1482844697773047808</td>\n",
       "      <td>b'RT @HamEggsnSam: Now do #Tether!'</td>\n",
       "      <td>2022-01-16 22:38:20</td>\n",
       "      <td>NaN</td>\n",
       "    </tr>\n",
       "    <tr>\n",
       "      <th>3</th>\n",
       "      <td>4</td>\n",
       "      <td>1482844663736422410</td>\n",
       "      <td>b'@Massive_game #KODIV2 #KODI2022 #NFTs #Pitch...</td>\n",
       "      <td>2022-01-16 22:38:12</td>\n",
       "      <td>NaN</td>\n",
       "    </tr>\n",
       "    <tr>\n",
       "      <th>4</th>\n",
       "      <td>6</td>\n",
       "      <td>1482844612326825988</td>\n",
       "      <td>b'@Massive_game #KODIV2 #KODI2022 #NFTs #Pitch...</td>\n",
       "      <td>2022-01-16 22:38:00</td>\n",
       "      <td>NaN</td>\n",
       "    </tr>\n",
       "  </tbody>\n",
       "</table>\n",
       "</div>"
      ],
      "text/plain": [
       "   Unnamed: 0                   id  \\\n",
       "0           0  1482845765823188995   \n",
       "1           2  1482844716513341441   \n",
       "2           3  1482844697773047808   \n",
       "3           4  1482844663736422410   \n",
       "4           6  1482844612326825988   \n",
       "\n",
       "                                                text             datetime  \\\n",
       "0  b'RT @GoldTelegraph_: Tether executives are un...  2022-01-16 22:42:35   \n",
       "1  b'@Massive_game #KODIV2 #KODI2022 #NFTs #Pitch...  2022-01-16 22:38:24   \n",
       "2                b'RT @HamEggsnSam: Now do #Tether!'  2022-01-16 22:38:20   \n",
       "3  b'@Massive_game #KODIV2 #KODI2022 #NFTs #Pitch...  2022-01-16 22:38:12   \n",
       "4  b'@Massive_game #KODIV2 #KODI2022 #NFTs #Pitch...  2022-01-16 22:38:00   \n",
       "\n",
       "  Location  \n",
       "0      NaN  \n",
       "1      NaN  \n",
       "2      NaN  \n",
       "3      NaN  \n",
       "4      NaN  "
      ]
     },
     "execution_count": 62,
     "metadata": {},
     "output_type": "execute_result"
    }
   ],
   "source": [
    "df_tet.head()"
   ]
  },
  {
   "cell_type": "code",
   "execution_count": 63,
   "id": "27633370",
   "metadata": {},
   "outputs": [],
   "source": [
    "df_tet_orig = df_tet.copy()"
   ]
  },
  {
   "cell_type": "code",
   "execution_count": 64,
   "id": "4d54bfd1",
   "metadata": {},
   "outputs": [
    {
     "name": "stdout",
     "output_type": "stream",
     "text": [
      "b'@Titans_ventures @melos_studio Currently there are notable problems with stable coins like Tether (USDT) that have\\xe2\\x80\\xa6 https://t.co/AebSybrtMQ'\n",
      "b'RT @Okami_mxsamurai: \\xf0\\x9f\\x94\\x85Hope is like the sun; The closer you get to it, the less shadows the problems behind you will be\\xf0\\x9f\\x94\\x85\\n\\n\\xf0\\x9f\\x94\\x86#RBXSamurai\\n\\xf0\\x9f\\x94\\x86#RBX\\xe2\\x80\\xa6'\n",
      "b'Stop using Tether ! Try to buy 72208 $PKN instead !!! #PKN #pokmi #PokenArmy #poken #PokenArmyProgram'\n",
      "b'@CryptOrhann @elonmusk \\n#SHINJA BuyTHEDIP!\\n46KHOLDERS (50K-2Sksln wellbeBURNED\\xf0\\x9f\\xa5\\xb7\\xf0\\x9f\\x9a\\x80\\xf0\\x9f\\x94\\xa5\\n#BabyDoge\\n#BabyDogeCoin\\xe2\\x80\\xa6 https://t.co/T00Lw8VXOi'\n",
      "b'RT @BambroughKevin: Amazing.. when tether blows up it\\xe2\\x80\\x99s gonna make a fantastic movie https://t.co/fyoqTZTCrR'\n"
     ]
    }
   ],
   "source": [
    "for tweet in df_tet['text'].sample(5).values:\n",
    "    print(tweet)"
   ]
  },
  {
   "cell_type": "markdown",
   "id": "04bdd001",
   "metadata": {},
   "source": [
    "### Put all hashtags into a new column"
   ]
  },
  {
   "cell_type": "code",
   "execution_count": 65,
   "id": "49a0ea38",
   "metadata": {},
   "outputs": [
    {
     "data": {
      "text/html": [
       "<div>\n",
       "<style scoped>\n",
       "    .dataframe tbody tr th:only-of-type {\n",
       "        vertical-align: middle;\n",
       "    }\n",
       "\n",
       "    .dataframe tbody tr th {\n",
       "        vertical-align: top;\n",
       "    }\n",
       "\n",
       "    .dataframe thead th {\n",
       "        text-align: right;\n",
       "    }\n",
       "</style>\n",
       "<table border=\"1\" class=\"dataframe\">\n",
       "  <thead>\n",
       "    <tr style=\"text-align: right;\">\n",
       "      <th></th>\n",
       "      <th>Unnamed: 0</th>\n",
       "      <th>id</th>\n",
       "      <th>text</th>\n",
       "      <th>datetime</th>\n",
       "      <th>Location</th>\n",
       "      <th>hashtag</th>\n",
       "    </tr>\n",
       "  </thead>\n",
       "  <tbody>\n",
       "    <tr>\n",
       "      <th>0</th>\n",
       "      <td>0</td>\n",
       "      <td>1482845765823188995</td>\n",
       "      <td>b'RT @GoldTelegraph_: Tether executives are un...</td>\n",
       "      <td>2022-01-16 22:42:35</td>\n",
       "      <td>NaN</td>\n",
       "      <td>[]</td>\n",
       "    </tr>\n",
       "    <tr>\n",
       "      <th>1</th>\n",
       "      <td>2</td>\n",
       "      <td>1482844716513341441</td>\n",
       "      <td>b'@Massive_game #KODIV2 #KODI2022 #NFTs #Pitch...</td>\n",
       "      <td>2022-01-16 22:38:24</td>\n",
       "      <td>NaN</td>\n",
       "      <td>[KODIV2, KODI2022, NFTs, PitchAgency, Hotbit, ...</td>\n",
       "    </tr>\n",
       "    <tr>\n",
       "      <th>2</th>\n",
       "      <td>3</td>\n",
       "      <td>1482844697773047808</td>\n",
       "      <td>b'RT @HamEggsnSam: Now do #Tether!'</td>\n",
       "      <td>2022-01-16 22:38:20</td>\n",
       "      <td>NaN</td>\n",
       "      <td>[Tether]</td>\n",
       "    </tr>\n",
       "    <tr>\n",
       "      <th>3</th>\n",
       "      <td>4</td>\n",
       "      <td>1482844663736422410</td>\n",
       "      <td>b'@Massive_game #KODIV2 #KODI2022 #NFTs #Pitch...</td>\n",
       "      <td>2022-01-16 22:38:12</td>\n",
       "      <td>NaN</td>\n",
       "      <td>[KODIV2, KODI2022, NFTs, PitchAgency, Hotbit, ...</td>\n",
       "    </tr>\n",
       "    <tr>\n",
       "      <th>4</th>\n",
       "      <td>6</td>\n",
       "      <td>1482844612326825988</td>\n",
       "      <td>b'@Massive_game #KODIV2 #KODI2022 #NFTs #Pitch...</td>\n",
       "      <td>2022-01-16 22:38:00</td>\n",
       "      <td>NaN</td>\n",
       "      <td>[KODIV2, KODI2022, NFTs, PitchAgency, Hotbit, ...</td>\n",
       "    </tr>\n",
       "  </tbody>\n",
       "</table>\n",
       "</div>"
      ],
      "text/plain": [
       "   Unnamed: 0                   id  \\\n",
       "0           0  1482845765823188995   \n",
       "1           2  1482844716513341441   \n",
       "2           3  1482844697773047808   \n",
       "3           4  1482844663736422410   \n",
       "4           6  1482844612326825988   \n",
       "\n",
       "                                                text             datetime  \\\n",
       "0  b'RT @GoldTelegraph_: Tether executives are un...  2022-01-16 22:42:35   \n",
       "1  b'@Massive_game #KODIV2 #KODI2022 #NFTs #Pitch...  2022-01-16 22:38:24   \n",
       "2                b'RT @HamEggsnSam: Now do #Tether!'  2022-01-16 22:38:20   \n",
       "3  b'@Massive_game #KODIV2 #KODI2022 #NFTs #Pitch...  2022-01-16 22:38:12   \n",
       "4  b'@Massive_game #KODIV2 #KODI2022 #NFTs #Pitch...  2022-01-16 22:38:00   \n",
       "\n",
       "  Location                                            hashtag  \n",
       "0      NaN                                                 []  \n",
       "1      NaN  [KODIV2, KODI2022, NFTs, PitchAgency, Hotbit, ...  \n",
       "2      NaN                                           [Tether]  \n",
       "3      NaN  [KODIV2, KODI2022, NFTs, PitchAgency, Hotbit, ...  \n",
       "4      NaN  [KODIV2, KODI2022, NFTs, PitchAgency, Hotbit, ...  "
      ]
     },
     "execution_count": 65,
     "metadata": {},
     "output_type": "execute_result"
    }
   ],
   "source": [
    "df_tet['hashtag'] = df_tet['text'].apply(lambda x: re.findall(r\"#(\\w+)\", x))\n",
    "df_tet.head()"
   ]
  },
  {
   "cell_type": "markdown",
   "id": "f906527d",
   "metadata": {},
   "source": [
    "### Remove emojis"
   ]
  },
  {
   "cell_type": "code",
   "execution_count": 66,
   "id": "1da3bb32",
   "metadata": {
    "scrolled": true
   },
   "outputs": [],
   "source": [
    "df_tet.text = df_tet.text.apply(lambda x: ' '.join([a for a in x.split() if '\\\\' not in a]))"
   ]
  },
  {
   "cell_type": "code",
   "execution_count": 67,
   "id": "7e1d5455",
   "metadata": {
    "scrolled": true
   },
   "outputs": [
    {
     "name": "stdout",
     "output_type": "stream",
     "text": [
      "0       b'RT @GoldTelegraph_: Tether executives are un...\n",
      "1       b'@Massive_game #KODIV2 #KODI2022 #NFTs #Pitch...\n",
      "2                     b'RT @HamEggsnSam: Now do #Tether!'\n",
      "3       b'@Massive_game #KODIV2 #KODI2022 #NFTs #Pitch...\n",
      "4       b'@Massive_game #KODIV2 #KODI2022 #NFTs #Pitch...\n",
      "                              ...                        \n",
      "1470    b\"@Crypto__emily Actually, I almost never sell...\n",
      "1471    b\"hello @Tether_to So what's really the differ...\n",
      "1472    b'Stop using Tether ! Try to buy 82868 $PKN in...\n",
      "1473    b\"@WatcherGuru I want to trade with Tether but...\n",
      "1474    b'RT @MarcFalzon: This man is Samson Mow -- he...\n",
      "Name: text, Length: 1475, dtype: object\n"
     ]
    }
   ],
   "source": [
    "test = df_tet.text\n",
    "print(test)"
   ]
  },
  {
   "cell_type": "code",
   "execution_count": 68,
   "id": "48d688b8",
   "metadata": {},
   "outputs": [
    {
     "data": {
      "text/plain": [
       "'!\"#$%&\\'()*+,-./:;<=>?@[\\\\]^_`{|}~'"
      ]
     },
     "execution_count": 68,
     "metadata": {},
     "output_type": "execute_result"
    }
   ],
   "source": [
    "import string\n",
    "string.punctuation"
   ]
  },
  {
   "cell_type": "code",
   "execution_count": 69,
   "id": "3f6e4d62",
   "metadata": {},
   "outputs": [],
   "source": [
    "def remove_special_characters(text):\n",
    "    text = re.sub(\"@\\S+\", \"\", text) #remove mentions\n",
    "    text = re.sub(\"https?:\\/\\/.*[\\r\\n]*\", \"\", text) #remove hyperlinks\n",
    "    text = re.sub(\"#\", \"\", text) #remove hashtag symbol\n",
    "    text = re.sub('\\w*\\d\\w*', ' ', text) #remove numbers\n",
    "    text = re.sub(\"b'RT\",'', text) #remove b'RT\n",
    "    text = re.sub(\"b'\",'',text)\n",
    "    text = re.sub('[%s]' % re.escape(string.punctuation), ' ', text)\n",
    "    return text"
   ]
  },
  {
   "cell_type": "code",
   "execution_count": 70,
   "id": "dbbb43e5",
   "metadata": {
    "scrolled": true
   },
   "outputs": [],
   "source": [
    "df_tet.text = df_tet.text.apply(remove_special_characters)"
   ]
  },
  {
   "cell_type": "code",
   "execution_count": 71,
   "id": "5543e586",
   "metadata": {},
   "outputs": [
    {
     "data": {
      "text/html": [
       "<div>\n",
       "<style scoped>\n",
       "    .dataframe tbody tr th:only-of-type {\n",
       "        vertical-align: middle;\n",
       "    }\n",
       "\n",
       "    .dataframe tbody tr th {\n",
       "        vertical-align: top;\n",
       "    }\n",
       "\n",
       "    .dataframe thead th {\n",
       "        text-align: right;\n",
       "    }\n",
       "</style>\n",
       "<table border=\"1\" class=\"dataframe\">\n",
       "  <thead>\n",
       "    <tr style=\"text-align: right;\">\n",
       "      <th></th>\n",
       "      <th>Unnamed: 0</th>\n",
       "      <th>id</th>\n",
       "      <th>text</th>\n",
       "      <th>datetime</th>\n",
       "      <th>Location</th>\n",
       "      <th>hashtag</th>\n",
       "    </tr>\n",
       "  </thead>\n",
       "  <tbody>\n",
       "    <tr>\n",
       "      <th>0</th>\n",
       "      <td>0</td>\n",
       "      <td>1482845765823188995</td>\n",
       "      <td>Tether executives are under investigation fo...</td>\n",
       "      <td>2022-01-16 22:42:35</td>\n",
       "      <td>NaN</td>\n",
       "      <td>[]</td>\n",
       "    </tr>\n",
       "    <tr>\n",
       "      <th>1</th>\n",
       "      <td>2</td>\n",
       "      <td>1482844716513341441</td>\n",
       "      <td>NFTs PitchAgency Hotbit  KODI Decoin Cert...</td>\n",
       "      <td>2022-01-16 22:38:24</td>\n",
       "      <td>NaN</td>\n",
       "      <td>[KODIV2, KODI2022, NFTs, PitchAgency, Hotbit, ...</td>\n",
       "    </tr>\n",
       "    <tr>\n",
       "      <th>2</th>\n",
       "      <td>3</td>\n",
       "      <td>1482844697773047808</td>\n",
       "      <td>Now do Tether</td>\n",
       "      <td>2022-01-16 22:38:20</td>\n",
       "      <td>NaN</td>\n",
       "      <td>[Tether]</td>\n",
       "    </tr>\n",
       "    <tr>\n",
       "      <th>3</th>\n",
       "      <td>4</td>\n",
       "      <td>1482844663736422410</td>\n",
       "      <td>NFTs PitchAgency Hotbit  KODI Decoin Cert...</td>\n",
       "      <td>2022-01-16 22:38:12</td>\n",
       "      <td>NaN</td>\n",
       "      <td>[KODIV2, KODI2022, NFTs, PitchAgency, Hotbit, ...</td>\n",
       "    </tr>\n",
       "    <tr>\n",
       "      <th>4</th>\n",
       "      <td>6</td>\n",
       "      <td>1482844612326825988</td>\n",
       "      <td>NFTs PitchAgency Hotbit  KODI Decoin Cert...</td>\n",
       "      <td>2022-01-16 22:38:00</td>\n",
       "      <td>NaN</td>\n",
       "      <td>[KODIV2, KODI2022, NFTs, PitchAgency, Hotbit, ...</td>\n",
       "    </tr>\n",
       "  </tbody>\n",
       "</table>\n",
       "</div>"
      ],
      "text/plain": [
       "   Unnamed: 0                   id  \\\n",
       "0           0  1482845765823188995   \n",
       "1           2  1482844716513341441   \n",
       "2           3  1482844697773047808   \n",
       "3           4  1482844663736422410   \n",
       "4           6  1482844612326825988   \n",
       "\n",
       "                                                text             datetime  \\\n",
       "0    Tether executives are under investigation fo...  2022-01-16 22:42:35   \n",
       "1       NFTs PitchAgency Hotbit  KODI Decoin Cert...  2022-01-16 22:38:24   \n",
       "2                                    Now do Tether    2022-01-16 22:38:20   \n",
       "3       NFTs PitchAgency Hotbit  KODI Decoin Cert...  2022-01-16 22:38:12   \n",
       "4       NFTs PitchAgency Hotbit  KODI Decoin Cert...  2022-01-16 22:38:00   \n",
       "\n",
       "  Location                                            hashtag  \n",
       "0      NaN                                                 []  \n",
       "1      NaN  [KODIV2, KODI2022, NFTs, PitchAgency, Hotbit, ...  \n",
       "2      NaN                                           [Tether]  \n",
       "3      NaN  [KODIV2, KODI2022, NFTs, PitchAgency, Hotbit, ...  \n",
       "4      NaN  [KODIV2, KODI2022, NFTs, PitchAgency, Hotbit, ...  "
      ]
     },
     "execution_count": 71,
     "metadata": {},
     "output_type": "execute_result"
    }
   ],
   "source": [
    "df_tet.head()"
   ]
  },
  {
   "cell_type": "markdown",
   "id": "17aeb926",
   "metadata": {},
   "source": [
    "### Remove digits and lower the text"
   ]
  },
  {
   "cell_type": "code",
   "execution_count": 72,
   "id": "cb35f694",
   "metadata": {
    "scrolled": true
   },
   "outputs": [
    {
     "name": "stderr",
     "output_type": "stream",
     "text": [
      "/var/folders/bc/c9cbz3vx3k331bfmmjlgtbkm0000gn/T/ipykernel_40621/2846344682.py:1: FutureWarning: The default value of regex will change from True to False in a future version.\n",
      "  df_tet.text = df_tet.text.astype(str).str.replace('\\d+', '')\n"
     ]
    },
    {
     "data": {
      "text/plain": [
       "0      tether executives are under investigation fo...\n",
       "1         nfts pitchagency hotbit  kodi decoin cert...\n",
       "2                                      now do tether  \n",
       "3         nfts pitchagency hotbit  kodi decoin cert...\n",
       "4         nfts pitchagency hotbit  kodi decoin cert...\n",
       "Name: text, dtype: object"
      ]
     },
     "execution_count": 72,
     "metadata": {},
     "output_type": "execute_result"
    }
   ],
   "source": [
    "df_tet.text = df_tet.text.astype(str).str.replace('\\d+', '')\n",
    "df_tet.text = df_tet.text.str.lower()\n",
    "df_tet.text.head()"
   ]
  },
  {
   "cell_type": "markdown",
   "id": "74bf1c7e",
   "metadata": {},
   "source": [
    "### Stemming text"
   ]
  },
  {
   "cell_type": "code",
   "execution_count": 73,
   "id": "8065d57c",
   "metadata": {
    "scrolled": true
   },
   "outputs": [],
   "source": [
    "from nltk.tokenize import TweetTokenizer"
   ]
  },
  {
   "cell_type": "code",
   "execution_count": 74,
   "id": "66754aab",
   "metadata": {},
   "outputs": [],
   "source": [
    "wnl = WordNetLemmatizer()\n",
    "stemmer = LancasterStemmer()\n",
    "def lemmatize_text(text):\n",
    "    text = text.split(' ')\n",
    "    for i, word in enumerate(text):\n",
    "        text[i] = wnl.lemmatize(word)   #results for stemming is better lemmatization\n",
    "        #text[i] = stemmer.stem(word)    \n",
    "    return ' '.join(text)"
   ]
  },
  {
   "cell_type": "code",
   "execution_count": 75,
   "id": "bf487115",
   "metadata": {
    "scrolled": true
   },
   "outputs": [
    {
     "data": {
      "text/html": [
       "<div>\n",
       "<style scoped>\n",
       "    .dataframe tbody tr th:only-of-type {\n",
       "        vertical-align: middle;\n",
       "    }\n",
       "\n",
       "    .dataframe tbody tr th {\n",
       "        vertical-align: top;\n",
       "    }\n",
       "\n",
       "    .dataframe thead th {\n",
       "        text-align: right;\n",
       "    }\n",
       "</style>\n",
       "<table border=\"1\" class=\"dataframe\">\n",
       "  <thead>\n",
       "    <tr style=\"text-align: right;\">\n",
       "      <th></th>\n",
       "      <th>Unnamed: 0</th>\n",
       "      <th>id</th>\n",
       "      <th>text</th>\n",
       "      <th>datetime</th>\n",
       "      <th>Location</th>\n",
       "      <th>hashtag</th>\n",
       "    </tr>\n",
       "  </thead>\n",
       "  <tbody>\n",
       "    <tr>\n",
       "      <th>0</th>\n",
       "      <td>0</td>\n",
       "      <td>1482845765823188995</td>\n",
       "      <td>tether executive are under investigation for...</td>\n",
       "      <td>2022-01-16 22:42:35</td>\n",
       "      <td>NaN</td>\n",
       "      <td>[]</td>\n",
       "    </tr>\n",
       "    <tr>\n",
       "      <th>1</th>\n",
       "      <td>2</td>\n",
       "      <td>1482844716513341441</td>\n",
       "      <td>nfts pitchagency hotbit  kodi decoin cert...</td>\n",
       "      <td>2022-01-16 22:38:24</td>\n",
       "      <td>NaN</td>\n",
       "      <td>[KODIV2, KODI2022, NFTs, PitchAgency, Hotbit, ...</td>\n",
       "    </tr>\n",
       "    <tr>\n",
       "      <th>2</th>\n",
       "      <td>3</td>\n",
       "      <td>1482844697773047808</td>\n",
       "      <td>now do tether</td>\n",
       "      <td>2022-01-16 22:38:20</td>\n",
       "      <td>NaN</td>\n",
       "      <td>[Tether]</td>\n",
       "    </tr>\n",
       "    <tr>\n",
       "      <th>3</th>\n",
       "      <td>4</td>\n",
       "      <td>1482844663736422410</td>\n",
       "      <td>nfts pitchagency hotbit  kodi decoin cert...</td>\n",
       "      <td>2022-01-16 22:38:12</td>\n",
       "      <td>NaN</td>\n",
       "      <td>[KODIV2, KODI2022, NFTs, PitchAgency, Hotbit, ...</td>\n",
       "    </tr>\n",
       "    <tr>\n",
       "      <th>4</th>\n",
       "      <td>6</td>\n",
       "      <td>1482844612326825988</td>\n",
       "      <td>nfts pitchagency hotbit  kodi decoin cert...</td>\n",
       "      <td>2022-01-16 22:38:00</td>\n",
       "      <td>NaN</td>\n",
       "      <td>[KODIV2, KODI2022, NFTs, PitchAgency, Hotbit, ...</td>\n",
       "    </tr>\n",
       "  </tbody>\n",
       "</table>\n",
       "</div>"
      ],
      "text/plain": [
       "   Unnamed: 0                   id  \\\n",
       "0           0  1482845765823188995   \n",
       "1           2  1482844716513341441   \n",
       "2           3  1482844697773047808   \n",
       "3           4  1482844663736422410   \n",
       "4           6  1482844612326825988   \n",
       "\n",
       "                                                text             datetime  \\\n",
       "0    tether executive are under investigation for...  2022-01-16 22:42:35   \n",
       "1       nfts pitchagency hotbit  kodi decoin cert...  2022-01-16 22:38:24   \n",
       "2                                    now do tether    2022-01-16 22:38:20   \n",
       "3       nfts pitchagency hotbit  kodi decoin cert...  2022-01-16 22:38:12   \n",
       "4       nfts pitchagency hotbit  kodi decoin cert...  2022-01-16 22:38:00   \n",
       "\n",
       "  Location                                            hashtag  \n",
       "0      NaN                                                 []  \n",
       "1      NaN  [KODIV2, KODI2022, NFTs, PitchAgency, Hotbit, ...  \n",
       "2      NaN                                           [Tether]  \n",
       "3      NaN  [KODIV2, KODI2022, NFTs, PitchAgency, Hotbit, ...  \n",
       "4      NaN  [KODIV2, KODI2022, NFTs, PitchAgency, Hotbit, ...  "
      ]
     },
     "execution_count": 75,
     "metadata": {},
     "output_type": "execute_result"
    }
   ],
   "source": [
    "df_tet.text = df_tet.text.apply(lemmatize_text)\n",
    "df_tet.head()"
   ]
  },
  {
   "cell_type": "markdown",
   "id": "2a00f0dd",
   "metadata": {},
   "source": [
    "### Check if there is non-enlighs words and remove them"
   ]
  },
  {
   "cell_type": "code",
   "execution_count": 76,
   "id": "dd71782e",
   "metadata": {},
   "outputs": [
    {
     "data": {
      "text/plain": [
       "0         tether executive are under investigation for...\n",
       "1            nfts pitchagency hotbit  kodi decoin cert...\n",
       "2                                         now do tether  \n",
       "3            nfts pitchagency hotbit  kodi decoin cert...\n",
       "4            nfts pitchagency hotbit  kodi decoin cert...\n",
       "                              ...                        \n",
       "1470    b  actually  i almost never sell my coin  mayb...\n",
       "1471    b hello  so what s really the difference betwe...\n",
       "1472    stop using tether   try to buy    pkn instead ...\n",
       "1473    b  i want to trade with tether but still haven...\n",
       "1474      this man is samson mow    he is the chief st...\n",
       "Name: text, Length: 1475, dtype: object"
      ]
     },
     "execution_count": 76,
     "metadata": {},
     "output_type": "execute_result"
    }
   ],
   "source": [
    "test = df_tet.text\n",
    "test"
   ]
  },
  {
   "cell_type": "code",
   "execution_count": 77,
   "id": "7726366f",
   "metadata": {
    "scrolled": false
   },
   "outputs": [],
   "source": [
    "import nltk\n",
    "words = set(nltk.corpus.words.words())\n",
    "keep_words = ['bitcoin', 'ethereum', 'binance','tether','solana','nft']\n",
    "\n",
    "def keep_eng(text):\n",
    "    return (\" \".join(w for w in nltk.wordpunct_tokenize(text) if w in words or not w.isalpha() or w in keep_words))"
   ]
  },
  {
   "cell_type": "code",
   "execution_count": 78,
   "id": "893f593c",
   "metadata": {},
   "outputs": [
    {
     "name": "stdout",
     "output_type": "stream",
     "text": [
      "0       tether executive are under investigation for b...\n",
      "1                                                        \n",
      "2                                           now do tether\n",
      "3                                                        \n",
      "4                                                        \n",
      "                              ...                        \n",
      "1470    b actually i almost never sell my coin maybe t...\n",
      "1471    b hello so what s really the difference betwee...\n",
      "1472                       stop tether try to buy instead\n",
      "1473    b i want to trade with tether but still haven ...\n",
      "1474    this man is samson mow he is the chief strateg...\n",
      "Name: text, Length: 1475, dtype: object\n"
     ]
    }
   ],
   "source": [
    "df_tet.text = df_tet.text.apply(keep_eng)\n",
    "print(df_tet.text)"
   ]
  },
  {
   "cell_type": "markdown",
   "id": "c97f03e7",
   "metadata": {},
   "source": [
    "### Remove rows containing empty tweets"
   ]
  },
  {
   "cell_type": "code",
   "execution_count": 79,
   "id": "9f99caa1",
   "metadata": {},
   "outputs": [
    {
     "name": "stdout",
     "output_type": "stream",
     "text": [
      " There are 223 rows that now have empty tweets.\n"
     ]
    }
   ],
   "source": [
    "print(f\" There are {np.sum(df_tet.text == '')} rows that now have empty tweets.\")"
   ]
  },
  {
   "cell_type": "code",
   "execution_count": 80,
   "id": "a55a2ed3",
   "metadata": {},
   "outputs": [
    {
     "data": {
      "text/html": [
       "<div>\n",
       "<style scoped>\n",
       "    .dataframe tbody tr th:only-of-type {\n",
       "        vertical-align: middle;\n",
       "    }\n",
       "\n",
       "    .dataframe tbody tr th {\n",
       "        vertical-align: top;\n",
       "    }\n",
       "\n",
       "    .dataframe thead th {\n",
       "        text-align: right;\n",
       "    }\n",
       "</style>\n",
       "<table border=\"1\" class=\"dataframe\">\n",
       "  <thead>\n",
       "    <tr style=\"text-align: right;\">\n",
       "      <th></th>\n",
       "      <th>Unnamed: 0</th>\n",
       "      <th>id</th>\n",
       "      <th>text</th>\n",
       "      <th>datetime</th>\n",
       "      <th>Location</th>\n",
       "      <th>hashtag</th>\n",
       "    </tr>\n",
       "  </thead>\n",
       "  <tbody>\n",
       "    <tr>\n",
       "      <th>1</th>\n",
       "      <td>2</td>\n",
       "      <td>1482844716513341441</td>\n",
       "      <td></td>\n",
       "      <td>2022-01-16 22:38:24</td>\n",
       "      <td>NaN</td>\n",
       "      <td>[KODIV2, KODI2022, NFTs, PitchAgency, Hotbit, ...</td>\n",
       "    </tr>\n",
       "    <tr>\n",
       "      <th>3</th>\n",
       "      <td>4</td>\n",
       "      <td>1482844663736422410</td>\n",
       "      <td></td>\n",
       "      <td>2022-01-16 22:38:12</td>\n",
       "      <td>NaN</td>\n",
       "      <td>[KODIV2, KODI2022, NFTs, PitchAgency, Hotbit, ...</td>\n",
       "    </tr>\n",
       "    <tr>\n",
       "      <th>4</th>\n",
       "      <td>6</td>\n",
       "      <td>1482844612326825988</td>\n",
       "      <td></td>\n",
       "      <td>2022-01-16 22:38:00</td>\n",
       "      <td>NaN</td>\n",
       "      <td>[KODIV2, KODI2022, NFTs, PitchAgency, Hotbit, ...</td>\n",
       "    </tr>\n",
       "    <tr>\n",
       "      <th>5</th>\n",
       "      <td>7</td>\n",
       "      <td>1482844564331409408</td>\n",
       "      <td></td>\n",
       "      <td>2022-01-16 22:37:48</td>\n",
       "      <td>NaN</td>\n",
       "      <td>[KODIV2, KODI2022, NFTs, PitchAgency, Hotbit, ...</td>\n",
       "    </tr>\n",
       "    <tr>\n",
       "      <th>6</th>\n",
       "      <td>8</td>\n",
       "      <td>1482844505363652608</td>\n",
       "      <td></td>\n",
       "      <td>2022-01-16 22:37:34</td>\n",
       "      <td>NaN</td>\n",
       "      <td>[KODIV2, KODI2022, NFTs, PitchAgency, Hotbit, ...</td>\n",
       "    </tr>\n",
       "    <tr>\n",
       "      <th>...</th>\n",
       "      <td>...</td>\n",
       "      <td>...</td>\n",
       "      <td>...</td>\n",
       "      <td>...</td>\n",
       "      <td>...</td>\n",
       "      <td>...</td>\n",
       "    </tr>\n",
       "    <tr>\n",
       "      <th>1451</th>\n",
       "      <td>1970</td>\n",
       "      <td>1482617860560244737</td>\n",
       "      <td></td>\n",
       "      <td>2022-01-16 07:36:58</td>\n",
       "      <td>NaN</td>\n",
       "      <td>[]</td>\n",
       "    </tr>\n",
       "    <tr>\n",
       "      <th>1453</th>\n",
       "      <td>1972</td>\n",
       "      <td>1482617645379854336</td>\n",
       "      <td></td>\n",
       "      <td>2022-01-16 07:36:07</td>\n",
       "      <td>NaN</td>\n",
       "      <td>[]</td>\n",
       "    </tr>\n",
       "    <tr>\n",
       "      <th>1454</th>\n",
       "      <td>1973</td>\n",
       "      <td>1482617463695196162</td>\n",
       "      <td></td>\n",
       "      <td>2022-01-16 07:35:23</td>\n",
       "      <td>NaN</td>\n",
       "      <td>[]</td>\n",
       "    </tr>\n",
       "    <tr>\n",
       "      <th>1461</th>\n",
       "      <td>1981</td>\n",
       "      <td>1482616358609297415</td>\n",
       "      <td></td>\n",
       "      <td>2022-01-16 07:31:00</td>\n",
       "      <td>NaN</td>\n",
       "      <td>[crypto, Bitcoin, Ethereum, Binancecoin, Tethe...</td>\n",
       "    </tr>\n",
       "    <tr>\n",
       "      <th>1466</th>\n",
       "      <td>1986</td>\n",
       "      <td>1482615757682978817</td>\n",
       "      <td></td>\n",
       "      <td>2022-01-16 07:28:36</td>\n",
       "      <td>NaN</td>\n",
       "      <td>[]</td>\n",
       "    </tr>\n",
       "  </tbody>\n",
       "</table>\n",
       "<p>223 rows × 6 columns</p>\n",
       "</div>"
      ],
      "text/plain": [
       "      Unnamed: 0                   id text             datetime Location  \\\n",
       "1              2  1482844716513341441       2022-01-16 22:38:24      NaN   \n",
       "3              4  1482844663736422410       2022-01-16 22:38:12      NaN   \n",
       "4              6  1482844612326825988       2022-01-16 22:38:00      NaN   \n",
       "5              7  1482844564331409408       2022-01-16 22:37:48      NaN   \n",
       "6              8  1482844505363652608       2022-01-16 22:37:34      NaN   \n",
       "...          ...                  ...  ...                  ...      ...   \n",
       "1451        1970  1482617860560244737       2022-01-16 07:36:58      NaN   \n",
       "1453        1972  1482617645379854336       2022-01-16 07:36:07      NaN   \n",
       "1454        1973  1482617463695196162       2022-01-16 07:35:23      NaN   \n",
       "1461        1981  1482616358609297415       2022-01-16 07:31:00      NaN   \n",
       "1466        1986  1482615757682978817       2022-01-16 07:28:36      NaN   \n",
       "\n",
       "                                                hashtag  \n",
       "1     [KODIV2, KODI2022, NFTs, PitchAgency, Hotbit, ...  \n",
       "3     [KODIV2, KODI2022, NFTs, PitchAgency, Hotbit, ...  \n",
       "4     [KODIV2, KODI2022, NFTs, PitchAgency, Hotbit, ...  \n",
       "5     [KODIV2, KODI2022, NFTs, PitchAgency, Hotbit, ...  \n",
       "6     [KODIV2, KODI2022, NFTs, PitchAgency, Hotbit, ...  \n",
       "...                                                 ...  \n",
       "1451                                                 []  \n",
       "1453                                                 []  \n",
       "1454                                                 []  \n",
       "1461  [crypto, Bitcoin, Ethereum, Binancecoin, Tethe...  \n",
       "1466                                                 []  \n",
       "\n",
       "[223 rows x 6 columns]"
      ]
     },
     "execution_count": 80,
     "metadata": {},
     "output_type": "execute_result"
    }
   ],
   "source": [
    "mask = df_tet.text == ''\n",
    "df_tet[mask]"
   ]
  },
  {
   "cell_type": "code",
   "execution_count": 81,
   "id": "209f12f5",
   "metadata": {},
   "outputs": [
    {
     "data": {
      "text/plain": [
       "(1252, 6)"
      ]
     },
     "execution_count": 81,
     "metadata": {},
     "output_type": "execute_result"
    }
   ],
   "source": [
    "df_tet = df_tet[~mask]\n",
    "df_tet.shape"
   ]
  },
  {
   "cell_type": "code",
   "execution_count": null,
   "id": "ddd24564",
   "metadata": {},
   "outputs": [],
   "source": []
  },
  {
   "cell_type": "markdown",
   "id": "44328d61",
   "metadata": {},
   "source": [
    "### Tokenize the document"
   ]
  },
  {
   "cell_type": "code",
   "execution_count": 82,
   "id": "85965f3e",
   "metadata": {},
   "outputs": [],
   "source": [
    "stop_words = nltk.corpus.stopwords.words('english')"
   ]
  },
  {
   "cell_type": "code",
   "execution_count": 83,
   "id": "47166883",
   "metadata": {},
   "outputs": [
    {
     "data": {
      "text/html": [
       "<div>\n",
       "<style scoped>\n",
       "    .dataframe tbody tr th:only-of-type {\n",
       "        vertical-align: middle;\n",
       "    }\n",
       "\n",
       "    .dataframe tbody tr th {\n",
       "        vertical-align: top;\n",
       "    }\n",
       "\n",
       "    .dataframe thead th {\n",
       "        text-align: right;\n",
       "    }\n",
       "</style>\n",
       "<table border=\"1\" class=\"dataframe\">\n",
       "  <thead>\n",
       "    <tr style=\"text-align: right;\">\n",
       "      <th></th>\n",
       "      <th>able</th>\n",
       "      <th>accept</th>\n",
       "      <th>according</th>\n",
       "      <th>account</th>\n",
       "      <th>add</th>\n",
       "      <th>added</th>\n",
       "      <th>advertising</th>\n",
       "      <th>ago</th>\n",
       "      <th>algorithmic</th>\n",
       "      <th>alive</th>\n",
       "      <th>...</th>\n",
       "      <th>work</th>\n",
       "      <th>world</th>\n",
       "      <th>wow</th>\n",
       "      <th>wrong</th>\n",
       "      <th>ya</th>\n",
       "      <th>yeah</th>\n",
       "      <th>year</th>\n",
       "      <th>yeni</th>\n",
       "      <th>yes</th>\n",
       "      <th>yok</th>\n",
       "    </tr>\n",
       "    <tr>\n",
       "      <th>text</th>\n",
       "      <th></th>\n",
       "      <th></th>\n",
       "      <th></th>\n",
       "      <th></th>\n",
       "      <th></th>\n",
       "      <th></th>\n",
       "      <th></th>\n",
       "      <th></th>\n",
       "      <th></th>\n",
       "      <th></th>\n",
       "      <th></th>\n",
       "      <th></th>\n",
       "      <th></th>\n",
       "      <th></th>\n",
       "      <th></th>\n",
       "      <th></th>\n",
       "      <th></th>\n",
       "      <th></th>\n",
       "      <th></th>\n",
       "      <th></th>\n",
       "      <th></th>\n",
       "    </tr>\n",
       "  </thead>\n",
       "  <tbody>\n",
       "    <tr>\n",
       "      <th>tether executive are under investigation for bank fraud by the justice department million worth of tether wa</th>\n",
       "      <td>0</td>\n",
       "      <td>0</td>\n",
       "      <td>0</td>\n",
       "      <td>0</td>\n",
       "      <td>0</td>\n",
       "      <td>0</td>\n",
       "      <td>0</td>\n",
       "      <td>0</td>\n",
       "      <td>0</td>\n",
       "      <td>0</td>\n",
       "      <td>...</td>\n",
       "      <td>0</td>\n",
       "      <td>0</td>\n",
       "      <td>0</td>\n",
       "      <td>0</td>\n",
       "      <td>0</td>\n",
       "      <td>0</td>\n",
       "      <td>0</td>\n",
       "      <td>0</td>\n",
       "      <td>0</td>\n",
       "      <td>0</td>\n",
       "    </tr>\n",
       "    <tr>\n",
       "      <th>now do tether</th>\n",
       "      <td>0</td>\n",
       "      <td>0</td>\n",
       "      <td>0</td>\n",
       "      <td>0</td>\n",
       "      <td>0</td>\n",
       "      <td>0</td>\n",
       "      <td>0</td>\n",
       "      <td>0</td>\n",
       "      <td>0</td>\n",
       "      <td>0</td>\n",
       "      <td>...</td>\n",
       "      <td>0</td>\n",
       "      <td>0</td>\n",
       "      <td>0</td>\n",
       "      <td>0</td>\n",
       "      <td>0</td>\n",
       "      <td>0</td>\n",
       "      <td>0</td>\n",
       "      <td>0</td>\n",
       "      <td>0</td>\n",
       "      <td>0</td>\n",
       "    </tr>\n",
       "    <tr>\n",
       "      <th>he at family point to the vaccine mandate</th>\n",
       "      <td>0</td>\n",
       "      <td>0</td>\n",
       "      <td>0</td>\n",
       "      <td>0</td>\n",
       "      <td>0</td>\n",
       "      <td>0</td>\n",
       "      <td>0</td>\n",
       "      <td>0</td>\n",
       "      <td>0</td>\n",
       "      <td>0</td>\n",
       "      <td>...</td>\n",
       "      <td>0</td>\n",
       "      <td>0</td>\n",
       "      <td>0</td>\n",
       "      <td>0</td>\n",
       "      <td>0</td>\n",
       "      <td>0</td>\n",
       "      <td>0</td>\n",
       "      <td>0</td>\n",
       "      <td>0</td>\n",
       "      <td>0</td>\n",
       "    </tr>\n",
       "    <tr>\n",
       "      <th>tether</th>\n",
       "      <td>0</td>\n",
       "      <td>0</td>\n",
       "      <td>0</td>\n",
       "      <td>0</td>\n",
       "      <td>0</td>\n",
       "      <td>0</td>\n",
       "      <td>0</td>\n",
       "      <td>0</td>\n",
       "      <td>0</td>\n",
       "      <td>0</td>\n",
       "      <td>...</td>\n",
       "      <td>0</td>\n",
       "      <td>0</td>\n",
       "      <td>0</td>\n",
       "      <td>0</td>\n",
       "      <td>0</td>\n",
       "      <td>0</td>\n",
       "      <td>0</td>\n",
       "      <td>0</td>\n",
       "      <td>0</td>\n",
       "      <td>0</td>\n",
       "    </tr>\n",
       "    <tr>\n",
       "      <th>bring back increase tether distance on console you idiot</th>\n",
       "      <td>0</td>\n",
       "      <td>0</td>\n",
       "      <td>0</td>\n",
       "      <td>0</td>\n",
       "      <td>0</td>\n",
       "      <td>0</td>\n",
       "      <td>0</td>\n",
       "      <td>0</td>\n",
       "      <td>0</td>\n",
       "      <td>0</td>\n",
       "      <td>...</td>\n",
       "      <td>0</td>\n",
       "      <td>0</td>\n",
       "      <td>0</td>\n",
       "      <td>0</td>\n",
       "      <td>0</td>\n",
       "      <td>0</td>\n",
       "      <td>0</td>\n",
       "      <td>0</td>\n",
       "      <td>0</td>\n",
       "      <td>0</td>\n",
       "    </tr>\n",
       "    <tr>\n",
       "      <th>stop tether try to buy instead</th>\n",
       "      <td>0</td>\n",
       "      <td>0</td>\n",
       "      <td>0</td>\n",
       "      <td>0</td>\n",
       "      <td>0</td>\n",
       "      <td>0</td>\n",
       "      <td>0</td>\n",
       "      <td>0</td>\n",
       "      <td>0</td>\n",
       "      <td>0</td>\n",
       "      <td>...</td>\n",
       "      <td>0</td>\n",
       "      <td>0</td>\n",
       "      <td>0</td>\n",
       "      <td>0</td>\n",
       "      <td>0</td>\n",
       "      <td>0</td>\n",
       "      <td>0</td>\n",
       "      <td>0</td>\n",
       "      <td>0</td>\n",
       "      <td>0</td>\n",
       "    </tr>\n",
       "    <tr>\n",
       "      <th>you can gold a lot of people are chasing their dream and dragon in the time is to talk</th>\n",
       "      <td>0</td>\n",
       "      <td>0</td>\n",
       "      <td>0</td>\n",
       "      <td>0</td>\n",
       "      <td>0</td>\n",
       "      <td>0</td>\n",
       "      <td>0</td>\n",
       "      <td>0</td>\n",
       "      <td>0</td>\n",
       "      <td>0</td>\n",
       "      <td>...</td>\n",
       "      <td>0</td>\n",
       "      <td>0</td>\n",
       "      <td>0</td>\n",
       "      <td>0</td>\n",
       "      <td>0</td>\n",
       "      <td>0</td>\n",
       "      <td>0</td>\n",
       "      <td>0</td>\n",
       "      <td>0</td>\n",
       "      <td>0</td>\n",
       "    </tr>\n",
       "    <tr>\n",
       "      <th>unhitch the straining the weighted into the away from</th>\n",
       "      <td>0</td>\n",
       "      <td>0</td>\n",
       "      <td>0</td>\n",
       "      <td>0</td>\n",
       "      <td>0</td>\n",
       "      <td>0</td>\n",
       "      <td>0</td>\n",
       "      <td>0</td>\n",
       "      <td>0</td>\n",
       "      <td>0</td>\n",
       "      <td>...</td>\n",
       "      <td>0</td>\n",
       "      <td>0</td>\n",
       "      <td>0</td>\n",
       "      <td>0</td>\n",
       "      <td>0</td>\n",
       "      <td>0</td>\n",
       "      <td>0</td>\n",
       "      <td>0</td>\n",
       "      <td>0</td>\n",
       "      <td>0</td>\n",
       "    </tr>\n",
       "    <tr>\n",
       "      <th>b baby i been there wa at the point where all i really wa now i m still</th>\n",
       "      <td>0</td>\n",
       "      <td>0</td>\n",
       "      <td>0</td>\n",
       "      <td>0</td>\n",
       "      <td>0</td>\n",
       "      <td>0</td>\n",
       "      <td>0</td>\n",
       "      <td>0</td>\n",
       "      <td>0</td>\n",
       "      <td>0</td>\n",
       "      <td>...</td>\n",
       "      <td>0</td>\n",
       "      <td>0</td>\n",
       "      <td>0</td>\n",
       "      <td>0</td>\n",
       "      <td>0</td>\n",
       "      <td>0</td>\n",
       "      <td>0</td>\n",
       "      <td>0</td>\n",
       "      <td>0</td>\n",
       "      <td>0</td>\n",
       "    </tr>\n",
       "    <tr>\n",
       "      <th>b el pass it bitcoin law and it s a tether scam</th>\n",
       "      <td>0</td>\n",
       "      <td>0</td>\n",
       "      <td>0</td>\n",
       "      <td>0</td>\n",
       "      <td>0</td>\n",
       "      <td>0</td>\n",
       "      <td>0</td>\n",
       "      <td>0</td>\n",
       "      <td>0</td>\n",
       "      <td>0</td>\n",
       "      <td>...</td>\n",
       "      <td>0</td>\n",
       "      <td>0</td>\n",
       "      <td>0</td>\n",
       "      <td>0</td>\n",
       "      <td>0</td>\n",
       "      <td>0</td>\n",
       "      <td>0</td>\n",
       "      <td>0</td>\n",
       "      <td>0</td>\n",
       "      <td>0</td>\n",
       "    </tr>\n",
       "  </tbody>\n",
       "</table>\n",
       "<p>10 rows × 294 columns</p>\n",
       "</div>"
      ],
      "text/plain": [
       "                                                    able  accept  according  \\\n",
       "text                                                                          \n",
       "tether executive are under investigation for ba...     0       0          0   \n",
       "now do tether                                          0       0          0   \n",
       "he at family point to the vaccine mandate              0       0          0   \n",
       "tether                                                 0       0          0   \n",
       "bring back increase tether distance on console ...     0       0          0   \n",
       "stop tether try to buy instead                         0       0          0   \n",
       "you can gold a lot of people are chasing their ...     0       0          0   \n",
       "unhitch the straining the weighted into the awa...     0       0          0   \n",
       "b baby i been there wa at the point where all i...     0       0          0   \n",
       "b el pass it bitcoin law and it s a tether scam        0       0          0   \n",
       "\n",
       "                                                    account  add  added  \\\n",
       "text                                                                      \n",
       "tether executive are under investigation for ba...        0    0      0   \n",
       "now do tether                                             0    0      0   \n",
       "he at family point to the vaccine mandate                 0    0      0   \n",
       "tether                                                    0    0      0   \n",
       "bring back increase tether distance on console ...        0    0      0   \n",
       "stop tether try to buy instead                            0    0      0   \n",
       "you can gold a lot of people are chasing their ...        0    0      0   \n",
       "unhitch the straining the weighted into the awa...        0    0      0   \n",
       "b baby i been there wa at the point where all i...        0    0      0   \n",
       "b el pass it bitcoin law and it s a tether scam           0    0      0   \n",
       "\n",
       "                                                    advertising  ago  \\\n",
       "text                                                                   \n",
       "tether executive are under investigation for ba...            0    0   \n",
       "now do tether                                                 0    0   \n",
       "he at family point to the vaccine mandate                     0    0   \n",
       "tether                                                        0    0   \n",
       "bring back increase tether distance on console ...            0    0   \n",
       "stop tether try to buy instead                                0    0   \n",
       "you can gold a lot of people are chasing their ...            0    0   \n",
       "unhitch the straining the weighted into the awa...            0    0   \n",
       "b baby i been there wa at the point where all i...            0    0   \n",
       "b el pass it bitcoin law and it s a tether scam               0    0   \n",
       "\n",
       "                                                    algorithmic  alive  ...  \\\n",
       "text                                                                    ...   \n",
       "tether executive are under investigation for ba...            0      0  ...   \n",
       "now do tether                                                 0      0  ...   \n",
       "he at family point to the vaccine mandate                     0      0  ...   \n",
       "tether                                                        0      0  ...   \n",
       "bring back increase tether distance on console ...            0      0  ...   \n",
       "stop tether try to buy instead                                0      0  ...   \n",
       "you can gold a lot of people are chasing their ...            0      0  ...   \n",
       "unhitch the straining the weighted into the awa...            0      0  ...   \n",
       "b baby i been there wa at the point where all i...            0      0  ...   \n",
       "b el pass it bitcoin law and it s a tether scam               0      0  ...   \n",
       "\n",
       "                                                    work  world  wow  wrong  \\\n",
       "text                                                                          \n",
       "tether executive are under investigation for ba...     0      0    0      0   \n",
       "now do tether                                          0      0    0      0   \n",
       "he at family point to the vaccine mandate              0      0    0      0   \n",
       "tether                                                 0      0    0      0   \n",
       "bring back increase tether distance on console ...     0      0    0      0   \n",
       "stop tether try to buy instead                         0      0    0      0   \n",
       "you can gold a lot of people are chasing their ...     0      0    0      0   \n",
       "unhitch the straining the weighted into the awa...     0      0    0      0   \n",
       "b baby i been there wa at the point where all i...     0      0    0      0   \n",
       "b el pass it bitcoin law and it s a tether scam        0      0    0      0   \n",
       "\n",
       "                                                    ya  yeah  year  yeni  yes  \\\n",
       "text                                                                            \n",
       "tether executive are under investigation for ba...   0     0     0     0    0   \n",
       "now do tether                                        0     0     0     0    0   \n",
       "he at family point to the vaccine mandate            0     0     0     0    0   \n",
       "tether                                               0     0     0     0    0   \n",
       "bring back increase tether distance on console ...   0     0     0     0    0   \n",
       "stop tether try to buy instead                       0     0     0     0    0   \n",
       "you can gold a lot of people are chasing their ...   0     0     0     0    0   \n",
       "unhitch the straining the weighted into the awa...   0     0     0     0    0   \n",
       "b baby i been there wa at the point where all i...   0     0     0     0    0   \n",
       "b el pass it bitcoin law and it s a tether scam      0     0     0     0    0   \n",
       "\n",
       "                                                    yok  \n",
       "text                                                     \n",
       "tether executive are under investigation for ba...    0  \n",
       "now do tether                                         0  \n",
       "he at family point to the vaccine mandate             0  \n",
       "tether                                                0  \n",
       "bring back increase tether distance on console ...    0  \n",
       "stop tether try to buy instead                        0  \n",
       "you can gold a lot of people are chasing their ...    0  \n",
       "unhitch the straining the weighted into the awa...    0  \n",
       "b baby i been there wa at the point where all i...    0  \n",
       "b el pass it bitcoin law and it s a tether scam       0  \n",
       "\n",
       "[10 rows x 294 columns]"
      ]
     },
     "execution_count": 83,
     "metadata": {},
     "output_type": "execute_result"
    }
   ],
   "source": [
    "## CountVectorize\n",
    "cvec = CountVectorizer(stop_words=stop_words, max_df=7, min_df=3)\n",
    "doc_word_cv = cvec.fit_transform(df_tet.text)\n",
    "pd.DataFrame(doc_word_cv.toarray(), index=df_tet.text, columns=cvec.get_feature_names()).head(10)"
   ]
  },
  {
   "cell_type": "code",
   "execution_count": 84,
   "id": "e345404a",
   "metadata": {},
   "outputs": [
    {
     "data": {
      "text/html": [
       "<div>\n",
       "<style scoped>\n",
       "    .dataframe tbody tr th:only-of-type {\n",
       "        vertical-align: middle;\n",
       "    }\n",
       "\n",
       "    .dataframe tbody tr th {\n",
       "        vertical-align: top;\n",
       "    }\n",
       "\n",
       "    .dataframe thead th {\n",
       "        text-align: right;\n",
       "    }\n",
       "</style>\n",
       "<table border=\"1\" class=\"dataframe\">\n",
       "  <thead>\n",
       "    <tr style=\"text-align: right;\">\n",
       "      <th></th>\n",
       "      <th>able</th>\n",
       "      <th>accept</th>\n",
       "      <th>according</th>\n",
       "      <th>account</th>\n",
       "      <th>actually</th>\n",
       "      <th>add</th>\n",
       "      <th>added</th>\n",
       "      <th>address</th>\n",
       "      <th>advertising</th>\n",
       "      <th>ago</th>\n",
       "      <th>...</th>\n",
       "      <th>worth</th>\n",
       "      <th>would</th>\n",
       "      <th>wow</th>\n",
       "      <th>wrong</th>\n",
       "      <th>ya</th>\n",
       "      <th>yeah</th>\n",
       "      <th>year</th>\n",
       "      <th>yeni</th>\n",
       "      <th>yes</th>\n",
       "      <th>yok</th>\n",
       "    </tr>\n",
       "    <tr>\n",
       "      <th>text</th>\n",
       "      <th></th>\n",
       "      <th></th>\n",
       "      <th></th>\n",
       "      <th></th>\n",
       "      <th></th>\n",
       "      <th></th>\n",
       "      <th></th>\n",
       "      <th></th>\n",
       "      <th></th>\n",
       "      <th></th>\n",
       "      <th></th>\n",
       "      <th></th>\n",
       "      <th></th>\n",
       "      <th></th>\n",
       "      <th></th>\n",
       "      <th></th>\n",
       "      <th></th>\n",
       "      <th></th>\n",
       "      <th></th>\n",
       "      <th></th>\n",
       "      <th></th>\n",
       "    </tr>\n",
       "  </thead>\n",
       "  <tbody>\n",
       "    <tr>\n",
       "      <th>tether executive are under investigation for bank fraud by the justice department million worth of tether wa</th>\n",
       "      <td>0.0</td>\n",
       "      <td>0.0</td>\n",
       "      <td>0.0</td>\n",
       "      <td>0.0</td>\n",
       "      <td>0.0</td>\n",
       "      <td>0.0</td>\n",
       "      <td>0.0</td>\n",
       "      <td>0.0</td>\n",
       "      <td>0.0</td>\n",
       "      <td>0.0</td>\n",
       "      <td>...</td>\n",
       "      <td>0.338832</td>\n",
       "      <td>0.0</td>\n",
       "      <td>0.0</td>\n",
       "      <td>0.0</td>\n",
       "      <td>0.0</td>\n",
       "      <td>0.0</td>\n",
       "      <td>0.0</td>\n",
       "      <td>0.0</td>\n",
       "      <td>0.0</td>\n",
       "      <td>0.0</td>\n",
       "    </tr>\n",
       "    <tr>\n",
       "      <th>now do tether</th>\n",
       "      <td>0.0</td>\n",
       "      <td>0.0</td>\n",
       "      <td>0.0</td>\n",
       "      <td>0.0</td>\n",
       "      <td>0.0</td>\n",
       "      <td>0.0</td>\n",
       "      <td>0.0</td>\n",
       "      <td>0.0</td>\n",
       "      <td>0.0</td>\n",
       "      <td>0.0</td>\n",
       "      <td>...</td>\n",
       "      <td>0.000000</td>\n",
       "      <td>0.0</td>\n",
       "      <td>0.0</td>\n",
       "      <td>0.0</td>\n",
       "      <td>0.0</td>\n",
       "      <td>0.0</td>\n",
       "      <td>0.0</td>\n",
       "      <td>0.0</td>\n",
       "      <td>0.0</td>\n",
       "      <td>0.0</td>\n",
       "    </tr>\n",
       "    <tr>\n",
       "      <th>he at family point to the vaccine mandate</th>\n",
       "      <td>0.0</td>\n",
       "      <td>0.0</td>\n",
       "      <td>0.0</td>\n",
       "      <td>0.0</td>\n",
       "      <td>0.0</td>\n",
       "      <td>0.0</td>\n",
       "      <td>0.0</td>\n",
       "      <td>0.0</td>\n",
       "      <td>0.0</td>\n",
       "      <td>0.0</td>\n",
       "      <td>...</td>\n",
       "      <td>0.000000</td>\n",
       "      <td>0.0</td>\n",
       "      <td>0.0</td>\n",
       "      <td>0.0</td>\n",
       "      <td>0.0</td>\n",
       "      <td>0.0</td>\n",
       "      <td>0.0</td>\n",
       "      <td>0.0</td>\n",
       "      <td>0.0</td>\n",
       "      <td>0.0</td>\n",
       "    </tr>\n",
       "    <tr>\n",
       "      <th>tether</th>\n",
       "      <td>0.0</td>\n",
       "      <td>0.0</td>\n",
       "      <td>0.0</td>\n",
       "      <td>0.0</td>\n",
       "      <td>0.0</td>\n",
       "      <td>0.0</td>\n",
       "      <td>0.0</td>\n",
       "      <td>0.0</td>\n",
       "      <td>0.0</td>\n",
       "      <td>0.0</td>\n",
       "      <td>...</td>\n",
       "      <td>0.000000</td>\n",
       "      <td>0.0</td>\n",
       "      <td>0.0</td>\n",
       "      <td>0.0</td>\n",
       "      <td>0.0</td>\n",
       "      <td>0.0</td>\n",
       "      <td>0.0</td>\n",
       "      <td>0.0</td>\n",
       "      <td>0.0</td>\n",
       "      <td>0.0</td>\n",
       "    </tr>\n",
       "    <tr>\n",
       "      <th>bring back increase tether distance on console you idiot</th>\n",
       "      <td>0.0</td>\n",
       "      <td>0.0</td>\n",
       "      <td>0.0</td>\n",
       "      <td>0.0</td>\n",
       "      <td>0.0</td>\n",
       "      <td>0.0</td>\n",
       "      <td>0.0</td>\n",
       "      <td>0.0</td>\n",
       "      <td>0.0</td>\n",
       "      <td>0.0</td>\n",
       "      <td>...</td>\n",
       "      <td>0.000000</td>\n",
       "      <td>0.0</td>\n",
       "      <td>0.0</td>\n",
       "      <td>0.0</td>\n",
       "      <td>0.0</td>\n",
       "      <td>0.0</td>\n",
       "      <td>0.0</td>\n",
       "      <td>0.0</td>\n",
       "      <td>0.0</td>\n",
       "      <td>0.0</td>\n",
       "    </tr>\n",
       "    <tr>\n",
       "      <th>stop tether try to buy instead</th>\n",
       "      <td>0.0</td>\n",
       "      <td>0.0</td>\n",
       "      <td>0.0</td>\n",
       "      <td>0.0</td>\n",
       "      <td>0.0</td>\n",
       "      <td>0.0</td>\n",
       "      <td>0.0</td>\n",
       "      <td>0.0</td>\n",
       "      <td>0.0</td>\n",
       "      <td>0.0</td>\n",
       "      <td>...</td>\n",
       "      <td>0.000000</td>\n",
       "      <td>0.0</td>\n",
       "      <td>0.0</td>\n",
       "      <td>0.0</td>\n",
       "      <td>0.0</td>\n",
       "      <td>0.0</td>\n",
       "      <td>0.0</td>\n",
       "      <td>0.0</td>\n",
       "      <td>0.0</td>\n",
       "      <td>0.0</td>\n",
       "    </tr>\n",
       "    <tr>\n",
       "      <th>you can gold a lot of people are chasing their dream and dragon in the time is to talk</th>\n",
       "      <td>0.0</td>\n",
       "      <td>0.0</td>\n",
       "      <td>0.0</td>\n",
       "      <td>0.0</td>\n",
       "      <td>0.0</td>\n",
       "      <td>0.0</td>\n",
       "      <td>0.0</td>\n",
       "      <td>0.0</td>\n",
       "      <td>0.0</td>\n",
       "      <td>0.0</td>\n",
       "      <td>...</td>\n",
       "      <td>0.000000</td>\n",
       "      <td>0.0</td>\n",
       "      <td>0.0</td>\n",
       "      <td>0.0</td>\n",
       "      <td>0.0</td>\n",
       "      <td>0.0</td>\n",
       "      <td>0.0</td>\n",
       "      <td>0.0</td>\n",
       "      <td>0.0</td>\n",
       "      <td>0.0</td>\n",
       "    </tr>\n",
       "    <tr>\n",
       "      <th>unhitch the straining the weighted into the away from</th>\n",
       "      <td>0.0</td>\n",
       "      <td>0.0</td>\n",
       "      <td>0.0</td>\n",
       "      <td>0.0</td>\n",
       "      <td>0.0</td>\n",
       "      <td>0.0</td>\n",
       "      <td>0.0</td>\n",
       "      <td>0.0</td>\n",
       "      <td>0.0</td>\n",
       "      <td>0.0</td>\n",
       "      <td>...</td>\n",
       "      <td>0.000000</td>\n",
       "      <td>0.0</td>\n",
       "      <td>0.0</td>\n",
       "      <td>0.0</td>\n",
       "      <td>0.0</td>\n",
       "      <td>0.0</td>\n",
       "      <td>0.0</td>\n",
       "      <td>0.0</td>\n",
       "      <td>0.0</td>\n",
       "      <td>0.0</td>\n",
       "    </tr>\n",
       "    <tr>\n",
       "      <th>b baby i been there wa at the point where all i really wa now i m still</th>\n",
       "      <td>0.0</td>\n",
       "      <td>0.0</td>\n",
       "      <td>0.0</td>\n",
       "      <td>0.0</td>\n",
       "      <td>0.0</td>\n",
       "      <td>0.0</td>\n",
       "      <td>0.0</td>\n",
       "      <td>0.0</td>\n",
       "      <td>0.0</td>\n",
       "      <td>0.0</td>\n",
       "      <td>...</td>\n",
       "      <td>0.000000</td>\n",
       "      <td>0.0</td>\n",
       "      <td>0.0</td>\n",
       "      <td>0.0</td>\n",
       "      <td>0.0</td>\n",
       "      <td>0.0</td>\n",
       "      <td>0.0</td>\n",
       "      <td>0.0</td>\n",
       "      <td>0.0</td>\n",
       "      <td>0.0</td>\n",
       "    </tr>\n",
       "    <tr>\n",
       "      <th>b el pass it bitcoin law and it s a tether scam</th>\n",
       "      <td>0.0</td>\n",
       "      <td>0.0</td>\n",
       "      <td>0.0</td>\n",
       "      <td>0.0</td>\n",
       "      <td>0.0</td>\n",
       "      <td>0.0</td>\n",
       "      <td>0.0</td>\n",
       "      <td>0.0</td>\n",
       "      <td>0.0</td>\n",
       "      <td>0.0</td>\n",
       "      <td>...</td>\n",
       "      <td>0.000000</td>\n",
       "      <td>0.0</td>\n",
       "      <td>0.0</td>\n",
       "      <td>0.0</td>\n",
       "      <td>0.0</td>\n",
       "      <td>0.0</td>\n",
       "      <td>0.0</td>\n",
       "      <td>0.0</td>\n",
       "      <td>0.0</td>\n",
       "      <td>0.0</td>\n",
       "    </tr>\n",
       "  </tbody>\n",
       "</table>\n",
       "<p>10 rows × 431 columns</p>\n",
       "</div>"
      ],
      "text/plain": [
       "                                                    able  accept  according  \\\n",
       "text                                                                          \n",
       "tether executive are under investigation for ba...   0.0     0.0        0.0   \n",
       "now do tether                                        0.0     0.0        0.0   \n",
       "he at family point to the vaccine mandate            0.0     0.0        0.0   \n",
       "tether                                               0.0     0.0        0.0   \n",
       "bring back increase tether distance on console ...   0.0     0.0        0.0   \n",
       "stop tether try to buy instead                       0.0     0.0        0.0   \n",
       "you can gold a lot of people are chasing their ...   0.0     0.0        0.0   \n",
       "unhitch the straining the weighted into the awa...   0.0     0.0        0.0   \n",
       "b baby i been there wa at the point where all i...   0.0     0.0        0.0   \n",
       "b el pass it bitcoin law and it s a tether scam      0.0     0.0        0.0   \n",
       "\n",
       "                                                    account  actually  add  \\\n",
       "text                                                                         \n",
       "tether executive are under investigation for ba...      0.0       0.0  0.0   \n",
       "now do tether                                           0.0       0.0  0.0   \n",
       "he at family point to the vaccine mandate               0.0       0.0  0.0   \n",
       "tether                                                  0.0       0.0  0.0   \n",
       "bring back increase tether distance on console ...      0.0       0.0  0.0   \n",
       "stop tether try to buy instead                          0.0       0.0  0.0   \n",
       "you can gold a lot of people are chasing their ...      0.0       0.0  0.0   \n",
       "unhitch the straining the weighted into the awa...      0.0       0.0  0.0   \n",
       "b baby i been there wa at the point where all i...      0.0       0.0  0.0   \n",
       "b el pass it bitcoin law and it s a tether scam         0.0       0.0  0.0   \n",
       "\n",
       "                                                    added  address  \\\n",
       "text                                                                 \n",
       "tether executive are under investigation for ba...    0.0      0.0   \n",
       "now do tether                                         0.0      0.0   \n",
       "he at family point to the vaccine mandate             0.0      0.0   \n",
       "tether                                                0.0      0.0   \n",
       "bring back increase tether distance on console ...    0.0      0.0   \n",
       "stop tether try to buy instead                        0.0      0.0   \n",
       "you can gold a lot of people are chasing their ...    0.0      0.0   \n",
       "unhitch the straining the weighted into the awa...    0.0      0.0   \n",
       "b baby i been there wa at the point where all i...    0.0      0.0   \n",
       "b el pass it bitcoin law and it s a tether scam       0.0      0.0   \n",
       "\n",
       "                                                    advertising  ago  ...  \\\n",
       "text                                                                  ...   \n",
       "tether executive are under investigation for ba...          0.0  0.0  ...   \n",
       "now do tether                                               0.0  0.0  ...   \n",
       "he at family point to the vaccine mandate                   0.0  0.0  ...   \n",
       "tether                                                      0.0  0.0  ...   \n",
       "bring back increase tether distance on console ...          0.0  0.0  ...   \n",
       "stop tether try to buy instead                              0.0  0.0  ...   \n",
       "you can gold a lot of people are chasing their ...          0.0  0.0  ...   \n",
       "unhitch the straining the weighted into the awa...          0.0  0.0  ...   \n",
       "b baby i been there wa at the point where all i...          0.0  0.0  ...   \n",
       "b el pass it bitcoin law and it s a tether scam             0.0  0.0  ...   \n",
       "\n",
       "                                                       worth  would  wow  \\\n",
       "text                                                                       \n",
       "tether executive are under investigation for ba...  0.338832    0.0  0.0   \n",
       "now do tether                                       0.000000    0.0  0.0   \n",
       "he at family point to the vaccine mandate           0.000000    0.0  0.0   \n",
       "tether                                              0.000000    0.0  0.0   \n",
       "bring back increase tether distance on console ...  0.000000    0.0  0.0   \n",
       "stop tether try to buy instead                      0.000000    0.0  0.0   \n",
       "you can gold a lot of people are chasing their ...  0.000000    0.0  0.0   \n",
       "unhitch the straining the weighted into the awa...  0.000000    0.0  0.0   \n",
       "b baby i been there wa at the point where all i...  0.000000    0.0  0.0   \n",
       "b el pass it bitcoin law and it s a tether scam     0.000000    0.0  0.0   \n",
       "\n",
       "                                                    wrong   ya  yeah  year  \\\n",
       "text                                                                         \n",
       "tether executive are under investigation for ba...    0.0  0.0   0.0   0.0   \n",
       "now do tether                                         0.0  0.0   0.0   0.0   \n",
       "he at family point to the vaccine mandate             0.0  0.0   0.0   0.0   \n",
       "tether                                                0.0  0.0   0.0   0.0   \n",
       "bring back increase tether distance on console ...    0.0  0.0   0.0   0.0   \n",
       "stop tether try to buy instead                        0.0  0.0   0.0   0.0   \n",
       "you can gold a lot of people are chasing their ...    0.0  0.0   0.0   0.0   \n",
       "unhitch the straining the weighted into the awa...    0.0  0.0   0.0   0.0   \n",
       "b baby i been there wa at the point where all i...    0.0  0.0   0.0   0.0   \n",
       "b el pass it bitcoin law and it s a tether scam       0.0  0.0   0.0   0.0   \n",
       "\n",
       "                                                    yeni  yes  yok  \n",
       "text                                                                \n",
       "tether executive are under investigation for ba...   0.0  0.0  0.0  \n",
       "now do tether                                        0.0  0.0  0.0  \n",
       "he at family point to the vaccine mandate            0.0  0.0  0.0  \n",
       "tether                                               0.0  0.0  0.0  \n",
       "bring back increase tether distance on console ...   0.0  0.0  0.0  \n",
       "stop tether try to buy instead                       0.0  0.0  0.0  \n",
       "you can gold a lot of people are chasing their ...   0.0  0.0  0.0  \n",
       "unhitch the straining the weighted into the awa...   0.0  0.0  0.0  \n",
       "b baby i been there wa at the point where all i...   0.0  0.0  0.0  \n",
       "b el pass it bitcoin law and it s a tether scam      0.0  0.0  0.0  \n",
       "\n",
       "[10 rows x 431 columns]"
      ]
     },
     "execution_count": 84,
     "metadata": {},
     "output_type": "execute_result"
    }
   ],
   "source": [
    "##TFIDF\n",
    "cv_tfidf = TfidfVectorizer(stop_words=stop_words,max_df =0.7, min_df=3)\n",
    "doc_word_tfidf = cv_tfidf.fit_transform(df_tet.text)\n",
    "pd.DataFrame(doc_word_tfidf.toarray(), index=df_tet.text, columns=cv_tfidf.get_feature_names()).head(10)"
   ]
  },
  {
   "cell_type": "code",
   "execution_count": 85,
   "id": "89b5f3f6",
   "metadata": {},
   "outputs": [
    {
     "data": {
      "text/plain": [
       "(1252, 431)"
      ]
     },
     "execution_count": 85,
     "metadata": {},
     "output_type": "execute_result"
    }
   ],
   "source": [
    "doc_word_tfidf.shape"
   ]
  },
  {
   "cell_type": "code",
   "execution_count": 86,
   "id": "18d85591",
   "metadata": {},
   "outputs": [],
   "source": [
    "test = doc_word_tfidf.T"
   ]
  },
  {
   "cell_type": "code",
   "execution_count": 87,
   "id": "ea3ec853",
   "metadata": {},
   "outputs": [],
   "source": [
    "def display_topics(model, feature_names, no_top_words, topic_names=None):\n",
    "    for ix, topic in enumerate(model.components_):\n",
    "        if not topic_names or not topic_names[ix]:\n",
    "            print(\"\\nTopic \", ix)\n",
    "        else:\n",
    "            print(\"\\nTopic: '\",topic_names[ix],\"'\")\n",
    "        print(\", \".join([feature_names[i]\n",
    "                        for i in topic.argsort()[:-no_top_words - 1:-1]]))"
   ]
  },
  {
   "cell_type": "markdown",
   "id": "4161974a",
   "metadata": {},
   "source": [
    "### NMF Model"
   ]
  },
  {
   "cell_type": "code",
   "execution_count": 88,
   "id": "48af85d4",
   "metadata": {},
   "outputs": [],
   "source": [
    "from sklearn.decomposition import NMF, TruncatedSVD"
   ]
  },
  {
   "cell_type": "code",
   "execution_count": 89,
   "id": "0b469706",
   "metadata": {},
   "outputs": [
    {
     "name": "stderr",
     "output_type": "stream",
     "text": [
      "/Users/Elena/Anaconda/anaconda3/envs/metis/lib/python3.8/site-packages/sklearn/decomposition/_nmf.py:312: FutureWarning: The 'init' value, when 'init=None' and n_components is less than n_samples and n_features, will be changed from 'nndsvd' to 'nndsvda' in 1.1 (renaming of 0.26).\n",
      "  warnings.warn((\"The 'init' value, when 'init=None' and \"\n"
     ]
    }
   ],
   "source": [
    "n_topics=10\n",
    "nmf = NMF(n_components=n_topics)\n",
    "doc_topic=nmf.fit_transform(doc_word_tfidf)"
   ]
  },
  {
   "cell_type": "code",
   "execution_count": 90,
   "id": "15764a2b",
   "metadata": {},
   "outputs": [
    {
     "data": {
      "text/html": [
       "<div>\n",
       "<style scoped>\n",
       "    .dataframe tbody tr th:only-of-type {\n",
       "        vertical-align: middle;\n",
       "    }\n",
       "\n",
       "    .dataframe tbody tr th {\n",
       "        vertical-align: top;\n",
       "    }\n",
       "\n",
       "    .dataframe thead th {\n",
       "        text-align: right;\n",
       "    }\n",
       "</style>\n",
       "<table border=\"1\" class=\"dataframe\">\n",
       "  <thead>\n",
       "    <tr style=\"text-align: right;\">\n",
       "      <th></th>\n",
       "      <th>able</th>\n",
       "      <th>accept</th>\n",
       "      <th>according</th>\n",
       "      <th>account</th>\n",
       "      <th>actually</th>\n",
       "      <th>add</th>\n",
       "      <th>added</th>\n",
       "      <th>address</th>\n",
       "      <th>advertising</th>\n",
       "      <th>ago</th>\n",
       "      <th>...</th>\n",
       "      <th>worth</th>\n",
       "      <th>would</th>\n",
       "      <th>wow</th>\n",
       "      <th>wrong</th>\n",
       "      <th>ya</th>\n",
       "      <th>yeah</th>\n",
       "      <th>year</th>\n",
       "      <th>yeni</th>\n",
       "      <th>yes</th>\n",
       "      <th>yok</th>\n",
       "    </tr>\n",
       "  </thead>\n",
       "  <tbody>\n",
       "    <tr>\n",
       "      <th>component_1</th>\n",
       "      <td>0.000</td>\n",
       "      <td>0.000</td>\n",
       "      <td>0.000</td>\n",
       "      <td>0.000</td>\n",
       "      <td>0.000</td>\n",
       "      <td>0.000</td>\n",
       "      <td>0.000</td>\n",
       "      <td>0.000</td>\n",
       "      <td>0.0</td>\n",
       "      <td>0.000</td>\n",
       "      <td>...</td>\n",
       "      <td>0.000</td>\n",
       "      <td>0.000</td>\n",
       "      <td>0.000</td>\n",
       "      <td>0.000</td>\n",
       "      <td>0.000</td>\n",
       "      <td>0.000</td>\n",
       "      <td>0.000</td>\n",
       "      <td>0.000</td>\n",
       "      <td>0.000</td>\n",
       "      <td>0.000</td>\n",
       "    </tr>\n",
       "    <tr>\n",
       "      <th>component_2</th>\n",
       "      <td>0.012</td>\n",
       "      <td>0.000</td>\n",
       "      <td>0.000</td>\n",
       "      <td>0.005</td>\n",
       "      <td>0.021</td>\n",
       "      <td>0.005</td>\n",
       "      <td>0.001</td>\n",
       "      <td>0.007</td>\n",
       "      <td>0.0</td>\n",
       "      <td>0.000</td>\n",
       "      <td>...</td>\n",
       "      <td>0.030</td>\n",
       "      <td>0.026</td>\n",
       "      <td>0.009</td>\n",
       "      <td>0.011</td>\n",
       "      <td>0.010</td>\n",
       "      <td>0.008</td>\n",
       "      <td>0.013</td>\n",
       "      <td>0.004</td>\n",
       "      <td>0.014</td>\n",
       "      <td>0.023</td>\n",
       "    </tr>\n",
       "    <tr>\n",
       "      <th>component_3</th>\n",
       "      <td>0.000</td>\n",
       "      <td>0.000</td>\n",
       "      <td>0.000</td>\n",
       "      <td>0.000</td>\n",
       "      <td>0.000</td>\n",
       "      <td>0.000</td>\n",
       "      <td>0.000</td>\n",
       "      <td>0.000</td>\n",
       "      <td>0.0</td>\n",
       "      <td>0.000</td>\n",
       "      <td>...</td>\n",
       "      <td>0.000</td>\n",
       "      <td>0.002</td>\n",
       "      <td>0.000</td>\n",
       "      <td>0.000</td>\n",
       "      <td>0.000</td>\n",
       "      <td>0.000</td>\n",
       "      <td>0.000</td>\n",
       "      <td>0.000</td>\n",
       "      <td>0.003</td>\n",
       "      <td>0.000</td>\n",
       "    </tr>\n",
       "    <tr>\n",
       "      <th>component_4</th>\n",
       "      <td>0.000</td>\n",
       "      <td>0.011</td>\n",
       "      <td>0.000</td>\n",
       "      <td>0.000</td>\n",
       "      <td>0.013</td>\n",
       "      <td>0.000</td>\n",
       "      <td>0.000</td>\n",
       "      <td>0.000</td>\n",
       "      <td>0.0</td>\n",
       "      <td>0.011</td>\n",
       "      <td>...</td>\n",
       "      <td>0.000</td>\n",
       "      <td>0.007</td>\n",
       "      <td>0.000</td>\n",
       "      <td>0.000</td>\n",
       "      <td>0.001</td>\n",
       "      <td>0.000</td>\n",
       "      <td>0.004</td>\n",
       "      <td>0.000</td>\n",
       "      <td>0.014</td>\n",
       "      <td>0.000</td>\n",
       "    </tr>\n",
       "    <tr>\n",
       "      <th>component_5</th>\n",
       "      <td>0.000</td>\n",
       "      <td>0.000</td>\n",
       "      <td>0.023</td>\n",
       "      <td>0.000</td>\n",
       "      <td>0.000</td>\n",
       "      <td>0.000</td>\n",
       "      <td>0.000</td>\n",
       "      <td>0.000</td>\n",
       "      <td>0.0</td>\n",
       "      <td>0.000</td>\n",
       "      <td>...</td>\n",
       "      <td>0.000</td>\n",
       "      <td>0.000</td>\n",
       "      <td>0.000</td>\n",
       "      <td>0.000</td>\n",
       "      <td>0.000</td>\n",
       "      <td>0.000</td>\n",
       "      <td>0.000</td>\n",
       "      <td>0.000</td>\n",
       "      <td>0.000</td>\n",
       "      <td>0.000</td>\n",
       "    </tr>\n",
       "    <tr>\n",
       "      <th>component_6</th>\n",
       "      <td>0.000</td>\n",
       "      <td>0.000</td>\n",
       "      <td>0.000</td>\n",
       "      <td>0.000</td>\n",
       "      <td>0.000</td>\n",
       "      <td>0.000</td>\n",
       "      <td>0.000</td>\n",
       "      <td>0.000</td>\n",
       "      <td>0.0</td>\n",
       "      <td>0.000</td>\n",
       "      <td>...</td>\n",
       "      <td>0.000</td>\n",
       "      <td>0.016</td>\n",
       "      <td>0.000</td>\n",
       "      <td>0.002</td>\n",
       "      <td>0.000</td>\n",
       "      <td>0.000</td>\n",
       "      <td>0.000</td>\n",
       "      <td>0.000</td>\n",
       "      <td>0.000</td>\n",
       "      <td>0.000</td>\n",
       "    </tr>\n",
       "    <tr>\n",
       "      <th>component_7</th>\n",
       "      <td>0.000</td>\n",
       "      <td>0.000</td>\n",
       "      <td>0.000</td>\n",
       "      <td>0.000</td>\n",
       "      <td>0.000</td>\n",
       "      <td>0.000</td>\n",
       "      <td>0.000</td>\n",
       "      <td>0.000</td>\n",
       "      <td>0.0</td>\n",
       "      <td>0.000</td>\n",
       "      <td>...</td>\n",
       "      <td>0.000</td>\n",
       "      <td>0.000</td>\n",
       "      <td>0.000</td>\n",
       "      <td>0.000</td>\n",
       "      <td>0.000</td>\n",
       "      <td>0.000</td>\n",
       "      <td>0.000</td>\n",
       "      <td>0.000</td>\n",
       "      <td>0.000</td>\n",
       "      <td>0.000</td>\n",
       "    </tr>\n",
       "    <tr>\n",
       "      <th>component_8</th>\n",
       "      <td>0.010</td>\n",
       "      <td>0.000</td>\n",
       "      <td>0.016</td>\n",
       "      <td>0.001</td>\n",
       "      <td>0.000</td>\n",
       "      <td>0.000</td>\n",
       "      <td>0.010</td>\n",
       "      <td>0.068</td>\n",
       "      <td>0.0</td>\n",
       "      <td>0.000</td>\n",
       "      <td>...</td>\n",
       "      <td>0.045</td>\n",
       "      <td>0.000</td>\n",
       "      <td>0.000</td>\n",
       "      <td>0.000</td>\n",
       "      <td>0.000</td>\n",
       "      <td>0.000</td>\n",
       "      <td>0.007</td>\n",
       "      <td>0.037</td>\n",
       "      <td>0.000</td>\n",
       "      <td>0.000</td>\n",
       "    </tr>\n",
       "    <tr>\n",
       "      <th>component_9</th>\n",
       "      <td>0.000</td>\n",
       "      <td>0.008</td>\n",
       "      <td>0.000</td>\n",
       "      <td>0.025</td>\n",
       "      <td>0.010</td>\n",
       "      <td>0.000</td>\n",
       "      <td>0.005</td>\n",
       "      <td>0.011</td>\n",
       "      <td>0.0</td>\n",
       "      <td>0.008</td>\n",
       "      <td>...</td>\n",
       "      <td>0.000</td>\n",
       "      <td>0.012</td>\n",
       "      <td>0.000</td>\n",
       "      <td>0.000</td>\n",
       "      <td>0.001</td>\n",
       "      <td>0.001</td>\n",
       "      <td>0.000</td>\n",
       "      <td>0.000</td>\n",
       "      <td>0.020</td>\n",
       "      <td>0.001</td>\n",
       "    </tr>\n",
       "    <tr>\n",
       "      <th>component_10</th>\n",
       "      <td>0.000</td>\n",
       "      <td>0.001</td>\n",
       "      <td>0.000</td>\n",
       "      <td>0.000</td>\n",
       "      <td>0.000</td>\n",
       "      <td>0.000</td>\n",
       "      <td>0.000</td>\n",
       "      <td>0.000</td>\n",
       "      <td>0.0</td>\n",
       "      <td>0.000</td>\n",
       "      <td>...</td>\n",
       "      <td>0.000</td>\n",
       "      <td>0.000</td>\n",
       "      <td>0.000</td>\n",
       "      <td>0.000</td>\n",
       "      <td>0.000</td>\n",
       "      <td>0.000</td>\n",
       "      <td>0.000</td>\n",
       "      <td>0.000</td>\n",
       "      <td>0.000</td>\n",
       "      <td>0.000</td>\n",
       "    </tr>\n",
       "  </tbody>\n",
       "</table>\n",
       "<p>10 rows × 431 columns</p>\n",
       "</div>"
      ],
      "text/plain": [
       "               able  accept  according  account  actually    add  added  \\\n",
       "component_1   0.000   0.000      0.000    0.000     0.000  0.000  0.000   \n",
       "component_2   0.012   0.000      0.000    0.005     0.021  0.005  0.001   \n",
       "component_3   0.000   0.000      0.000    0.000     0.000  0.000  0.000   \n",
       "component_4   0.000   0.011      0.000    0.000     0.013  0.000  0.000   \n",
       "component_5   0.000   0.000      0.023    0.000     0.000  0.000  0.000   \n",
       "component_6   0.000   0.000      0.000    0.000     0.000  0.000  0.000   \n",
       "component_7   0.000   0.000      0.000    0.000     0.000  0.000  0.000   \n",
       "component_8   0.010   0.000      0.016    0.001     0.000  0.000  0.010   \n",
       "component_9   0.000   0.008      0.000    0.025     0.010  0.000  0.005   \n",
       "component_10  0.000   0.001      0.000    0.000     0.000  0.000  0.000   \n",
       "\n",
       "              address  advertising    ago  ...  worth  would    wow  wrong  \\\n",
       "component_1     0.000          0.0  0.000  ...  0.000  0.000  0.000  0.000   \n",
       "component_2     0.007          0.0  0.000  ...  0.030  0.026  0.009  0.011   \n",
       "component_3     0.000          0.0  0.000  ...  0.000  0.002  0.000  0.000   \n",
       "component_4     0.000          0.0  0.011  ...  0.000  0.007  0.000  0.000   \n",
       "component_5     0.000          0.0  0.000  ...  0.000  0.000  0.000  0.000   \n",
       "component_6     0.000          0.0  0.000  ...  0.000  0.016  0.000  0.002   \n",
       "component_7     0.000          0.0  0.000  ...  0.000  0.000  0.000  0.000   \n",
       "component_8     0.068          0.0  0.000  ...  0.045  0.000  0.000  0.000   \n",
       "component_9     0.011          0.0  0.008  ...  0.000  0.012  0.000  0.000   \n",
       "component_10    0.000          0.0  0.000  ...  0.000  0.000  0.000  0.000   \n",
       "\n",
       "                 ya   yeah   year   yeni    yes    yok  \n",
       "component_1   0.000  0.000  0.000  0.000  0.000  0.000  \n",
       "component_2   0.010  0.008  0.013  0.004  0.014  0.023  \n",
       "component_3   0.000  0.000  0.000  0.000  0.003  0.000  \n",
       "component_4   0.001  0.000  0.004  0.000  0.014  0.000  \n",
       "component_5   0.000  0.000  0.000  0.000  0.000  0.000  \n",
       "component_6   0.000  0.000  0.000  0.000  0.000  0.000  \n",
       "component_7   0.000  0.000  0.000  0.000  0.000  0.000  \n",
       "component_8   0.000  0.000  0.007  0.037  0.000  0.000  \n",
       "component_9   0.001  0.001  0.000  0.000  0.020  0.001  \n",
       "component_10  0.000  0.000  0.000  0.000  0.000  0.000  \n",
       "\n",
       "[10 rows x 431 columns]"
      ]
     },
     "execution_count": 90,
     "metadata": {},
     "output_type": "execute_result"
    }
   ],
   "source": [
    "topic_word = pd.DataFrame(nmf.components_.round(3),\n",
    "             index = [\"component_1\",\"component_2\",\"component_3\",\"component_4\",\"component_5\",\n",
    "                     \"component_6\",\"component_7\",\"component_8\",\"component_9\",\"component_10\"],\n",
    "             columns = cv_tfidf.get_feature_names())\n",
    "topic_word"
   ]
  },
  {
   "cell_type": "code",
   "execution_count": 91,
   "id": "40bf1b0f",
   "metadata": {
    "scrolled": false
   },
   "outputs": [
    {
     "name": "stdout",
     "output_type": "stream",
     "text": [
      "\n",
      "Topic  0\n",
      "try, stop, instead, buy, tether, question, start, retail, control, fee\n",
      "\n",
      "Topic  1\n",
      "tether, like, freeze, million, look, de, fraud, need, wa, democracy\n",
      "\n",
      "Topic  2\n",
      "another, start, rally, attempt, fake, pump, fud, everyone, question, back\n",
      "\n",
      "Topic  3\n",
      "bitcoin, de, binance, strike, para, long, si, become, big, lira\n",
      "\n",
      "Topic  4\n",
      "market, last, coin, volume, capitalization, unique, bag, could, top, change\n",
      "\n",
      "Topic  5\n",
      "top, time, alert, last, coin, volume, look, burner, ripple, nft\n",
      "\n",
      "Topic  6\n",
      "price, retail, demand, week, currently, day, bitcoin, let, easy, show\n",
      "\n",
      "Topic  7\n",
      "ethereum, freeze, supply, binance, frozen, solana, total, token, address, ha\n",
      "\n",
      "Topic  8\n",
      "coin, stable, ha, unstable, backed, death, bad, like, problem, notable\n",
      "\n",
      "Topic  9\n",
      "cap, last, coin, global, tether, today, change, trading, volume, month\n"
     ]
    }
   ],
   "source": [
    "display_topics(nmf, cv_tfidf.get_feature_names(), 10)"
   ]
  },
  {
   "cell_type": "code",
   "execution_count": 92,
   "id": "4fb3f78a",
   "metadata": {},
   "outputs": [],
   "source": [
    "## among all the topics, topic 9 contains a lot of unexplainanle words\n",
    "## We need to inspect each topic to better under the content"
   ]
  },
  {
   "cell_type": "code",
   "execution_count": 93,
   "id": "44a3d2ab",
   "metadata": {},
   "outputs": [
    {
     "name": "stdout",
     "output_type": "stream",
     "text": [
      "[0.00000000e+00 7.14689814e-02 0.00000000e+00 9.23536975e-05\n",
      " 7.17381213e-04 8.50034624e-04 0.00000000e+00 8.10801984e-03\n",
      " 0.00000000e+00 0.00000000e+00]\n"
     ]
    }
   ],
   "source": [
    "print(doc_topic[0])"
   ]
  },
  {
   "cell_type": "code",
   "execution_count": 94,
   "id": "9e5474f2",
   "metadata": {},
   "outputs": [
    {
     "data": {
      "text/plain": [
       "'tether executive are under investigation for bank fraud by the justice department million worth of tether wa'"
      ]
     },
     "execution_count": 94,
     "metadata": {},
     "output_type": "execute_result"
    }
   ],
   "source": [
    "df_tet.text.iloc[0]"
   ]
  },
  {
   "cell_type": "code",
   "execution_count": 95,
   "id": "0652bca8",
   "metadata": {
    "scrolled": true
   },
   "outputs": [
    {
     "data": {
      "text/plain": [
       "0     1\n",
       "2     1\n",
       "8     1\n",
       "10    1\n",
       "13    1\n",
       "14    0\n",
       "16    5\n",
       "17    8\n",
       "22    1\n",
       "23    3\n",
       "Name: argmax_topic, dtype: int64"
      ]
     },
     "execution_count": 95,
     "metadata": {},
     "output_type": "execute_result"
    }
   ],
   "source": [
    "df_tet['argmax_topic']=np.argmax(doc_topic, axis=1)\n",
    "df_tet.argmax_topic.head(10)"
   ]
  },
  {
   "cell_type": "code",
   "execution_count": 96,
   "id": "043d3ec8",
   "metadata": {},
   "outputs": [
    {
     "data": {
      "text/plain": [
       "1    472\n",
       "0    180\n",
       "3    139\n",
       "8    126\n",
       "7    115\n",
       "2     55\n",
       "5     54\n",
       "4     39\n",
       "6     39\n",
       "9     33\n",
       "Name: argmax_topic, dtype: int64"
      ]
     },
     "execution_count": 96,
     "metadata": {},
     "output_type": "execute_result"
    }
   ],
   "source": [
    "pd.Series(df_tet.argmax_topic).value_counts()"
   ]
  },
  {
   "cell_type": "code",
   "execution_count": null,
   "id": "b91e4b85",
   "metadata": {},
   "outputs": [],
   "source": [
    "###########\n",
    "# Topic 0 #  ### Poken (PKN) is the cross-chain utility token for Pokmi, formerly known as RarePorn\n",
    "###########  ### an adult content NFT platform providing users and content creators a secure, private, \n",
    "###########  ### and uncensored ecosystem to buy and sell digital content through the transfer of non-fungible porn digital assets (NFPs)."
   ]
  },
  {
   "cell_type": "code",
   "execution_count": 123,
   "id": "7587c2a7",
   "metadata": {},
   "outputs": [
    {
     "data": {
      "text/plain": [
       "758                                                 beni\n",
       "760                                                   mi\n",
       "768                       stop tether try to buy instead\n",
       "769                       stop tether try to buy instead\n",
       "778                       stop tether try to buy instead\n",
       "802                       stop tether try to buy instead\n",
       "819                       stop tether try to buy instead\n",
       "821                                                  pit\n",
       "825                       stop tether try to buy instead\n",
       "828                       stop tether try to buy instead\n",
       "830                       stop tether try to buy instead\n",
       "835                       stop tether try to buy instead\n",
       "847                       stop tether try to buy instead\n",
       "857                       stop tether try to buy instead\n",
       "891                       stop tether try to buy instead\n",
       "894                       stop tether try to buy instead\n",
       "906    this gorilla is what when a tether ado dancing...\n",
       "912                       stop tether try to buy instead\n",
       "936                       stop tether try to buy instead\n",
       "946                       stop tether try to buy instead\n",
       "Name: text, dtype: object"
      ]
     },
     "execution_count": 123,
     "metadata": {},
     "output_type": "execute_result"
    }
   ],
   "source": [
    "df_tet_0=df_tet[df_tet.argmax_topic==0]\n",
    "df_tet_0.text.iloc[80:100]"
   ]
  },
  {
   "cell_type": "code",
   "execution_count": 100,
   "id": "a947e2dd",
   "metadata": {
    "scrolled": false
   },
   "outputs": [
    {
     "data": {
      "text/plain": [
       "Unnamed: 0                                                   96\n",
       "id                                          1482834807554027527\n",
       "text          b'Stop using Tether ! Try to buy 25488 $PKN in...\n",
       "datetime                                    2022-01-16 21:59:02\n",
       "Location                                                    NaN\n",
       "Name: 79, dtype: object"
      ]
     },
     "execution_count": 100,
     "metadata": {},
     "output_type": "execute_result"
    }
   ],
   "source": [
    "df_tet_orig.iloc[79]"
   ]
  },
  {
   "cell_type": "code",
   "execution_count": 102,
   "id": "920d93f4",
   "metadata": {
    "scrolled": true
   },
   "outputs": [
    {
     "data": {
      "text/plain": [
       "Unnamed: 0                                                  266\n",
       "id                                          1482820715304865796\n",
       "text          b'Stop using Tether ! Try to buy 23807 $PKN in...\n",
       "datetime                                    2022-01-16 21:03:02\n",
       "Location                                                    NaN\n",
       "Name: 188, dtype: object"
      ]
     },
     "execution_count": 102,
     "metadata": {},
     "output_type": "execute_result"
    }
   ],
   "source": [
    "df_tet_orig.iloc[188]"
   ]
  },
  {
   "cell_type": "code",
   "execution_count": 104,
   "id": "ca7dd63b",
   "metadata": {},
   "outputs": [
    {
     "data": {
      "text/plain": [
       "\"b'Stop using Tether ! Try to buy 49727 $PKN instead !!! #PKN #pokmi #PokenArmy #poken #PokenArmyProgram'\""
      ]
     },
     "execution_count": 104,
     "metadata": {},
     "output_type": "execute_result"
    }
   ],
   "source": [
    "df_tet_orig.text.iloc[334]"
   ]
  },
  {
   "cell_type": "code",
   "execution_count": null,
   "id": "ff8680b6",
   "metadata": {},
   "outputs": [],
   "source": [
    "###########\n",
    "# Topic 1 #  ### Both positives and negatives, but since Tether is always equal to $1, there is not much growth here\n",
    "###########  ### Main reason for negative comments is Tether executives are under investigation for bank fraud by the Justice Department\n",
    "###  People are having doubts towards this token"
   ]
  },
  {
   "cell_type": "code",
   "execution_count": 128,
   "id": "1cabe9c1",
   "metadata": {},
   "outputs": [
    {
     "data": {
      "text/plain": [
       "706    in the pantry the girl reach the end of her te...\n",
       "714      i also believe that tether never corporate bond\n",
       "730    b it s funny when bot accuse tether of doe any...\n",
       "732    so a half a immigrant coon tether and some une...\n",
       "735                                    b it s tether too\n",
       "743    back in the office nice pump by and binance on...\n",
       "748    sold all of my for tether this holding these i...\n",
       "755    it to me that investor and trader believe in t...\n",
       "756    b i m fine with pointing out the flaw and with...\n",
       "761                         why wa tether to only second\n",
       "762    what say you doe need to zoom out can you spar...\n",
       "767    do you like a tether free life where you can e...\n",
       "770                                        tether ne bey\n",
       "774    b dumb tether just feel offended about me call...\n",
       "783    i made the mistake of tether the fee were horr...\n",
       "792                                               tether\n",
       "804    or how low or how much corruption is actually ...\n",
       "806                      no i am at the end of my tether\n",
       "811    fix what i doubt that ust can retrieve the sto...\n",
       "814    b it s all about smart contract that are by te...\n",
       "Name: text, dtype: object"
      ]
     },
     "execution_count": 128,
     "metadata": {},
     "output_type": "execute_result"
    }
   ],
   "source": [
    "df_tet_1=df_tet[df_tet.argmax_topic==1]\n",
    "df_tet_1.text.iloc[240:260]"
   ]
  },
  {
   "cell_type": "code",
   "execution_count": 108,
   "id": "50638719",
   "metadata": {},
   "outputs": [
    {
     "data": {
      "text/plain": [
       "\"b'Myanmar Democracy Group Look to Tether After Failure of Myanmar Dollar Project - BeInCrypto https://t.co/kPdr9UPS4r'\""
      ]
     },
     "execution_count": 108,
     "metadata": {},
     "output_type": "execute_result"
    }
   ],
   "source": [
    "df_tet_orig.text.iloc[27]"
   ]
  },
  {
   "cell_type": "code",
   "execution_count": 112,
   "id": "005f644d",
   "metadata": {},
   "outputs": [
    {
     "data": {
      "text/plain": [
       "\"b'@GiganticRebirth Are you confident to keep all of that money in tether?'\""
      ]
     },
     "execution_count": 112,
     "metadata": {},
     "output_type": "execute_result"
    }
   ],
   "source": [
    "df_tet_orig.text.iloc[117]"
   ]
  },
  {
   "cell_type": "code",
   "execution_count": 115,
   "id": "1847e33e",
   "metadata": {},
   "outputs": [
    {
     "data": {
      "text/plain": [
       "\"b'RT @taskmaster4450: The news that Tether locked up over $160 million shows the importance of an algorithmic stablecoin like $HBD.\\\\n\\\\nThere is\\\\xe2\\\\x80\\\\xa6'\""
      ]
     },
     "execution_count": 115,
     "metadata": {},
     "output_type": "execute_result"
    }
   ],
   "source": [
    "df_tet_orig.text.iloc[216]"
   ]
  },
  {
   "cell_type": "code",
   "execution_count": 117,
   "id": "481e6461",
   "metadata": {},
   "outputs": [
    {
     "data": {
      "text/plain": [
       "\"b'@intocryptoverse at this point i just spend all of my tether on btc every second tuesday of every month lol'\""
      ]
     },
     "execution_count": 117,
     "metadata": {},
     "output_type": "execute_result"
    }
   ],
   "source": [
    "df_tet_orig.text.iloc[255]"
   ]
  },
  {
   "cell_type": "code",
   "execution_count": 118,
   "id": "88f8f86d",
   "metadata": {},
   "outputs": [
    {
     "data": {
      "text/plain": [
       "\"b'me when i have to do tank tether mechanics in p2s and p3s. https://t.co/b83dBzHHku'\""
      ]
     },
     "execution_count": 118,
     "metadata": {},
     "output_type": "execute_result"
    }
   ],
   "source": [
    "df_tet_orig.text.iloc[280]"
   ]
  },
  {
   "cell_type": "code",
   "execution_count": 120,
   "id": "39455865",
   "metadata": {},
   "outputs": [
    {
     "data": {
      "text/plain": [
       "\"b'Tether executives are under investigation for bank fraud by the Justice Department, $160 million worth of Tether wa\\\\xe2\\\\x80\\\\xa6 https://t.co/riCENDUnRP'\""
      ]
     },
     "execution_count": 120,
     "metadata": {},
     "output_type": "execute_result"
    }
   ],
   "source": [
    "df_tet_orig.text.iloc[312]"
   ]
  },
  {
   "cell_type": "code",
   "execution_count": 127,
   "id": "7f935293",
   "metadata": {},
   "outputs": [
    {
     "data": {
      "text/plain": [
       "'b\"The arrival of Tether\\'s USDT stablecoins in September 2020 and Circle and Coinbase\\'s USDC the following month was a\\\\xe2\\\\x80\\\\xa6 https://t.co/0cfVcbHysr\"'"
      ]
     },
     "execution_count": 127,
     "metadata": {},
     "output_type": "execute_result"
    }
   ],
   "source": [
    "df_tet_orig.text.iloc[622]"
   ]
  },
  {
   "cell_type": "code",
   "execution_count": 129,
   "id": "81b754d1",
   "metadata": {},
   "outputs": [
    {
     "data": {
      "text/plain": [
       "\"b'@ACivility @WuBlockchain Fixes what? I doubt that UST can retrieve the stolen money unlike Tether'\""
      ]
     },
     "execution_count": 129,
     "metadata": {},
     "output_type": "execute_result"
    }
   ],
   "source": [
    "df_tet_orig.text.iloc[811]"
   ]
  },
  {
   "cell_type": "code",
   "execution_count": null,
   "id": "5c1ca2d4",
   "metadata": {},
   "outputs": [],
   "source": [
    "###########\n",
    "# Topic 2 #  #### \n",
    "###########"
   ]
  },
  {
   "cell_type": "code",
   "execution_count": null,
   "id": "44926064",
   "metadata": {},
   "outputs": [],
   "source": [
    "df_tet_2=df_tet[df_tet.argmax_topic==2]\n",
    "df_tet_2.text.iloc[21:40]"
   ]
  },
  {
   "cell_type": "code",
   "execution_count": null,
   "id": "eedf6efd",
   "metadata": {},
   "outputs": [],
   "source": [
    "df_tet_orig.text.iloc[54]"
   ]
  },
  {
   "cell_type": "code",
   "execution_count": null,
   "id": "1e1044ad",
   "metadata": {},
   "outputs": [],
   "source": [
    "df_tet_orig.text.iloc[111]"
   ]
  },
  {
   "cell_type": "code",
   "execution_count": null,
   "id": "3f48b90d",
   "metadata": {},
   "outputs": [],
   "source": [
    "df_tet_orig.text.iloc[277]"
   ]
  },
  {
   "cell_type": "code",
   "execution_count": null,
   "id": "1083c683",
   "metadata": {},
   "outputs": [],
   "source": [
    "df_tet_orig.text.iloc[680]"
   ]
  },
  {
   "cell_type": "code",
   "execution_count": null,
   "id": "abe5a400",
   "metadata": {},
   "outputs": [],
   "source": [
    "###########\n",
    "# Topic 3 #  #### Talks about bitcoin price drops, but comparing with Tether, Bitcoin still has a more promising future\n",
    "###########"
   ]
  },
  {
   "cell_type": "code",
   "execution_count": 140,
   "id": "1ae646f6",
   "metadata": {},
   "outputs": [
    {
     "data": {
      "text/plain": [
       "729                                    the people in nft\n",
       "734                                             her para\n",
       "738                     six new billionaire join the nft\n",
       "740                                              deposit\n",
       "742    nobody can freeze your money when you use the ...\n",
       "744    fluctuation in the lira exchange rate have som...\n",
       "747    fluctuation in the lira exchange rate have som...\n",
       "754            star mark these in his portfolio investor\n",
       "764    bitcoin bubble will pop the holder dumping to ...\n",
       "765                                             her para\n",
       "766                                dollar teil de in den\n",
       "772                        investment trader binary link\n",
       "780    added new project plan daily min withdrawal up to\n",
       "810    darn methinks is being in the to range to allo...\n",
       "822                                          de en no se\n",
       "823                                                short\n",
       "831                     daily on chain exchange net flow\n",
       "854    b a a bitcoin believer i m not nervous about i...\n",
       "862                   doge will breathe fresh air on the\n",
       "865    how is it positive for bitcoin once more and m...\n",
       "Name: text, dtype: object"
      ]
     },
     "execution_count": 140,
     "metadata": {},
     "output_type": "execute_result"
    }
   ],
   "source": [
    "df_tet_3=df_tet[df_tet.argmax_topic==3]\n",
    "df_tet_3.text.iloc[60:80]"
   ]
  },
  {
   "cell_type": "code",
   "execution_count": 132,
   "id": "a895607b",
   "metadata": {},
   "outputs": [
    {
     "data": {
      "text/plain": [
       "'b\"RT @HappyTr46601036: Bad Days for Bitcoin Are Back as \\'Death Cross\\' Approaches https://t.co/lWCD6yRXCi \\\\n\\\\n#BTC   Went Through a death Cross\\\\xe2\\\\x80\\\\xa6\"'"
      ]
     },
     "execution_count": 132,
     "metadata": {},
     "output_type": "execute_result"
    }
   ],
   "source": [
    "df_tet_orig.text.iloc[30]"
   ]
  },
  {
   "cell_type": "code",
   "execution_count": 133,
   "id": "9a7eac52",
   "metadata": {},
   "outputs": [
    {
     "data": {
      "text/plain": [
       "\"b'RT @by_crypto_man: Focus on the big picture in Bitcoin. In the long run, decline is inevitable.#Bitcoin #ETH #XRP #SHIB #Tether #cryptocurr\\\\xe2\\\\x80\\\\xa6'\""
      ]
     },
     "execution_count": 133,
     "metadata": {},
     "output_type": "execute_result"
    }
   ],
   "source": [
    "df_tet_orig.text.iloc[176]"
   ]
  },
  {
   "cell_type": "code",
   "execution_count": 135,
   "id": "4eaec815",
   "metadata": {},
   "outputs": [
    {
     "data": {
      "text/plain": [
       "\"b'@AltcoinDailyio Teach those who write that Tether is manipulating Bitcoin that this is impossible'\""
      ]
     },
     "execution_count": 135,
     "metadata": {},
     "output_type": "execute_result"
    }
   ],
   "source": [
    "df_tet_orig.text.iloc[484]"
   ]
  },
  {
   "cell_type": "code",
   "execution_count": 136,
   "id": "d8eff27c",
   "metadata": {},
   "outputs": [
    {
     "data": {
      "text/plain": [
       "\"b'@BTCTN I heard somewhere that #Solana could someday displace bitcoin, I think in terms of liquidity Tether would al\\\\xe2\\\\x80\\\\xa6 https://t.co/IEJkR4Deo1'\""
      ]
     },
     "execution_count": 136,
     "metadata": {},
     "output_type": "execute_result"
    }
   ],
   "source": [
    "df_tet_orig.text.iloc[553]"
   ]
  },
  {
   "cell_type": "code",
   "execution_count": 138,
   "id": "a272ca26",
   "metadata": {},
   "outputs": [
    {
     "data": {
      "text/plain": [
       "\"b'@BibleAnarchist @zardigrade @PirateChain Tether is the future'\""
      ]
     },
     "execution_count": 138,
     "metadata": {},
     "output_type": "execute_result"
    }
   ],
   "source": [
    "df_tet_orig.text.iloc[603]"
   ]
  },
  {
   "cell_type": "code",
   "execution_count": 141,
   "id": "b2d99f4c",
   "metadata": {},
   "outputs": [
    {
     "data": {
      "text/plain": [
       "'b\"@ThatNaimish As a Bitcoin believer I\\'m not nervous about it at all. Tether truthers must be nervious\"'"
      ]
     },
     "execution_count": 141,
     "metadata": {},
     "output_type": "execute_result"
    }
   ],
   "source": [
    "df_tet_orig.text.iloc[854]"
   ]
  },
  {
   "cell_type": "code",
   "execution_count": null,
   "id": "c549997c",
   "metadata": {},
   "outputs": [],
   "source": []
  },
  {
   "cell_type": "code",
   "execution_count": null,
   "id": "c783c98b",
   "metadata": {},
   "outputs": [],
   "source": []
  },
  {
   "cell_type": "code",
   "execution_count": null,
   "id": "1bbab553",
   "metadata": {},
   "outputs": [],
   "source": [
    "###########\n",
    "# Topic 4 #  ### 'Buy Signals' for binance, NFTs\n",
    "###########"
   ]
  },
  {
   "cell_type": "code",
   "execution_count": null,
   "id": "7ea72f5a",
   "metadata": {
    "scrolled": true
   },
   "outputs": [],
   "source": [
    "df_tet_4=df_tet[df_tet.argmax_topic==4]\n",
    "df_tet_4.text.iloc[20:40]"
   ]
  },
  {
   "cell_type": "code",
   "execution_count": null,
   "id": "34f27d0d",
   "metadata": {},
   "outputs": [],
   "source": [
    "df_tet_orig.text.iloc[18]"
   ]
  },
  {
   "cell_type": "code",
   "execution_count": null,
   "id": "b16f54f8",
   "metadata": {},
   "outputs": [],
   "source": [
    "df_tet_orig.text.iloc[190]"
   ]
  },
  {
   "cell_type": "code",
   "execution_count": null,
   "id": "bbc6415c",
   "metadata": {},
   "outputs": [],
   "source": [
    "df_tet_orig.text.iloc[309]"
   ]
  },
  {
   "cell_type": "code",
   "execution_count": null,
   "id": "564c0293",
   "metadata": {},
   "outputs": [],
   "source": [
    "df_tet_orig.text.iloc[753]"
   ]
  },
  {
   "cell_type": "code",
   "execution_count": null,
   "id": "fef4d335",
   "metadata": {},
   "outputs": [],
   "source": [
    "###########\n",
    "# Topic 5 #   ###More intellectual thinkings about Eth and other cryptos\n",
    "###########"
   ]
  },
  {
   "cell_type": "code",
   "execution_count": null,
   "id": "8cbe4856",
   "metadata": {
    "scrolled": true
   },
   "outputs": [],
   "source": [
    "df_tet_5=df_tet[df_tet.argmax_topic==5]\n",
    "df_tet_5.text.iloc[0:20]"
   ]
  },
  {
   "cell_type": "code",
   "execution_count": null,
   "id": "8004f35e",
   "metadata": {},
   "outputs": [],
   "source": [
    "df_tet_orig.text.iloc[55]"
   ]
  },
  {
   "cell_type": "code",
   "execution_count": null,
   "id": "1fae560a",
   "metadata": {},
   "outputs": [],
   "source": [
    "df_tet_orig.text.iloc[274]"
   ]
  },
  {
   "cell_type": "code",
   "execution_count": null,
   "id": "3e469f33",
   "metadata": {},
   "outputs": [],
   "source": [
    "df_tet_orig.text.iloc[1071]"
   ]
  },
  {
   "cell_type": "code",
   "execution_count": null,
   "id": "adef952e",
   "metadata": {},
   "outputs": [],
   "source": [
    "df_tet_orig.text.iloc[1122]"
   ]
  },
  {
   "cell_type": "code",
   "execution_count": null,
   "id": "79cf6624",
   "metadata": {},
   "outputs": [],
   "source": [
    "###########\n",
    "# Topic 6 #  ### A guy called Richard Heart(PulseX.com) posting about his Youtube Live event \n",
    "###########  ### talks how cryto change the future lives and financial system"
   ]
  },
  {
   "cell_type": "code",
   "execution_count": null,
   "id": "bf0e8f5f",
   "metadata": {
    "scrolled": true
   },
   "outputs": [],
   "source": [
    "df_tet_6=df_tet[df_tet.argmax_topic==6]\n",
    "df_tet_6.text.iloc[80:100]"
   ]
  },
  {
   "cell_type": "code",
   "execution_count": null,
   "id": "0f4ab006",
   "metadata": {},
   "outputs": [],
   "source": [
    "df_tet_orig.text.iloc[3]"
   ]
  },
  {
   "cell_type": "code",
   "execution_count": null,
   "id": "227dab7a",
   "metadata": {},
   "outputs": [],
   "source": [
    "df_tet_orig.text.iloc[57]"
   ]
  },
  {
   "cell_type": "code",
   "execution_count": null,
   "id": "db0e4174",
   "metadata": {},
   "outputs": [],
   "source": [
    "df_tet_orig.text.iloc[458]"
   ]
  },
  {
   "cell_type": "code",
   "execution_count": null,
   "id": "991ee165",
   "metadata": {},
   "outputs": [],
   "source": [
    "df_tet_orig.text.iloc[695]"
   ]
  },
  {
   "cell_type": "code",
   "execution_count": 142,
   "id": "298ff787",
   "metadata": {},
   "outputs": [],
   "source": [
    "###########\n",
    "# Topic 7 #  ### More content about $160 million froze on Ethereum blockchain\n",
    "###########"
   ]
  },
  {
   "cell_type": "code",
   "execution_count": 158,
   "id": "1a14bb43",
   "metadata": {
    "scrolled": true
   },
   "outputs": [
    {
     "data": {
      "text/plain": [
       "1219                       apple bitcoin ethereum binance\n",
       "1221                                     bitcoin ethereum\n",
       "1236    task is dine sir tether ethereum bitcoin i hop...\n",
       "1241                                                 yeni\n",
       "1244                      tether ha frozen of on ethereum\n",
       "1266      b pour la d en circulation sur la ethereum a de\n",
       "1276      b pour la d en circulation sur la ethereum a de\n",
       "1287                                     bitcoin ethereum\n",
       "1292                   bitcoin binance ethereum avalanche\n",
       "1301    when fell so did fell into that dark pit insid...\n",
       "1326    this week the current total supply of tether i...\n",
       "1328                         now bitcoin binance ethereum\n",
       "1340    just in ha three ethereum address holding a co...\n",
       "1355                                     bitcoin ethereum\n",
       "1362                      tether ha frozen of on ethereum\n",
       "1372    tether is not the they ethereum solana ripple ...\n",
       "1381    issuer froze three ethereum address on holding...\n",
       "1387           on no longer dominant ether based data via\n",
       "1394                             tether ethereum ethereum\n",
       "1396       tether is a that is on the ethereum with token\n",
       "Name: text, dtype: object"
      ]
     },
     "execution_count": 158,
     "metadata": {},
     "output_type": "execute_result"
    }
   ],
   "source": [
    "df_tet_7=df_tet[df_tet.argmax_topic==7]\n",
    "df_tet_7.text.iloc[90:110]"
   ]
  },
  {
   "cell_type": "code",
   "execution_count": 145,
   "id": "05c1818a",
   "metadata": {},
   "outputs": [
    {
     "data": {
      "text/plain": [
       "\"b'RT @SpeedyCalls: Top 10 Cryptoassets by Market Cap:\\\\n\\\\n1  #Bitcoin (815.12b)\\\\n2  #Ethereum (397.65b)\\\\n3  #Binance Coin (83.63b)\\\\n4  #Tether (78.\\\\xe2\\\\x80\\\\xa6'\""
      ]
     },
     "execution_count": 145,
     "metadata": {},
     "output_type": "execute_result"
    }
   ],
   "source": [
    "df_tet_orig.text.iloc[70]"
   ]
  },
  {
   "cell_type": "code",
   "execution_count": 146,
   "id": "9eea3051",
   "metadata": {},
   "outputs": [
    {
     "data": {
      "text/plain": [
       "\"b'RT @coinbureau: Further reminder that centralised stablecoins can and do freeze accounts, just like a bank. This is why I have been diversi\\\\xe2\\\\x80\\\\xa6'\""
      ]
     },
     "execution_count": 146,
     "metadata": {},
     "output_type": "execute_result"
    }
   ],
   "source": [
    "df_tet_orig.text.iloc[158]"
   ]
  },
  {
   "cell_type": "code",
   "execution_count": 147,
   "id": "960cd56d",
   "metadata": {},
   "outputs": [
    {
     "data": {
      "text/plain": [
       "\"b'RT @pnxgrp: TOP 10 #ETHEREUM BURNER PROJECTS\\\\n\\\\n#opensea $ETH $UNI #uniswap #tether $USDT #looksrare $LOOKS $WTF #metamask $STRONG $USDC http\\\\xe2\\\\x80\\\\xa6'\""
      ]
     },
     "execution_count": 147,
     "metadata": {},
     "output_type": "execute_result"
    }
   ],
   "source": [
    "df_tet_orig.text.iloc[326]"
   ]
  },
  {
   "cell_type": "code",
   "execution_count": 150,
   "id": "f0acdcec",
   "metadata": {
    "scrolled": true
   },
   "outputs": [
    {
     "data": {
      "text/plain": [
       "\"b'$APTY $SPRA will be the dominant #StableCoin soon. \\\\n\\\\nhttps://t.co/jFjAlB11ie https://t.co/gDwNCuHJ26'\""
      ]
     },
     "execution_count": 150,
     "metadata": {},
     "output_type": "execute_result"
    }
   ],
   "source": [
    "df_tet_orig.text.iloc[558]"
   ]
  },
  {
   "cell_type": "code",
   "execution_count": 156,
   "id": "51763317",
   "metadata": {},
   "outputs": [
    {
     "data": {
      "text/plain": [
       "\"b'#ethereum Could Circle freeze USDC on any wallet address just like Tether did to USDT? https://t.co/9CeOXxTmkz'\""
      ]
     },
     "execution_count": 156,
     "metadata": {},
     "output_type": "execute_result"
    }
   ],
   "source": [
    "df_tet_orig.text.iloc[1105]"
   ]
  },
  {
   "cell_type": "code",
   "execution_count": 157,
   "id": "612b10ae",
   "metadata": {},
   "outputs": [
    {
     "data": {
      "text/plain": [
       "\"b'RT @RaiKazimAli: @Pakistanomy Telenor private database is on sale by a hacker for Bitcoin/ Tether/ Ethereum equivalent to USD 250. \\\\n\\\\nContai\\\\xe2\\\\x80\\\\xa6'\""
      ]
     },
     "execution_count": 157,
     "metadata": {},
     "output_type": "execute_result"
    }
   ],
   "source": [
    "df_tet_orig.text.iloc[1155]"
   ]
  },
  {
   "cell_type": "code",
   "execution_count": 159,
   "id": "f1296081",
   "metadata": {},
   "outputs": [
    {
     "data": {
      "text/plain": [
       "\"b'Stablecoin issuer @Tether_to froze three Ethereum addresses on Thursday, holding over $160 million worth of USDT, a\\\\xe2\\\\x80\\\\xa6 https://t.co/nYw3YjyuOU'\""
      ]
     },
     "execution_count": 159,
     "metadata": {},
     "output_type": "execute_result"
    }
   ],
   "source": [
    "df_tet_orig.text.iloc[1381]"
   ]
  },
  {
   "cell_type": "code",
   "execution_count": null,
   "id": "5f183de8",
   "metadata": {},
   "outputs": [],
   "source": [
    "###########\n",
    "# Topic 8 #  #### Debate between holding USDC (USD COIN) OR USDT (USD Tether)\n",
    "###########"
   ]
  },
  {
   "cell_type": "code",
   "execution_count": 168,
   "id": "62c98aca",
   "metadata": {},
   "outputs": [
    {
     "data": {
      "text/plain": [
       "548    huh what are the risk even tether or any other...\n",
       "549    except theyre always butting head because each...\n",
       "555    tether ha no physical form technically it a a ...\n",
       "562    did you know color ha an effect on everybody t...\n",
       "575    b i have quite a large position in stable coin...\n",
       "579    if staff absence were a problem before i wonde...\n",
       "593    break my heart to learn this ha to be away to ...\n",
       "597     ha been successfully sent to your tether account\n",
       "613    imagine if the law enforcement here is china o...\n",
       "616                        totally backed by scam tether\n",
       "627                                                bu en\n",
       "635    b it could be tether printing money too t nece...\n",
       "651    there are thousand of u who will be smashing w...\n",
       "682                                tether robot mem coin\n",
       "687    is like the sun the closer you get to it the s...\n",
       "704    alright into sleep mode i feel like this week ...\n",
       "710    death market ha so stable coin are unstable te...\n",
       "713    death market ha so stable coin are unstable te...\n",
       "759    yes tether ha issue so do other but so doe the...\n",
       "775    investor broadly hold the number of people wit...\n",
       "Name: text, dtype: object"
      ]
     },
     "execution_count": 168,
     "metadata": {},
     "output_type": "execute_result"
    }
   ],
   "source": [
    "df_tet_8=df_tet[df_tet.argmax_topic==8]\n",
    "df_tet_8.text.iloc[40:60]"
   ]
  },
  {
   "cell_type": "code",
   "execution_count": 161,
   "id": "e17730a8",
   "metadata": {},
   "outputs": [
    {
     "data": {
      "text/plain": [
       "\"b'#BTC   death Cross\\\\nCRYPTO MARKET HAS COLLAPSED SO CALLED STABLE COINS ARE UNSTABLE #TETHER,#USDC,#USDT are Backed B\\\\xe2\\\\x80\\\\xa6 https://t.co/YB8ZE0sSd0'\""
      ]
     },
     "execution_count": 161,
     "metadata": {},
     "output_type": "execute_result"
    }
   ],
   "source": [
    "df_tet_orig.text.iloc[28]"
   ]
  },
  {
   "cell_type": "code",
   "execution_count": 163,
   "id": "09d3fe15",
   "metadata": {},
   "outputs": [
    {
     "data": {
      "text/plain": [
       "\"b'$usdt.d are we going to see a #trend #reversal with a #reverse #cupandhandle? Would mean a lot, could drive back to\\\\xe2\\\\x80\\\\xa6 https://t.co/vxT1dGCXNM'\""
      ]
     },
     "execution_count": 163,
     "metadata": {},
     "output_type": "execute_result"
    }
   ],
   "source": [
    "df_tet_orig.text.iloc[273]"
   ]
  },
  {
   "cell_type": "code",
   "execution_count": 167,
   "id": "e2f46fb3",
   "metadata": {
    "scrolled": true
   },
   "outputs": [
    {
     "data": {
      "text/plain": [
       "'b\"@CoinDesk @Tether_to @HeleneBraunn What\\'s wrong with that? They were just complying with the law to eliminate fraudulent accounts\"'"
      ]
     },
     "execution_count": 167,
     "metadata": {},
     "output_type": "execute_result"
    }
   ],
   "source": [
    "df_tet_orig.text.iloc[508]"
   ]
  },
  {
   "cell_type": "code",
   "execution_count": 170,
   "id": "1a5ea1d5",
   "metadata": {},
   "outputs": [
    {
     "data": {
      "text/plain": [
       "\"b'RT @enzonaescuta: Turkish crypto investors broadly hold #BTC and\\\\n#USDT, the number of people with #crypto trading accounts exceeds 5 millio\\\\xe2\\\\x80\\\\xa6'\""
      ]
     },
     "execution_count": 170,
     "metadata": {},
     "output_type": "execute_result"
    }
   ],
   "source": [
    "df_tet_orig.text.iloc[775]"
   ]
  },
  {
   "cell_type": "code",
   "execution_count": null,
   "id": "845931f6",
   "metadata": {},
   "outputs": [],
   "source": []
  },
  {
   "cell_type": "code",
   "execution_count": null,
   "id": "aaf4b6de",
   "metadata": {},
   "outputs": [],
   "source": []
  },
  {
   "cell_type": "code",
   "execution_count": null,
   "id": "4f69c1cb",
   "metadata": {},
   "outputs": [],
   "source": [
    "###########\n",
    "# Topic 9 #  ### General talks on cryptos: value fluctuations, investment analysis, projectection...\n",
    "###########"
   ]
  },
  {
   "cell_type": "code",
   "execution_count": null,
   "id": "59642f94",
   "metadata": {
    "scrolled": true
   },
   "outputs": [],
   "source": [
    "df_tet_9=df_tet[df_tet.argmax_topic==9]\n",
    "df_tet_9.text.iloc[130:150]"
   ]
  },
  {
   "cell_type": "code",
   "execution_count": null,
   "id": "6ad3c072",
   "metadata": {},
   "outputs": [],
   "source": [
    "df_tet_orig.text.iloc[5]"
   ]
  },
  {
   "cell_type": "code",
   "execution_count": null,
   "id": "2afdb23f",
   "metadata": {},
   "outputs": [],
   "source": [
    "df_tet_orig.text.iloc[92]"
   ]
  },
  {
   "cell_type": "code",
   "execution_count": null,
   "id": "360d7097",
   "metadata": {},
   "outputs": [],
   "source": [
    "df_tet_orig.text.iloc[464]"
   ]
  },
  {
   "cell_type": "code",
   "execution_count": null,
   "id": "ab85e6a4",
   "metadata": {},
   "outputs": [],
   "source": [
    "df_tet_orig.text.iloc[730]"
   ]
  },
  {
   "cell_type": "code",
   "execution_count": 171,
   "id": "c1f2e3bc",
   "metadata": {},
   "outputs": [],
   "source": [
    "#### In general, twitters about Ethereum is more random than Bitcoin, possibly because Eth is faster and cheaper\n",
    "#### and a lot of other cryto database is actually based on Eth"
   ]
  },
  {
   "cell_type": "markdown",
   "id": "10e7cafa",
   "metadata": {},
   "source": [
    "### CorEx Model"
   ]
  },
  {
   "cell_type": "code",
   "execution_count": 172,
   "id": "5a915d63",
   "metadata": {},
   "outputs": [],
   "source": [
    "from corextopic import corextopic as ct\n",
    "from corextopic import vis_topic as vt\n",
    "import matplotlib.pyplot as plt\n",
    "%matplotlib inline"
   ]
  },
  {
   "cell_type": "code",
   "execution_count": 173,
   "id": "63a245cf",
   "metadata": {},
   "outputs": [
    {
     "name": "stdout",
     "output_type": "stream",
     "text": [
      "0: office,please,round,national,unity,rule,trader,investment,hacker,official\n",
      "1: dog,capital,san,pet,pour,effort,dumb,owner,damn,circulation\n",
      "2: big,job,work,man,whale,taking,hit,behind,bond,shadow\n",
      "3: show,demand,retail,black,mystery,reserve,call,book,sol,code\n",
      "4: literally,something,spent,hand,print,cute,die,ever,position,um\n",
      "5: maybe,hold,wrong,fine,grab,account,order,pay,number,ask\n",
      "6: polygon,someone,take,cosmos,live,likely,sold,yes,liquidity,station\n",
      "7: year,went,bu,save,point,enough,ago,phone,house,lose\n",
      "8: lost,since,oh,social,trust,imagine,china,anyone,wow,ya\n",
      "9: love,frozen,reality,talking,ust,completely,logic,trade,nobody,den\n"
     ]
    }
   ],
   "source": [
    "words = list(np.asarray(cvec.get_feature_names()))\n",
    "topic_model = ct.Corex(n_hidden=10, words=words,\n",
    "                       max_iter=200, verbose=False, seed=1)\n",
    "\n",
    "topic_model.fit(doc_word_cv, words=words)\n",
    "\n",
    "# Print all topics from the CorEx topic model\n",
    "topics = topic_model.get_topics()\n",
    "for n,topic in enumerate(topics):\n",
    "    topic_words,_,_ = zip(*topic)\n",
    "    print('{}: '.format(n) + ','.join(topic_words))"
   ]
  },
  {
   "cell_type": "code",
   "execution_count": null,
   "id": "57c36f97",
   "metadata": {},
   "outputs": [],
   "source": []
  },
  {
   "cell_type": "code",
   "execution_count": null,
   "id": "81d4572a",
   "metadata": {},
   "outputs": [],
   "source": []
  },
  {
   "cell_type": "code",
   "execution_count": null,
   "id": "54251c94",
   "metadata": {},
   "outputs": [],
   "source": []
  },
  {
   "cell_type": "markdown",
   "id": "77c44fc5",
   "metadata": {},
   "source": [
    "### K-Means Clustering"
   ]
  },
  {
   "cell_type": "code",
   "execution_count": 174,
   "id": "a0fe0c41",
   "metadata": {},
   "outputs": [],
   "source": [
    "from sklearn.cluster import KMeans"
   ]
  },
  {
   "cell_type": "code",
   "execution_count": 175,
   "id": "eb5af3b0",
   "metadata": {},
   "outputs": [
    {
     "data": {
      "image/png": "[encoded data removed]",
      "text/plain": [
       "<Figure size 432x288 with 1 Axes>"
      ]
     },
     "metadata": {
      "needs_background": "light"
     },
     "output_type": "display_data"
    }
   ],
   "source": [
    "inertia = []\n",
    "list_num_clusters = list(range(1,20))\n",
    "for num_clusters in list_num_clusters:\n",
    "    km = KMeans(n_clusters=num_clusters, max_iter=200, n_init=10)\n",
    "    km.fit(doc_word_tfidf)\n",
    "    inertia.append(km.inertia_)\n",
    "    \n",
    "plt.plot(list_num_clusters,inertia)\n",
    "plt.scatter(list_num_clusters,inertia)\n",
    "plt.xlabel('Number of Clusters')\n",
    "plt.ylabel('Inertia');"
   ]
  },
  {
   "cell_type": "code",
   "execution_count": null,
   "id": "5e98dcb4",
   "metadata": {},
   "outputs": [],
   "source": []
  }
 ],
 "metadata": {
  "kernelspec": {
   "display_name": "Python [conda env:metis] *",
   "language": "python",
   "name": "conda-env-metis-py"
  },
  "language_info": {
   "codemirror_mode": {
    "name": "ipython",
    "version": 3
   },
   "file_extension": ".py",
   "mimetype": "text/x-python",
   "name": "python",
   "nbconvert_exporter": "python",
   "pygments_lexer": "ipython3",
   "version": "3.8.10"
  }
 },
 "nbformat": 4,
 "nbformat_minor": 5
}
